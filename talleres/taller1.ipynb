{
 "cells": [
  {
   "cell_type": "markdown",
   "metadata": {
    "id": "eyjdLr-rrJqy"
   },
   "source": [
    "\n",
    "# Taller 1 - Métodos Numéricos\n",
    "## 2020 - 2do cuatrimestre\n",
    "### Objetivo\n",
    "\n",
    "El objetivo del trabajo es completar los siguientes puntos relacionados con los temas de factorización LU, de Cholesky y matrices ortogonales. \n",
    "\n",
    "La idea es ejercitar tanto los conceptos teóricos como poder llevarlos a la práctica usando `numpy`\n",
    "\n",
    "#### Evaluación:\n",
    "\n",
    "- Implementar cada uno de los siguientes ejercicios, haciendo que corran los respectivos tests.\n",
    "\n",
    "- Coloquio con los docentes durante la clase (preguntas sobre el enunciado y el código). Justificar las respuestas\n"
   ]
  },
  {
   "cell_type": "markdown",
   "metadata": {
    "id": "YLjNEquttHKa"
   },
   "source": [
    "# Ejercicio 0\n",
    "## Precalentamiento en Numpy\n",
    "\n",
    "En estos ejercicios vamos a trabajar un poco con `numpy` para afianzar su uso en para lo que viene luego.\n",
    "\n",
    "Arranquemos con algunos fáciles:"
   ]
  },
  {
   "cell_type": "markdown",
   "metadata": {
    "id": "1Kpwrh_LwOeg"
   },
   "source": [
    "### 0.1.1: Creación de matriz\n",
    "\n",
    "Crear la siguiente matriz usando [`np.array`](https://docs.scipy.org/doc/numpy/reference/generated/numpy.array.html), consultar su tipo y dimensión.\n",
    "\n",
    "$$\n",
    "A =\n",
    "\\begin{pmatrix}\n",
    "\t1 & 2 & 3 \\\\\n",
    "    4 & 5 & 6 \\\\\n",
    "\t7 & 8 & 9\n",
    "\\end{pmatrix}\n",
    "$$\n",
    "\n"
   ]
  },
  {
   "cell_type": "code",
   "execution_count": 1,
   "metadata": {
    "colab": {
     "base_uri": "https://localhost:8080/",
     "height": 86
    },
    "id": "MBTbHz7qweRY",
    "outputId": "59ab2f7d-4b99-4f55-e007-4462619036de"
   },
   "outputs": [
    {
     "name": "stdout",
     "output_type": "stream",
     "text": [
      "<class 'numpy.ndarray'>\n",
      "int64\n",
      "(3, 3)\n"
     ]
    }
   ],
   "source": [
    "import numpy as np\n",
    "\n",
    "\n",
    "\"\"\"\n",
    "TODO: Crear matriz A\n",
    "\"\"\"\n",
    "A = np.array([[1,2,3],[4,5,6],[7,8,9]])\n",
    "print(type(A))\n",
    "print(A.dtype)\n",
    "print(A.shape)"
   ]
  },
  {
   "cell_type": "markdown",
   "metadata": {
    "id": "vi9k_SjlxcWz"
   },
   "source": [
    "### 0.1.2: Creación de matriz nula\n",
    "\n",
    "Crear una matriz de ceros de $\\mathbb{R}$<sup>$3\\times3$</sup>. \n",
    "\n",
    "**Nota:** Usar la función [np.zeros](https://docs.scipy.org/doc/numpy/reference/generated/numpy.zeros.html)"
   ]
  },
  {
   "cell_type": "code",
   "execution_count": 2,
   "metadata": {
    "colab": {
     "base_uri": "https://localhost:8080/",
     "height": 69
    },
    "id": "-4pUY3s8yGNd",
    "outputId": "c6309b1a-8e42-48d6-d49d-6f3ea94e4be4"
   },
   "outputs": [
    {
     "data": {
      "text/plain": [
       "array([[0., 0., 0.],\n",
       "       [0., 0., 0.],\n",
       "       [0., 0., 0.]])"
      ]
     },
     "execution_count": 2,
     "metadata": {},
     "output_type": "execute_result"
    }
   ],
   "source": [
    "\"\"\"\n",
    "TODO: Crear matriz de ceros\n",
    "\"\"\"\n",
    "\n",
    "B = np.zeros((3,3))\n",
    "\n",
    "assert(B.shape == (3, 3))\n",
    "B"
   ]
  },
  {
   "cell_type": "markdown",
   "metadata": {
    "id": "CxugrIKZl6Ev"
   },
   "source": [
    "### 0.1.3: Creación de matriz identidad\n",
    "\n",
    "Crear una matriz identidad de $\\mathbb{R}$<sup>$3 \\times 3$</sup>.\n",
    "\n",
    "**Nota:** Usar la función [np.eye](https://docs.scipy.org/doc/numpy/reference/generated/numpy.eye.html).\n"
   ]
  },
  {
   "cell_type": "code",
   "execution_count": 3,
   "metadata": {
    "colab": {
     "base_uri": "https://localhost:8080/",
     "height": 71
    },
    "id": "qymqENRomPiH",
    "outputId": "eead1f1d-dbc6-4d79-9c2f-0f9fb56a449f"
   },
   "outputs": [
    {
     "data": {
      "text/plain": [
       "array([[1., 0., 0.],\n",
       "       [0., 1., 0.],\n",
       "       [0., 0., 1.]])"
      ]
     },
     "execution_count": 3,
     "metadata": {},
     "output_type": "execute_result"
    }
   ],
   "source": [
    "\"\"\"\n",
    "TODO: Crear matriz identidad\n",
    "\"\"\"\n",
    "B = np.eye(3)\n",
    "\n",
    "B"
   ]
  },
  {
   "cell_type": "markdown",
   "metadata": {
    "id": "wAO0Is7O0rEX"
   },
   "source": [
    "## 0.1.4: Iterar sobre una matriz\n",
    "\n",
    "Imprimir cada elemento de la matriz A (de izquierda a derecha, de arriba hacia abajo)\n",
    "\n",
    "Usar [range](https://docs.python.org/3.6/library/stdtypes.html#typesseq-range) y [np.shape](https://docs.python.org/3.6/library/stdtypes.html#typesseq-range)"
   ]
  },
  {
   "cell_type": "code",
   "execution_count": 4,
   "metadata": {
    "id": "W3X9wMFD0rEa",
    "outputId": "e8ff6aa5-952b-42fc-8afc-e3bd2747c98d"
   },
   "outputs": [
    {
     "name": "stdout",
     "output_type": "stream",
     "text": [
      "A[0, 0] --> 1\n",
      "A[0, 1] --> 2\n",
      "A[0, 2] --> 3\n",
      "A[1, 0] --> 4\n",
      "A[1, 1] --> 5\n",
      "A[1, 2] --> 6\n",
      "A[2, 0] --> 7\n",
      "A[2, 1] --> 8\n",
      "A[2, 2] --> 9\n"
     ]
    }
   ],
   "source": [
    "\"\"\"\n",
    "TODO: Completar \n",
    "\"\"\"\n",
    "\n",
    "for i in range(A.shape[0]):\n",
    "    for j in range(A.shape[1]):\n",
    "        print(f\"A[{i}, {j}] --> {A[i][j]}\")"
   ]
  },
  {
   "cell_type": "markdown",
   "metadata": {
    "id": "Z2LB4mYx93ga"
   },
   "source": [
    "### 0.2: Operaciones\n",
    "\n",
    "Vamos a hacer algunas operaciones sobre matrices. Sean $A$ y $B$ las siguientes matrices:"
   ]
  },
  {
   "cell_type": "code",
   "execution_count": 5,
   "metadata": {
    "id": "ZlFxJ7PH-coP"
   },
   "outputs": [],
   "source": [
    "A = np.array([\n",
    "    [1, 2, 3],\n",
    "    [4, 5, 6],\n",
    "    [7, 8, 9]\n",
    "])\n",
    "\n",
    "B = np.array([\n",
    "    [1, 1, 1],\n",
    "    [0, 1, 1],\n",
    "    [0, 0, 1]\n",
    "])"
   ]
  },
  {
   "cell_type": "markdown",
   "metadata": {
    "id": "9rxrt1lb0rEt"
   },
   "source": [
    "### 0.2.1 Suma de matrices\n",
    "\n",
    "Calcular $C = A + B$"
   ]
  },
  {
   "cell_type": "code",
   "execution_count": 6,
   "metadata": {
    "id": "J9-KJ8b00rEu",
    "outputId": "a8311805-58b5-4b76-c25a-36c3f47d0919"
   },
   "outputs": [
    {
     "name": "stdout",
     "output_type": "stream",
     "text": [
      "metodo iterativo:\n",
      "[[ 2.  3.  4.]\n",
      " [ 4.  6.  7.]\n",
      " [ 7.  8. 10.]]\n",
      "metodo vectorial:\n",
      "[[ 2  3  4]\n",
      " [ 4  6  7]\n",
      " [ 7  8 10]]\n"
     ]
    }
   ],
   "source": [
    "\"\"\"\n",
    "TODO: Completar código\n",
    "\"\"\"\n",
    "\n",
    "#Método 1: iterativamente\n",
    "\n",
    "C = np.zeros((3, 3))\n",
    "\n",
    "for i in range(A.shape[0]):\n",
    "    for j in range(A.shape[1]):\n",
    "        C[i][j] = A[i][j] + B[i][j]\n",
    "\n",
    "print(f\"metodo iterativo:\\n{C}\")\n",
    "\n",
    "# Método 2: vectorialmente (mucho mejor!)\n",
    "print(f\"metodo vectorial:\\n{A+B}\")"
   ]
  },
  {
   "cell_type": "markdown",
   "metadata": {
    "id": "3LQyK0Y7-w2N"
   },
   "source": [
    "### 0.2.1 Multiplicación de matrices\n",
    "\n",
    "Calcular $C = A B$.\n",
    "\n",
    "**Nota:** Ver documentación de [np.matmul](https://docs.scipy.org/doc/numpy/reference/generated/numpy.matmul.html#numpy.matmul) (función que implementa el operador `@`)."
   ]
  },
  {
   "cell_type": "code",
   "execution_count": 7,
   "metadata": {
    "id": "g_R9cLfj-_Y3"
   },
   "outputs": [],
   "source": [
    "\"\"\"\n",
    "TODO: Calcular el producto de A y B\n",
    "\"\"\"\n",
    "\n",
    "# Método 1\n",
    "\n",
    "C = np.zeros((3, 3))\n",
    "for i in range(A.shape[0]):\n",
    "    for j in range(A.shape[1]):\n",
    "        for k in range(A.shape[1]):\n",
    "            C[i][j] += A[i][k]*B[k][j]\n",
    "\n",
    "# Método 2: mejor\n",
    "C = A @ B\n",
    "\n",
    "\n",
    "assert(np.allclose(C, np.array([\n",
    "    [1, 3, 6],\n",
    "    [4, 9, 15],\n",
    "    [7, 15, 24]\n",
    "])))"
   ]
  },
  {
   "cell_type": "markdown",
   "metadata": {
    "id": "Y7nVRAg4xzwK"
   },
   "source": [
    "### 0.3: Igualdad de matrices:\n",
    "\n",
    "\n",
    "\n",
    "\n",
    "\n",
    "![alt text](https://pm1.narvii.com/5991/b3ff9d95cc8cd7916b1d1b432fcd3bf79b6a62e2_hq.jpg)\n",
    "\n",
    "**Nota**: Para los que no hayan visto \"Indiana Jones y la última Cruzada\": el protagonista llega a un lugar protegido por un templario donde hay muchas copas, y sólo una es el \"Santo Grial\".\n",
    "\n",
    "Pueden ver la secuencia acá: en [español](https://www.youtube.com/watch?v=-EvzYURFdR0&t=73s) o el [original](https://www.youtube.com/watch?v=A0TalLrtZ24&t=15s).\n",
    "\n",
    "\n",
    "\n",
    "\n",
    "Acá, también tenemos que elegir sabiamente...\n",
    "\n",
    "\n",
    "Sean dos matrices, $B$ y $C$, producto de distintos cálculos. ¿Cómo podemos verificar que son iguales?\n"
   ]
  },
  {
   "cell_type": "code",
   "execution_count": 8,
   "metadata": {
    "id": "BBJgg8WWyTBT"
   },
   "outputs": [],
   "source": [
    "A = np.array([\n",
    "    [.1, 0, 0],\n",
    "    [0, .1, 0],\n",
    "    [0, 0, .1],\n",
    "], dtype=\"float\")\n",
    "\n",
    "B = A + A + A\n",
    "\n",
    "C = np.array([\n",
    "    [.3, 0, 0],\n",
    "    [0, .3, 0],\n",
    "    [0, 0, .3],\n",
    "], dtype=\"float\")"
   ]
  },
  {
   "cell_type": "markdown",
   "metadata": {
    "id": "_rTl3w7QYqtZ"
   },
   "source": [
    "Primero, imprimámoslas para ver qué tienen..."
   ]
  },
  {
   "cell_type": "code",
   "execution_count": 9,
   "metadata": {
    "colab": {
     "base_uri": "https://localhost:8080/",
     "height": 161
    },
    "id": "9GWpcbNE7CwD",
    "outputId": "7a111d4e-a075-447e-e315-7c57128bdd37"
   },
   "outputs": [
    {
     "name": "stdout",
     "output_type": "stream",
     "text": [
      "B = \n",
      " [[0.3 0.  0. ]\n",
      " [0.  0.3 0. ]\n",
      " [0.  0.  0.3]]\n",
      "C = \n",
      "[[0.3 0.  0. ]\n",
      " [0.  0.3 0. ]\n",
      " [0.  0.  0.3]]\n"
     ]
    }
   ],
   "source": [
    "print(f\"B = \\n {B}\")\n",
    "print(f\"C = \\n{C}\")\n"
   ]
  },
  {
   "cell_type": "markdown",
   "metadata": {
    "id": "JAdiWhen64-6"
   },
   "source": [
    "¡Fantástico, todo parece andar bien! Veamos ahora si `B == C`"
   ]
  },
  {
   "cell_type": "code",
   "execution_count": 10,
   "metadata": {
    "colab": {
     "base_uri": "https://localhost:8080/",
     "height": 35
    },
    "id": "tCJjjHHx449Q",
    "outputId": "c189f274-d280-4557-ab3a-a15f2ff47742"
   },
   "outputs": [
    {
     "data": {
      "text/plain": [
       "numpy.ndarray"
      ]
     },
     "execution_count": 10,
     "metadata": {},
     "output_type": "execute_result"
    }
   ],
   "source": [
    "result = B == C\n",
    "\n",
    "type(result)"
   ]
  },
  {
   "cell_type": "markdown",
   "metadata": {
    "id": "95-PgSCZ465B"
   },
   "source": [
    "El resultado es un array, ya que `B == C` se efectúa elemento a elemento. \n",
    "\n",
    "No queremos eso. Podemos entonces hacer `(A == A.T).all()` que, dada una matriz de booleanos, verifica si todos sus elementos son `True`."
   ]
  },
  {
   "cell_type": "code",
   "execution_count": 11,
   "metadata": {
    "colab": {
     "base_uri": "https://localhost:8080/",
     "height": 35
    },
    "id": "Er4nmeOq6GEK",
    "outputId": "fbe7ed30-14af-49bb-a971-60ab2deceadb"
   },
   "outputs": [
    {
     "data": {
      "text/plain": [
       "False"
      ]
     },
     "execution_count": 11,
     "metadata": {},
     "output_type": "execute_result"
    }
   ],
   "source": [
    "(B == C).all()"
   ]
  },
  {
   "cell_type": "markdown",
   "metadata": {
    "id": "6OGdOQLp0ISO"
   },
   "source": [
    "Las dos matrices son distintas? 😱\n",
    "\n",
    "Hemos cometido uno de los pecados capitales de Métodos Numéricos: comparación por igualdad entre dos números de punto flotante.\n",
    "\n",
    "![](https://media1.tenor.com/images/4988bf571adbd4edc5df437a8530eba4/tenor.gif?itemid=5056977 \"chess\")\n",
    "\n",
    "\n",
    "### IMPORTANTE: NUNCA COMPARAR PUNTOS FLOTANTES POR IGUALDAD\n",
    "\n",
    "Recordemos que, producto de la limitada precisión de estos números, siempre debemos comparar con cierta \"tolerancia\". `numpy` nos provee de una función que nos permite hacer esto: [np.allclose](https://docs.scipy.org/doc/numpy/reference/generated/numpy.allclose.html)\n",
    "\n",
    "**Nota**: Si quieren entender un poco más algunas sutilezas de cómo Python maneja los puntos flotantes (más allá del estandar de la IEEE) pueden ver [este link](https://docs.python.org/3/tutorial/floatingpoint.html)."
   ]
  },
  {
   "cell_type": "code",
   "execution_count": 12,
   "metadata": {
    "colab": {
     "base_uri": "https://localhost:8080/",
     "height": 35
    },
    "id": "4Zeiu-oK0F7G",
    "outputId": "bae9bcde-fa95-4d17-ff38-0bcc27656127"
   },
   "outputs": [
    {
     "data": {
      "text/plain": [
       "True"
      ]
     },
     "execution_count": 12,
     "metadata": {},
     "output_type": "execute_result"
    }
   ],
   "source": [
    "# Esto es lo mismo que hacer \n",
    "# np.isclose(B, C).all()\n",
    "np.allclose(B, C)"
   ]
  },
  {
   "cell_type": "markdown",
   "metadata": {
    "id": "PDDW16Wd807a"
   },
   "source": [
    "¡Bien! Has elegido sabiamente, c\n",
    "\n",
    "![](https://media1.tenor.com/images/c69f043088acef4637ecce5de0e3bed9/tenor.gif?itemid=13257298 \"wisely\")\n",
    "\n"
   ]
  },
  {
   "cell_type": "markdown",
   "metadata": {
    "id": "DQOd0X9hzENO"
   },
   "source": [
    "### 0.3.1: Creación de matriz aleatoria\n",
    "\n",
    "Crear una matriz de $\\mathbb{R}$<sup>$3\\times 3$</sup> uniformemente distribuida en el intervalo $(0, 1)$.\n",
    "\n",
    "Usar [np.random.rand](https://docs.scipy.org/doc/numpy-1.15.1/reference/generated/numpy.random.rand.html)"
   ]
  },
  {
   "cell_type": "code",
   "execution_count": 13,
   "metadata": {
    "colab": {
     "base_uri": "https://localhost:8080/",
     "height": 71
    },
    "id": "rR6o3W6CzdTP",
    "outputId": "c13d0264-65c1-4a9a-9ccd-3edeca08929e"
   },
   "outputs": [
    {
     "data": {
      "text/plain": [
       "array([[0.44619721, 0.07085234, 0.31344826],\n",
       "       [0.60136189, 0.77059774, 0.38708255],\n",
       "       [0.93884324, 0.53029648, 0.69361486]])"
      ]
     },
     "execution_count": 13,
     "metadata": {},
     "output_type": "execute_result"
    }
   ],
   "source": [
    "A = np.random.rand(3,3)\n",
    "\n",
    "A"
   ]
  },
  {
   "cell_type": "markdown",
   "metadata": {
    "id": "HdAjJTQazl7u"
   },
   "source": [
    "### 0.3.2: Creación de matriz aleatoria con distribución $N(0, 1)$\n",
    "\n",
    "Crear una matriz de $\\mathbb{R}$<sup>$3\\times3$</sup> tal que cada coordenada sea una variable con distribución $N(0, 1)$.\n",
    "\n",
    "**Nota:** Usar la función [np.random.randn](https://docs.scipy.org/doc/numpy-1.15.1/reference/generated/numpy.random.randn.html)"
   ]
  },
  {
   "cell_type": "code",
   "execution_count": 14,
   "metadata": {
    "colab": {
     "base_uri": "https://localhost:8080/",
     "height": 71
    },
    "id": "7xLn04ti1A3E",
    "outputId": "f55c6010-2787-4c8b-9e8d-3c5e66bb6853"
   },
   "outputs": [
    {
     "data": {
      "text/plain": [
       "array([[ 0.98437536,  0.68542816,  0.04695912],\n",
       "       [-0.28368459, -0.95291033, -0.41619648],\n",
       "       [ 1.47396601, -0.63037841, -0.86903231]])"
      ]
     },
     "execution_count": 14,
     "metadata": {},
     "output_type": "execute_result"
    }
   ],
   "source": [
    "A = np.random.randn(3,3)\n",
    "\n",
    "A"
   ]
  },
  {
   "cell_type": "markdown",
   "metadata": {
    "id": "GydLEsmr2G4G"
   },
   "source": [
    "### 0.4: Slicing (¿Rebanado?)\n",
    "\n",
    "Dada la matriz\n",
    "\n",
    "$$\n",
    "A =\n",
    "\\begin{pmatrix}\n",
    "\t1 & 2 & 3 \\\\\n",
    "    4 & 5 & 6 \\\\\n",
    "\t7 & 8 & 9\n",
    "\\end{pmatrix}\n",
    "$$\n",
    "\n",
    "Vamos a realizar diferentes accesos a las submatrices de $A$. \n",
    "\n",
    "**Observación**: `numpy` maneja de manera distinta los arrays 1-dimensionales de los n-dimensionales. Tener esto siempre en cuenta!\n",
    "\n",
    "\n",
    "### 0.4.1 Obtener la segunda fila de la matriz\n"
   ]
  },
  {
   "cell_type": "code",
   "execution_count": 15,
   "metadata": {
    "id": "6ySkvaDS231O"
   },
   "outputs": [],
   "source": [
    "\"\"\"\n",
    "TODO: Completar código\n",
    "\"\"\" \n",
    "A = np.array([\n",
    "    [1, 2, 3],\n",
    "    [4, 5, 6],\n",
    "    [7, 8, 9]\n",
    "])\n",
    "\n",
    "fila = A[1,:]\n",
    "assert(np.allclose(fila, np.array([4, 5, 6])))"
   ]
  },
  {
   "cell_type": "markdown",
   "metadata": {
    "id": "7tZFWO_f3l_p"
   },
   "source": [
    "### 0.4.2 Obtener la tercera columna de A"
   ]
  },
  {
   "cell_type": "code",
   "execution_count": 16,
   "metadata": {
    "id": "uTS4nKne24ye"
   },
   "outputs": [],
   "source": [
    "columna = A[:,2]\n",
    "\n",
    "assert(np.allclose(columna, np.array([3, 6, 9])))"
   ]
  },
  {
   "cell_type": "markdown",
   "metadata": {
    "id": "gn5SIDdT24_b"
   },
   "source": [
    "### 0.4.3 Obtener submatriz\n",
    "\n",
    "Obtener la submatriz\n",
    "\n",
    "$$\n",
    "\\begin{pmatrix}\n",
    "\t1 & 2 \\\\\n",
    "    4 & 5\n",
    "\\end{pmatrix}\n",
    "$$\n",
    "\n",
    "de la matriz $A$.\n"
   ]
  },
  {
   "cell_type": "code",
   "execution_count": 17,
   "metadata": {
    "id": "dNIDi3cT6nog"
   },
   "outputs": [],
   "source": [
    "submatriz = A[:2,:2]\n",
    "\n",
    "assert(np.allclose(\n",
    "    submatriz, \n",
    "    np.array([\n",
    "       [1, 2],\n",
    "       [4, 5]\n",
    "    ])\n",
    "))"
   ]
  },
  {
   "cell_type": "markdown",
   "metadata": {
    "id": "6qTmPmVpB1Mt"
   },
   "source": [
    "### 0.5: Reshape:\n",
    "\n",
    "Muchas veces ocurre que tenemos listas de números que queremos convertir en una matriz, o bien arrays de una dimensión (vectores) que queremos convertirlos en matrices fila/columna ya que `numpy` suele efectuar de manera distinta las operaciones en el caso 1-dimensional o 2-dimensional.\n",
    "\n",
    "Para ello, aprenderemos a hacer darle una nueva \"forma\" al array. Para ello, utilizaremos la función [reshape](https://docs.scipy.org/doc/numpy/reference/generated/numpy.reshape.html) de `numpy`.\n",
    "\n",
    "\n",
    "### 0.5.1: Lista a matriz\n",
    "Convertir el array $L = [1, 2, \\ldots, 7, 8, 9]$ en la matriz de $\\mathbb{R}$<sup>$3 \\times 3$</sup>\n",
    "\n",
    "$$\n",
    "A =\n",
    "\\begin{pmatrix}\n",
    "\t1 & 2 & 3 \\\\\n",
    "    4 & 5 & 6 \\\\\n",
    "\t7 & 8 & 9\n",
    "\\end{pmatrix}\n",
    "$$\n",
    "\n",
    "\n",
    "\n",
    "**Sugerencia:** Verificar las dimensiones de las matrices y/o vectores usando [shape](https://docs.scipy.org/doc/numpy-1.15.1/reference/generated/numpy.ndarray.shape.html)."
   ]
  },
  {
   "cell_type": "code",
   "execution_count": 18,
   "metadata": {
    "id": "-PEZPkT4CP7T"
   },
   "outputs": [],
   "source": [
    "# range es un iterador ... para convertirlo en una lista concreta, hay que hacer esto\n",
    "\n",
    "nums = list(range(1, 10))\n",
    "\n",
    "L = np.array(nums)\n",
    "\n",
    "\"\"\"\n",
    "TODO: Completar código\n",
    "\"\"\"\n",
    "A = L.reshape(3,3)\n",
    "\n",
    "\n",
    "assert(np.allclose(\n",
    "    A, np.array([\n",
    "    [1, 2, 3],\n",
    "    [4, 5, 6],\n",
    "    [7, 8, 9]\n",
    "])))"
   ]
  },
  {
   "cell_type": "markdown",
   "metadata": {
    "id": "l41I2nFODrel"
   },
   "source": [
    "### 0.5.2: Vectores columna\n",
    "\n",
    "1. ¿Qué nos da el `shape` de obtener la primera columna de $A$ con `A[:, 0]`?\n",
    "2. Si `v = A[:, 0]` ¿cuál es el resultado de `v @ v.T`? ¿Por qué ocurre esto? (ver documentación de [np.matmul](https://numpy.org/devdocs/reference/generated/numpy.matmul.html?highlight=matmul#numpy.matmul))\n",
    "3. Utilizar `reshape` para convertir `v` en una matriz columna de $\\mathbb{R}$<sup>`3 x 1`</sup>\n",
    "**Nota:** reshape permite utilizar `-1` como comodín."
   ]
  },
  {
   "cell_type": "code",
   "execution_count": 19,
   "metadata": {
    "id": "TDjVW7K50rGP",
    "outputId": "3b90d8ea-05c0-4880-88e2-9c812620c7f4"
   },
   "outputs": [
    {
     "name": "stdout",
     "output_type": "stream",
     "text": [
      "(3,)\n",
      "False\n",
      "False\n",
      "False\n",
      "v =  [1 4 7]\n",
      "v@v.T = 66\n"
     ]
    }
   ],
   "source": [
    "v = A[:, 0]\n",
    "\n",
    "print(v.shape)\n",
    "print(v.shape == (1,3))\n",
    "print(v.shape == (3,1))\n",
    "print(v.shape == 3)\n",
    "\n",
    "print(\"v = \", v)\n",
    "print(f\"v@v.T = {v@v.T}\")"
   ]
  },
  {
   "cell_type": "code",
   "execution_count": 20,
   "metadata": {
    "colab": {
     "base_uri": "https://localhost:8080/",
     "height": 107
    },
    "id": "gYo1SqLOFd7D",
    "outputId": "e49f5283-9533-4292-8dac-cd585b0f5bf6"
   },
   "outputs": [
    {
     "name": "stdout",
     "output_type": "stream",
     "text": [
      "despues del reshape:\n",
      "v@v.T =\n",
      "[[ 1  4  7]\n",
      " [ 4 16 28]\n",
      " [ 7 28 49]]\n"
     ]
    }
   ],
   "source": [
    "\n",
    "\"\"\"\n",
    "TODO: usar reshape para v como un vector columna\n",
    "\"\"\"\n",
    "mat_columna = v.reshape(-1,1)\n",
    "\n",
    "print(f\"despues del reshape:\\nv@v.T =\\n{mat_columna@mat_columna.T}\")\n",
    "\n",
    "assert(mat_columna.shape == (3, 1))"
   ]
  },
  {
   "cell_type": "markdown",
   "metadata": {
    "id": "owm0wrdT0rGa"
   },
   "source": [
    "1. nos da que tiene dimensión (3, nada)\n",
    "2. da 66 (un nro), esto pasa porque matmul promociona los vectores a matrices (?) entonces v es una matriz, v.T es vertical y queda \n",
    "$\\begin{bmatrix} 1 & 4 & 7 \\end{bmatrix} * \\begin{bmatrix} 1 \\\\ 4 \\\\ 7 \\end{bmatrix} = 66$\n",
    "    >If the first argument is 1-D, it is promoted to a matrix by prepending a 1 to its dimensions. After matrix multiplication the prepended 1 is removed.\n",
    "\n",
    "    >If the second argument is 1-D, it is promoted to a matrix by appending a 1 to its dimensions. After matrix multiplication the appended 1 is removed.\n",
    "\n",
    "3. done "
   ]
  },
  {
   "cell_type": "markdown",
   "metadata": {
    "id": "OS-1GMNQ_20C"
   },
   "source": [
    "### 0.6.1 Producto Interno\n",
    "\n",
    "Calcular el producto interno entre la primera fila de $A$ y la tercera columna de $B$. \n",
    "\n",
    "**Nota:** Ver documentación de [np.dot](https://numpy.org/doc/stable/reference/generated/numpy.dot.html?highlight=dot#numpy.dot)."
   ]
  },
  {
   "cell_type": "code",
   "execution_count": 21,
   "metadata": {
    "id": "o3e6Hya1AkFb"
   },
   "outputs": [],
   "source": [
    "A = np.array([\n",
    "    [1, 2, 3],\n",
    "    [4, 5, 6],\n",
    "    [7, 8, 9]\n",
    "])\n",
    "\n",
    "B = np.array([\n",
    "    [1, 1, 1],\n",
    "    [0, 1, 1],\n",
    "    [0, 0, 1]\n",
    "])\n",
    "\n",
    "\"\"\" \n",
    "TODO: Calcular el producto interno pedido\n",
    "\"\"\"\n",
    "prod_interno = np.dot(A[0,:], B[:,2])\n",
    "\n",
    "assert(np.isclose(prod_interno, 6))"
   ]
  },
  {
   "cell_type": "markdown",
   "metadata": {
    "id": "8cr_UY2_A7kw"
   },
   "source": [
    "### 0.6.2 Producto Externo\n",
    "\n",
    "Sean $u = (1, 2, 3)$, $v = (-1, 1, 2)$ (primera fila, y última columna de A y B respectivamente). Calcular la matriz $u v^T$ (el llamado producto externo entre $u$ y $v$).\n",
    "\n",
    "¿Cuál es el rango columna de $u v^T$?\n",
    "\n",
    "**Nota**: puede realizarse haciendo un reshape y luego @, o bien usando [np.outer\n",
    "](https://docs.scipy.org/doc/numpy/reference/generated/numpy.outer.html).\n",
    "\n"
   ]
  },
  {
   "cell_type": "code",
   "execution_count": 22,
   "metadata": {
    "colab": {
     "base_uri": "https://localhost:8080/",
     "height": 35
    },
    "id": "j2Ufri7FFw-N",
    "outputId": "3833db88-1967-483e-9406-69ace076cd94"
   },
   "outputs": [
    {
     "name": "stdout",
     "output_type": "stream",
     "text": [
      "(3,) (3,)\n"
     ]
    }
   ],
   "source": [
    "\n",
    "u = A[0, :]\n",
    "v = B[:, 2]\n",
    "\n",
    "print(u.shape, v.shape)\n",
    "\n",
    "\"\"\"\n",
    "TODO: Calcular el producto externo\n",
    "\"\"\"\n",
    "#op 1:\n",
    "prod_externo = u.reshape(-1,1) @ v.reshape(1,3)\n",
    "\n",
    "#op 2:\n",
    "prod_externo = np.outer(u,v)\n",
    "\n",
    "assert(np.allclose(prod_externo, np.array([\n",
    "    [1,  1,  1],\n",
    "    [2,  2,  2],\n",
    "    [3,  3,  3]]\n",
    ")))\n"
   ]
  },
  {
   "cell_type": "markdown",
   "metadata": {
    "id": "m3JCvRX8_FLD"
   },
   "source": [
    "## Ejercicio 1\n",
    "\n",
    "Repasar la definición de factorización LU. ¿Bajo qué condiciones podemos garantizar\n",
    "que una matriz inversible tiene factorización LU? \n",
    "\n",
    "Completar la función `tiene_LU` que dada una matriz A, nos devuelve `True` si tiene factorización LU, o `False` en caso contrario.\n",
    "\n",
    "**Tip**: considerar las funciones [np.shape](https://docs.scipy.org/doc/numpy-1.15.1/reference/generated/numpy.ndarray.shape.html) para obtener las dimensiones de una matriz, y [np.linalg.det](https://docs.scipy.org/doc/numpy-1.15.0/reference/generated/numpy.linalg.det.html) para obtener el determinante de una matriz.\n"
   ]
  },
  {
   "cell_type": "code",
   "execution_count": 23,
   "metadata": {
    "id": "3hqxGleiuvc7"
   },
   "outputs": [
    {
     "data": {
      "text/plain": [
       "True"
      ]
     },
     "execution_count": 23,
     "metadata": {},
     "output_type": "execute_result"
    }
   ],
   "source": [
    "eps = 1e-6\n",
    "\n",
    "def tiene_lu(A):\n",
    "    \"\"\"\n",
    "    Dada una matriz A, devuelve True si tiene descomposición LU, o False en caso contrario\n",
    "    \n",
    "    Argumentos:\n",
    "    -----------\n",
    "    \n",
    "    A: np.array\n",
    "        Matriz de floats\n",
    "\n",
    "    Devuelve:\n",
    "    ---------\n",
    "    \n",
    "    res: bool\n",
    "        True si tiene LU, False caso contrario\n",
    "    \"\"\"\n",
    "    \n",
    "    \"\"\"\n",
    "    TODO: Completar la función\n",
    "    \"\"\"\n",
    "    # ¿se puede hacer algo sin usar matrix_rank?\n",
    "    n = A.shape[0]\n",
    "    todos = n > 0\n",
    "    for i in range(n):\n",
    "        Ai = A[:i+1,:i+1]\n",
    "        todos &= (not np.isclose(np.linalg.det(Ai), 0))\n",
    "    \n",
    "    return todos\n",
    "\n",
    "# ¿qué onda con esta A?\n",
    "A = np.array([\n",
    "    [1, 2, 3],\n",
    "    [4, 5, 6],\n",
    "    [7, 8, 9]\n",
    "])\n",
    "B = np.array([\n",
    "    [1, 2, 3],\n",
    "    [0, 4, 5],\n",
    "    [0, 0, 6]\n",
    "])\n",
    "tiene_lu(B)"
   ]
  },
  {
   "cell_type": "markdown",
   "metadata": {
    "id": "ueM7Fmiz2F8K"
   },
   "source": [
    "### Unittest\n",
    "\n",
    "Corramos unos tests automatizados para ver si esto funciona. \n",
    "\n",
    "**PUEDEN SIMPLEMENTE IGNORAR ESTO**\n",
    "\n",
    "**Obs 1**: A cada test le pondremos el decorador `@mntest` definido arriba. Necesitamos además setear en cada celda donde corramos tests la variable `tests` a `[]`.\n",
    "\n",
    "**Obs 2**: No usaremos ninguna de las bibliotecas estándar de Python (`unittest` o `pytest`) puesto que no están pensadas para funcionar con Jupyter."
   ]
  },
  {
   "cell_type": "code",
   "execution_count": 24,
   "metadata": {
    "id": "c3HR15VADBAz"
   },
   "outputs": [],
   "source": [
    "#Código para que corran los tests: (pueden ignorarlo)\n",
    "\n",
    "import numpy as np\n",
    "import math\n",
    "import traceback\n",
    "\n",
    "\n",
    "def mntest(func):\n",
    "    global tests\n",
    "    \n",
    "    tests.append(func)    \n",
    "    \n",
    "    return func\n",
    "\n",
    "def correr_tests():\n",
    "    excepciones = []\n",
    "    for test in tests:\n",
    "        try:\n",
    "            print(\"Corriendo {} ... \".format(test.__name__), end='')\n",
    "            test()\n",
    "            print(\"OK\")\n",
    "        except AssertionError as e:\n",
    "            error_msg = traceback.format_exc()\n",
    "            excepciones.append((test, error_msg))\n",
    "            print(\"ERROR\")\n",
    "    \n",
    "    if len(excepciones) > 0:\n",
    "        print(\"\\nErrores:\\n\")\n",
    "        for (test, error_msg) in excepciones:\n",
    "            print(\"En {}\".format(test.__name__))\n",
    "            print(error_msg)\n",
    "    else:\n",
    "        print(\"\\n\\nTodos los tests pasaron correctamente\")"
   ]
  },
  {
   "cell_type": "code",
   "execution_count": 25,
   "metadata": {
    "id": "qzGpqmwAyHCz"
   },
   "outputs": [
    {
     "name": "stdout",
     "output_type": "stream",
     "text": [
      "Corriendo testear_identidad_tiene_LU ... OK\n",
      "Corriendo testear_matriz_ceros_no_tiene_LU ... OK\n",
      "Corriendo testear_matriz_no_inversible ... OK\n",
      "Corriendo testear_matriz_permutacion_no_tiene_LU ... OK\n",
      "\n",
      "\n",
      "Todos los tests pasaron correctamente\n"
     ]
    }
   ],
   "source": [
    "tests = []\n",
    "\n",
    "\n",
    "@mntest\n",
    "def testear_identidad_tiene_LU():\n",
    "    A = np.identity(3)\n",
    "        \n",
    "    assert(tiene_lu(A))\n",
    "    \n",
    "\n",
    "@mntest\n",
    "def testear_matriz_ceros_no_tiene_LU():\n",
    "    A = np.zeros((3, 3))\n",
    "        \n",
    "    assert(not tiene_lu(A))\n",
    "    \n",
    "@mntest\n",
    "def testear_matriz_no_inversible():\n",
    "    A = np.ones((3, 3))\n",
    "    \n",
    "    assert(not tiene_lu(A))\n",
    "\n",
    "@mntest \n",
    "def testear_matriz_permutacion_no_tiene_LU():\n",
    "    A = np.array([\n",
    "        [1, 0, 0],\n",
    "        [0, 0, 1],\n",
    "        [0, 1, 0]\n",
    "    ])\n",
    "    \n",
    "    assert(not tiene_lu(A))\n",
    "\n",
    "\n",
    "correr_tests()"
   ]
  },
  {
   "cell_type": "markdown",
   "metadata": {
    "id": "OXNBy-XP2Qos"
   },
   "source": [
    "## Ejercicio 2: Resolver LU por bloques\n",
    "\n",
    "\n",
    "\n",
    "### ¿Cómo era esto de resolver en bloques?\n",
    "Sea $A \\in \\mathbb{R}^{n \\times n}$ a la cual le queremos calcular la factorización LU. Para ello, lo calcularemos en bloques en vez del método tradicional de triangulación. \n",
    "\n",
    "Supongamos que A tiene factorización LU; es decir podemos descomponerla en $L, U \\in \\mathbb{R}^{n \\times n}$ escribiendo la descomposición en bloques de la forma:\n",
    "\n",
    "\n",
    "$$\n",
    "A = L U \\\\\n",
    "$$\n",
    "\n",
    "$$\n",
    "\\begin{pmatrix}\n",
    "a_{11}   & A_{12}  \\\\\n",
    "A_{21} & A_{22}\n",
    "\\end{pmatrix} = \\begin{pmatrix}\n",
    "1 & 0  \\\\\n",
    "L_{21} & L_{22}\n",
    "\\end{pmatrix} \\begin{pmatrix}\n",
    "u_{11}   & U_{12}  \\\\\n",
    "0 & U_{22}\n",
    "\\end{pmatrix}\n",
    "$$\n",
    "\n",
    "&nbsp;\n",
    "\n",
    "\n",
    "donde $a_{11}, l_{11}, u_{11}$ son escalares, $A_{12} \\in \\mathbb{R}^{1 \\times (n-1)}$ (vector fila), $L_{21} \\in \\mathbb{R}^{(n-1) \\times 1}$\n",
    "\n",
    "De aquí obtenemos las siguientes ecuaciones:\n",
    "\n",
    "\\begin{align*}\n",
    "u_{11} &= a_{11} \\\\\n",
    "U_{12} &= A_{12} \\\\\n",
    "L_{21} &= \\frac{A_{21}}{u_{11}}  \\\\\n",
    "\\end{align*}\n",
    "\n",
    "Estas 3 ecuaciones nos permitirán despejar y obtener el contenido de estos 3 bloques. Ahora, nos queda la última ecuación:\n",
    "\n",
    "$$\n",
    "A_{22} = L_{21} U_{12} + L_{22} U_{22} \\\\\n",
    "$$\n",
    "\n",
    "Reescribiéndola, nos queda:\n",
    "$$\n",
    "A_{22} - L_{21} U_{12} = L_{22} U_{22} \\\\\n",
    "$$\n",
    "\n",
    "Y aquí, un pequeño salto de fe (esperemos razonable para los que ya hayan cursado Algo 2): si resolvemos la factorización LU de $A_{22} - L_{21} U_{12}$, podemos obtener los dos bloques que nos faltan.\n",
    "\n",
    "\n",
    "\n",
    "\n",
    "\n",
    "**Ejercicio**:  Calcular LU en bloques para que tome una matriz $A \\in \\mathbb{R}^{n \\times n}$ y nos devuelva $L$ y $U$, su descomposición LU correspondiente. \n",
    "\n",
    "La resolución tiene que ser *iterativa* pero puede convenir empezar a pensarlo en términos recursivos.\n",
    "\n",
    "**Hint**: Ojo con la dimensión de los vectores. Si queremos multiplicar una matriz \"columna\", con una matriz \"fila\" tenemos que hacer reshape primero."
   ]
  },
  {
   "cell_type": "markdown",
   "metadata": {},
   "source": [
    "**RESPONDER**: ¿Cómo aseguran paso a paso que la matriz tenga factorización LU?\n",
    "> tendriamos que correr el anterior en cada iteración (o ver si el elem 00 es != de 0)? o hay alguna propiedad que podamos usar?"
   ]
  },
  {
   "cell_type": "code",
   "execution_count": 26,
   "metadata": {
    "id": "tZomxJSSCQhi"
   },
   "outputs": [
    {
     "data": {
      "text/plain": [
       "(array([[1., 0., 0.],\n",
       "        [1., 1., 0.],\n",
       "        [1., 1., 1.]]),\n",
       " array([[1., 1., 1.],\n",
       "        [0., 2., 2.],\n",
       "        [0., 0., 3.]]))"
      ]
     },
     "execution_count": 26,
     "metadata": {},
     "output_type": "execute_result"
    }
   ],
   "source": [
    "def lu_en_bloques(A):\n",
    "    \"\"\"\n",
    "    Dada una matriz A, devuelve L, U \n",
    "    \n",
    "    Argumentos:\n",
    "    -----------\n",
    "    \n",
    "    A: np.array\n",
    "        Matriz de floats\n",
    "\n",
    "    Devuelve:\n",
    "    ---------\n",
    "    \n",
    "    L, U: np.array\n",
    "        Descomposición LU de A\n",
    "        \n",
    "    \"\"\"\n",
    "    \n",
    "    \"\"\"\n",
    "    current_matrix es la matriz a la cual le estoy calculando LU\n",
    "    \n",
    "    Primero va a ser A, luego A22 - L21 * U21, ...\n",
    "    \"\"\"\n",
    "    current_matrix = A.copy()\n",
    "    \n",
    "    \"\"\"\n",
    "    Vamos a ir \"rellenando\" paso a paso la factorización LU\n",
    "    \"\"\"\n",
    "    L = np.zeros(A.shape)\n",
    "    U = np.zeros(A.shape)\n",
    "    \n",
    "    n = A.shape[0]\n",
    "    \n",
    "    \"\"\"\n",
    "    Vamos a iterar desde 0 hasta n-1 e ir completando L y U\n",
    "    de acuerdo a las ecuaciones antes explicadas\n",
    "    \"\"\"\n",
    "    for i in range(n):\n",
    "        \"\"\"\n",
    "        \n",
    "        Observación: \n",
    "        \n",
    "        En cada paso i estamos \"llenando\" las columnas y filas i-ésimas de L y U. Por eso tenemos que indexar por i\n",
    "        \n",
    "        Sin embargo, current_matrix la tenemos que indexar en 0 ya que es la matriz que vamos a ir\n",
    "        \"achicando\" en dimensión. \n",
    "        \n",
    "        \"\"\"\n",
    "        \n",
    "        \"\"\"\n",
    "        TODO: Rellenar los valores de L[i, i] y U[i, i]\n",
    "        \"\"\"\n",
    "        L[i, i] = 1\n",
    "        U[i, i] = current_matrix[0, 0]\n",
    "        \"\"\"\n",
    "        Caso \"base\": si es el final, no seguir\n",
    "        \"\"\"\n",
    "        if i == n-1:\n",
    "            break\n",
    "        \n",
    "        \"\"\"\n",
    "        TODO: Calcular los nuevos valores de U12 y L21\n",
    "        \"\"\"\n",
    "        U[i, i+1:] = current_matrix[0, 1:]\n",
    "        L[i+1:, i] = current_matrix[1:, 0] / U[i, i]\n",
    "        \n",
    "        \"\"\"\n",
    "        TODO: Calcular la matriz del caso \"recursivo\".\n",
    "        \n",
    "        Esto sería la nueva \"A\"\n",
    "        \n",
    "        Sugerencia: usar np.outer o hacer reshape\n",
    "        \"\"\"\n",
    "        current_dim = current_matrix.shape[0]\n",
    "        \n",
    "        new_matrix = current_matrix[1:,1:] - np.outer(L[i+1:, i], U[i, i+1:])\n",
    "        \n",
    "        \"\"\"\n",
    "        Asignamos la nueva matriz a calcular LU\n",
    "        \n",
    "        Nos aseguramos de que su dimensión se haya reducido en uno\n",
    "        \"\"\"\n",
    "        current_matrix = new_matrix\n",
    "        \n",
    "        assert(current_matrix.shape == (current_dim-1, current_dim-1))\n",
    "\n",
    "    return L, U\n",
    "\n",
    "A = np.array([[1, 1, 1],\n",
    " [1, 3, 3],\n",
    " [1, 3, 6]])\n",
    "\n",
    "lu_en_bloques(A)\n"
   ]
  },
  {
   "cell_type": "code",
   "execution_count": 27,
   "metadata": {
    "id": "d1iUwahTbOHx"
   },
   "outputs": [
    {
     "name": "stdout",
     "output_type": "stream",
     "text": [
      "Corriendo testear_con_multiplo_identidad ... OK\n",
      "Corriendo testear_con_otra_matriz ... OK\n",
      "Corriendo testear_con_otra_matriz2 ... OK\n",
      "\n",
      "\n",
      "Todos los tests pasaron correctamente\n"
     ]
    }
   ],
   "source": [
    "tests = []\n",
    "\n",
    "\n",
    "@mntest\n",
    "def testear_con_multiplo_identidad():\n",
    "    A = 3 * np.identity(3)\n",
    "    \n",
    "    L, U = lu_en_bloques(A)\n",
    "    \n",
    "    assert(np.allclose(L, np.eye(3)))\n",
    "    assert(np.allclose(U, 3*np.eye(3)))\n",
    "    \n",
    "    \n",
    "\n",
    "@mntest\n",
    "def testear_con_otra_matriz():\n",
    "    L = np.array([\n",
    "        [1, 0, 0],\n",
    "        [1, 1, 0],\n",
    "        [1, 1, 1],\n",
    "    ])\n",
    "\n",
    "    U = np.array([\n",
    "        [1, 1, 1],\n",
    "        [0, 2, 2],\n",
    "        [0, 0, 3],\n",
    "    ])\n",
    "\n",
    "    A = L @ U\n",
    "    \n",
    "    L1, U1 = lu_en_bloques(A)\n",
    "    \n",
    "    assert(np.allclose(L1, L))\n",
    "    assert(np.allclose(U1, U))\n",
    "\n",
    "@mntest\n",
    "def testear_con_otra_matriz2():\n",
    "    A = np.array([\n",
    "        [8, 2, 0],\n",
    "        [4, 9, 4],\n",
    "        [6, 7, 9],\n",
    "    ])\n",
    "\n",
    "\n",
    "    \n",
    "    L1, U1 = lu_en_bloques(A)\n",
    "    \n",
    "    assert(np.allclose(L1@U1, A))\n",
    "\n",
    "    \n",
    "\n",
    "correr_tests()\n"
   ]
  },
  {
   "cell_type": "markdown",
   "metadata": {
    "id": "Cg0VL9EhBCmH"
   },
   "source": [
    "## Ejercicio 3\n",
    "\n",
    "Completar la función con un método para determinar si una matriz es ortogonal o no. \n",
    "\n",
    "En caso de serlo, explicar cómo se podría devolver un conjunto ortonormal de vectores a partir de la matriz.\n",
    "\n",
    "**Agregar dos casos de test** probando con dos matrices ya conocidas: de rotaciones (Givens) y de reflexiones (Householder)"
   ]
  },
  {
   "cell_type": "code",
   "execution_count": 28,
   "metadata": {
    "id": "4Q8u9B4vMjgH"
   },
   "outputs": [],
   "source": [
    "def es_ortogonal(A):\n",
    "    \"\"\"\n",
    "    Devuelve True si A es ortogonal, False en otro caso\n",
    "    \n",
    "    \n",
    "    Argumentos:\n",
    "    ----------\n",
    "    \n",
    "    A: np.array\n",
    "        \n",
    "    Devuelve:\n",
    "    ---------\n",
    "    \n",
    "    res: bool\n",
    "        True si A ortogonal, False en otro caso\n",
    "    \"\"\"\n",
    "\n",
    "    \"\"\"\n",
    "    TODO: Completar acá\n",
    "    \"\"\"\n",
    "    ret = A.shape[0] == A.shape[1] #es cuadrada\n",
    "    ret &= np.allclose(A @ A.T, np.eye(A.shape[0]))\n",
    "    return ret"
   ]
  },
  {
   "cell_type": "code",
   "execution_count": 29,
   "metadata": {
    "id": "YgXP3CoeM0MR"
   },
   "outputs": [
    {
     "name": "stdout",
     "output_type": "stream",
     "text": [
      "Corriendo probar_con_identidad ... OK\n",
      "Corriendo probar_con_rotacion ... OK\n",
      "Corriendo probar_con_reflexion ... OK\n",
      "\n",
      "\n",
      "Todos los tests pasaron correctamente\n"
     ]
    }
   ],
   "source": [
    "from math import cos, sin, sqrt\n",
    "tests = []\n",
    "\n",
    "def createGivens(theta = 30):\n",
    "    theta = np.radians(theta)\n",
    "    c, s = np.cos(theta), np.sin(theta)\n",
    "    return np.array(((c, -s), (s, c)))\n",
    "\n",
    "def createHouseholder(v):\n",
    "    v = v/ sqrt(np.dot(v, v.T))\n",
    "    return np.eye(v.shape[1]) - 2*(np.outer(v, v.T))\n",
    "\n",
    "@mntest\n",
    "def probar_con_identidad():\n",
    "    A = np.eye(3)\n",
    "    \n",
    "    assert(es_ortogonal(A))\n",
    "    \n",
    "@mntest\n",
    "def probar_con_rotacion():\n",
    "    angle = math.pi/4\n",
    "    \"\"\"\n",
    "    TODO: Escribir una matriz de rotación angle de 2x2 \n",
    "    \"\"\"\n",
    "    A = createGivens()\n",
    "    \n",
    "    assert(es_ortogonal(A))\n",
    "\n",
    "@mntest\n",
    "def probar_con_reflexion():\n",
    "    v = np.array([[1,1,1]])\n",
    "    \"\"\"\n",
    "    TODO: Escribir la matriz de reflexión sobre el plano cuya normal es v\n",
    "    \"\"\"\n",
    "    A = createHouseholder(v)\n",
    "    assert(es_ortogonal(A))\n",
    "\n",
    "    \n",
    "correr_tests()"
   ]
  },
  {
   "cell_type": "markdown",
   "metadata": {
    "id": "9ydha7ZY0rHL"
   },
   "source": [
    "## Ejercicio 4\n",
    "\n",
    "Sea $A \\in \\mathbb{R}^{n \\times n}$, simétrica y no singular\n",
    "\n",
    "### Ejercicio 4.1\n",
    "\n",
    "Si $A$ tiene factorización $LU$, probar que tiene factorización $LDL^T$. ¿Son las dos $L$ iguales? \n",
    "\n",
    "> Si, por definición (bah una es L.T)"
   ]
  },
  {
   "cell_type": "markdown",
   "metadata": {
    "id": "NO1OG6QK0rHM"
   },
   "source": [
    "#### SOLUCIÓN\n",
    "\n",
    "Unas pequeñas pistas\n",
    "Si $A = LU$ es simétrica, entonces \n",
    "\n",
    "\\begin{align*}\n",
    "A &= A^T \\\\\n",
    "L U &= U^T L^T\\\\\n",
    "\\end{align*}\n",
    "\n",
    "¿Qué forma tiene $U^T$? ¿Es el lado derecho una factorización LU? ¿Cómo la podemos convertir a una factorización LU? (sin calcular ninguna inversa, de ser posible)"
   ]
  },
  {
   "cell_type": "markdown",
   "metadata": {},
   "source": [
    "> - $U^T$ es una triangular inferior\n",
    "> - No porque U puede no tener 1s en la diagonal (cc todo bien)\n",
    "> - Definimos B como todos ceros salvo en su diagonal donde $B_{ii} = \\frac{1}{U^T_{ii}}$ luego $(U^T*B)_{ii} == 1$ finalmente $U^T*B*B^{-1}*L^T$ es una factorización LU y es igual a A"
   ]
  },
  {
   "cell_type": "code",
   "execution_count": 30,
   "metadata": {},
   "outputs": [
    {
     "name": "stdout",
     "output_type": "stream",
     "text": [
      "[[ 1.     0.     0.   ]\n",
      " [ 0.5    1.     0.   ]\n",
      " [ 0.75  -0.125  1.   ]]\n"
     ]
    },
    {
     "data": {
      "text/plain": [
       "True"
      ]
     },
     "execution_count": 30,
     "metadata": {},
     "output_type": "execute_result"
    }
   ],
   "source": [
    "# probando\n",
    "A = np.array([\n",
    "    [4, 2, 3],\n",
    "    [2, 5, 1],\n",
    "    [3, 1, 6],\n",
    "])\n",
    "L, U = lu_en_bloques(A)\n",
    "\n",
    "B = np.array([\n",
    "    [1/4, 0, 0],\n",
    "    [0, 1/4, 0],\n",
    "    [0, 0, 1/3.6875],\n",
    "])\n",
    "\n",
    "Binv = np.array([\n",
    "    [4, 0, 0],\n",
    "    [0, 4, 0],\n",
    "    [0, 0, 3.6875],\n",
    "])\n",
    "\n",
    "print(U.T @ B)\n",
    "np.allclose(A, U.T @ B @ Binv @ L.T)"
   ]
  },
  {
   "cell_type": "markdown",
   "metadata": {
    "id": "0g9IUBUz0rHN"
   },
   "source": [
    "### Ejercicio 4.2\n",
    "\n",
    "Dada la factorización $A = LU$, ¿Cómo puedo calcular $D$ (de $LDL^T$) sin usar matrices inversas?\n",
    "\n"
   ]
  },
  {
   "cell_type": "markdown",
   "metadata": {
    "id": "lmlhOrDl0rHN"
   },
   "source": [
    "### SOLUCIÓN\n",
    "> Re-escribiendo nuestro razonamiento anterior podemos llegar a que:\n",
    "\n",
    "> $\\hat{L} = U^T * B = L$\n",
    "\n",
    "> $D = B^{-1}$\n",
    "\n",
    "> $\\hat{L}^T = L^T$"
   ]
  },
  {
   "cell_type": "markdown",
   "metadata": {
    "id": "NcqRuaiDiglC"
   },
   "source": [
    "### Ejercicio 4.3\n",
    "\n",
    "\n",
    "\n",
    "Completar la función `chol_from_LU` para que tome una matriz A y devuelva la matriz correspondiente a su factorización de Cholesky utilizando como base la factorización LU de `A`, sin calcular ninguna __matriz inversa__ en el medio.\n",
    "\n",
    "En el caso de que la matriz no tenga factorización de Cholesky, **debe generar un error mediante `raise ValueError`**\n",
    "\n",
    "    \n",
    "**Hint**: considerar las funciones [np.diag](https://docs.scipy.org/doc/numpy-1.15.1/reference/generated/numpy.diag.html) y [np.sqrt](https://docs.scipy.org/doc/numpy-1.15.0/reference/generated/numpy.sqrt.html).\n",
    "\n",
    "Dada una matriz `A` podemos obtener una matriz que tenga la diagonal de `A` y 0 en las demás posiciones mediante `np.diag(np.diag(A))`\n"
   ]
  },
  {
   "cell_type": "code",
   "execution_count": 55,
   "metadata": {
    "id": "tzFJOhf8-4-Y"
   },
   "outputs": [
    {
     "name": "stdout",
     "output_type": "stream",
     "text": [
      "[[  1.   0.   0.]\n",
      " [  2.  16.   0.]\n",
      " [  4.  32. 256.]] [[1. 0. 0.]\n",
      " [2. 1. 0.]\n",
      " [4. 2. 1.]]\n"
     ]
    },
    {
     "data": {
      "text/plain": [
       "array([[1.  , 0.  , 0.  ],\n",
       "       [2.  , 0.5 , 0.  ],\n",
       "       [4.  , 1.  , 0.25]])"
      ]
     },
     "execution_count": 55,
     "metadata": {},
     "output_type": "execute_result"
    }
   ],
   "source": [
    "def es_simetrica(A):\n",
    "    \"\"\"\n",
    "    TODO: Completar esta función\n",
    "    \"\"\"\n",
    "    return np.allclose(A, A.T)\n",
    "\n",
    "def chol_from_lu(A):\n",
    "    \"\"\"\n",
    "    Devuelve la L de Cholesky a través de la factorización LU de la matriz A\n",
    "    \n",
    "    En caso de que no tenga LU o que no tenga Cholesky, lanza ValueError\n",
    "    \n",
    "    Argumentos:\n",
    "    ----------\n",
    "    \n",
    "    A: np.array\n",
    "        Matriz a factorizar\n",
    "    \n",
    "    Devuelve:\n",
    "    ---------\n",
    "    \n",
    "    L: np.array\n",
    "        Factorización de Cholesky de A\n",
    "    \"\"\"\n",
    "    if not es_simetrica(A):\n",
    "        raise ValueError(\"Matriz no simétrica\")\n",
    "    \n",
    "    \n",
    "    L, U = lu_en_bloques(A)\n",
    "    \n",
    "    diagonalU = np.diag(U)**(-1)\n",
    "    D = np.sqrt(np.diag(diagonalU))\n",
    "\n",
    "    L1 = U.T @ np.diag(np.diag(U))\n",
    "    \n",
    "    print(L1, L)\n",
    "    \n",
    "    LChol = L @ D\n",
    "    \n",
    "    \n",
    "    \"\"\"\n",
    "    TODO: Completar acá\n",
    "    \"\"\"\n",
    "    return LChol\n",
    "\n",
    "L1 = np.array([\n",
    "    [1, 0, 0],\n",
    "    [2, 2, 0],\n",
    "    [4, 4, 4]\n",
    "])\n",
    "\n",
    "A = L1 @ L1.T\n",
    "\n",
    "chol_from_lu(A)"
   ]
  },
  {
   "cell_type": "code",
   "execution_count": 42,
   "metadata": {
    "id": "F1ke4JgVE6tE"
   },
   "outputs": [
    {
     "name": "stdout",
     "output_type": "stream",
     "text": [
      "Corriendo testear_con_identidad ... OK\n",
      "Corriendo testear_con_multiplo_identidad ... ERROR\n",
      "Corriendo testear_con_matriz_no_sdp ... ERROR\n",
      "Corriendo testear_con_matriz ... ERROR\n",
      "\n",
      "Errores:\n",
      "\n",
      "En testear_con_multiplo_identidad\n",
      "Traceback (most recent call last):\n",
      "  File \"<ipython-input-24-9b07d6eeb30f>\", line 20, in correr_tests\n",
      "    test()\n",
      "  File \"<ipython-input-42-1eea488f18cb>\", line 19, in testear_con_multiplo_identidad\n",
      "    assert(np.allclose(L, 2* np.eye(3)))\n",
      "AssertionError\n",
      "\n",
      "En testear_con_matriz_no_sdp\n",
      "Traceback (most recent call last):\n",
      "  File \"<ipython-input-24-9b07d6eeb30f>\", line 20, in correr_tests\n",
      "    test()\n",
      "  File \"<ipython-input-42-1eea488f18cb>\", line 30, in testear_con_matriz_no_sdp\n",
      "    raise AssertionError(\"Tiene que lanzar excepción\")\n",
      "AssertionError: Tiene que lanzar excepción\n",
      "\n",
      "En testear_con_matriz\n",
      "Traceback (most recent call last):\n",
      "  File \"<ipython-input-24-9b07d6eeb30f>\", line 20, in correr_tests\n",
      "    test()\n",
      "  File \"<ipython-input-42-1eea488f18cb>\", line 44, in testear_con_matriz\n",
      "    assert(np.allclose(L, L1))\n",
      "AssertionError\n",
      "\n"
     ]
    },
    {
     "name": "stderr",
     "output_type": "stream",
     "text": [
      "<ipython-input-41-505cf3a8c4cd>:32: RuntimeWarning: invalid value encountered in sqrt\n",
      "  D = np.sqrt(np.diag(diagonalU))\n"
     ]
    }
   ],
   "source": [
    "tests = []\n",
    "\n",
    "\n",
    "@mntest\n",
    "def testear_con_identidad():\n",
    "    A = np.eye(3)\n",
    "    L = chol_from_lu(A)\n",
    "    \n",
    "    # Cholesky es la identidad también :-)\n",
    "    assert(np.allclose(A, L))\n",
    "    \n",
    "\n",
    "@mntest\n",
    "def testear_con_multiplo_identidad():\n",
    "    A = 4 * np.eye(3)\n",
    "    L = chol_from_lu(A)\n",
    "    \n",
    "    # Cholesky es la identidad también :-)\n",
    "    assert(np.allclose(L, 2* np.eye(3)))\n",
    "    \n",
    "@mntest\n",
    "def testear_con_matriz_no_sdp():\n",
    "    A = np.array([\n",
    "        [1, 0, 0],\n",
    "        [0, -1, 0],\n",
    "        [0, 0, 2]\n",
    "    ])\n",
    "    try:\n",
    "        L = chol_from_lu(A)\n",
    "        raise AssertionError(\"Tiene que lanzar excepción\")\n",
    "    except ValueError as e:\n",
    "        pass\n",
    "\n",
    "@mntest\n",
    "def testear_con_matriz():\n",
    "    L1 = np.array([\n",
    "        [1, 0, 0],\n",
    "        [2, 2, 0],\n",
    "        [4, 4, 4]\n",
    "    ])\n",
    "    \n",
    "    A = L1 @ L1.T\n",
    "    L = chol_from_lu(A)\n",
    "    assert(np.allclose(L, L1))\n",
    "\n",
    "correr_tests()\n"
   ]
  },
  {
   "cell_type": "markdown",
   "metadata": {
    "id": "90RMGLCMgJU_"
   },
   "source": [
    "## Ejercicio 5: Opcional\n",
    "\n",
    "Supongamos que tenemos $A \\in \\mathbb{R}^{n \\times n}$. Si generamos $x_1, \\ldots x_k \\in \\mathbb{R}^n$ vectores aleatorios ¿cómo podemos chequear \"probabilísticamente\" que $A$ es simétrica definida positiva?\n",
    "\n",
    "Enunciar un método basado en la generación de vectores aleatorios para mostrar que una matriz no es definida positiva o para ganar más confianza en que sí lo es. \n",
    "\n",
    "**Opcional**: Tratar de pensar la implementación sin for, ni while \n",
    "\n",
    "**Opcional 2**: ¿Se les ocurre algún ejemplo en el que fallaría este método?\n",
    "\n",
    "**Tip**: \n",
    "Las funciones [np.diagonal](https://docs.scipy.org/doc/numpy/reference/generated/numpy.diagonal.html) y [np.any](https://docs.scipy.org/doc/numpy/reference/generated/numpy.any.html) también pueden ser de ayuda."
   ]
  },
  {
   "cell_type": "code",
   "execution_count": null,
   "metadata": {
    "id": "p9T6AxDIfY3T"
   },
   "outputs": [],
   "source": [
    "\n",
    "def tiene_sdp_vectores_aleatorios(A, n):\n",
    "    \"\"\"\n",
    "    Chequea que la matriz sea SDP usando método probabilístico de vectores aleatorios\n",
    "    \n",
    "    Argumentos:\n",
    "    ----------\n",
    "    \n",
    "    A: np.array\n",
    "        Matriz a verificar su condición de SDP\n",
    "       \n",
    "    n: int\n",
    "        Cantidad de vectores a \n",
    "    \n",
    "    Devuelve:\n",
    "    ---------\n",
    "    \n",
    "    res: bool\n",
    "        True si no encontró si A es SDP bajo este método probabilístico\n",
    "    \"\"\"\n",
    "    if not es_simetrica(A):\n",
    "        return False\n",
    "    \n",
    "    \"\"\"\n",
    "    TODO: Generar vectores aleatorios y verificar si alguno rompe la condición de DP\n",
    "    \"\"\" \n",
    "    \n",
    "\n",
    "    return None  "
   ]
  },
  {
   "cell_type": "markdown",
   "metadata": {
    "id": "5g8FZ0fJ0-aA"
   },
   "source": [
    "Con este ejemplo debería andar:"
   ]
  },
  {
   "cell_type": "code",
   "execution_count": null,
   "metadata": {
    "id": "An_bAQz6wszV"
   },
   "outputs": [],
   "source": [
    "tests = []\n",
    "\n",
    "\n",
    "@mntest\n",
    "def testear_con_identidad():\n",
    "    A = np.eye(3)\n",
    "    assert(tiene_sdp_vectores_aleatorios(A, 10000))\n",
    "    \n",
    "    \n",
    "\n",
    "@mntest\n",
    "def testear_con_matriz_no_sdp():\n",
    "    A = np.array([\n",
    "        [1, 0, 0],\n",
    "        [0, -1, 0],\n",
    "        [0, 0, 1],\n",
    "    ])\n",
    "    \n",
    "    assert(not tiene_sdp_vectores_aleatorios(A, 10000))\n",
    "    \n",
    "    \n",
    "@mntest\n",
    "def testear_con_otra_matriz_no_sdp():\n",
    "    A = np.array([\n",
    "        [1, 0, 0],\n",
    "        [0, 1, 2],\n",
    "        [0, 2, 1],\n",
    "    ])\n",
    "    \n",
    "    assert(not tiene_sdp_vectores_aleatorios(A, 10000))\n",
    "    \n",
    "    \n",
    "\n",
    "correr_tests()\n"
   ]
  },
  {
   "cell_type": "code",
   "execution_count": null,
   "metadata": {
    "id": "B5_fS3iN0rHf"
   },
   "outputs": [],
   "source": []
  }
 ],
 "metadata": {
  "colab": {
   "collapsed_sections": [],
   "name": "taller1.ipynb",
   "provenance": []
  },
  "kernelspec": {
   "display_name": "Python 3",
   "language": "python",
   "name": "python3"
  },
  "language_info": {
   "codemirror_mode": {
    "name": "ipython",
    "version": 3
   },
   "file_extension": ".py",
   "mimetype": "text/x-python",
   "name": "python",
   "nbconvert_exporter": "python",
   "pygments_lexer": "ipython3",
   "version": "3.8.5"
  }
 },
 "nbformat": 4,
 "nbformat_minor": 1
}
