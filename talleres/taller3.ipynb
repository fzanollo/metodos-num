{
 "cells": [
  {
   "cell_type": "markdown",
   "metadata": {
    "colab_type": "text",
    "id": "o59o8vD1MDdv"
   },
   "source": [
    "# Taller 3 Métodos Numéricos\n",
    "\n",
    "El objetivo del taller es ejercitar los temas de interpolación e integración numérica. Por tal motivo, se deben resolver los siguientes ejercicios y responder las preguntas justificando adecuadamente.\n",
    "\n",
    "## Evaluación y entrega\n",
    "- La evaluación será mediante un coloquio con los docentes durante la clase.\n",
    "- El taller se realiza en grupos hasta 2 ó 3 personas."
   ]
  },
  {
   "cell_type": "code",
   "execution_count": null,
   "metadata": {},
   "outputs": [],
   "source": [
    "import numpy as np\n",
    "from scipy.interpolate import interp1d\n",
    "from scipy.interpolate import lagrange\n",
    "import matplotlib.pyplot as plt\n",
    "from scipy.integrate import quad"
   ]
  },
  {
   "cell_type": "markdown",
   "metadata": {
    "colab_type": "text",
    "id": "tao6ynwUMVZp"
   },
   "source": [
    "## Ejercicio 1\n",
    "\n",
    "## Ejercicio 1\n",
    "\n",
    "Se desea construir una tabla de ocho cifras para la función $log(x)$ en el intervalo $(1,10)$, de tal manera que el error de la interpolación fragmentaria lineal sea menor a $10^{-6}$\n",
    "\n",
    "\n",
    "* Determinar el tamaño del paso $h$ más grande posible y la cantidad de valores de la misma.\n",
    "\n",
    " **HINT:** Tener en cuenta que para cualquier x en el intervalo $(1,10)$, deberá existir un $j$  tal que  $x_{j} \\leq x \\leq x_{j+1}$ con $x_{j}= 1 + hj$ de manera tal que el polinomio interpolador lineal de Lagrange definido como\n",
    " \n",
    "    $$ P(x) = L_{j}(x)f(x_{j}) + L_{j+1}(x)f(x_{j+1})$$ \n",
    "    \n",
    "    en ese intervalo cumpla que el error de la interpolación verifica\n",
    "    \n",
    "    $$ |log(x) - P(x)| \\leq 10^{6}$$   "
   ]
  },
  {
   "cell_type": "markdown",
   "metadata": {},
   "source": [
    "**SOLUCIÓN:**\n",
    "\n",
    " <font color='red'>**COMPLETAR ACÁ**</font>"
   ]
  },
  {
   "cell_type": "markdown",
   "metadata": {},
   "source": [
    "* Comparar y verifcar el error en puntos intermedios. Considerar usar la función [np.log(x)](https://docs.scipy.org/doc/numpy/reference/generated/numpy.log.html) y [np.around](https://numpy.org/doc/stable/reference/generated/numpy.around.html)\n"
   ]
  },
  {
   "cell_type": "code",
   "execution_count": null,
   "metadata": {
    "colab": {},
    "colab_type": "code",
    "id": "pRaDJ2OzYF_F"
   },
   "outputs": [],
   "source": [
    "def interpolacion_lineal(x, tabla):\n",
    "    '''\n",
    "    Evalua x utilizando interpolacion lineal fragmentaria a partir de la tabla con precision de 8 digitos para log(x)\n",
    "    '''    \n",
    "    return None\n",
    "\n",
    "h = ...\n",
    "intervalo = ...\n",
    "tabla = ...\n",
    "\n",
    "# Verifiquemos la interpolación en puntos iniciales\n",
    "xs = ...\n",
    "ys = ...\n",
    "assert(np.all(np.abs(ys - np.log(xs)) < 10**-6))\n",
    "\n",
    "# Ahora consideremos  algunos puntos intermedios\n",
    "xnew = ...\n",
    "ynew = ...\n",
    "assert(np.all(np.abs(ynew - np.log(xnew)) < 10**-6))\n",
    "\n",
    "print(\"Ok\")"
   ]
  },
  {
   "cell_type": "markdown",
   "metadata": {
    "colab_type": "text",
    "id": "UlPJfvRSVmew"
   },
   "source": [
    "## Ejercicio 2\n",
    "\n",
    "* Dados los puntos $(-1,3), (1,1), (2,3), (3,7)$, determinar cuántos polinomios de grado $d$ existen que pasen por *todos* los puntos, para d $\\in \\{2, 3, 4\\} $. Justificar\n"
   ]
  },
  {
   "cell_type": "markdown",
   "metadata": {},
   "source": [
    "\n",
    "**SOLUCIÓN:**\n",
    "\n",
    " <font color='red'>**COMPLETAR ACÁ**</font>"
   ]
  },
  {
   "cell_type": "markdown",
   "metadata": {},
   "source": [
    "* Para cada valor de $d$, en caso de ser posible, mostrar uno. \n",
    "\n",
    "**HINT:** Utilizar el método de diferencias divididas. **OPCIONAL**: Implementar el método de las diferencias divididas para encontrar los coeficientes de los polinomios que recibe eval_poli\n"
   ]
  },
  {
   "cell_type": "code",
   "execution_count": null,
   "metadata": {
    "colab": {},
    "colab_type": "code",
    "id": "rRLY6-EKXmkr"
   },
   "outputs": [],
   "source": [
    "%matplotlib inline\n",
    "import numpy as np\n",
    "import matplotlib.pyplot as plt\n",
    "\n",
    "\n",
    "def eval_poli(xnew, coef, x):\n",
    "    '''\n",
    "    Evalua xnew en un polinomio de grado d encontrado\n",
    "    '''\n",
    "    return None\n",
    "\n",
    "\n",
    "x = np.array([-1, 1, 2, 3])\n",
    "y = np.array([ 3, 1, 3, 7])\n",
    "\n",
    "# Mostrar el polinomio encontrado para cada d\n",
    "coef = ...\n",
    "xnew = np.linspace(np.min(x), np.max(x), num=41, endpoint=True)\n",
    "ynew = eval_poli(xnew, coef, x)\n",
    "\n",
    "plt.plot(x,y,'bo')\n",
    "plt.plot(xnew, ynew)\n",
    "plt.grid()"
   ]
  },
  {
   "cell_type": "markdown",
   "metadata": {},
   "source": [
    "## Ejercicio 3\n",
    "\n",
    "Queremos aproximar la función coseno utilizando distintos tipos de splines y el polinomio de Lagrange para luego comparar el error obtenido."
   ]
  },
  {
   "cell_type": "code",
   "execution_count": null,
   "metadata": {},
   "outputs": [],
   "source": [
    "from scipy.interpolate import lagrange\n",
    "\n",
    "x = np.linspace(0,10,num=10) \n",
    "y = np.cos(x)\n",
    "\n",
    "# Obtengo los polinomios segun los nodos anteriores\n",
    "\n",
    "linear = interp1d(x, y, kind='linear') \n",
    "lagr = lagrange(x, y) \n",
    "\n",
    "# Interpolamos en otros puntos\n",
    "\n",
    "xs = np.linspace(0,10,100)\n",
    "ys_lagr = lagr(xs)\n",
    "ys_lin = linear(xs)\n",
    "\n",
    "# Ploteamos\n",
    "\n",
    "plt.plot(x, y, 'o', xs, ys_lagr, '-',  xs, ys_lin, '--')\n",
    "plt.legend(['cos','Lagrange','Linear'], loc='best')\n",
    "plt.grid(b=True,which='both')\n",
    "plt.axis([0,10, -1, 1])\n",
    "\n",
    "# Error\n",
    "\n",
    "print(\"Error Lagrange:\" + str(np.linalg.norm(np.cos(xs) - ys_lagr)))\n",
    "print(\"Error spline lineal\" + str(np.linalg.norm(np.cos(xs) - ys_lin)))"
   ]
  },
  {
   "cell_type": "markdown",
   "metadata": {
    "colab_type": "text",
    "id": "cLEinhttV8W-"
   },
   "source": [
    "* Dada la siguiente tabla de datos que representa la silueta de un **pato**, probar disintos tipos de Splines junto con el polinomio de Lagrange, compararlos entre ellos y con respecto al caso anterior\n",
    "\n",
    "| x    | 0.9 | 1.3 | 1.9  | 2.1 | 2.6 | 3.0 | 3.9 | 4.4  | 4.7  | 5.0 | 6.0  | 7.0 | 8.0  | 9.2  | 10.5 | 11.3 | 11.6 | 12.0 | 12.6 | 13.0 | 13.3 |\n",
    "|------|-----|-----|------|-----|-----|-----|-----|------|------|-----|------|-----|------|------|------|------|------|------|------|------|------|\n",
    "| f(x) | 1.3 | 1.5 | 1.85 | 2.1 | 2.6 | 2.7 | 2.4 | 2.15 | 2.05 | 2.1 | 2.25 | 2.3 | 2.25 | 1.95 | 1.4  | 0.9  | 0.7  | 0.6  | 0.5  | 0.4  | 0.25 |"
   ]
  },
  {
   "cell_type": "code",
   "execution_count": null,
   "metadata": {
    "colab": {
     "base_uri": "https://localhost:8080/",
     "height": 34
    },
    "colab_type": "code",
    "id": "uQtGx2RGWagx",
    "outputId": "1a1b79da-f7ab-4511-e1bf-60809534c1af"
   },
   "outputs": [],
   "source": [
    "x = np.array([0.9, 1.3, 1.9, 2.1, 2.6, 3.0, 3.9, 4.4, 4.7, 5.0, 6.0,\n",
    "              7.0, 8.0, 9.2, 10.5, 11.3, 11.6, 12.0, 12.6, 13.0, 13.3])\n",
    "y = np.array([1.3, 1.5, 1.85, 2.1, 2.6, 2.7, 2.4, 2.15, 2.05, 2.1, \n",
    "              2.25, 2.3, 2.25, 1.95, 1.4, 0.9, 0.7, 0.6, 0.5, 0.4, 0.25])\n",
    "\n",
    "plt.plot(x, y, 'o')\n",
    "plt.grid(b=True,which='both')\n",
    "plt.axis([0, 14, -6, 4])"
   ]
  },
  {
   "cell_type": "code",
   "execution_count": null,
   "metadata": {
    "colab": {
     "base_uri": "https://localhost:8080/",
     "height": 304
    },
    "colab_type": "code",
    "id": "lFezO55kWeXo",
    "outputId": "29b66886-b995-4ab4-b652-c7c760207d29"
   },
   "outputs": [],
   "source": [
    "# COMPLETAR\n",
    "...\n",
    "...\n",
    "..."
   ]
  },
  {
   "cell_type": "markdown",
   "metadata": {
    "colab_type": "text",
    "id": "xaK8dvlDWqOz"
   },
   "source": [
    "## Ejercicio 4\n",
    "\n",
    "* Deducir la fórmula de Newton-Cotes para $\\int_{0}^{1}f(x)dx$ usando como nodos a los puntos $0,1$\n",
    "\n",
    "\n"
   ]
  },
  {
   "cell_type": "markdown",
   "metadata": {},
   "source": [
    "**SOLUCIÓN:**\n",
    "\n",
    " <font color='red'>**COMPLETAR ACÁ**</font>\n"
   ]
  },
  {
   "cell_type": "markdown",
   "metadata": {},
   "source": [
    "* Utilizar el punto anterior para integrar $\\int_{0}^{1}\\exp (-x^{2})dx$"
   ]
  },
  {
   "cell_type": "code",
   "execution_count": null,
   "metadata": {
    "colab": {},
    "colab_type": "code",
    "id": "Q7FxZiP-W5xl"
   },
   "outputs": [],
   "source": [
    "def f(x):\n",
    "    return None\n",
    "\n",
    "# Pueden comparar contra esta función de scipy\n",
    "true_integral = quad(f, 0, 1)[0]\n",
    "integral = ...\n"
   ]
  },
  {
   "cell_type": "markdown",
   "metadata": {
    "colab_type": "text",
    "id": "PrEGjvoVXBHw"
   },
   "source": [
    "## Ejercicio 5\n",
    "\n",
    "* Indicar cuántos puntos se deben tomar en la aproximación de\n",
    "$$\n",
    "\\int_{0}^{1}\\exp (-x^{2})dx\n",
    "$$\n",
    "por medio de la regla de los Trapecios Compuesta para que el error sea menor que $10^{-6}$.\n",
    "\n",
    "**HINT**: Graficar el modulo de la segunda derivada de $\\exp (-x^{2})$"
   ]
  },
  {
   "cell_type": "markdown",
   "metadata": {},
   "source": [
    "**SOLUCIÓN:**\n",
    "\n",
    "<font color='red'>**COMPLETAR ACÁ**</font>\n"
   ]
  },
  {
   "cell_type": "markdown",
   "metadata": {},
   "source": [
    "\n",
    "* Calcular la aproximacion de la integral y comparar con el Ejercicio anterior"
   ]
  },
  {
   "cell_type": "code",
   "execution_count": null,
   "metadata": {},
   "outputs": [],
   "source": [
    "# COMPLETAR\n",
    "...\n",
    "...\n",
    "...\n"
   ]
  }
 ],
 "metadata": {
  "colab": {
   "collapsed_sections": [],
   "name": "Taller3_2019c2",
   "provenance": []
  },
  "kernelspec": {
   "display_name": "Python 3",
   "language": "python",
   "name": "python3"
  },
  "language_info": {
   "codemirror_mode": {
    "name": "ipython",
    "version": 3
   },
   "file_extension": ".py",
   "mimetype": "text/x-python",
   "name": "python",
   "nbconvert_exporter": "python",
   "pygments_lexer": "ipython3",
   "version": "3.7.3"
  }
 },
 "nbformat": 4,
 "nbformat_minor": 1
}
