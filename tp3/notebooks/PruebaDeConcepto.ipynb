{
 "cells": [
  {
   "cell_type": "code",
   "execution_count": 15,
   "metadata": {},
   "outputs": [],
   "source": [
    "import pandas as pd\n",
    "import seaborn as sns\n",
    "import numpy as np\n",
    "from numpy.linalg import solve\n",
    "import matplotlib.pyplot as plt\n",
    "import ipyleaflet\n",
    "from ipyleaflet import Map\n",
    "from scipy import stats\n",
    "from sklearn.metrics import mean_squared_log_error\n",
    "import math\n",
    "import warnings\n",
    "warnings.filterwarnings('ignore')"
   ]
  },
  {
   "cell_type": "code",
   "execution_count": 2,
   "metadata": {},
   "outputs": [],
   "source": [
    "df = pd.read_csv('../data/train.csv')"
   ]
  },
  {
   "cell_type": "markdown",
   "metadata": {},
   "source": [
    "## Feature engineering (básico)\n",
    "\n",
    "Varias columnas que podrían ser interesantes como features cuentan con null values."
   ]
  },
  {
   "cell_type": "code",
   "execution_count": null,
   "metadata": {},
   "outputs": [],
   "source": [
    "sns.heatmap(df.isna(), yticklabels=False, cbar=False)"
   ]
  },
  {
   "cell_type": "code",
   "execution_count": null,
   "metadata": {},
   "outputs": [],
   "source": [
    "pd.DataFrame(df.isna().sum()).sort_values(by=0)"
   ]
  },
  {
   "cell_type": "markdown",
   "metadata": {},
   "source": [
    "Inferimos la información faltante tomando la media de los valores que si están presentes en cada columna."
   ]
  },
  {
   "cell_type": "code",
   "execution_count": 3,
   "metadata": {},
   "outputs": [
    {
     "data": {
      "text/plain": [
       "<matplotlib.axes._subplots.AxesSubplot at 0x7fb5e9bff940>"
      ]
     },
     "execution_count": 3,
     "metadata": {},
     "output_type": "execute_result"
    },
    {
     "data": {
      "image/png": "[encoded data removed]",
      "text/plain": [
       "<Figure size 432x288 with 1 Axes>"
      ]
     },
     "metadata": {
      "needs_background": "light"
     },
     "output_type": "display_data"
    }
   ],
   "source": [
    "quantity_columns = ['antiguedad', 'habitaciones', 'garages', 'banos', 'metroscubiertos', 'metrostotales']\n",
    "\n",
    "for col in quantity_columns:\n",
    "    df[col] = df[col].fillna(df[col].mean())\n",
    "\n",
    "sns.heatmap(df.isna(), yticklabels=False, cbar=False)"
   ]
  },
  {
   "cell_type": "markdown",
   "metadata": {},
   "source": [
    "## Prueba"
   ]
  },
  {
   "cell_type": "markdown",
   "metadata": {},
   "source": [
    "### Función auxiliar"
   ]
  },
  {
   "cell_type": "code",
   "execution_count": 217,
   "metadata": {},
   "outputs": [],
   "source": [
    "def train_and_predict(x, y, x_test, y_test, apply_x, apply_y, f):\n",
    "\n",
    "    A = apply_x(x)\n",
    "    b = apply_y(y)\n",
    "\n",
    "    AtA = A.T @ A\n",
    "    Atb = A.T @ b\n",
    "\n",
    "    coefs = solve(AtA, Atb)\n",
    "\n",
    "    plt.figure(figsize=(12, 12))\n",
    "\n",
    "    # predict & plot sobre train set\n",
    "    y_pred = f(x, coefs)\n",
    "    eps = y - y_pred\n",
    "\n",
    "    ax1 = plt.subplot(221)\n",
    "    ax1.plot(x, y, '.')\n",
    "    ax1.plot(x, y_pred, 'r')\n",
    "    ax1.set_title('fit train')\n",
    "    ax1.grid(True)\n",
    "\n",
    "    ax2 = plt.subplot(222)\n",
    "    ax2.plot(x, eps, '.')\n",
    "    ax2.set_title('residuals train')\n",
    "    ax2.grid(True)\n",
    "\n",
    "    # predict & plot sobre test set\n",
    "    y_pred = f(x_test, coefs)\n",
    "    eps = y_test - y_pred\n",
    "\n",
    "    ax3 = plt.subplot(223)\n",
    "    ax3.plot(x_test, y_test, '.')\n",
    "    ax3.plot(x_test, y_pred, 'r')\n",
    "    ax3.set_title('fit test')\n",
    "    ax3.grid(True)\n",
    "\n",
    "    ax4 = plt.subplot(224)\n",
    "    ax4.plot(x_test, eps, '.')\n",
    "    ax4.set_title('residuals test')\n",
    "    ax4.grid(True)\n",
    "\n",
    "    error = mean_squared_log_error(y_test, y_pred)\n",
    "    \n",
    "    print(f\"Error: {error}\")\n",
    "    print(f\"Coefs: {coefs}\")\n",
    "    \n",
    "    plt.show()\n",
    "    \n",
    "    return error, coefs"
   ]
  },
  {
   "cell_type": "markdown",
   "metadata": {},
   "source": [
    "### Segmentación básica"
   ]
  },
  {
   "cell_type": "code",
   "execution_count": 7,
   "metadata": {},
   "outputs": [
    {
     "name": "stdout",
     "output_type": "stream",
     "text": [
      "train_df (1903, 23)\n",
      "test_df (476, 23)\n"
     ]
    }
   ],
   "source": [
    "selection_df = df[\n",
    "    (df['ciudad'] == 'Querétaro') &\n",
    "    (df['tipodepropiedad'] == 'Casa')\n",
    "].dropna()\n",
    "\n",
    "limit = math.floor(selection_df.shape[0] * .8)\n",
    "\n",
    "train_df = selection_df[:limit]\n",
    "test_df = selection_df[limit:]\n",
    "\n",
    "print(f\"train_df {train_df.shape}\")\n",
    "print(f\"test_df {test_df.shape}\")"
   ]
  },
  {
   "cell_type": "markdown",
   "metadata": {},
   "source": [
    "## Feature selection\n",
    "\n",
    "En esta sección probamos dos técnicas para elegir los features con los que vamos a armar el modelo para predecir los precios.\n",
    "\n",
    "* Por correlation matrix selection\n",
    "* <s>Por forward selection</s>"
   ]
  },
  {
   "cell_type": "markdown",
   "metadata": {},
   "source": [
    "### Correlation matrix feature selection"
   ]
  },
  {
   "cell_type": "markdown",
   "metadata": {},
   "source": [
    "Se observa una correlación (positiva y negativa) entre:\n",
    "\n",
    "* metrostotales\n",
    "* banos\n",
    "* metroscubiertos\n",
    "* precio\n",
    "\n",
    "Lo que nos dice en primera instancia que el precio podría ser explicado por los otros tres features en principio."
   ]
  },
  {
   "cell_type": "code",
   "execution_count": 9,
   "metadata": {},
   "outputs": [
    {
     "data": {
      "text/plain": [
       "metrostotales      0.556796\n",
       "banos              0.561401\n",
       "metroscubiertos    0.787324\n",
       "precio             1.000000\n",
       "Name: precio, dtype: float64"
      ]
     },
     "execution_count": 9,
     "metadata": {},
     "output_type": "execute_result"
    }
   ],
   "source": [
    "cor = abs(train_df.corr()['precio'])\n",
    "cor_target = cor[cor > 0.5]\n",
    "cor_target.sort_values()"
   ]
  },
  {
   "cell_type": "markdown",
   "metadata": {},
   "source": [
    "No obstante, cuando revisamos los features restantes dos a dos, obtenemos que la correlación entre ellos podría considerarse también alta, con lo que sólo una de ellas sería necesaria para explicar el precio. En este primer caso, tomamos `metroscubiertos` ya que tiene mayor correlación con `precio`."
   ]
  },
  {
   "cell_type": "code",
   "execution_count": 10,
   "metadata": {},
   "outputs": [
    {
     "name": "stdout",
     "output_type": "stream",
     "text": [
      "                   banos  metroscubiertos\n",
      "banos            1.00000          0.64305\n",
      "metroscubiertos  0.64305          1.00000\n"
     ]
    }
   ],
   "source": [
    "print(train_df[['banos', 'metroscubiertos']].corr())"
   ]
  },
  {
   "cell_type": "markdown",
   "metadata": {},
   "source": [
    "En este segundo caso, como se mencionó antes, la correlación también es alta, por lo que se optó por mantener `metroscubiertos` por la razón comentada previamente."
   ]
  },
  {
   "cell_type": "code",
   "execution_count": 11,
   "metadata": {},
   "outputs": [
    {
     "name": "stdout",
     "output_type": "stream",
     "text": [
      "                 metroscubiertos  metrostotales\n",
      "metroscubiertos         1.000000       0.574292\n",
      "metrostotales           0.574292       1.000000\n"
     ]
    }
   ],
   "source": [
    "print(train_df[['metroscubiertos', 'metrostotales']].corr())"
   ]
  },
  {
   "cell_type": "markdown",
   "metadata": {},
   "source": [
    "En conclusión, `metroscubiertos` explicaría bien el precio para la segmentación que estamos probando."
   ]
  },
  {
   "cell_type": "markdown",
   "metadata": {},
   "source": [
    "#### Comportamiento del feature respecto del target\n",
    "\n",
    "El objetivo es inferir la relación entre, en este caso `precio` medio en función de `metroscubiertos`. Grafiquemos para tener una primera intuición:"
   ]
  },
  {
   "cell_type": "code",
   "execution_count": 229,
   "metadata": {},
   "outputs": [
    {
     "data": {
      "image/png": "[encoded data removed]",
      "text/plain": [
       "<Figure size 432x288 with 1 Axes>"
      ]
     },
     "metadata": {
      "needs_background": "light"
     },
     "output_type": "display_data"
    }
   ],
   "source": [
    "# ¿ *esto vs sin agrupar* ?\n",
    "\n",
    "train_feature_df = train_df.groupby('metroscubiertos').mean().reset_index()\n",
    "test_feature_df = test_df.groupby('metroscubiertos').mean().reset_index()\n",
    "\n",
    "# removemos outliers de train set\n",
    "train_feature_df = train_feature_df[(np.abs(stats.zscore(train_feature_df)) < 3).all(axis=1)]\n",
    "\n",
    "# graficamos para hacernos una idea de la linealidad entre las dos variables\n",
    "train_feature_df.plot.scatter(y='precio', x='metroscubiertos')\n",
    "plt.grid(True)\n",
    "plt.show()\n",
    "\n",
    "x = train_feature_df['metroscubiertos']\n",
    "y = train_feature_df['precio']\n",
    "\n",
    "x_test = test_feature_df['metroscubiertos']\n",
    "y_test = test_feature_df['precio']"
   ]
  },
  {
   "cell_type": "markdown",
   "metadata": {},
   "source": [
    "Se puede ver como la varianza va incrementando poco a poco a medida que la cantidad de `metroscubiertos` aumenta. Esto podria traernos luego complicaciones para fitear esos datos ya que puede ser más dificil encontrar una función que los represente. Aplicar una transformación a los datos nos ayudaría a reducir un poco esa varianza y a hacer más certera nuestra aproximación. Aplicando $log$ sobre los dos features:"
   ]
  },
  {
   "cell_type": "code",
   "execution_count": 230,
   "metadata": {},
   "outputs": [
    {
     "data": {
      "image/png": "[encoded data removed]",
      "text/plain": [
       "<Figure size 432x288 with 1 Axes>"
      ]
     },
     "metadata": {
      "needs_background": "light"
     },
     "output_type": "display_data"
    }
   ],
   "source": [
    "plt.plot(np.log(x), np.log(y), '.')\n",
    "plt.grid(True)\n",
    "plt.show()"
   ]
  },
  {
   "cell_type": "markdown",
   "metadata": {},
   "source": [
    "Lo que ahora nos facilita plantear la siguiente regresión:\n",
    "\n",
    "$$log(y) = \\alpha_1 + \\alpha_2 * log(x)$$\n",
    "\n",
    "Observemos que en base a la misma\n",
    "\n",
    "$$y = e^{\\alpha_1 + \\alpha_2 * log(x)}$$"
   ]
  },
  {
   "cell_type": "code",
   "execution_count": 231,
   "metadata": {},
   "outputs": [],
   "source": [
    "def apply_x(x):\n",
    "    return np.stack(evaluate(x)).T\n",
    "\n",
    "def apply_y(y): return np.log(y)\n",
    "\n",
    "def f(x,coef):\n",
    "    result = sum([c * v for c, v in zip(coef, evaluate(x))])\n",
    "    return np.e**result"
   ]
  },
  {
   "cell_type": "code",
   "execution_count": 232,
   "metadata": {},
   "outputs": [
    {
     "name": "stdout",
     "output_type": "stream",
     "text": [
      "Error: 0.03795474388766943\n",
      "Coefs: [8.54331371 1.14682822]\n"
     ]
    },
    {
     "data": {
      "image/png": "[encoded data removed]",
      "text/plain": [
       "<Figure size 864x864 with 4 Axes>"
      ]
     },
     "metadata": {
      "needs_background": "light"
     },
     "output_type": "display_data"
    },
    {
     "data": {
      "text/plain": [
       "(0.03795474388766943, array([8.54331371, 1.14682822]))"
      ]
     },
     "execution_count": 232,
     "metadata": {},
     "output_type": "execute_result"
    }
   ],
   "source": [
    "def evaluate(x):\n",
    "    ones = np.ones(x.shape)\n",
    "    return [\n",
    "        ones,\n",
    "        np.log(x)\n",
    "    ]\n",
    "\n",
    "train_and_predict(x, y, x_test, y_test, apply_x, apply_y, f)"
   ]
  },
  {
   "cell_type": "markdown",
   "metadata": {},
   "source": [
    "Observemos que $y = x^{\\alpha_2} * e^{\\alpha_1}$ por la igualdad previa. Con lo que $y$ es una función lineal, la cual puede verse en los plots de fit.\n",
    "\n",
    "Aunque hay una aproximación, y el ajuste en el test set no parece ser tan malo, se observa en los plots de residuals un claro patrón curvo hacia abajo, lo que nos indica que el error, $\\epsilon$ no tiene distribución $N\\sim(0, \\sigma^2)$ con $\\sigma^2$ constante para todos los valores de $x$. Esto nos lleva a que puede ser mejorada la aproximación.\n",
    "\n",
    "Seguidamente, podemos intentar agregando términos polinómicos, sólo para ver que tan preponderantes son al hacer las predicciones:\n",
    "\n",
    "$$log(y) = \\alpha_1 + \\alpha_2 * log(x) + \\alpha_3 * x + \\alpha_4 * x^2 + \\alpha_5 * x^3 + \\alpha_6 * x^4 $$"
   ]
  },
  {
   "cell_type": "code",
   "execution_count": 233,
   "metadata": {},
   "outputs": [
    {
     "name": "stdout",
     "output_type": "stream",
     "text": [
      "Error: 0.03787750568265579\n",
      "Coefs: [ 1.63072835e+01 -1.51104714e+00  6.57634751e-02 -2.66759162e-04\n",
      "  5.77190227e-07 -4.83494016e-10]\n"
     ]
    },
    {
     "data": {
      "image/png": "[encoded data removed]",
      "text/plain": [
       "<Figure size 864x864 with 4 Axes>"
      ]
     },
     "metadata": {
      "needs_background": "light"
     },
     "output_type": "display_data"
    },
    {
     "data": {
      "text/plain": [
       "(0.03787750568265579,\n",
       " array([ 1.63072835e+01, -1.51104714e+00,  6.57634751e-02, -2.66759162e-04,\n",
       "         5.77190227e-07, -4.83494016e-10]))"
      ]
     },
     "execution_count": 233,
     "metadata": {},
     "output_type": "execute_result"
    }
   ],
   "source": [
    "def evaluate(x):\n",
    "    ones = np.ones(x.shape)\n",
    "    return [\n",
    "        ones,\n",
    "        np.log(x),\n",
    "        x,\n",
    "        x**2,\n",
    "        x**3,\n",
    "        x**4,\n",
    "    ]\n",
    "\n",
    "train_and_predict(x, y, x_test, y_test, apply_x, apply_y, f)"
   ]
  },
  {
   "attachments": {
    "image-2.png": {
     "image/png": "[encoded data removed]"
    }
   },
   "cell_type": "markdown",
   "metadata": {},
   "source": [
    "Podemos observar una mejora en el error, así como una mayor \"versatilidad\" del modelo frente a las variaciones en los datos si miramos el plot de fit. Si miramos el plot de residuals, podemos ver que el patrón curvo hacia abajo no es tán prominente como lo fue en el caso anterior. No obstante, la varianza aún no es constante, y esto es principalmente sobre la media de los precios de propiedades con mayor cantidad de `metroscubiertos`.\n",
    "\n",
    "Sobre los coeficientes obtenidos, observemos que la importancia se corresponde con el grado del término polinómico agregado.\n",
    "\n",
    "Idealmente, nos gustaría poder reducir la varianza en el error. La forma que tienen los datos de entrenamiento sugieren un patron en ciclo que sugerimos podria ser de la siguiente forma (violeta):\n",
    "\n",
    "![image-2.png](attachment:image-2.png)\n",
    "\n",
    "Este patrón nos permitiría frente a muestras más grandes seguir estimando bien los precios si es que los datos a predecir aumentan su varianza a medida que aumentan los metros totales.\n",
    "\n",
    "Para ello vamos a introducir las funciones $sin$ y $cos$ a nuestra familia:\n",
    "\n",
    "$$log(y) = \\alpha_1 + \\alpha_2 * log(x) + \\alpha_3 * x + \\alpha_4 * x^2 + \\alpha_5 * x^3 + \\alpha_6 * x^4 + \\alpha_7  * \\phi_1(x) * sin(\\frac{x}{k}) + \\alpha_8 * \\phi_2(x) * cos(\\frac{x}{k}) $$"
   ]
  },
  {
   "cell_type": "code",
   "execution_count": 242,
   "metadata": {},
   "outputs": [
    {
     "name": "stdout",
     "output_type": "stream",
     "text": [
      "Error: 0.03789862804785943\n",
      "Coefs: [ 1.62592583e+01 -1.49146785e+00  6.50379361e-02 -2.62706944e-04\n",
      "  5.65757021e-07 -4.71501945e-10  3.12199310e-05 -4.81309618e-05]\n"
     ]
    },
    {
     "data": {
      "image/png": "[encoded data removed]",
      "text/plain": [
       "<Figure size 864x864 with 4 Axes>"
      ]
     },
     "metadata": {
      "needs_background": "light"
     },
     "output_type": "display_data"
    },
    {
     "data": {
      "text/plain": [
       "(0.03789862804785943,\n",
       " array([ 1.62592583e+01, -1.49146785e+00,  6.50379361e-02, -2.62706944e-04,\n",
       "         5.65757021e-07, -4.71501945e-10,  3.12199310e-05, -4.81309618e-05]))"
      ]
     },
     "execution_count": 242,
     "metadata": {},
     "output_type": "execute_result"
    }
   ],
   "source": [
    "def evaluate(x):\n",
    "    ones = np.ones(x.shape)\n",
    "    return [\n",
    "        ones,\n",
    "        np.log(x),\n",
    "        x,\n",
    "        x**2,\n",
    "        x**3,\n",
    "        x**4,\n",
    "        x * np.sin(x/10),\n",
    "        x * np.cos(x/10)\n",
    "    ]\n",
    "\n",
    "train_and_predict(x, y, x_test, y_test, apply_x, apply_y, f)"
   ]
  },
  {
   "cell_type": "markdown",
   "metadata": {},
   "source": [
    "Si bien en el plot de residuals seguimos notando la varianza no constante, el error de la aproximación es también menor. $\\phi_i$ y $k$ fueron buscados a mano de forma tal que la frecuencia y la amplitud de la onda creada se viera afectada positivamente (sea más parecida a la de la propuesta). Podría hacerse un experimento sobre esto basado en grid search para buscar mejores combinaciones.\n",
    "\n",
    "Para dejar nuestra prueba un poco más completa, veamos que cambios hay si introducimos la función $x^\\frac{1}{2}$:\n",
    "\n",
    "$$log(y) = \\alpha_1 + \\alpha_2 * log(x) + \\alpha_3 * x + \\alpha_4 * x^2 + \\alpha_5 * x^3 + \\alpha_6 * x^4 + \\alpha_7  * \\phi_1(x) * sin(\\frac{x}{k}) + \\alpha_8 * \\phi_2(x) * cos(\\frac{x}{k}) + \\alpha_9 * \\phi_3(x) * x^\\frac{1}{2} $$"
   ]
  },
  {
   "cell_type": "code",
   "execution_count": 247,
   "metadata": {},
   "outputs": [
    {
     "name": "stdout",
     "output_type": "stream",
     "text": [
      "Error: 0.03783816364904024\n",
      "Coefs: [ 2.49399626e+01 -5.09174973e+00  2.32123875e-01 -2.54949577e-03\n",
      " -4.94150518e-06  1.22152513e-09 -6.36658420e-08  2.08691958e-07\n",
      "  1.94076892e-04]\n"
     ]
    },
    {
     "data": {
      "image/png": "[encoded data removed]",
      "text/plain": [
       "<Figure size 864x864 with 4 Axes>"
      ]
     },
     "metadata": {
      "needs_background": "light"
     },
     "output_type": "display_data"
    },
    {
     "data": {
      "text/plain": [
       "(0.03783816364904024,\n",
       " array([ 2.49399626e+01, -5.09174973e+00,  2.32123875e-01, -2.54949577e-03,\n",
       "        -4.94150518e-06,  1.22152513e-09, -6.36658420e-08,  2.08691958e-07,\n",
       "         1.94076892e-04]))"
      ]
     },
     "execution_count": 247,
     "metadata": {},
     "output_type": "execute_result"
    }
   ],
   "source": [
    "def evaluate(x):\n",
    "    ones = np.ones(x.shape)\n",
    "    return [\n",
    "        ones,\n",
    "        np.log(x),\n",
    "        x,\n",
    "        x**2,\n",
    "        x**3,\n",
    "        x**4,\n",
    "        x**2 * np.sin(x/5),\n",
    "        x**2 * np.cos(x/5),\n",
    "        x**2 * np.sqrt(x)\n",
    "    ]\n",
    "\n",
    "train_and_predict(x, y, x_test, y_test, apply_x, apply_y, f)"
   ]
  },
  {
   "cell_type": "markdown",
   "metadata": {},
   "source": [
    "Efectivamente, podemos ver una mejora en el error, aúnque hay espacio para seguir mejorando nuestro modelo si nos basamos en el plot de fit, que sigue mostrando una varianza no constante para el error.\n",
    "\n",
    "Si estamos conformes con los resultados obtenidos, podemos probar este modelo sobre las casas de otra ciudad, para ver su performance. Veamos sobre Guadalajara."
   ]
  },
  {
   "cell_type": "code",
   "execution_count": 248,
   "metadata": {},
   "outputs": [
    {
     "name": "stdout",
     "output_type": "stream",
     "text": [
      "Error: 0.1339739757138093\n"
     ]
    },
    {
     "data": {
      "image/png": "[encoded data removed]",
      "text/plain": [
       "<Figure size 432x288 with 1 Axes>"
      ]
     },
     "metadata": {
      "needs_background": "light"
     },
     "output_type": "display_data"
    }
   ],
   "source": [
    "selection_df = df[\n",
    "    (df['ciudad'] == 'Guadalajara') &\n",
    "    (df['tipodepropiedad'] == 'Casa')\n",
    "].dropna()\n",
    "\n",
    "selection_df = selection_df.groupby('metroscubiertos').mean().reset_index()\n",
    "\n",
    "# graficamos para hacernos una idea de la linealidad entre las dos variables\n",
    "selection_df.plot.scatter(y='precio', x='metroscubiertos')\n",
    "\n",
    "x = selection_df['metroscubiertos']\n",
    "y = selection_df['precio']\n",
    "\n",
    "coefs = [ 2.49399626e+01, -5.09174973e+00,  2.32123875e-01, -2.54949577e-03,\n",
    "        -4.94150518e-06,  1.22152513e-09, -6.36658420e-08,  2.08691958e-07,\n",
    "         1.94076892e-04]\n",
    "\n",
    "y_pred = f(x, coefs)\n",
    "\n",
    "print(f\"Error: {mean_squared_log_error(y, y_pred)}\")\n",
    "\n",
    "plt.plot(x, y, '.')\n",
    "plt.plot(x, y_pred, 'r', color='red')\n",
    "plt.grid(True)\n",
    "plt.show()"
   ]
  },
  {
   "cell_type": "markdown",
   "metadata": {},
   "source": [
    "Aunque a juzgar por el gráfico parecen ser razonables las predicciones, el error más del doble en comparación al obtenido previamente, lo que nos lleva a pensar que tal vez el modelo no generalice bien. Entre otras cosas, esto puede ocurrir:\n",
    "\n",
    "* por falta de algún feature que necesitemos\n",
    "* por falta de más familias que puedan explicar los datos\n"
   ]
  }
 ],
 "metadata": {
  "kernelspec": {
   "display_name": "Python 3",
   "language": "python",
   "name": "python3"
  },
  "language_info": {
   "codemirror_mode": {
    "name": "ipython",
    "version": 3
   },
   "file_extension": ".py",
   "mimetype": "text/x-python",
   "name": "python",
   "nbconvert_exporter": "python",
   "pygments_lexer": "ipython3",
   "version": "3.6.5"
  },
  "widgets": {
   "application/vnd.jupyter.widget-state+json": {
    "state": {
     "0407a70cc4d94afe99fcaa9aea8c6f7f": {
      "model_module": "jupyter-leaflet",
      "model_module_version": "^0.13.2",
      "model_name": "LeafletMapStyleModel",
      "state": {
       "_model_module_version": "^0.13.2",
       "cursor": "move"
      }
     },
     "06e5d62994a246a7a5ddbded5b687e9a": {
      "model_module": "jupyter-leaflet",
      "model_module_version": "^0.13.2",
      "model_name": "LeafletMapStyleModel",
      "state": {
       "_model_module_version": "^0.13.2"
      }
     },
     "1008901846f949d2b1519c322ea05a76": {
      "model_module": "jupyter-leaflet",
      "model_module_version": "^0.13.2",
      "model_name": "LeafletMapStyleModel",
      "state": {
       "_model_module_version": "^0.13.2"
      }
     },
     "141ea5c5edd54b2c9e5cb140c9c455a5": {
      "model_module": "jupyter-leaflet",
      "model_module_version": "^0.13.2",
      "model_name": "LeafletTileLayerModel",
      "state": {
       "_model_module_version": "^0.13.2",
       "_view_module_version": "^0.13.2",
       "base": true,
       "max_native_zoom": 18,
       "max_zoom": 19,
       "min_native_zoom": 0,
       "min_zoom": 1,
       "options": [
        "attribution",
        "detect_retina",
        "max_native_zoom",
        "max_zoom",
        "min_native_zoom",
        "min_zoom",
        "no_wrap",
        "tile_size",
        "tms"
       ]
      }
     },
     "1c31709ddf0f480399b7facff3353b73": {
      "model_module": "jupyter-leaflet",
      "model_module_version": "^0.13.2",
      "model_name": "LeafletMapStyleModel",
      "state": {
       "_model_module_version": "^0.13.2"
      }
     },
     "1e65f851405343e982959e6467fc0c53": {
      "model_module": "@jupyter-widgets/base",
      "model_module_version": "1.2.0",
      "model_name": "LayoutModel",
      "state": {}
     },
     "37beb0f25aaf46c799d2f3c2fab8fd39": {
      "model_module": "jupyter-leaflet",
      "model_module_version": "^0.13.2",
      "model_name": "LeafletAttributionControlModel",
      "state": {
       "_model_module_version": "^0.13.2",
       "_view_module_version": "^0.13.2",
       "options": [
        "position",
        "prefix"
       ],
       "position": "bottomright",
       "prefix": "ipyleaflet"
      }
     },
     "395dc161104e4c3fb13efabdaf194cb6": {
      "model_module": "jupyter-leaflet",
      "model_module_version": "^0.13.2",
      "model_name": "LeafletTileLayerModel",
      "state": {
       "_model_module_version": "^0.13.2",
       "_view_module_version": "^0.13.2",
       "base": true,
       "max_native_zoom": 18,
       "max_zoom": 19,
       "min_native_zoom": 0,
       "min_zoom": 1,
       "options": [
        "attribution",
        "detect_retina",
        "max_native_zoom",
        "max_zoom",
        "min_native_zoom",
        "min_zoom",
        "no_wrap",
        "tile_size",
        "tms"
       ]
      }
     },
     "42c19dee7d39443c81450cccf84d8090": {
      "model_module": "@jupyter-widgets/base",
      "model_module_version": "1.2.0",
      "model_name": "LayoutModel",
      "state": {}
     },
     "67ed9baf0fc14f4e87942d54ac86fb9e": {
      "model_module": "jupyter-leaflet",
      "model_module_version": "^0.13.2",
      "model_name": "LeafletMapModel",
      "state": {
       "_model_module_version": "^0.13.2",
       "_view_module_version": "^0.13.2",
       "bottom": 1949,
       "center": [
        25.439861593685706,
        -92.68436530305485
       ],
       "controls": [
        "IPY_MODEL_ba06204b993b4f00ae051ec2dc05d2c3",
        "IPY_MODEL_37beb0f25aaf46c799d2f3c2fab8fd39"
       ],
       "default_style": "IPY_MODEL_06e5d62994a246a7a5ddbded5b687e9a",
       "dragging_style": "IPY_MODEL_85fae8ce81d24b1498c496e39436a31d",
       "east": -50.36132812500001,
       "fullscreen": false,
       "interpolation": "bilinear",
       "layers": [
        "IPY_MODEL_141ea5c5edd54b2c9e5cb140c9c455a5",
        "IPY_MODEL_9b7ab6558512458a9a63d807e5139d66"
       ],
       "layout": "IPY_MODEL_1e65f851405343e982959e6467fc0c53",
       "left": 512,
       "modisdate": "yesterday",
       "north": 40.111688665595956,
       "options": [
        "bounce_at_zoom_limits",
        "box_zoom",
        "center",
        "close_popup_on_click",
        "double_click_zoom",
        "dragging",
        "fullscreen",
        "inertia",
        "inertia_deceleration",
        "inertia_max_speed",
        "interpolation",
        "keyboard",
        "keyboard_pan_offset",
        "keyboard_zoom_offset",
        "max_zoom",
        "min_zoom",
        "scroll_wheel_zoom",
        "tap",
        "tap_tolerance",
        "touch_zoom",
        "world_copy_jump",
        "zoom",
        "zoom_animation_threshold",
        "zoom_delta",
        "zoom_snap",
        "zoom_start"
       ],
       "right": 1475,
       "south": 8.667918002363134,
       "style": "IPY_MODEL_ada265a9107945d788ed92296c3a07cb",
       "top": 1549,
       "west": -135.00000000000003,
       "window_url": "http://localhost:8888/notebooks/tp3/notebooks/PruebaDeConcepto.ipynb",
       "zoom": 4
      }
     },
     "848272e1f86d4848844cd099a775c61d": {
      "model_module": "jupyter-leaflet",
      "model_module_version": "^0.13.2",
      "model_name": "LeafletZoomControlModel",
      "state": {
       "_model_module_version": "^0.13.2",
       "_view_module_version": "^0.13.2",
       "options": [
        "position",
        "zoom_in_text",
        "zoom_in_title",
        "zoom_out_text",
        "zoom_out_title"
       ]
      }
     },
     "85fae8ce81d24b1498c496e39436a31d": {
      "model_module": "jupyter-leaflet",
      "model_module_version": "^0.13.2",
      "model_name": "LeafletMapStyleModel",
      "state": {
       "_model_module_version": "^0.13.2",
       "cursor": "move"
      }
     },
     "918933fc9f1642aaa1d9e519cba9bb34": {
      "model_module": "jupyter-leaflet",
      "model_module_version": "^0.13.2",
      "model_name": "LeafletAttributionControlModel",
      "state": {
       "_model_module_version": "^0.13.2",
       "_view_module_version": "^0.13.2",
       "options": [
        "position",
        "prefix"
       ],
       "position": "bottomright",
       "prefix": "ipyleaflet"
      }
     },
     "95690a556ab940c598a6b5c6e95fe5fe": {
      "model_module": "jupyter-leaflet",
      "model_module_version": "^0.13.2",
      "model_name": "LeafletMapModel",
      "state": {
       "_model_module_version": "^0.13.2",
       "_view_module_version": "^0.13.2",
       "bottom": 1949,
       "center": [
        25.439861593685706,
        -92.68436530305485
       ],
       "controls": [
        "IPY_MODEL_848272e1f86d4848844cd099a775c61d",
        "IPY_MODEL_918933fc9f1642aaa1d9e519cba9bb34"
       ],
       "default_style": "IPY_MODEL_1008901846f949d2b1519c322ea05a76",
       "dragging_style": "IPY_MODEL_0407a70cc4d94afe99fcaa9aea8c6f7f",
       "east": -50.36132812500001,
       "fullscreen": false,
       "interpolation": "bilinear",
       "layers": [
        "IPY_MODEL_395dc161104e4c3fb13efabdaf194cb6",
        "IPY_MODEL_ec334279c9074c3395a06ad5b6028e85"
       ],
       "layout": "IPY_MODEL_42c19dee7d39443c81450cccf84d8090",
       "left": 512,
       "modisdate": "yesterday",
       "north": 40.111688665595956,
       "options": [
        "bounce_at_zoom_limits",
        "box_zoom",
        "center",
        "close_popup_on_click",
        "double_click_zoom",
        "dragging",
        "fullscreen",
        "inertia",
        "inertia_deceleration",
        "inertia_max_speed",
        "interpolation",
        "keyboard",
        "keyboard_pan_offset",
        "keyboard_zoom_offset",
        "max_zoom",
        "min_zoom",
        "scroll_wheel_zoom",
        "tap",
        "tap_tolerance",
        "touch_zoom",
        "world_copy_jump",
        "zoom",
        "zoom_animation_threshold",
        "zoom_delta",
        "zoom_snap",
        "zoom_start"
       ],
       "right": 1475,
       "south": 8.667918002363134,
       "style": "IPY_MODEL_1c31709ddf0f480399b7facff3353b73",
       "top": 1549,
       "west": -135.00000000000003,
       "window_url": "http://localhost:8888/notebooks/tp3/notebooks/PruebaDeConcepto.ipynb",
       "zoom": 4
      }
     },
     "9b7ab6558512458a9a63d807e5139d66": {
      "model_module": "jupyter-leaflet",
      "model_module_version": "^0.13.2",
      "model_name": "LeafletHeatmapModel",
      "state": {
       "_model_module_version": "^0.13.2",
       "_view_module_version": "^0.13.2",
       "blur": 20,
       "gradient": {
        "0.4": "blue",
        "0.6": "cyan",
        "0.7": "lime",
        "0.8": "yellow",
        "1.0": "red"
       },
       "locations": [
        [
         19.3582638,
         -98.1204305,
         3100
        ],
        [
         19.2622855,
         -98.2076282,
         3132
        ],
        [
         19.0240021,
         -98.226212933333,
         3150
        ],
        [
         19.510263761824998,
         -98.13850715081301,
         3200
        ],
        [
         19.2249474,
         -97.80365340000004,
         3200
        ],
        [
         20.044323,
         -98.1618209,
         3200
        ],
        [
         19.335192488282484,
         -100.15765476432324,
         3200
        ],
        [
         19.6518147002,
         -102.04753017440001,
         3400
        ],
        [
         19.2113734,
         -103.8121195,
         3500
        ],
        [
         19.0489053659114,
         -98.10271859832152,
         3500
        ],
        [
         18.7357215,
         -99.3676309,
         3500
        ],
        [
         17.5861111,
         -99.3836111,
         3740
        ],
        [
         18.9125659,
         -97.1307689,
         3768.745
        ],
        [
         17.9490037,
         -94.91303219999998,
         3947.44
        ],
        [
         19.2636,
         -98.3741,
         3980
        ],
        [
         15.457892825279655,
         -92.88999030249865,
         4250
        ],
        [
         22.050757404432108,
         -102.26796166469727,
         4340
        ],
        [
         19.639704829675907,
         -99.010749065216,
         4350
        ],
        [
         16.9078777,
         -96.72045149999997,
         4362.5
        ],
        [
         17.216416012743906,
         -96.805354851297,
         4380
        ],
        [
         19.7467384,
         -101.04422690000001,
         4500
        ],
        [
         19.76114106557786,
         -97.24528988944091,
         4500
        ],
        [
         19.8800084,
         -98.8195753,
         4500
        ],
        [
         21.34604155,
         -97.69031339,
         4500
        ],
        [
         20.633306,
         -103.2620107,
         4600
        ],
        [
         20.5130165,
         -100.9952225,
         4620
        ],
        [
         19.941645868566,
         -99.40200732612976,
         4631.226770334928
        ],
        [
         19.403919277357378,
         -99.57174013224025,
         4716.666666666667
        ],
        [
         19.328578012435035,
         -98.15872192382812,
         4743.333333333333
        ],
        [
         19.42850386394014,
         -99.58698380093364,
         4768.20895522388
        ],
        [
         19.9821413649436,
         -102.69427299499512,
         4950
        ],
        [
         19.581174726909584,
         -98.39158800760264,
         5032.923043478261
        ],
        [
         16.84366174985815,
         -93.19504737854004,
         5100
        ],
        [
         19.388959152676712,
         -98.10615466308106,
         5101.681
        ],
        [
         24.402065285668026,
         -104.3191123008728,
         5225
        ],
        [
         16.968525652695867,
         -96.75231373488772,
         5305
        ],
        [
         19.176001277655722,
         -99.56558802714633,
         5471.639344262296
        ],
        [
         20.04025061776348,
         -98.63895072710213,
         5544.142857142857
        ],
        [
         22.945762491536765,
         -105.91835421180724,
         5643.75
        ],
        [
         16.949596125686025,
         -96.7516626409668,
         5670
        ],
        [
         19.4232618282525,
         -99.42349029055133,
         5954.333333333334
        ],
        [
         19.413565852070903,
         -98.1701621775445,
         6172.962962962963
        ],
        [
         19.761970393497513,
         -101.18706666253382,
         6263.215431034482
        ],
        [
         24.16632285073479,
         -99.1918163411404,
         6308.229166666666
        ],
        [
         19.280687139233162,
         -99.70274585147705,
         6325
        ],
        [
         19.247464289148965,
         -98.23458127368012,
         6350
        ],
        [
         19.32351454760558,
         -92.7850085114175,
         6370.3525
        ],
        [
         19.84977198506747,
         -99.10532370602132,
         6371.772596153846
        ],
        [
         19.850948279679343,
         -98.96512681421547,
         6432.445746606335
        ],
        [
         16.5610599,
         -95.0973882,
         6500
        ],
        [
         21.522412802643743,
         -102.24661116697997,
         6550
        ],
        [
         19.35059846288332,
         -98.16837405764359,
         6556.666666666666
        ],
        [
         19.612905959325726,
         -98.11617834211019,
         6712.5
        ],
        [
         22.171227212281632,
         -100.93402229528627,
         6723.819357142857
        ],
        [
         20.4832022,
         -97.4662104,
         6750
        ],
        [
         19.33244671484403,
         -99.68906904480501,
         6775.892857142857
        ],
        [
         17.996645025,
         -94.62988410000001,
         6856.923076923077
        ],
        [
         19.680971312563507,
         -99.07322185147494,
         6868.333333333334
        ],
        [
         18.991959493522913,
         -97.44774275831756,
         6900
        ],
        [
         25.02863184062911,
         -100.07362087036131,
         7000
        ],
        [
         19.1664092,
         -99.4812599,
         7000
        ],
        [
         16.986702718171205,
         -96.76412954846802,
         7150
        ],
        [
         20.204535578451537,
         -96.76840508885496,
         7150
        ],
        [
         19.58889106837203,
         -98.75713516982256,
         7265.0684
        ],
        [
         22.3647774,
         -102.3001137,
         7286.24
        ],
        [
         19.04264694068052,
         -96.42047882080078,
         7300
        ],
        [
         19.6538071809,
         -101.9146771434,
         7377.43
        ],
        [
         16.9543736,
         -96.4743228,
         7400
        ],
        [
         19.623476250000003,
         -103.41487439999997,
         7435.333333333334
        ],
        [
         17.5098236,
         -93.12065769999998,
         7450
        ],
        [
         18.9339057,
         -97.6884573,
         7500
        ],
        [
         19.2863648966861,
         -98.19725337207947,
         7550
        ],
        [
         19.41517877517051,
         -98.1674688293469,
         7614.772727272727
        ],
        [
         21.7912024071571,
         -100.51474867349039,
         7617.94
        ],
        [
         20.428852,
         -101.72566955,
         7653.333333333334
        ],
        [
         22.951112,
         -102.707347,
         7665.833333333334
        ],
        [
         20.771127456628747,
         -98.16952408368599,
         7685.5
        ],
        [
         25.138378135852125,
         -111.46615880968017,
         7697.933333333333
        ],
        [
         22.110775133333334,
         -98.09529903333333,
         7702.954545454546
        ],
        [
         19.723296845836078,
         -99.07017533420623,
         7825.5
        ],
        [
         18.876482153189862,
         -98.86563184173377,
         7865.079166666666
        ],
        [
         19.762432882620846,
         -99.14219611137034,
         7942.713225806452
        ],
        [
         19.517580921167987,
         -98.3225646156638,
         8015.377218628719
        ],
        [
         18.497963651102673,
         -100.40250214373687,
         8040.6475
        ],
        [
         19.197884425767217,
         -98.22748203017723,
         8084.4
        ],
        [
         17.182994768248495,
         -96.78816122656417,
         8234.615384615385
        ],
        [
         19.051863354777986,
         -102.61573972772491,
         8280.581333333334
        ],
        [
         20.1888974,
         -99.2731301,
         8316.666666666666
        ],
        [
         19.33833844521987,
         -98.91507867164668,
         8328.663704414588
        ],
        [
         23.883828262490262,
         -104.26189239645217,
         8415.714285714284
        ],
        [
         17.0787711,
         -96.6704944,
         8437.5
        ],
        [
         19.8055547,
         -100.1734224,
         8500
        ],
        [
         18.36782164417378,
         -95.80177255538332,
         8500
        ],
        [
         22.246455033333334,
         -100.72829676666667,
         8500
        ],
        [
         21.4589849,
         -98.97692440000004,
         8500
        ],
        [
         17.0073658,
         -96.5839558,
         8500
        ],
        [
         20.1821298511828,
         -98.830045935987,
         8524.642857142857
        ],
        [
         19.143996988994,
         -98.859316429916,
         8566.666666666666
        ],
        [
         17.893786650000003,
         -99.53857644999998,
         8664.666666666666
        ],
        [
         18.391858495236317,
         -92.72009616784848,
         8670.828000000001
        ],
        [
         19.40952757647904,
         -98.91030100104221,
         8752.172333333332
        ],
        [
         21.981790750000002,
         -98.98797314999999,
         8762.5
        ],
        [
         19.362757978097953,
         -98.08931834289477,
         8787.359946902656
        ],
        [
         19.319551976070713,
         -97.91665273154494,
         8816.011764705881
        ],
        [
         22.3656529,
         -102.2997344,
         8866.666666666666
        ],
        [
         20.637831670203393,
         -103.23162674388769,
         8870.11472887768
        ],
        [
         19.0036848,
         -98.2277192,
         9000
        ],
        [
         17.722252899999994,
         -92.814778,
         9000
        ],
        [
         23.818007100000006,
         -100.73068969999996,
         9000
        ],
        [
         19.5534011,
         -98.8737875,
         9008
        ],
        [
         19.46197213201505,
         -98.67548124327827,
         9105.165743034057
        ],
        [
         20.1396885,
         -101.171567,
         9123.05
        ],
        [
         18.984890280112005,
         -98.93706305379641,
         9135.714285714284
        ],
        [
         19.415697950000002,
         -98.1818762,
         9145
        ],
        [
         19.496126447054426,
         -97.57273819382573,
         9147.382487852283
        ],
        [
         20.479120722776823,
         -99.21733331787567,
         9230
        ],
        [
         22.740961,
         -98.954676,
         9240
        ],
        [
         21.678542678011993,
         -100.72117825571286,
         9250
        ],
        [
         19.618114080555404,
         -98.95140228382489,
         9307.671232876712
        ],
        [
         20.153807752334387,
         -98.83845104814975,
         9309.11302173913
        ],
        [
         19.196291806249278,
         -97.02428928061065,
         9395
        ],
        [
         21.215602834850426,
         -99.4769734481323,
         9400
        ],
        [
         19.686029100000006,
         -99.05302749999998,
         9415
        ],
        [
         21.452790100296696,
         -104.89428338537647,
         9434.358709677419
        ],
        [
         19.4508014,
         -104.35954379999998,
         9500
        ],
        [
         16.862167899999996,
         -96.78995299999997,
         9500
        ],
        [
         19.334831580907178,
         -98.95538759979335,
         9575.174096385543
        ],
        [
         18.648626050236608,
         -98.72955643079753,
         9603.909864864865
        ],
        [
         19.300804074655968,
         -98.20474896902631,
         9628.602564102564
        ],
        [
         19.031235200441007,
         -98.07313610273626,
         9639.338974358974
        ],
        [
         19.980214667791884,
         -98.87926333217817,
         9733.333333333334
        ],
        [
         22.362042,
         -102.889602,
         9750
        ],
        [
         20.0083234,
         -103.5154963,
         9800
        ],
        [
         17.09637771118696,
         -96.75506879838915,
         9835.714285714284
        ],
        [
         20.036157373449804,
         -98.35820462536265,
         9890
        ],
        [
         20.1990693,
         -100.3670048,
         9966.666666666666
        ],
        [
         20.102978936072354,
         -102.67010490913162,
         9988
        ],
        [
         19.346872174411466,
         -98.19658164675522,
         10000
        ],
        [
         16.8013227,
         -95.11153410000004,
         10000
        ],
        [
         20.0641762,
         -102.48893859999998,
         10000
        ],
        [
         18.2202617,
         -97.85651280000002,
         10000
        ],
        [
         22.489070133333332,
         -102.60652983333331,
         10016.082857142857
        ],
        [
         25.049864783609138,
         -110.83792727440596,
         10075
        ],
        [
         15.843545813087433,
         -97.04566288699604,
         10080
        ],
        [
         16.73123808444366,
         -92.96893683099452,
         10201.428571428572
        ],
        [
         21.185860060072024,
         -97.74286832448271,
         10250
        ],
        [
         19.123402995188254,
         -98.28402210943847,
         10270.735294117647
        ],
        [
         18.42291005,
         -95.11200394999999,
         10322.5
        ],
        [
         22.65223541684036,
         -102.98663705572638,
         10398
        ],
        [
         22.98332685359526,
         -109.84376862685288,
         10422.243122529644
        ],
        [
         23.14265545,
         -104.8111344,
         10466.666666666666
        ],
        [
         25.432816100000004,
         -102.1806698,
         10500
        ],
        [
         18.9652818,
         -97.89649884999997,
         10560
        ],
        [
         19.751304338778393,
         -99.1761914925556,
         10601.836734693878
        ],
        [
         24.96267367252084,
         -97.20911844433881,
         10607.9875
        ],
        [
         20.333360797686485,
         -102.01931796484372,
         10611.143333333333
        ],
        [
         25.4379448997422,
         -103.60189419858777,
         10640.923529411764
        ],
        [
         21.8193822,
         -105.19461710000002,
         10700
        ],
        [
         18.89505039839073,
         -98.00476494069363,
         10702.862026768644
        ],
        [
         19.277120204076763,
         -98.91066348697282,
         10769.713801652892
        ],
        [
         23.9669238,
         -104.04476369999998,
         10800
        ],
        [
         21.175108030365244,
         -104.69178131511286,
         10826.723306451611
        ],
        [
         19.09853864403805,
         -98.32683291871567,
         10827.857142857143
        ],
        [
         20.179105697792977,
         -104.03869529836423,
         10900
        ],
        [
         19.011111,
         -98.40722219999998,
         10900
        ],
        [
         19.559455224479922,
         -99.75444760243124,
         10908
        ],
        [
         19.172067914650334,
         -99.53144222677862,
         10912.64705882353
        ],
        [
         19.455638836139514,
         -98.50589476679103,
         10961.645164427977
        ],
        [
         18.267655467459317,
         -93.2212769790882,
         10978.023255813952
        ],
        [
         19.135519005916027,
         -98.37898633869088,
         10985.214285714286
        ],
        [
         16.898613930633527,
         -96.77676811734621,
         11000
        ],
        [
         19.0133,
         -98.1961,
         11000
        ],
        [
         19.686446439471172,
         -98.39889427696836,
         11000
        ],
        [
         19.40105135894852,
         -98.05228559519273,
         11000
        ],
        [
         19.588917732107387,
         -102.47056257993164,
         11000
        ],
        [
         17.057996756525,
         -96.70025842447501,
         11022.727272727272
        ],
        [
         19.261790469456663,
         -97.7665017822021,
         11045.198346883468
        ],
        [
         25.182390982240438,
         -97.9601795969313,
         11078.17273056058
        ],
        [
         21.9247503,
         -99.98816345,
         11192.214285714286
        ],
        [
         21.085878076025026,
         -100.92972715540814,
         11230.555
        ],
        [
         18.73340678750772,
         -98.85401731837972,
         11300
        ],
        [
         19.23286178481002,
         -99.50947739642397,
         11319.23076923077
        ],
        [
         21.016,
         -101.862,
         11333.333333333332
        ],
        [
         21.950572857077095,
         -102.32459901335369,
         11376.49479400749
        ],
        [
         20.262921970842225,
         -98.41807158394066,
         11428.497843137255
        ],
        [
         19.207092523389544,
         -98.24253483393032,
         11482.380952380952
        ],
        [
         19.830445478902373,
         -97.35860625211272,
         11512.5
        ],
        [
         20.605511936725055,
         -103.35900687430595,
         11583.580988326848
        ],
        [
         17.02334512171676,
         -96.73793935969124,
         11597.2
        ],
        [
         21.170060876059647,
         -98.6111944904602,
         11675.64
        ],
        [
         19.571363910057933,
         -98.56033367159627,
         11694.97076923077
        ],
        [
         19.211660441352414,
         -99.58835558392752,
         11743.6
        ],
        [
         19.29375052317585,
         -99.03983281513842,
         11766.73181184669
        ],
        [
         23.065020350167547,
         -101.69579387604165,
         11816.666666666668
        ],
        [
         18.662926212937407,
         -99.1928944269938,
         11833.333333333332
        ],
        [
         20.633952887456005,
         -103.68646086179069,
         11930.948275862069
        ],
        [
         19.322384556857298,
         -98.27385727542803,
         11990.909090909092
        ],
        [
         19.8786995,
         -103.5986529,
         12000
        ],
        [
         19.374979,
         -97.615706,
         12000
        ],
        [
         19.93065851304084,
         -96.85200701534427,
         12000
        ],
        [
         16.144123727936,
         -96.44782662391701,
         12000
        ],
        [
         21.5159394,
         -98.3766266,
         12000
        ],
        [
         21.274498536262946,
         -101.1115550994873,
         12001.6075
        ],
        [
         18.4611083222244,
         -97.39413686903768,
         12065.714285714286
        ],
        [
         17.048025171730544,
         -96.62882965567474,
         12123
        ],
        [
         19.989782284355783,
         -98.85732023929498,
         12151.666666666668
        ],
        [
         18.83801363397617,
         -99.32429837898559,
         12200
        ],
        [
         23.82298751756843,
         -103.61693080435774,
         12217.00228515625
        ],
        [
         20.54291663227717,
         -102.79179076029664,
         12250
        ],
        [
         18.4424602,
         -95.2091986,
         12335
        ],
        [
         18.129227366667,
         -96.8382426,
         12345.55
        ],
        [
         17.148443708562315,
         -96.7817155820986,
         12370
        ],
        [
         18.88194946723173,
         -99.1368907739861,
         12418.181818181818
        ],
        [
         18.859962040157658,
         -98.9504366668265,
         12435.219588235293
        ],
        [
         21.9213889,
         -100.910556,
         12466.666666666668
        ],
        [
         19.20399828227122,
         -96.67380420648867,
         12474.347218045114
        ],
        [
         19.9017153871,
         -102.22148323110001,
         12500
        ],
        [
         19.741742640925047,
         -102.48141288757324,
         12500
        ],
        [
         20.24299411408397,
         -99.18801077252199,
         12500
        ],
        [
         17.2,
         -96.816667,
         12500
        ],
        [
         15.770904191682448,
         -96.1735154072249,
         12595.653571428571
        ],
        [
         20.956969613415602,
         -101.44110025682374,
         12606.67564102564
        ],
        [
         19.358946142396423,
         -96.35894490884684,
         12672.222222222223
        ],
        [
         18.93352890380482,
         -98.619052038284,
         12729.366471734893
        ],
        [
         17.85175,
         -93.16040000000001,
         12750
        ],
        [
         18.915207443396255,
         -96.9506568439792,
         12760.758246445497
        ],
        [
         22.1941573,
         -97.83444606666666,
         12763.636363636364
        ],
        [
         19.589837437490683,
         -99.46028412451376,
         12800
        ],
        [
         20.120129335089448,
         -98.84889844131811,
         12800.56
        ],
        [
         19.98336995867693,
         -102.25546254110819,
         12892.227153846154
        ],
        [
         17.087687928765476,
         -96.76550171646197,
         12914
        ],
        [
         20.160917405648163,
         -103.7248744548462,
         12953.333333333332
        ],
        [
         18.78741247583296,
         -99.22604465555695,
         12969.15494880546
        ],
        [
         18.840967000000006,
         -97.82265,
         13000
        ],
        [
         17.026948166666998,
         -95.959515866667,
         13131.11
        ],
        [
         17.029153916745067,
         -96.60305117580863,
         13185.714285714286
        ],
        [
         20.235388039107374,
         -99.21268257779947,
         13236
        ],
        [
         20.4526467583951,
         -103.24052918515929,
         13240
        ],
        [
         19.3314102709042,
         -98.23613691433738,
         13250
        ],
        [
         20.580518100000006,
         -100.3881848,
         13270
        ],
        [
         19.566531399656576,
         -97.24690590292663,
         13300
        ],
        [
         19.59099590987796,
         -96.94295881368103,
         13322.222222222223
        ],
        [
         20.645372611968323,
         -100.46204451582616,
         13333.333333333332
        ],
        [
         20.597522192365343,
         -100.80217831686335,
         13372.612465753426
        ],
        [
         18.91248289089482,
         -96.96434201487185,
         13405.567692307692
        ],
        [
         19.715749300000002,
         -99.33816735,
         13406.073333333332
        ],
        [
         16.427680643636364,
         -92.91319949000001,
         13423.777777777777
        ],
        [
         19.10867035913213,
         -95.45958329545317,
         13468.70709369025
        ],
        [
         17.0122866,
         -96.7133184,
         13490
        ],
        [
         17.14484640121075,
         -96.77026509292511,
         13498.74074074074
        ],
        [
         20.185127507740887,
         -100.12979317784514,
         13585.416666666668
        ],
        [
         17.05902458676386,
         -96.68290093333653,
         13587.5
        ],
        [
         23.820531284314967,
         -109.27810955174911,
         13618.18211
        ],
        [
         19.944207670389236,
         -102.31047686364641,
         13646.212121212122
        ],
        [
         20.050261257856828,
         -99.23816503606123,
         13709.5
        ],
        [
         20.0483644,
         -98.325092,
         13725
        ],
        [
         21.02060839251265,
         -101.7813838426407,
         13780
        ],
        [
         21.297032,
         -100.533363,
         13800
        ],
        [
         19.28340432734747,
         -98.44218772848853,
         13836.176470588236
        ],
        [
         20.38314664894185,
         -99.99505469351001,
         13836.282288659795
        ],
        [
         19.69868051544927,
         -103.46403449898857,
         13918.25
        ],
        [
         19.556915819140034,
         -98.98623570325313,
         13930.54945054945
        ],
        [
         25.046579752598632,
         -105.4249502293516,
         13966.4
        ],
        [
         15.922396263321001,
         -97.083379974824,
         13984.545454545454
        ],
        [
         16.4598538,
         -95.000425,
         14000
        ],
        [
         19.780591537662254,
         -98.56025786978016,
         14065
        ],
        [
         19.586403628939046,
         -98.67533697136821,
         14092.910261150235
        ],
        [
         18.138955965890993,
         -94.46240037428252,
         14139.947041198502
        ],
        [
         19.4681041,
         -98.55673819999998,
         14300
        ],
        [
         19.626011418972876,
         -99.27858763699955,
         14350
        ],
        [
         25.425499263755835,
         -103.15727067958622,
         14388.379692092372
        ],
        [
         19.769054224728947,
         -99.20818915978393,
         14461.818181818182
        ],
        [
         20.54078549332634,
         -99.65169706284178,
         14482.6
        ],
        [
         19.32695974192115,
         -99.23552938526277,
         14493.090197433366
        ],
        [
         20.6434408,
         -103.4736174,
         14575
        ],
        [
         19.52385375496412,
         -101.022873937355,
         14683.193333333333
        ],
        [
         24.685852847083364,
         -96.93283995090894,
         14684.902643431635
        ],
        [
         19.108011373745306,
         -102.37119745924684,
         14721.833333333332
        ],
        [
         19.30318732116684,
         -99.67601469962645,
         14723.045714285714
        ],
        [
         20.2184263,
         -100.88378950000003,
         14750
        ],
        [
         20.047907004229952,
         -98.52009607242485,
         14751.834552669554
        ],
        [
         19.42521778932355,
         -96.33553748676506,
         14785.857142857143
        ],
        [
         21.200638357403285,
         -100.991060946639,
         14814.76
        ],
        [
         20.056448275,
         -99.22633134999998,
         14840
        ],
        [
         20.534198582285516,
         -97.43739304614336,
         14988.88888888889
        ],
        [
         21.9374865,
         -100.0139424,
         15000
        ],
        [
         16.4330013,
         -95.01826570000004,
         15000
        ],
        [
         21.6739632,
         -103.3313354,
         15000
        ],
        [
         23.78581972950869,
         -97.75521241128445,
         15000
        ],
        [
         19.70544154110531,
         -101.19301090203709,
         15010.10788553259
        ],
        [
         20.910820649999998,
         -103.28571285000001,
         15037.5
        ],
        [
         20.007428817518026,
         -99.23960591821908,
         15101.586666666668
        ],
        [
         22.069949028117698,
         -97.03721667298184,
         15166.510851648352
        ],
        [
         22.354807892536773,
         -97.9814322125322,
         15166.82654676259
        ],
        [
         25.038611663927878,
         -97.54294811890935,
         15169.892073658928
        ],
        [
         20.69572826869889,
         -99.92685459043143,
         15227.225588235295
        ],
        [
         20.499558165778414,
         -103.16556771110305,
         15228.522077922078
        ],
        [
         20.483587565883898,
         -100.96351424726562,
         15368.75
        ],
        [
         19.448883638770944,
         -97.03718671675281,
         15448.857142857143
        ],
        [
         19.709021894693326,
         -98.83622690525817,
         15454.166666666668
        ],
        [
         21.81690479807701,
         -102.18548280881298,
         15459.193746556475
        ],
        [
         23.6479461,
         -100.63709890000001,
         15475
        ],
        [
         16.308246066666,
         -95.23917226666599,
         15500
        ],
        [
         20.5068186211853,
         -100.15145849562985,
         15605.914285714287
        ],
        [
         19.1779657,
         -99.470026,
         15625
        ],
        [
         21.5333333,
         -105.28333329999998,
         15700.625
        ],
        [
         20.57681701136719,
         -101.20531299908706,
         15715.76923076923
        ],
        [
         19.59085652552031,
         -99.51674285767243,
         15750
        ],
        [
         20.37184843431508,
         -103.82413117672121,
         15850
        ],
        [
         19.51840008612464,
         -101.60570421272217,
         15870.150666666666
        ],
        [
         20.99247449904703,
         -100.3952241609314,
         15914.335
        ],
        [
         18.865282382965848,
         -98.37661304269837,
         15972.42
        ],
        [
         21.08825642565087,
         -101.4191857833137,
         15980.044510948905
        ],
        [
         19.24897691775655,
         -103.72391080785424,
         15987.346752136753
        ],
        [
         20.815127609242776,
         -97.48290997353725,
         15996.40625
        ],
        [
         16.783859776117772,
         -96.66958026718142,
         16000
        ],
        [
         16.6071575,
         -98.97458010000004,
         16000
        ],
        [
         19.431161033333,
         -99.13329133333299,
         16000
        ],
        [
         19.28416690358514,
         -99.52545104702214,
         16014.22213973799
        ],
        [
         25.424733,
         -101.47299499999995,
         16100
        ],
        [
         17.0599032006365,
         -96.6872084254494,
         16123.08888888889
        ],
        [
         23.475885812631947,
         -100.51190480393717,
         16196.204285714286
        ],
        [
         24.025142,
         -106.98623700000002,
         16500
        ],
        [
         21.865,
         -102.697,
         16530
        ],
        [
         20.7860500439197,
         -99.29920993217041,
         16631.669333333335
        ],
        [
         19.633130218525988,
         -98.91758295756968,
         16673.18181818182
        ],
        [
         19.2015591300632,
         -99.03513988630658,
         16679.629629629628
        ],
        [
         23.0695503684717,
         -105.53627869044769,
         16696.749598393577
        ],
        [
         19.0276661,
         -98.96160100000004,
         16700
        ],
        [
         19.709048205713668,
         -99.791293911382,
         16750
        ],
        [
         18.90349992228643,
         -98.25503446021943,
         16760.097406807134
        ],
        [
         21.33611234394268,
         -104.58476105781095,
         16800
        ],
        [
         24.798238743878724,
         -107.40206917404029,
         16891.789221835075
        ],
        [
         24.846739764209907,
         -107.83726371638161,
         16962.64083333333
        ],
        [
         19.330327782453505,
         -98.86049652865037,
         16993.65965405755
        ],
        [
         19.8811563984957,
         -103.59825408156838,
         17066.666666666668
        ],
        [
         23.740756268484517,
         -103.9874769489553,
         17083.333333333332
        ],
        [
         20.56781492813186,
         -99.53732691982758,
         17160.50261376896
        ],
        [
         19.72658032684902,
         -98.75778923535154,
         17250
        ],
        [
         19.0014833,
         -98.33978186666668,
         17308.333333333332
        ],
        [
         20.571362893825945,
         -100.14358501988248,
         17324.843553022794
        ],
        [
         19.159440136727685,
         -99.78925031223949,
         17334.222222222223
        ],
        [
         20.34559724861076,
         -102.76904490714836,
         17447.188148148147
        ],
        [
         18.900240849939994,
         -103.8881408280061,
         17447.990714285712
        ],
        [
         20.524367202861576,
         -104.78831412963014,
         17550
        ],
        [
         15.688110907882589,
         -96.49022603044853,
         17577.03125
        ],
        [
         17.999317852283678,
         -93.32034356315013,
         17716.697368421053
        ],
        [
         20.1615192,
         -102.1945346,
         17739.7
        ],
        [
         18.979979226159244,
         -97.91550289334872,
         17820.157430974978
        ],
        [
         19.000850499676876,
         -99.24281737587242,
         17859.479166666668
        ],
        [
         20.63277649370374,
         -101.37827447226604,
         17860.94570155902
        ],
        [
         22.044587901808715,
         -96.7530748809542,
         17934.896050656662
        ],
        [
         20.379417646732648,
         -97.8790988462158,
         18000
        ],
        [
         19.627551,
         -101.577358,
         18000
        ],
        [
         21.2709158,
         -97.44592490000002,
         18000
        ],
        [
         17.98716001854641,
         -94.54412059783868,
         18052.998333333333
        ],
        [
         18.642627201390145,
         -99.39585023999008,
         18059.365384615387
        ],
        [
         19.43146415,
         -100.357607791665,
         18162.5
        ],
        [
         20.38276887903942,
         -102.95075204606934,
         18298
        ],
        [
         18.628146313824075,
         -99.30253460055505,
         18300
        ],
        [
         25.439154233920622,
         -100.83264837106564,
         18366.742777777778
        ],
        [
         16.947296182100562,
         -100.09284298552858,
         18400
        ],
        [
         20.5594127708566,
         -103.34877413060117,
         18436.992224953905
        ],
        [
         20.253760470357477,
         -98.92136806747234,
         18467.541666666668
        ],
        [
         19.76441135717263,
         -99.81206243534562,
         18469
        ],
        [
         20.658004874496047,
         -104.06375380729281,
         18484.113701923077
        ],
        [
         20.687688719069886,
         -104.39973361699538,
         18562.735190311418
        ],
        [
         18.046189913165605,
         -92.96669704912858,
         18689.363636363636
        ],
        [
         22.588904343790706,
         -101.38539694088922,
         18709.21052631579
        ],
        [
         18.174196312722128,
         -93.06432959264222,
         18720
        ],
        [
         24.3562969,
         -104.72646029999999,
         18808.318
        ],
        [
         22.153276503472703,
         -100.86858697458496,
         18814.285714285714
        ],
        [
         19.09970140854838,
         -98.8212940594606,
         18887.416666666668
        ],
        [
         19.5623227,
         -98.85770855000001,
         18900
        ],
        [
         17.804294410044662,
         -97.78115583599856,
         19000
        ],
        [
         18.8921892,
         -97.1475904,
         19000
        ],
        [
         20.710360516543588,
         -97.53422295767211,
         19000
        ],
        [
         16.77777593142883,
         -93.16352180664094,
         19005.10935706085
        ],
        [
         18.483764319486315,
         -97.18924247292756,
         19029.094214876033
        ],
        [
         19.437739794264065,
         -99.03627150273232,
         19062.239402843603
        ],
        [
         16.7275907992492,
         -93.71865753503874,
         19147.5
        ],
        [
         17.548296558413526,
         -99.49925879484876,
         19199.772444444447
        ],
        [
         19.195417766179965,
         -99.46462487899169,
         19271.48
        ],
        [
         18.926056725664402,
         -98.96724912183409,
         19275.894324324323
        ],
        [
         18.07541440573823,
         -93.20306862476808,
         19375
        ],
        [
         19.429206086361,
         -98.88504590154186,
         19446.816726149624
        ],
        [
         21.1943704,
         -99.00598609999996,
         19500
        ],
        [
         19.943213533333335,
         -101.30135556666666,
         19548.696
        ],
        [
         19.338776133333337,
         -98.5770653,
         19600
        ],
        [
         18.40814182264262,
         -93.34627048917083,
         19642.82894736842
        ],
        [
         19.426607975156916,
         -98.91109879151594,
         19664.974634888436
        ],
        [
         19.83161215164713,
         -99.4112234764923,
         19672.1488700565
        ],
        [
         19.103265442394353,
         -104.33599102326993,
         19694.28589576547
        ],
        [
         17.22518697675974,
         -96.87779109368458,
         19711.85858778626
        ],
        [
         19.56098330324899,
         -96.97337751784563,
         19728.92469879518
        ],
        [
         17.082897512219997,
         -96.69808337926,
         19752
        ],
        [
         16.1990964208632,
         -95.1959175853624,
         19811.11111111111
        ],
        [
         19.1997241,
         -96.1397203,
         19842.48
        ],
        [
         18.079556378709334,
         -96.12977445041659,
         19854.79875
        ],
        [
         22.04829755419654,
         -100.79991332860342,
         19865.953765299684
        ],
        [
         20.6668191,
         -99.0128926,
         19920
        ],
        [
         18.738341887983378,
         -99.12797552681718,
         19923.529411764706
        ],
        [
         18.966053688505056,
         -97.65085390855172,
         19947.63540330418
        ],
        [
         19.815528966248444,
         -98.9127496556132,
         19947.894736842107
        ],
        [
         21.6248972,
         -99.0197376,
         20000
        ],
        [
         19.85607433700628,
         -97.45666444301605,
         20000
        ],
        [
         17.6037464,
         -99.17912619999998,
         20000
        ],
        [
         16.716978469622724,
         -93.30667906748046,
         20100
        ],
        [
         20.290976433469492,
         -102.54601698651125,
         20140
        ],
        [
         20.542823542741992,
         -99.88877276700813,
         20221.108225
        ],
        [
         20.883101898310205,
         -103.8392552332931,
         20444.666666666668
        ],
        [
         17.560795908870944,
         -101.32202207387999,
         20500
        ],
        [
         19.56399625,
         -98.91785185,
         20668.75
        ],
        [
         19.193045256850013,
         -95.0094336282165,
         20684.315757575758
        ],
        [
         25.086794283945736,
         -98.40755606584987,
         20699.27279699248
        ],
        [
         19.01621413965397,
         -98.33537923584926,
         20716.153846153844
        ],
        [
         18.90429748342163,
         -98.42878215584761,
         20840.897075471697
        ],
        [
         20.667357748928477,
         -100.079167660921,
         20966.666666666668
        ],
        [
         21.19250254965629,
         -101.79137456975708,
         21000
        ],
        [
         19.3846086,
         -96.9719184,
         21000
        ],
        [
         19.51954850078697,
         -96.8635368347168,
         21000
        ],
        [
         25.22991787191025,
         -99.89856120389415,
         21034.047446808512
        ],
        [
         20.98811043465277,
         -101.2821454765105,
         21226.323069306927
        ],
        [
         18.889214533461015,
         -99.17886401064679,
         21252.689215328464
        ],
        [
         18.707683236339165,
         -93.38408269779052,
         21333.333333333336
        ],
        [
         19.01690951725601,
         -93.94415986660914,
         21393.98171385991
        ],
        [
         19.393935128813325,
         -98.5560264159888,
         21578.866611433303
        ],
        [
         15.79525614528806,
         -95.15577672988152,
         21640.444444444445
        ],
        [
         19.519418663239268,
         -98.9297776587755,
         21734.26789473684
        ],
        [
         20.6267104,
         -101.6717014,
         21900
        ],
        [
         20.739298100000006,
         -99.3817254,
         22090
        ],
        [
         20.2519813,
         -99.6459149,
         22270
        ],
        [
         22.1149,
         -97.8035,
         22349.625
        ],
        [
         20.270589655555664,
         -101.19575316666668,
         22367.8
        ],
        [
         20.37422434633201,
         -101.06306612491608,
         22500
        ],
        [
         17.609128234196966,
         -101.33412713851497,
         22712.963680555556
        ],
        [
         20.6042222658012,
         -100.13475061109884,
         22717.904085876955
        ],
        [
         20.74097283643303,
         -103.63669193741858,
         22774.74564102564
        ],
        [
         20.76651226481975,
         -104.08429806165466,
         22900
        ],
        [
         22.5402478,
         -105.7380511,
         23000
        ],
        [
         19.4960037,
         -101.33212459999999,
         23000
        ],
        [
         19.731976935959878,
         -99.45655520872599,
         23132.88404255319
        ],
        [
         19.206524847933725,
         -97.8699560727285,
         23429.434095860564
        ],
        [
         20.460010704126013,
         -100.6296801108101,
         23456
        ],
        [
         18.31493790116055,
         -92.88594320526931,
         23460.750529100525
        ],
        [
         18.70209745603315,
         -98.45509978591186,
         23852.970583717357
        ],
        [
         19.81487173713931,
         -97.38829791216429,
         24000
        ],
        [
         19.531766434827066,
         -98.54959855776578,
         24015.142661649945
        ],
        [
         15.6851709,
         -93.2122536,
         24379.95
        ],
        [
         19.553792765542273,
         -99.2679333405962,
         25000
        ],
        [
         19.314471,
         -99.22774679999998,
         25000
        ],
        [
         17.4369187,
         -96.6015104,
         25000
        ],
        [
         19.276161542466802,
         -92.82520975155433,
         25077.889419978517
        ],
        [
         21.248472706403202,
         -104.96985684229398,
         25140.909090909092
        ],
        [
         20.1669444,
         -98.7558333,
         25150
        ],
        [
         20.444534933333333,
         -97.3188169,
         25271.428571428572
        ],
        [
         20.183916,
         -96.8759814,
         25278.75
        ],
        [
         19.210700256644113,
         -104.68810159953004,
         25325
        ],
        [
         21.0348399,
         -104.386872,
         25645.6825
        ],
        [
         19.97512668275013,
         -99.29404474900713,
         25716.613333333335
        ],
        [
         18.92083141353096,
         -104.02430955878094,
         25833.333333333336
        ],
        [
         16.58450236162387,
         -98.07431922766443,
         25858.131642216787
        ],
        [
         19.47854508459871,
         -99.11163725940783,
         25931.988182107612
        ],
        [
         19.81417198579878,
         -99.2881390110547,
         26145.862068965518
        ],
        [
         21.751443936623666,
         -101.18227678363037,
         26310.166666666664
        ],
        [
         19.042831502994332,
         -96.23029732642237,
         26412.5
        ],
        [
         20.6734925476456,
         -103.27872541196524,
         26544.189228657015
        ],
        [
         17.96732447215338,
         -92.99484867753529,
         26700.354348958335
        ],
        [
         16.975913125642265,
         -96.63904428894958,
         26742.22222222222
        ],
        [
         19.581787733333332,
         -98.81827873333334,
         26765.130434782608
        ],
        [
         21.110676861750356,
         -100.24699657317555,
         26784.357575757578
        ],
        [
         18.847401364765982,
         -98.66294372599657,
         26813.82616423841
        ],
        [
         23.6345012,
         -103.6401136,
         27000
        ],
        [
         19.26336235895336,
         -98.88531891393067,
         27282.153573529413
        ],
        [
         20.72330156118324,
         -102.89698744248047,
         27487.5
        ],
        [
         20.68785278740257,
         -103.40082591667729,
         27496.75369208494
        ],
        [
         19.504048045454542,
         -99.26673299090909,
         27610.58
        ],
        [
         19.92852617036696,
         -103.02954845502757,
         27735.333333333336
        ],
        [
         19.87343561224278,
         -98.76968914616394,
         27779.32
        ],
        [
         19.265974399999003,
         -98.51217893333299,
         28000
        ],
        [
         19.334593884182752,
         -99.2863613374711,
         28086.480070140282
        ],
        [
         16.785990031120537,
         -93.27045346374678,
         28120.859375
        ],
        [
         19.009508742836857,
         -98.81779899199216,
         28170
        ],
        [
         18.88999000045791,
         -99.61570599237277,
         28624
        ],
        [
         17.080456100000006,
         -96.7222898,
         28825
        ],
        [
         23.81978,
         -106.884871,
         29000
        ],
        [
         19.072249890905248,
         -97.04699527464695,
         29000
        ],
        [
         19.040344961527566,
         -98.79924097868195,
         29538
        ],
        [
         21.2553417041,
         -98.7890625,
         29666.666666666664
        ],
        [
         18.76530023333333,
         -98.91833723333333,
         29716.666666666664
        ],
        [
         20.55640005,
         -102.50877990000001,
         29812.6
        ],
        [
         18.852758897058475,
         -97.09323486360931,
         29830.389166666664
        ],
        [
         20.438751843231387,
         -100.17665447649728,
         29971.393882352942
        ],
        [
         24.74593454037915,
         -96.79091808851048,
         30699.361736251078
        ],
        [
         18.918750003164458,
         -97.13386630647078,
         30765.134948096886
        ],
        [
         18.963896591416784,
         -98.28918517826332,
         30850.28685714286
        ],
        [
         19.05722742451432,
         -98.16527889408927,
         30893.60875
        ],
        [
         20.20947775979781,
         -98.58424028991124,
         30899.673333333336
        ],
        [
         19.31382163097145,
         -103.74354919115417,
         30978
        ],
        [
         19.286747405161567,
         -99.45250667518086,
         30990.63054054054
        ],
        [
         24.12752445090013,
         -110.3077232837677,
         31000
        ],
        [
         19.876850337316753,
         -99.74018142377625,
         31000
        ],
        [
         22.229159704719066,
         -102.315151668935,
         31250
        ],
        [
         19.424629794213747,
         -96.99811913073063,
         31300
        ],
        [
         19.512430708319258,
         -99.33928820835725,
         31307.5
        ],
        [
         24.1828656483246,
         -96.0852807891234,
         31621.69295045045
        ],
        [
         19.171938248365805,
         -99.37260602296973,
         31700
        ],
        [
         19.21672325,
         -98.87839784999997,
         31875
        ],
        [
         19.29962062536001,
         -99.1670730156766,
         32082.595454545455
        ],
        [
         19.025044584103412,
         -98.1784386391387,
         32409.52305913272
        ],
        [
         19.52203221770729,
         -98.79631747872666,
         32427.911976482792
        ],
        [
         19.116366816298108,
         -98.76810548883446,
         32788.63636363636
        ],
        [
         18.561721036758087,
         -99.60538330969635,
         32944.444444444445
        ],
        [
         20.1670329631,
         -102.396116495,
         33000
        ],
        [
         19.319891,
         -97.395172,
         33750
        ],
        [
         19.1722692,
         -96.1384658,
         33750
        ],
        [
         19.354473931752796,
         -98.88852174585078,
         33846.59494007626
        ],
        [
         19.50272204158171,
         -99.02360406380001,
         33891.653982461445
        ],
        [
         18.385,
         -100.674,
         34000
        ],
        [
         16.63337466880352,
         -93.12111821047311,
         34000
        ],
        [
         19.325171413150066,
         -98.85009465955557,
         34070.09152276592
        ],
        [
         19.150955933333332,
         -98.2942229333333,
         34616.666666666664
        ],
        [
         20.170933112771362,
         -98.01969786071778,
         34833.333333333336
        ],
        [
         20.545013996377836,
         -103.18054907594804,
         34877.27272727273
        ],
        [
         20.2249081951124,
         -103.56853184852679,
         35131
        ],
        [
         19.29737425157671,
         -98.99920126944788,
         35698.660183534346
        ],
        [
         20.69868295,
         -103.97934955,
         36175
        ],
        [
         16.9267492,
         -96.3630925,
         36250
        ],
        [
         20.73047235007123,
         -103.81859379180086,
         36500
        ],
        [
         20.67428624185185,
         -100.05839626872255,
         37327.77777777778
        ],
        [
         19.05012385473506,
         -99.61329605286319,
         37562.7
        ],
        [
         20.5289497,
         -102.33122049999996,
         38000
        ],
        [
         20.035005677330574,
         -100.71862288147582,
         38400
        ],
        [
         20.610738594591375,
         -103.07718482473574,
         38833.333333333336
        ],
        [
         20.7326039,
         -97.26191419999998,
         39000
        ],
        [
         20.286472,
         -98.66762210000002,
         39500
        ],
        [
         19.554606999999997,
         -98.89669395000001,
         39666.666666666664
        ],
        [
         19.554710605936112,
         -99.60804056032715,
         39725
        ],
        [
         18.975349399277846,
         -99.0923479661394,
         40023.45625
        ],
        [
         19.46858456413302,
         -98.98418194175272,
         40616.42078425389
        ],
        [
         19.248105612264713,
         -100.27136297151662,
         41000
        ],
        [
         19.05684858447998,
         -99.58259714871288,
         41394.444444444445
        ],
        [
         19.818290046943964,
         -99.33921318548585,
         41500
        ],
        [
         19.739789340266082,
         -99.86387708256837,
         42150
        ],
        [
         19.32061484642966,
         -98.3205193506235,
         44697.25506105835
        ],
        [
         19.427431743780502,
         -98.84799306047238,
         44965.25644866264
        ],
        [
         20.1770246529,
         -101.99709445239999,
         45000
        ],
        [
         20.0153066,
         -97.5199554,
         45500
        ],
        [
         18.945389118675,
         -99.49488290965002,
         45638.46153846154
        ],
        [
         18.912173000000006,
         -99.927843,
         46000
        ],
        [
         19.323549783083525,
         -98.76459018087903,
         46058.68667716536
        ],
        [
         18.5480398,
         -97.4435441,
         46900
        ],
        [
         19.325579506137164,
         -98.7172679064418,
         47222.05175496689
        ],
        [
         17.83386377707581,
         -93.39587864480285,
         50869.6625
        ],
        [
         19.681234889730824,
         -98.77971431215431,
         52585.71428571428
        ],
        [
         19.83095066340737,
         -97.4560001238037,
         53707.07
        ],
        [
         19.396133303610156,
         -98.71569008674712,
         54753.729127317245
        ],
        [
         19.60156309960202,
         -96.98941962230832,
         55000
        ],
        [
         19.413495966695546,
         -99.97946977615356,
         55300
        ],
        [
         20.548576874290173,
         -104.04258189957886,
         57450
        ],
        [
         19.96740655,
         -101.1415178,
         65856.415
        ],
        [
         25.100105303040074,
         -98.74207155980938,
         68146.72956462586
        ],
        [
         20.1275622,
         -102.5434275,
         80000
        ],
        [
         20.283533266892874,
         -104.2000651359558,
         86352
        ],
        [
         20.4216103,
         -103.5928664,
         106514
        ],
        [
         19.926901722148536,
         -102.82238988144528,
         125000
        ]
       ],
       "max_zoom": 18,
       "min_opacity": 0.05,
       "options": [
        "blur",
        "gradient",
        "max",
        "max_zoom",
        "min_opacity",
        "radius"
       ],
       "radius": 10
      }
     },
     "ada265a9107945d788ed92296c3a07cb": {
      "model_module": "jupyter-leaflet",
      "model_module_version": "^0.13.2",
      "model_name": "LeafletMapStyleModel",
      "state": {
       "_model_module_version": "^0.13.2"
      }
     },
     "ba06204b993b4f00ae051ec2dc05d2c3": {
      "model_module": "jupyter-leaflet",
      "model_module_version": "^0.13.2",
      "model_name": "LeafletZoomControlModel",
      "state": {
       "_model_module_version": "^0.13.2",
       "_view_module_version": "^0.13.2",
       "options": [
        "position",
        "zoom_in_text",
        "zoom_in_title",
        "zoom_out_text",
        "zoom_out_title"
       ]
      }
     },
     "ec334279c9074c3395a06ad5b6028e85": {
      "model_module": "jupyter-leaflet",
      "model_module_version": "^0.13.2",
      "model_name": "LeafletHeatmapModel",
      "state": {
       "_model_module_version": "^0.13.2",
       "_view_module_version": "^0.13.2",
       "blur": 20,
       "gradient": {
        "0.4": "blue",
        "0.6": "cyan",
        "0.7": "lime",
        "0.8": "yellow",
        "1.0": "red"
       },
       "locations": [
        [
         19.3582638,
         -98.1204305,
         3100
        ],
        [
         19.2622855,
         -98.2076282,
         3132
        ],
        [
         19.0240021,
         -98.226212933333,
         3150
        ],
        [
         19.510263761824998,
         -98.13850715081301,
         3200
        ],
        [
         19.2249474,
         -97.80365340000004,
         3200
        ],
        [
         20.044323,
         -98.1618209,
         3200
        ],
        [
         19.335192488282484,
         -100.15765476432324,
         3200
        ],
        [
         19.6518147002,
         -102.04753017440001,
         3400
        ],
        [
         19.2113734,
         -103.8121195,
         3500
        ],
        [
         19.0489053659114,
         -98.10271859832152,
         3500
        ],
        [
         18.7357215,
         -99.3676309,
         3500
        ],
        [
         17.5861111,
         -99.3836111,
         3740
        ],
        [
         18.9125659,
         -97.1307689,
         3768.745
        ],
        [
         17.9490037,
         -94.91303219999998,
         3947.44
        ],
        [
         19.2636,
         -98.3741,
         3980
        ],
        [
         15.457892825279655,
         -92.88999030249865,
         4250
        ],
        [
         22.050757404432108,
         -102.26796166469727,
         4340
        ],
        [
         19.639704829675907,
         -99.010749065216,
         4350
        ],
        [
         16.9078777,
         -96.72045149999997,
         4362.5
        ],
        [
         17.216416012743906,
         -96.805354851297,
         4380
        ],
        [
         19.7467384,
         -101.04422690000001,
         4500
        ],
        [
         19.76114106557786,
         -97.24528988944091,
         4500
        ],
        [
         19.8800084,
         -98.8195753,
         4500
        ],
        [
         21.34604155,
         -97.69031339,
         4500
        ],
        [
         20.633306,
         -103.2620107,
         4600
        ],
        [
         20.5130165,
         -100.9952225,
         4620
        ],
        [
         19.941645868566,
         -99.40200732612976,
         4631.226770334928
        ],
        [
         19.403919277357378,
         -99.57174013224025,
         4716.666666666667
        ],
        [
         19.328578012435035,
         -98.15872192382812,
         4743.333333333333
        ],
        [
         19.42850386394014,
         -99.58698380093364,
         4768.20895522388
        ],
        [
         19.9821413649436,
         -102.69427299499512,
         4950
        ],
        [
         19.581174726909584,
         -98.39158800760264,
         5032.923043478261
        ],
        [
         16.84366174985815,
         -93.19504737854004,
         5100
        ],
        [
         19.388959152676712,
         -98.10615466308106,
         5101.681
        ],
        [
         24.402065285668026,
         -104.3191123008728,
         5225
        ],
        [
         16.968525652695867,
         -96.75231373488772,
         5305
        ],
        [
         19.176001277655722,
         -99.56558802714633,
         5471.639344262296
        ],
        [
         20.04025061776348,
         -98.63895072710213,
         5544.142857142857
        ],
        [
         22.945762491536765,
         -105.91835421180724,
         5643.75
        ],
        [
         16.949596125686025,
         -96.7516626409668,
         5670
        ],
        [
         19.4232618282525,
         -99.42349029055133,
         5954.333333333334
        ],
        [
         19.413565852070903,
         -98.1701621775445,
         6172.962962962963
        ],
        [
         19.761970393497513,
         -101.18706666253382,
         6263.215431034482
        ],
        [
         24.16632285073479,
         -99.1918163411404,
         6308.229166666666
        ],
        [
         19.280687139233162,
         -99.70274585147705,
         6325
        ],
        [
         19.247464289148965,
         -98.23458127368012,
         6350
        ],
        [
         19.32351454760558,
         -92.7850085114175,
         6370.3525
        ],
        [
         19.84977198506747,
         -99.10532370602132,
         6371.772596153846
        ],
        [
         19.850948279679343,
         -98.96512681421547,
         6432.445746606335
        ],
        [
         16.5610599,
         -95.0973882,
         6500
        ],
        [
         21.522412802643743,
         -102.24661116697997,
         6550
        ],
        [
         19.35059846288332,
         -98.16837405764359,
         6556.666666666666
        ],
        [
         19.612905959325726,
         -98.11617834211019,
         6712.5
        ],
        [
         22.171227212281632,
         -100.93402229528627,
         6723.819357142857
        ],
        [
         20.4832022,
         -97.4662104,
         6750
        ],
        [
         19.33244671484403,
         -99.68906904480501,
         6775.892857142857
        ],
        [
         17.996645025,
         -94.62988410000001,
         6856.923076923077
        ],
        [
         19.680971312563507,
         -99.07322185147494,
         6868.333333333334
        ],
        [
         18.991959493522913,
         -97.44774275831756,
         6900
        ],
        [
         25.02863184062911,
         -100.07362087036131,
         7000
        ],
        [
         19.1664092,
         -99.4812599,
         7000
        ],
        [
         16.986702718171205,
         -96.76412954846802,
         7150
        ],
        [
         20.204535578451537,
         -96.76840508885496,
         7150
        ],
        [
         19.58889106837203,
         -98.75713516982256,
         7265.0684
        ],
        [
         22.3647774,
         -102.3001137,
         7286.24
        ],
        [
         19.04264694068052,
         -96.42047882080078,
         7300
        ],
        [
         19.6538071809,
         -101.9146771434,
         7377.43
        ],
        [
         16.9543736,
         -96.4743228,
         7400
        ],
        [
         19.623476250000003,
         -103.41487439999997,
         7435.333333333334
        ],
        [
         17.5098236,
         -93.12065769999998,
         7450
        ],
        [
         18.9339057,
         -97.6884573,
         7500
        ],
        [
         19.2863648966861,
         -98.19725337207947,
         7550
        ],
        [
         19.41517877517051,
         -98.1674688293469,
         7614.772727272727
        ],
        [
         21.7912024071571,
         -100.51474867349039,
         7617.94
        ],
        [
         20.428852,
         -101.72566955,
         7653.333333333334
        ],
        [
         22.951112,
         -102.707347,
         7665.833333333334
        ],
        [
         20.771127456628747,
         -98.16952408368599,
         7685.5
        ],
        [
         25.138378135852125,
         -111.46615880968017,
         7697.933333333333
        ],
        [
         22.110775133333334,
         -98.09529903333333,
         7702.954545454546
        ],
        [
         19.723296845836078,
         -99.07017533420623,
         7825.5
        ],
        [
         18.876482153189862,
         -98.86563184173377,
         7865.079166666666
        ],
        [
         19.762432882620846,
         -99.14219611137034,
         7942.713225806452
        ],
        [
         19.517580921167987,
         -98.3225646156638,
         8015.377218628719
        ],
        [
         18.497963651102673,
         -100.40250214373687,
         8040.6475
        ],
        [
         19.197884425767217,
         -98.22748203017723,
         8084.4
        ],
        [
         17.182994768248495,
         -96.78816122656417,
         8234.615384615385
        ],
        [
         19.051863354777986,
         -102.61573972772491,
         8280.581333333334
        ],
        [
         20.1888974,
         -99.2731301,
         8316.666666666666
        ],
        [
         19.33833844521987,
         -98.91507867164668,
         8328.663704414588
        ],
        [
         23.883828262490262,
         -104.26189239645217,
         8415.714285714284
        ],
        [
         17.0787711,
         -96.6704944,
         8437.5
        ],
        [
         19.8055547,
         -100.1734224,
         8500
        ],
        [
         18.36782164417378,
         -95.80177255538332,
         8500
        ],
        [
         22.246455033333334,
         -100.72829676666667,
         8500
        ],
        [
         21.4589849,
         -98.97692440000004,
         8500
        ],
        [
         17.0073658,
         -96.5839558,
         8500
        ],
        [
         20.1821298511828,
         -98.830045935987,
         8524.642857142857
        ],
        [
         19.143996988994,
         -98.859316429916,
         8566.666666666666
        ],
        [
         17.893786650000003,
         -99.53857644999998,
         8664.666666666666
        ],
        [
         18.391858495236317,
         -92.72009616784848,
         8670.828000000001
        ],
        [
         19.40952757647904,
         -98.91030100104221,
         8752.172333333332
        ],
        [
         21.981790750000002,
         -98.98797314999999,
         8762.5
        ],
        [
         19.362757978097953,
         -98.08931834289477,
         8787.359946902656
        ],
        [
         19.319551976070713,
         -97.91665273154494,
         8816.011764705881
        ],
        [
         22.3656529,
         -102.2997344,
         8866.666666666666
        ],
        [
         20.637831670203393,
         -103.23162674388769,
         8870.11472887768
        ],
        [
         19.0036848,
         -98.2277192,
         9000
        ],
        [
         17.722252899999994,
         -92.814778,
         9000
        ],
        [
         23.818007100000006,
         -100.73068969999996,
         9000
        ],
        [
         19.5534011,
         -98.8737875,
         9008
        ],
        [
         19.46197213201505,
         -98.67548124327827,
         9105.165743034057
        ],
        [
         20.1396885,
         -101.171567,
         9123.05
        ],
        [
         18.984890280112005,
         -98.93706305379641,
         9135.714285714284
        ],
        [
         19.415697950000002,
         -98.1818762,
         9145
        ],
        [
         19.496126447054426,
         -97.57273819382573,
         9147.382487852283
        ],
        [
         20.479120722776823,
         -99.21733331787567,
         9230
        ],
        [
         22.740961,
         -98.954676,
         9240
        ],
        [
         21.678542678011993,
         -100.72117825571286,
         9250
        ],
        [
         19.618114080555404,
         -98.95140228382489,
         9307.671232876712
        ],
        [
         20.153807752334387,
         -98.83845104814975,
         9309.11302173913
        ],
        [
         19.196291806249278,
         -97.02428928061065,
         9395
        ],
        [
         21.215602834850426,
         -99.4769734481323,
         9400
        ],
        [
         19.686029100000006,
         -99.05302749999998,
         9415
        ],
        [
         21.452790100296696,
         -104.89428338537647,
         9434.358709677419
        ],
        [
         19.4508014,
         -104.35954379999998,
         9500
        ],
        [
         16.862167899999996,
         -96.78995299999997,
         9500
        ],
        [
         19.334831580907178,
         -98.95538759979335,
         9575.174096385543
        ],
        [
         18.648626050236608,
         -98.72955643079753,
         9603.909864864865
        ],
        [
         19.300804074655968,
         -98.20474896902631,
         9628.602564102564
        ],
        [
         19.031235200441007,
         -98.07313610273626,
         9639.338974358974
        ],
        [
         19.980214667791884,
         -98.87926333217817,
         9733.333333333334
        ],
        [
         22.362042,
         -102.889602,
         9750
        ],
        [
         20.0083234,
         -103.5154963,
         9800
        ],
        [
         17.09637771118696,
         -96.75506879838915,
         9835.714285714284
        ],
        [
         20.036157373449804,
         -98.35820462536265,
         9890
        ],
        [
         20.1990693,
         -100.3670048,
         9966.666666666666
        ],
        [
         20.102978936072354,
         -102.67010490913162,
         9988
        ],
        [
         19.346872174411466,
         -98.19658164675522,
         10000
        ],
        [
         16.8013227,
         -95.11153410000004,
         10000
        ],
        [
         20.0641762,
         -102.48893859999998,
         10000
        ],
        [
         18.2202617,
         -97.85651280000002,
         10000
        ],
        [
         22.489070133333332,
         -102.60652983333331,
         10016.082857142857
        ],
        [
         25.049864783609138,
         -110.83792727440596,
         10075
        ],
        [
         15.843545813087433,
         -97.04566288699604,
         10080
        ],
        [
         16.73123808444366,
         -92.96893683099452,
         10201.428571428572
        ],
        [
         21.185860060072024,
         -97.74286832448271,
         10250
        ],
        [
         19.123402995188254,
         -98.28402210943847,
         10270.735294117647
        ],
        [
         18.42291005,
         -95.11200394999999,
         10322.5
        ],
        [
         22.65223541684036,
         -102.98663705572638,
         10398
        ],
        [
         22.98332685359526,
         -109.84376862685288,
         10422.243122529644
        ],
        [
         23.14265545,
         -104.8111344,
         10466.666666666666
        ],
        [
         25.432816100000004,
         -102.1806698,
         10500
        ],
        [
         18.9652818,
         -97.89649884999997,
         10560
        ],
        [
         19.751304338778393,
         -99.1761914925556,
         10601.836734693878
        ],
        [
         24.96267367252084,
         -97.20911844433881,
         10607.9875
        ],
        [
         20.333360797686485,
         -102.01931796484372,
         10611.143333333333
        ],
        [
         25.4379448997422,
         -103.60189419858777,
         10640.923529411764
        ],
        [
         21.8193822,
         -105.19461710000002,
         10700
        ],
        [
         18.89505039839073,
         -98.00476494069363,
         10702.862026768644
        ],
        [
         19.277120204076763,
         -98.91066348697282,
         10769.713801652892
        ],
        [
         23.9669238,
         -104.04476369999998,
         10800
        ],
        [
         21.175108030365244,
         -104.69178131511286,
         10826.723306451611
        ],
        [
         19.09853864403805,
         -98.32683291871567,
         10827.857142857143
        ],
        [
         20.179105697792977,
         -104.03869529836423,
         10900
        ],
        [
         19.011111,
         -98.40722219999998,
         10900
        ],
        [
         19.559455224479922,
         -99.75444760243124,
         10908
        ],
        [
         19.172067914650334,
         -99.53144222677862,
         10912.64705882353
        ],
        [
         19.455638836139514,
         -98.50589476679103,
         10961.645164427977
        ],
        [
         18.267655467459317,
         -93.2212769790882,
         10978.023255813952
        ],
        [
         19.135519005916027,
         -98.37898633869088,
         10985.214285714286
        ],
        [
         16.898613930633527,
         -96.77676811734621,
         11000
        ],
        [
         19.0133,
         -98.1961,
         11000
        ],
        [
         19.686446439471172,
         -98.39889427696836,
         11000
        ],
        [
         19.40105135894852,
         -98.05228559519273,
         11000
        ],
        [
         19.588917732107387,
         -102.47056257993164,
         11000
        ],
        [
         17.057996756525,
         -96.70025842447501,
         11022.727272727272
        ],
        [
         19.261790469456663,
         -97.7665017822021,
         11045.198346883468
        ],
        [
         25.182390982240438,
         -97.9601795969313,
         11078.17273056058
        ],
        [
         21.9247503,
         -99.98816345,
         11192.214285714286
        ],
        [
         21.085878076025026,
         -100.92972715540814,
         11230.555
        ],
        [
         18.73340678750772,
         -98.85401731837972,
         11300
        ],
        [
         19.23286178481002,
         -99.50947739642397,
         11319.23076923077
        ],
        [
         21.016,
         -101.862,
         11333.333333333332
        ],
        [
         21.950572857077095,
         -102.32459901335369,
         11376.49479400749
        ],
        [
         20.262921970842225,
         -98.41807158394066,
         11428.497843137255
        ],
        [
         19.207092523389544,
         -98.24253483393032,
         11482.380952380952
        ],
        [
         19.830445478902373,
         -97.35860625211272,
         11512.5
        ],
        [
         20.605511936725055,
         -103.35900687430595,
         11583.580988326848
        ],
        [
         17.02334512171676,
         -96.73793935969124,
         11597.2
        ],
        [
         21.170060876059647,
         -98.6111944904602,
         11675.64
        ],
        [
         19.571363910057933,
         -98.56033367159627,
         11694.97076923077
        ],
        [
         19.211660441352414,
         -99.58835558392752,
         11743.6
        ],
        [
         19.29375052317585,
         -99.03983281513842,
         11766.73181184669
        ],
        [
         23.065020350167547,
         -101.69579387604165,
         11816.666666666668
        ],
        [
         18.662926212937407,
         -99.1928944269938,
         11833.333333333332
        ],
        [
         20.633952887456005,
         -103.68646086179069,
         11930.948275862069
        ],
        [
         19.322384556857298,
         -98.27385727542803,
         11990.909090909092
        ],
        [
         19.8786995,
         -103.5986529,
         12000
        ],
        [
         19.374979,
         -97.615706,
         12000
        ],
        [
         19.93065851304084,
         -96.85200701534427,
         12000
        ],
        [
         16.144123727936,
         -96.44782662391701,
         12000
        ],
        [
         21.5159394,
         -98.3766266,
         12000
        ],
        [
         21.274498536262946,
         -101.1115550994873,
         12001.6075
        ],
        [
         18.4611083222244,
         -97.39413686903768,
         12065.714285714286
        ],
        [
         17.048025171730544,
         -96.62882965567474,
         12123
        ],
        [
         19.989782284355783,
         -98.85732023929498,
         12151.666666666668
        ],
        [
         18.83801363397617,
         -99.32429837898559,
         12200
        ],
        [
         23.82298751756843,
         -103.61693080435774,
         12217.00228515625
        ],
        [
         20.54291663227717,
         -102.79179076029664,
         12250
        ],
        [
         18.4424602,
         -95.2091986,
         12335
        ],
        [
         18.129227366667,
         -96.8382426,
         12345.55
        ],
        [
         17.148443708562315,
         -96.7817155820986,
         12370
        ],
        [
         18.88194946723173,
         -99.1368907739861,
         12418.181818181818
        ],
        [
         18.859962040157658,
         -98.9504366668265,
         12435.219588235293
        ],
        [
         21.9213889,
         -100.910556,
         12466.666666666668
        ],
        [
         19.20399828227122,
         -96.67380420648867,
         12474.347218045114
        ],
        [
         19.9017153871,
         -102.22148323110001,
         12500
        ],
        [
         19.741742640925047,
         -102.48141288757324,
         12500
        ],
        [
         20.24299411408397,
         -99.18801077252199,
         12500
        ],
        [
         17.2,
         -96.816667,
         12500
        ],
        [
         15.770904191682448,
         -96.1735154072249,
         12595.653571428571
        ],
        [
         20.956969613415602,
         -101.44110025682374,
         12606.67564102564
        ],
        [
         19.358946142396423,
         -96.35894490884684,
         12672.222222222223
        ],
        [
         18.93352890380482,
         -98.619052038284,
         12729.366471734893
        ],
        [
         17.85175,
         -93.16040000000001,
         12750
        ],
        [
         18.915207443396255,
         -96.9506568439792,
         12760.758246445497
        ],
        [
         22.1941573,
         -97.83444606666666,
         12763.636363636364
        ],
        [
         19.589837437490683,
         -99.46028412451376,
         12800
        ],
        [
         20.120129335089448,
         -98.84889844131811,
         12800.56
        ],
        [
         19.98336995867693,
         -102.25546254110819,
         12892.227153846154
        ],
        [
         17.087687928765476,
         -96.76550171646197,
         12914
        ],
        [
         20.160917405648163,
         -103.7248744548462,
         12953.333333333332
        ],
        [
         18.78741247583296,
         -99.22604465555695,
         12969.15494880546
        ],
        [
         18.840967000000006,
         -97.82265,
         13000
        ],
        [
         17.026948166666998,
         -95.959515866667,
         13131.11
        ],
        [
         17.029153916745067,
         -96.60305117580863,
         13185.714285714286
        ],
        [
         20.235388039107374,
         -99.21268257779947,
         13236
        ],
        [
         20.4526467583951,
         -103.24052918515929,
         13240
        ],
        [
         19.3314102709042,
         -98.23613691433738,
         13250
        ],
        [
         20.580518100000006,
         -100.3881848,
         13270
        ],
        [
         19.566531399656576,
         -97.24690590292663,
         13300
        ],
        [
         19.59099590987796,
         -96.94295881368103,
         13322.222222222223
        ],
        [
         20.645372611968323,
         -100.46204451582616,
         13333.333333333332
        ],
        [
         20.597522192365343,
         -100.80217831686335,
         13372.612465753426
        ],
        [
         18.91248289089482,
         -96.96434201487185,
         13405.567692307692
        ],
        [
         19.715749300000002,
         -99.33816735,
         13406.073333333332
        ],
        [
         16.427680643636364,
         -92.91319949000001,
         13423.777777777777
        ],
        [
         19.10867035913213,
         -95.45958329545317,
         13468.70709369025
        ],
        [
         17.0122866,
         -96.7133184,
         13490
        ],
        [
         17.14484640121075,
         -96.77026509292511,
         13498.74074074074
        ],
        [
         20.185127507740887,
         -100.12979317784514,
         13585.416666666668
        ],
        [
         17.05902458676386,
         -96.68290093333653,
         13587.5
        ],
        [
         23.820531284314967,
         -109.27810955174911,
         13618.18211
        ],
        [
         19.944207670389236,
         -102.31047686364641,
         13646.212121212122
        ],
        [
         20.050261257856828,
         -99.23816503606123,
         13709.5
        ],
        [
         20.0483644,
         -98.325092,
         13725
        ],
        [
         21.02060839251265,
         -101.7813838426407,
         13780
        ],
        [
         21.297032,
         -100.533363,
         13800
        ],
        [
         19.28340432734747,
         -98.44218772848853,
         13836.176470588236
        ],
        [
         20.38314664894185,
         -99.99505469351001,
         13836.282288659795
        ],
        [
         19.69868051544927,
         -103.46403449898857,
         13918.25
        ],
        [
         19.556915819140034,
         -98.98623570325313,
         13930.54945054945
        ],
        [
         25.046579752598632,
         -105.4249502293516,
         13966.4
        ],
        [
         15.922396263321001,
         -97.083379974824,
         13984.545454545454
        ],
        [
         16.4598538,
         -95.000425,
         14000
        ],
        [
         19.780591537662254,
         -98.56025786978016,
         14065
        ],
        [
         19.586403628939046,
         -98.67533697136821,
         14092.910261150235
        ],
        [
         18.138955965890993,
         -94.46240037428252,
         14139.947041198502
        ],
        [
         19.4681041,
         -98.55673819999998,
         14300
        ],
        [
         19.626011418972876,
         -99.27858763699955,
         14350
        ],
        [
         25.425499263755835,
         -103.15727067958622,
         14388.379692092372
        ],
        [
         19.769054224728947,
         -99.20818915978393,
         14461.818181818182
        ],
        [
         20.54078549332634,
         -99.65169706284178,
         14482.6
        ],
        [
         19.32695974192115,
         -99.23552938526277,
         14493.090197433366
        ],
        [
         20.6434408,
         -103.4736174,
         14575
        ],
        [
         19.52385375496412,
         -101.022873937355,
         14683.193333333333
        ],
        [
         24.685852847083364,
         -96.93283995090894,
         14684.902643431635
        ],
        [
         19.108011373745306,
         -102.37119745924684,
         14721.833333333332
        ],
        [
         19.30318732116684,
         -99.67601469962645,
         14723.045714285714
        ],
        [
         20.2184263,
         -100.88378950000003,
         14750
        ],
        [
         20.047907004229952,
         -98.52009607242485,
         14751.834552669554
        ],
        [
         19.42521778932355,
         -96.33553748676506,
         14785.857142857143
        ],
        [
         21.200638357403285,
         -100.991060946639,
         14814.76
        ],
        [
         20.056448275,
         -99.22633134999998,
         14840
        ],
        [
         20.534198582285516,
         -97.43739304614336,
         14988.88888888889
        ],
        [
         21.9374865,
         -100.0139424,
         15000
        ],
        [
         16.4330013,
         -95.01826570000004,
         15000
        ],
        [
         21.6739632,
         -103.3313354,
         15000
        ],
        [
         23.78581972950869,
         -97.75521241128445,
         15000
        ],
        [
         19.70544154110531,
         -101.19301090203709,
         15010.10788553259
        ],
        [
         20.910820649999998,
         -103.28571285000001,
         15037.5
        ],
        [
         20.007428817518026,
         -99.23960591821908,
         15101.586666666668
        ],
        [
         22.069949028117698,
         -97.03721667298184,
         15166.510851648352
        ],
        [
         22.354807892536773,
         -97.9814322125322,
         15166.82654676259
        ],
        [
         25.038611663927878,
         -97.54294811890935,
         15169.892073658928
        ],
        [
         20.69572826869889,
         -99.92685459043143,
         15227.225588235295
        ],
        [
         20.499558165778414,
         -103.16556771110305,
         15228.522077922078
        ],
        [
         20.483587565883898,
         -100.96351424726562,
         15368.75
        ],
        [
         19.448883638770944,
         -97.03718671675281,
         15448.857142857143
        ],
        [
         19.709021894693326,
         -98.83622690525817,
         15454.166666666668
        ],
        [
         21.81690479807701,
         -102.18548280881298,
         15459.193746556475
        ],
        [
         23.6479461,
         -100.63709890000001,
         15475
        ],
        [
         16.308246066666,
         -95.23917226666599,
         15500
        ],
        [
         20.5068186211853,
         -100.15145849562985,
         15605.914285714287
        ],
        [
         19.1779657,
         -99.470026,
         15625
        ],
        [
         21.5333333,
         -105.28333329999998,
         15700.625
        ],
        [
         20.57681701136719,
         -101.20531299908706,
         15715.76923076923
        ],
        [
         19.59085652552031,
         -99.51674285767243,
         15750
        ],
        [
         20.37184843431508,
         -103.82413117672121,
         15850
        ],
        [
         19.51840008612464,
         -101.60570421272217,
         15870.150666666666
        ],
        [
         20.99247449904703,
         -100.3952241609314,
         15914.335
        ],
        [
         18.865282382965848,
         -98.37661304269837,
         15972.42
        ],
        [
         21.08825642565087,
         -101.4191857833137,
         15980.044510948905
        ],
        [
         19.24897691775655,
         -103.72391080785424,
         15987.346752136753
        ],
        [
         20.815127609242776,
         -97.48290997353725,
         15996.40625
        ],
        [
         16.783859776117772,
         -96.66958026718142,
         16000
        ],
        [
         16.6071575,
         -98.97458010000004,
         16000
        ],
        [
         19.431161033333,
         -99.13329133333299,
         16000
        ],
        [
         19.28416690358514,
         -99.52545104702214,
         16014.22213973799
        ],
        [
         25.424733,
         -101.47299499999995,
         16100
        ],
        [
         17.0599032006365,
         -96.6872084254494,
         16123.08888888889
        ],
        [
         23.475885812631947,
         -100.51190480393717,
         16196.204285714286
        ],
        [
         24.025142,
         -106.98623700000002,
         16500
        ],
        [
         21.865,
         -102.697,
         16530
        ],
        [
         20.7860500439197,
         -99.29920993217041,
         16631.669333333335
        ],
        [
         19.633130218525988,
         -98.91758295756968,
         16673.18181818182
        ],
        [
         19.2015591300632,
         -99.03513988630658,
         16679.629629629628
        ],
        [
         23.0695503684717,
         -105.53627869044769,
         16696.749598393577
        ],
        [
         19.0276661,
         -98.96160100000004,
         16700
        ],
        [
         19.709048205713668,
         -99.791293911382,
         16750
        ],
        [
         18.90349992228643,
         -98.25503446021943,
         16760.097406807134
        ],
        [
         21.33611234394268,
         -104.58476105781095,
         16800
        ],
        [
         24.798238743878724,
         -107.40206917404029,
         16891.789221835075
        ],
        [
         24.846739764209907,
         -107.83726371638161,
         16962.64083333333
        ],
        [
         19.330327782453505,
         -98.86049652865037,
         16993.65965405755
        ],
        [
         19.8811563984957,
         -103.59825408156838,
         17066.666666666668
        ],
        [
         23.740756268484517,
         -103.9874769489553,
         17083.333333333332
        ],
        [
         20.56781492813186,
         -99.53732691982758,
         17160.50261376896
        ],
        [
         19.72658032684902,
         -98.75778923535154,
         17250
        ],
        [
         19.0014833,
         -98.33978186666668,
         17308.333333333332
        ],
        [
         20.571362893825945,
         -100.14358501988248,
         17324.843553022794
        ],
        [
         19.159440136727685,
         -99.78925031223949,
         17334.222222222223
        ],
        [
         20.34559724861076,
         -102.76904490714836,
         17447.188148148147
        ],
        [
         18.900240849939994,
         -103.8881408280061,
         17447.990714285712
        ],
        [
         20.524367202861576,
         -104.78831412963014,
         17550
        ],
        [
         15.688110907882589,
         -96.49022603044853,
         17577.03125
        ],
        [
         17.999317852283678,
         -93.32034356315013,
         17716.697368421053
        ],
        [
         20.1615192,
         -102.1945346,
         17739.7
        ],
        [
         18.979979226159244,
         -97.91550289334872,
         17820.157430974978
        ],
        [
         19.000850499676876,
         -99.24281737587242,
         17859.479166666668
        ],
        [
         20.63277649370374,
         -101.37827447226604,
         17860.94570155902
        ],
        [
         22.044587901808715,
         -96.7530748809542,
         17934.896050656662
        ],
        [
         20.379417646732648,
         -97.8790988462158,
         18000
        ],
        [
         19.627551,
         -101.577358,
         18000
        ],
        [
         21.2709158,
         -97.44592490000002,
         18000
        ],
        [
         17.98716001854641,
         -94.54412059783868,
         18052.998333333333
        ],
        [
         18.642627201390145,
         -99.39585023999008,
         18059.365384615387
        ],
        [
         19.43146415,
         -100.357607791665,
         18162.5
        ],
        [
         20.38276887903942,
         -102.95075204606934,
         18298
        ],
        [
         18.628146313824075,
         -99.30253460055505,
         18300
        ],
        [
         25.439154233920622,
         -100.83264837106564,
         18366.742777777778
        ],
        [
         16.947296182100562,
         -100.09284298552858,
         18400
        ],
        [
         20.5594127708566,
         -103.34877413060117,
         18436.992224953905
        ],
        [
         20.253760470357477,
         -98.92136806747234,
         18467.541666666668
        ],
        [
         19.76441135717263,
         -99.81206243534562,
         18469
        ],
        [
         20.658004874496047,
         -104.06375380729281,
         18484.113701923077
        ],
        [
         20.687688719069886,
         -104.39973361699538,
         18562.735190311418
        ],
        [
         18.046189913165605,
         -92.96669704912858,
         18689.363636363636
        ],
        [
         22.588904343790706,
         -101.38539694088922,
         18709.21052631579
        ],
        [
         18.174196312722128,
         -93.06432959264222,
         18720
        ],
        [
         24.3562969,
         -104.72646029999999,
         18808.318
        ],
        [
         22.153276503472703,
         -100.86858697458496,
         18814.285714285714
        ],
        [
         19.09970140854838,
         -98.8212940594606,
         18887.416666666668
        ],
        [
         19.5623227,
         -98.85770855000001,
         18900
        ],
        [
         17.804294410044662,
         -97.78115583599856,
         19000
        ],
        [
         18.8921892,
         -97.1475904,
         19000
        ],
        [
         20.710360516543588,
         -97.53422295767211,
         19000
        ],
        [
         16.77777593142883,
         -93.16352180664094,
         19005.10935706085
        ],
        [
         18.483764319486315,
         -97.18924247292756,
         19029.094214876033
        ],
        [
         19.437739794264065,
         -99.03627150273232,
         19062.239402843603
        ],
        [
         16.7275907992492,
         -93.71865753503874,
         19147.5
        ],
        [
         17.548296558413526,
         -99.49925879484876,
         19199.772444444447
        ],
        [
         19.195417766179965,
         -99.46462487899169,
         19271.48
        ],
        [
         18.926056725664402,
         -98.96724912183409,
         19275.894324324323
        ],
        [
         18.07541440573823,
         -93.20306862476808,
         19375
        ],
        [
         19.429206086361,
         -98.88504590154186,
         19446.816726149624
        ],
        [
         21.1943704,
         -99.00598609999996,
         19500
        ],
        [
         19.943213533333335,
         -101.30135556666666,
         19548.696
        ],
        [
         19.338776133333337,
         -98.5770653,
         19600
        ],
        [
         18.40814182264262,
         -93.34627048917083,
         19642.82894736842
        ],
        [
         19.426607975156916,
         -98.91109879151594,
         19664.974634888436
        ],
        [
         19.83161215164713,
         -99.4112234764923,
         19672.1488700565
        ],
        [
         19.103265442394353,
         -104.33599102326993,
         19694.28589576547
        ],
        [
         17.22518697675974,
         -96.87779109368458,
         19711.85858778626
        ],
        [
         19.56098330324899,
         -96.97337751784563,
         19728.92469879518
        ],
        [
         17.082897512219997,
         -96.69808337926,
         19752
        ],
        [
         16.1990964208632,
         -95.1959175853624,
         19811.11111111111
        ],
        [
         19.1997241,
         -96.1397203,
         19842.48
        ],
        [
         18.079556378709334,
         -96.12977445041659,
         19854.79875
        ],
        [
         22.04829755419654,
         -100.79991332860342,
         19865.953765299684
        ],
        [
         20.6668191,
         -99.0128926,
         19920
        ],
        [
         18.738341887983378,
         -99.12797552681718,
         19923.529411764706
        ],
        [
         18.966053688505056,
         -97.65085390855172,
         19947.63540330418
        ],
        [
         19.815528966248444,
         -98.9127496556132,
         19947.894736842107
        ],
        [
         21.6248972,
         -99.0197376,
         20000
        ],
        [
         19.85607433700628,
         -97.45666444301605,
         20000
        ],
        [
         17.6037464,
         -99.17912619999998,
         20000
        ],
        [
         16.716978469622724,
         -93.30667906748046,
         20100
        ],
        [
         20.290976433469492,
         -102.54601698651125,
         20140
        ],
        [
         20.542823542741992,
         -99.88877276700813,
         20221.108225
        ],
        [
         20.883101898310205,
         -103.8392552332931,
         20444.666666666668
        ],
        [
         17.560795908870944,
         -101.32202207387999,
         20500
        ],
        [
         19.56399625,
         -98.91785185,
         20668.75
        ],
        [
         19.193045256850013,
         -95.0094336282165,
         20684.315757575758
        ],
        [
         25.086794283945736,
         -98.40755606584987,
         20699.27279699248
        ],
        [
         19.01621413965397,
         -98.33537923584926,
         20716.153846153844
        ],
        [
         18.90429748342163,
         -98.42878215584761,
         20840.897075471697
        ],
        [
         20.667357748928477,
         -100.079167660921,
         20966.666666666668
        ],
        [
         21.19250254965629,
         -101.79137456975708,
         21000
        ],
        [
         19.3846086,
         -96.9719184,
         21000
        ],
        [
         19.51954850078697,
         -96.8635368347168,
         21000
        ],
        [
         25.22991787191025,
         -99.89856120389415,
         21034.047446808512
        ],
        [
         20.98811043465277,
         -101.2821454765105,
         21226.323069306927
        ],
        [
         18.889214533461015,
         -99.17886401064679,
         21252.689215328464
        ],
        [
         18.707683236339165,
         -93.38408269779052,
         21333.333333333336
        ],
        [
         19.01690951725601,
         -93.94415986660914,
         21393.98171385991
        ],
        [
         19.393935128813325,
         -98.5560264159888,
         21578.866611433303
        ],
        [
         15.79525614528806,
         -95.15577672988152,
         21640.444444444445
        ],
        [
         19.519418663239268,
         -98.9297776587755,
         21734.26789473684
        ],
        [
         20.6267104,
         -101.6717014,
         21900
        ],
        [
         20.739298100000006,
         -99.3817254,
         22090
        ],
        [
         20.2519813,
         -99.6459149,
         22270
        ],
        [
         22.1149,
         -97.8035,
         22349.625
        ],
        [
         20.270589655555664,
         -101.19575316666668,
         22367.8
        ],
        [
         20.37422434633201,
         -101.06306612491608,
         22500
        ],
        [
         17.609128234196966,
         -101.33412713851497,
         22712.963680555556
        ],
        [
         20.6042222658012,
         -100.13475061109884,
         22717.904085876955
        ],
        [
         20.74097283643303,
         -103.63669193741858,
         22774.74564102564
        ],
        [
         20.76651226481975,
         -104.08429806165466,
         22900
        ],
        [
         22.5402478,
         -105.7380511,
         23000
        ],
        [
         19.4960037,
         -101.33212459999999,
         23000
        ],
        [
         19.731976935959878,
         -99.45655520872599,
         23132.88404255319
        ],
        [
         19.206524847933725,
         -97.8699560727285,
         23429.434095860564
        ],
        [
         20.460010704126013,
         -100.6296801108101,
         23456
        ],
        [
         18.31493790116055,
         -92.88594320526931,
         23460.750529100525
        ],
        [
         18.70209745603315,
         -98.45509978591186,
         23852.970583717357
        ],
        [
         19.81487173713931,
         -97.38829791216429,
         24000
        ],
        [
         19.531766434827066,
         -98.54959855776578,
         24015.142661649945
        ],
        [
         15.6851709,
         -93.2122536,
         24379.95
        ],
        [
         19.553792765542273,
         -99.2679333405962,
         25000
        ],
        [
         19.314471,
         -99.22774679999998,
         25000
        ],
        [
         17.4369187,
         -96.6015104,
         25000
        ],
        [
         19.276161542466802,
         -92.82520975155433,
         25077.889419978517
        ],
        [
         21.248472706403202,
         -104.96985684229398,
         25140.909090909092
        ],
        [
         20.1669444,
         -98.7558333,
         25150
        ],
        [
         20.444534933333333,
         -97.3188169,
         25271.428571428572
        ],
        [
         20.183916,
         -96.8759814,
         25278.75
        ],
        [
         19.210700256644113,
         -104.68810159953004,
         25325
        ],
        [
         21.0348399,
         -104.386872,
         25645.6825
        ],
        [
         19.97512668275013,
         -99.29404474900713,
         25716.613333333335
        ],
        [
         18.92083141353096,
         -104.02430955878094,
         25833.333333333336
        ],
        [
         16.58450236162387,
         -98.07431922766443,
         25858.131642216787
        ],
        [
         19.47854508459871,
         -99.11163725940783,
         25931.988182107612
        ],
        [
         19.81417198579878,
         -99.2881390110547,
         26145.862068965518
        ],
        [
         21.751443936623666,
         -101.18227678363037,
         26310.166666666664
        ],
        [
         19.042831502994332,
         -96.23029732642237,
         26412.5
        ],
        [
         20.6734925476456,
         -103.27872541196524,
         26544.189228657015
        ],
        [
         17.96732447215338,
         -92.99484867753529,
         26700.354348958335
        ],
        [
         16.975913125642265,
         -96.63904428894958,
         26742.22222222222
        ],
        [
         19.581787733333332,
         -98.81827873333334,
         26765.130434782608
        ],
        [
         21.110676861750356,
         -100.24699657317555,
         26784.357575757578
        ],
        [
         18.847401364765982,
         -98.66294372599657,
         26813.82616423841
        ],
        [
         23.6345012,
         -103.6401136,
         27000
        ],
        [
         19.26336235895336,
         -98.88531891393067,
         27282.153573529413
        ],
        [
         20.72330156118324,
         -102.89698744248047,
         27487.5
        ],
        [
         20.68785278740257,
         -103.40082591667729,
         27496.75369208494
        ],
        [
         19.504048045454542,
         -99.26673299090909,
         27610.58
        ],
        [
         19.92852617036696,
         -103.02954845502757,
         27735.333333333336
        ],
        [
         19.87343561224278,
         -98.76968914616394,
         27779.32
        ],
        [
         19.265974399999003,
         -98.51217893333299,
         28000
        ],
        [
         19.334593884182752,
         -99.2863613374711,
         28086.480070140282
        ],
        [
         16.785990031120537,
         -93.27045346374678,
         28120.859375
        ],
        [
         19.009508742836857,
         -98.81779899199216,
         28170
        ],
        [
         18.88999000045791,
         -99.61570599237277,
         28624
        ],
        [
         17.080456100000006,
         -96.7222898,
         28825
        ],
        [
         23.81978,
         -106.884871,
         29000
        ],
        [
         19.072249890905248,
         -97.04699527464695,
         29000
        ],
        [
         19.040344961527566,
         -98.79924097868195,
         29538
        ],
        [
         21.2553417041,
         -98.7890625,
         29666.666666666664
        ],
        [
         18.76530023333333,
         -98.91833723333333,
         29716.666666666664
        ],
        [
         20.55640005,
         -102.50877990000001,
         29812.6
        ],
        [
         18.852758897058475,
         -97.09323486360931,
         29830.389166666664
        ],
        [
         20.438751843231387,
         -100.17665447649728,
         29971.393882352942
        ],
        [
         24.74593454037915,
         -96.79091808851048,
         30699.361736251078
        ],
        [
         18.918750003164458,
         -97.13386630647078,
         30765.134948096886
        ],
        [
         18.963896591416784,
         -98.28918517826332,
         30850.28685714286
        ],
        [
         19.05722742451432,
         -98.16527889408927,
         30893.60875
        ],
        [
         20.20947775979781,
         -98.58424028991124,
         30899.673333333336
        ],
        [
         19.31382163097145,
         -103.74354919115417,
         30978
        ],
        [
         19.286747405161567,
         -99.45250667518086,
         30990.63054054054
        ],
        [
         24.12752445090013,
         -110.3077232837677,
         31000
        ],
        [
         19.876850337316753,
         -99.74018142377625,
         31000
        ],
        [
         22.229159704719066,
         -102.315151668935,
         31250
        ],
        [
         19.424629794213747,
         -96.99811913073063,
         31300
        ],
        [
         19.512430708319258,
         -99.33928820835725,
         31307.5
        ],
        [
         24.1828656483246,
         -96.0852807891234,
         31621.69295045045
        ],
        [
         19.171938248365805,
         -99.37260602296973,
         31700
        ],
        [
         19.21672325,
         -98.87839784999997,
         31875
        ],
        [
         19.29962062536001,
         -99.1670730156766,
         32082.595454545455
        ],
        [
         19.025044584103412,
         -98.1784386391387,
         32409.52305913272
        ],
        [
         19.52203221770729,
         -98.79631747872666,
         32427.911976482792
        ],
        [
         19.116366816298108,
         -98.76810548883446,
         32788.63636363636
        ],
        [
         18.561721036758087,
         -99.60538330969635,
         32944.444444444445
        ],
        [
         20.1670329631,
         -102.396116495,
         33000
        ],
        [
         19.319891,
         -97.395172,
         33750
        ],
        [
         19.1722692,
         -96.1384658,
         33750
        ],
        [
         19.354473931752796,
         -98.88852174585078,
         33846.59494007626
        ],
        [
         19.50272204158171,
         -99.02360406380001,
         33891.653982461445
        ],
        [
         18.385,
         -100.674,
         34000
        ],
        [
         16.63337466880352,
         -93.12111821047311,
         34000
        ],
        [
         19.325171413150066,
         -98.85009465955557,
         34070.09152276592
        ],
        [
         19.150955933333332,
         -98.2942229333333,
         34616.666666666664
        ],
        [
         20.170933112771362,
         -98.01969786071778,
         34833.333333333336
        ],
        [
         20.545013996377836,
         -103.18054907594804,
         34877.27272727273
        ],
        [
         20.2249081951124,
         -103.56853184852679,
         35131
        ],
        [
         19.29737425157671,
         -98.99920126944788,
         35698.660183534346
        ],
        [
         20.69868295,
         -103.97934955,
         36175
        ],
        [
         16.9267492,
         -96.3630925,
         36250
        ],
        [
         20.73047235007123,
         -103.81859379180086,
         36500
        ],
        [
         20.67428624185185,
         -100.05839626872255,
         37327.77777777778
        ],
        [
         19.05012385473506,
         -99.61329605286319,
         37562.7
        ],
        [
         20.5289497,
         -102.33122049999996,
         38000
        ],
        [
         20.035005677330574,
         -100.71862288147582,
         38400
        ],
        [
         20.610738594591375,
         -103.07718482473574,
         38833.333333333336
        ],
        [
         20.7326039,
         -97.26191419999998,
         39000
        ],
        [
         20.286472,
         -98.66762210000002,
         39500
        ],
        [
         19.554606999999997,
         -98.89669395000001,
         39666.666666666664
        ],
        [
         19.554710605936112,
         -99.60804056032715,
         39725
        ],
        [
         18.975349399277846,
         -99.0923479661394,
         40023.45625
        ],
        [
         19.46858456413302,
         -98.98418194175272,
         40616.42078425389
        ],
        [
         19.248105612264713,
         -100.27136297151662,
         41000
        ],
        [
         19.05684858447998,
         -99.58259714871288,
         41394.444444444445
        ],
        [
         19.818290046943964,
         -99.33921318548585,
         41500
        ],
        [
         19.739789340266082,
         -99.86387708256837,
         42150
        ],
        [
         19.32061484642966,
         -98.3205193506235,
         44697.25506105835
        ],
        [
         19.427431743780502,
         -98.84799306047238,
         44965.25644866264
        ],
        [
         20.1770246529,
         -101.99709445239999,
         45000
        ],
        [
         20.0153066,
         -97.5199554,
         45500
        ],
        [
         18.945389118675,
         -99.49488290965002,
         45638.46153846154
        ],
        [
         18.912173000000006,
         -99.927843,
         46000
        ],
        [
         19.323549783083525,
         -98.76459018087903,
         46058.68667716536
        ],
        [
         18.5480398,
         -97.4435441,
         46900
        ],
        [
         19.325579506137164,
         -98.7172679064418,
         47222.05175496689
        ],
        [
         17.83386377707581,
         -93.39587864480285,
         50869.6625
        ],
        [
         19.681234889730824,
         -98.77971431215431,
         52585.71428571428
        ],
        [
         19.83095066340737,
         -97.4560001238037,
         53707.07
        ],
        [
         19.396133303610156,
         -98.71569008674712,
         54753.729127317245
        ],
        [
         19.60156309960202,
         -96.98941962230832,
         55000
        ],
        [
         19.413495966695546,
         -99.97946977615356,
         55300
        ],
        [
         20.548576874290173,
         -104.04258189957886,
         57450
        ],
        [
         19.96740655,
         -101.1415178,
         65856.415
        ],
        [
         25.100105303040074,
         -98.74207155980938,
         68146.72956462586
        ],
        [
         20.1275622,
         -102.5434275,
         80000
        ],
        [
         20.283533266892874,
         -104.2000651359558,
         86352
        ],
        [
         20.4216103,
         -103.5928664,
         106514
        ],
        [
         19.926901722148536,
         -102.82238988144528,
         125000
        ]
       ],
       "max_zoom": 18,
       "min_opacity": 0.05,
       "options": [
        "blur",
        "gradient",
        "max",
        "max_zoom",
        "min_opacity",
        "radius"
       ],
       "radius": 10
      }
     }
    },
    "version_major": 2,
    "version_minor": 0
   }
  }
 },
 "nbformat": 4,
 "nbformat_minor": 4
}
