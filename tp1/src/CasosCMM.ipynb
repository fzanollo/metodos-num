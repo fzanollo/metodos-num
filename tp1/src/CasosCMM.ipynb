{
 "cells": [
  {
   "cell_type": "markdown",
   "metadata": {},
   "source": [
    "# Casos para CMM\n",
    "\n",
    "El objetivo de esta notebook es presentar algunos casos pequeños que nos puedan servir para entender mejor el comportamiento de CMM, independientemente de que estos casos representen o no un caso de uso real para alguna competencia."
   ]
  },
  {
   "cell_type": "markdown",
   "metadata": {},
   "source": [
    "### Caso 1\n",
    "\n",
    "Se inicia un sistema con dos equipos: 1, y 2, con un único partido entre ellos: 1 vs 2 a favor de 1.\n",
    "\n",
    "__Pregunta__: ¿Qué pasará con los ratings? ¿Hay alguna relación entre ellos?\n",
    "\n",
    "* 1 - 0.625\n",
    "* 2 - 0.375\n",
    "\n",
    "__Observación__: Acorde a la <i>Regla de Laplace de sucesos</i> utilizar el estimador planteado por la misma nos permite que no hayan cambios abruptos en la resolución de los ratings de los equipos involucrados.\n",
    "        \n"
   ]
  },
  {
   "cell_type": "markdown",
   "metadata": {},
   "source": [
    "### Caso 2\n",
    "\n",
    "Sobre el sistema anterior: se agregan cinco partidos a favor de 1.\n",
    "\n",
    "__Pregunta__: ¿Qué pasará con los ratings? ¿Hay alguna relación entre ellos?\n",
    "\n",
    "* 1 - 0.714286\n",
    "* 2 - 0.285714\n",
    "\n",
    "__Observación__: Los ratings se ajustan acorde a los resultados de los partidos. Esperadamente como vimos hasta ahora, los mismos dependen de la cantidad de partidos que hayan entre los equipos competidores."
   ]
  },
  {
   "cell_type": "markdown",
   "metadata": {},
   "source": [
    "### Caso 3\n",
    "\n",
    "Sobre el sistema anterior: se suma un equipo, 3. 3 vs 2 a favor de 3.\n",
    "\n",
    "__Pregunta__: ¿Será mejor el rating de 3 que el de 2?\n",
    "\n",
    "* 1 - 0.68\n",
    "* 3 - 0.58\n",
    "* 2 - 0.24\n",
    "\n",
    "__Observación__: Después de 3 vs 2 a favor de 3, 3 supera facilmente a 2 modificando sus posiciones. El rating de 2 desciende esperadamente, pero el de 1 también aunque sigue manteniendo su posición. Al no estar 1 involucrado en este partido, vemos que CMM afecta el rating (y tal vez el ranking) de equipos que no formaron parte del partido."
   ]
  },
  {
   "cell_type": "markdown",
   "metadata": {},
   "source": [
    "### Caso 4\n",
    "\n",
    "Sobre el sistema anterior: se agregan diez partidos, 3 vs 2 a favor de 3.\n",
    "\n",
    "__Pregunta__: ¿Se acercará el rating de 3 al rating de 1?\n",
    "\n",
    "* 3 - 0.662963\n",
    "* 1 - 0.644444\n",
    "* 2 - 0.192593\n",
    "\n",
    "__Observación__: En este caso se ve que CMM permite alterar no solo el rating, si no la posición de los equipos, ya que 3 vs 1 nunca tuvo lugar. Esto de alguna forma nos habla de \"la justicia del método\": ¿es justo que 1 descienda si nunca se enfrentó con 3?. Claramente la relación entre ambos equipos viene dada por los partidos que tuvieron de forma separada con 2. 1 vs 2 se dió hasta ahora seis veces mientras que 3 vs 2 se dió hasta ahora once veces."
   ]
  },
  {
   "cell_type": "markdown",
   "metadata": {},
   "source": [
    "### Caso 5\n",
    "\n",
    "Sobre el sistema anterior: se agregan cinco partidos, 1 vs 2 a favor de 1.\n",
    "\n",
    "__Pregunta__: Si la relación entre 1 y 3 es intermediada por la cantidad de partidos que ambos ganaron a 2, ¿será cierto que ambos tendrán el mismo rating si igualan la cantidad de partidos con 2?\n",
    "\n",
    "* 1 - 0.657143\n",
    "* 3 - 0.657143\n",
    "* 2 - 0.185714\n",
    "\n",
    "__Observación__: En este caso se ve que a igual cantidad de partidos ganados de 1 y 3 vs 2, se obtiene el mismo rating."
   ]
  },
  {
   "cell_type": "markdown",
   "metadata": {},
   "source": [
    "### Caso 6\n",
    "\n",
    "Sobre el sistema anterior: se suma un equipo, 4. 4 vs 3 a favor de 4.\n",
    "\n",
    "__Pregunta__: ¿Qué pasará si un nuevo equipo tiene una partida contra el equipo que está en la primera posición?\n",
    "\n",
    "* 4 - 0.692159\n",
    "* 1 - 0.606041\n",
    "* 3 - 0.576478\n",
    "* 2 - 0.125321\n",
    "\n",
    "__Observación__: En una sola partida, 4 llegó a la primera posición. Se puede explicar que 1 haya quedado por arriba de 3 ya que la configuración de partidos jugados es un factor que está presente en CMM: 4 vs 3 deja a 3 con un partido más, pero perdido, a diferencia de 1 que no sumó partidos."
   ]
  },
  {
   "cell_type": "markdown",
   "metadata": {},
   "source": [
    "### Caso 7\n",
    "\n",
    "Sobre el sistema anterior: se agregan cien partidos, 2 vs 3 a favor de 2.\n",
    "\n",
    "__Pregunta__: ¿Puede alcanzar 2 las primeras posiciones si gana partidos contra los equipos de las últimas posiciones?\n",
    "\n",
    "* 1 - 0.905919\n",
    "* 4 - 0.52859\n",
    "* 2 - 0.479722\n",
    "* 3 - 0.0857696\n",
    "\n",
    "__Observación__: Se observa que por un lado 2 y 3 intercambiaron posiciones, lo que muestra que, aunque los ajustes de rating se haga con cada partido, los máximos valores que pueden tener se ven limitados a los valores de los equipos que se enfrentaron. Por otro lado 1 y 4 intercambiaron lugares también: esto puede deberse a que hasta este momento 3 y 4 se enfrentaron en una ocasión a favor de 4, es probable que su caida en el puesto sea debido a la caida de 3 (su victoria se desprestigia)."
   ]
  },
  {
   "cell_type": "markdown",
   "metadata": {},
   "source": [
    "### Caso 8\n",
    "\n",
    "Sobre el sistema anterior: se agregan tantos partidos como sea necesario para desplazar a 1 de la primera posición, 3 vs 1 a favor de 3.\n",
    "\n",
    "__Pregunta__: Estando 3 en la última posición, ¿podrá desplazar a 1 de la primera posición en pocos partidos?\n",
    "\n",
    "* 2 - 0.597924\n",
    "* 1 - 0.566854\n",
    "* 4 - 0.583805\n",
    "* 3 - 0.251416\n",
    "\n",
    "__Observación__: En siete partidos, 3 fue capaz mediante CMM de que 2 reemplazara a 1 en el primer lugar."
   ]
  },
  {
   "cell_type": "markdown",
   "metadata": {},
   "source": [
    "### Caso 9\n",
    "\n",
    "Sobre el sistema del caso 7: se agregan tantos partidos como sea necesario para desplazar a 1 de la primera posición, 3 vs 2 a favor de 3.\n",
    "\n",
    "__Pregunta__: Estando 3 en la última posición, ¿podrá desplazar a 1 de la primera posición en pocos partidos?\n",
    "\n",
    "* 1 - 0.864293\n",
    "* 4 - 0.551295\n",
    "* 2 - 0.430528\n",
    "* 3 - 0.153884\n",
    "\n",
    "__Observación__: En veinte partidos, 3 aún no fue capaz mediante CMM de un equipo reemplazara a 1 en el primer lugar."
   ]
  },
  {
   "cell_type": "markdown",
   "metadata": {},
   "source": [
    "## Algunas conclusiones\n",
    "\n",
    "Estos ejemplos sencillos nos permitieron entender un poco más CMM a la hora de rankear equipos.\n",
    "\n",
    "Desde el caso 1 al caso 5 probamos el caso de introducir un equipo y hacerlo avanzar compitiendo con el equipo de la última posición. Vimos que puede alcanzar un mejor puesto en el ranking tratando de obtener una configuración similar a la de los equipos que están en la posición deseada, lo cual es esperado para un ranking en general. Vimos también que el resultado de un partido influye sobre otros equipos mediante una \"transitividad\" (caso 4).\n",
    "\n",
    "Desde el caso 6 al caso 9, queriamos hacer foco en como un equipo puede avanzar en la tabla. Ingresamos un participante más a nuestro sistema, dejando un total de cuatro y volviendolo un poco más complejo, corroboramos que los equipos son suceptibles a cambios en su rating si algún equipo con el que tuvo relación tiene un partido. Por otra parte, notamos que un equipo en la tabla avanza más lento conforme se enfrenta a equipos que están en las últimas posiciones y más rápido conforme se enfrenta a otros que está en las primeras:\n",
    "\n",
    "* en el caso 7: 3 vs 2, favor a 3. Después de cien partidas 2 había avanzado una posición.\n",
    "* en el caso 8: 3 vs 1, favor a 3. En siete partidas se logra que 2 desplace a 1.\n",
    "* en el caso 9: 3 vs 2, favor a 3. En veinte partidas no se logró mover a 1 del primer lugar.\n",
    "\n",
    "Una prueba que podemos hacer para corroborar esto último, es precisamente con un set de datos más real."
   ]
  },
  {
   "cell_type": "markdown",
   "metadata": {},
   "source": [
    "# Estrategias para llegar a las primeras posiciones\n",
    "\n",
    "__Estrategia trivial__: En base a lo que se comentó antes. Una estrategía posible para llegar a las primeras posiciones con relativamente pocas partidas, siendo el último en la tabla es ganarle al que esté primero siempre. De esta manera el último aumenta su rating tanto como puede.\n",
    "\n",
    "Para corroborar esto, se hizo una prueba sobre algunos casos de test presentados por la cátedra.\n",
    "\n",
    "* atp_matches_2015.dat: equipo 104433, llega a las primeras posiciones en 15 partidos.\n",
    "* test_completo_1000_2.in: equipo 396, llega a las primeras posiciones en 259 partidos.\n",
    "* test_completo_1000_8.in: equipo 409, llega a las primeras posiciones en 889 partidos.\n",
    "\n",
    "__Estrategia \"transitiva\"__: Otra estrategia posible sería aprovechar el caracter transitivo de CMM: entre el caso 6 y el caso 7 de la sección anterior se puede ver al equipo 1 que había tenido muchas más partidas de las que el equipo 4 tuvo con 2. Entre esas pruebas se agregaron partidas que ponian en ventaja a 2, pero hicieron subir a 1 por sobre 4. En resumen: Que un equipo suba o baje de posición depende en parte a la performance de los equipos con los que jugó previamente: si 1 gana muchas veces a 2, entonces cuando 2 quiera subir, 1 también lo hará. En concreto:\n",
    "\n",
    "* Un equipo A, quiere llegar a las primeras posiciones.\n",
    "* A se enfrenta y gana contra equipos B, C, D: no muchos partidos, de lo contrario la probabilidad de que en alguno de ellos pierda incrementa. Estos equipos son considerados por A como más débiles y por sobre los que tiene una ventaja.\n",
    "* De esta forma, A se asegura tener buenas posiciones por sus propios resultados.\n",
    "* Al tener B, C, D (con alguna probabilidad, por ser considerados equipos de bajo rendimiento) peor rankeo, si estos quieren tener mejores posiciones u obtener una clasificación, deben ganar partidos.\n",
    "* A obtiene los beneficios de los partidos ganados por B, C, D aumentando su rating sin haber jugado.\n"
   ]
  },
  {
   "cell_type": "markdown",
   "metadata": {},
   "source": [
    "# ¿Es CMM un método justo?\n",
    "\n",
    "* Puede pasar que el rating de un equipo se vea afectado por una partida en la que no estuvo involucrado\n",
    "* Sabemos que de poder elegir contra quien jugar y cuantos partidos un equipo puede plantear una estrategia para subir su rating sin haber jugado.\n",
    "* En el caso 9 presentado en la sección anterior. se observa que si un equipo que está en las primeras posiciones quiere llegar al primer lugar, es dificil que lo haga ganando partidas con equipos que están en posiciones más bajas o bien que no tienen relación alguna con los equipos que están por encima del que quiere subir. Aún después de haber jugado, como en ese caso más de veinte partidos.\n",
    "\n",
    "En base a estas cosas, podría calificarse a CMM como un método __no__ justo, de no tener la competencia reglas claras que determinen la forma de juego, asegurando que no se puedan incurrir en tales estrategias o asegurando que todos jueguen contra todos."
   ]
  }
 ],
 "metadata": {
  "kernelspec": {
   "display_name": "Python 3",
   "language": "python",
   "name": "python3"
  },
  "language_info": {
   "codemirror_mode": {
    "name": "ipython",
    "version": 3
   },
   "file_extension": ".py",
   "mimetype": "text/x-python",
   "name": "python",
   "nbconvert_exporter": "python",
   "pygments_lexer": "ipython3",
   "version": "3.8.5"
  }
 },
 "nbformat": 4,
 "nbformat_minor": 4
}
