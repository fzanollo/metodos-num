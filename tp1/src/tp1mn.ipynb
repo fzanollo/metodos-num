{
 "cells": [
  {
   "cell_type": "markdown",
   "metadata": {},
   "source": [
    "# Preguntas del enunciado"
   ]
  },
  {
   "cell_type": "markdown",
   "metadata": {},
   "source": [
    "$C_{ij} = \n",
    "\\begin{cases}\n",
    "    -n_{ij} \\hspace{1.4cm} i \\neq j\\\\\n",
    "    2 + n_{i} \\hspace{1cm} i = j\n",
    "\\end{cases}\n",
    "$"
   ]
  },
  {
   "cell_type": "markdown",
   "metadata": {},
   "source": [
    "## 1. ¿Qué tipo de matriz resulta C?"
   ]
  },
  {
   "cell_type": "markdown",
   "metadata": {},
   "source": [
    "La matriz de Colley resulta: \n",
    "1. **simétrica** [[1]](#1)  \n",
    "    $C_{ij} = C_{ji}$ ya que la cantidad de partidos jugados entre $i,j$ es la misma que $j,i$. Luego $C = C^{t}$\n",
    "\n",
    "\n",
    "2. **diagonal dominante**  \n",
    "    Por definición la matriz tiene en la diagonal los partidos jugados por el equipo $i$ ($n_i$) y en el resto los partidos jugados entre los equipos $i$, $j$ ($n_{ij}$).  \n",
    "    Trivialmente pordemos ver que $n_{ij} \\leq n_i$ ya que $\\sum_{j \\neq i}n_{ij} = n_i$  \n",
    "    Luego $|C_{ii}| \\geq \\sum_{j \\neq i}|C_{ji}| \\ \\ \\forall i, j $"
   ]
  },
  {
   "cell_type": "markdown",
   "metadata": {},
   "source": [
    "## 2. ¿Cómo se garantiza la aplicabilidad de EG sin intercambio de filas o columnas?"
   ]
  },
  {
   "cell_type": "markdown",
   "metadata": {},
   "source": [
    "La matriz de Colley es una **matriz diagonal dominante**, luego según podemos ver en [[2]](#2) una propiedad de estas matrices es que no necesitan permutaciones para aplicar EG. **TODO: explicar esto mejor y (quizás) buscar una fuente que no sea wikipedia**"
   ]
  },
  {
   "cell_type": "markdown",
   "metadata": {},
   "source": [
    "## 3. ¿Qué se puede decir sobre la estabilidad de los cálculos?"
   ]
  },
  {
   "cell_type": "markdown",
   "metadata": {},
   "source": [
    "Que pueden llegar a ser muy inestables, debido a la aritmética finita de la computadora[3].\n",
    "**TODO: PONER EJEMPLO DE CUANDO PASA**"
   ]
  },
  {
   "cell_type": "markdown",
   "metadata": {},
   "source": [
    "## justificación de por qué funciona correctamente EG\n",
    "Además, sabemos que existen casos donde el algoritmo EG no puede encontrar una\n",
    "solución. Se debe incluir en el desarrollo una justificación sobre por qué el algoritmo\n",
    "funciona correctamente en el caso del método CMM."
   ]
  },
  {
   "cell_type": "markdown",
   "metadata": {},
   "source": [
    "## Referencias\n",
    "<a id=\"1\">[1]</a> \n",
    "**Colley’s Bias Free College Football Ranking Method**, Wesley N. Colley (2002) Princeton University.\n",
    "\n",
    "<a id=\"2\">[2]</a> \n",
    "**<a href=\"https://en.wikipedia.org/wiki/Diagonally_dominant_matrix#Applications_and_properties\">Wikipedia, Diagonally dominant Matrix</a>**\n",
    "\n",
    "<a id=\"3\">[3]</a> \n",
    "**<a href=\"https://docs.oracle.com/cd/E19957-01/806-3568/ncg_goldberg.html\">What Every Computer Scientist Should Know About Floating-Point Arithmetic</a>** David Goldberg (1991)"
   ]
  },
  {
   "cell_type": "markdown",
   "metadata": {},
   "source": [
    "# Codigo"
   ]
  },
  {
   "cell_type": "code",
   "execution_count": 21,
   "metadata": {},
   "outputs": [],
   "source": [
    "import numpy as np\n",
    "import pandas as pd\n",
    "import matplotlib.pyplot as plt\n",
    "import seaborn as sns\n",
    "\n",
    "from scripts.utils import listfiles\n",
    "from subprocess import *\n",
    "\n",
    "%matplotlib inline"
   ]
  },
  {
   "cell_type": "code",
   "execution_count": 44,
   "metadata": {},
   "outputs": [],
   "source": [
    "dataDirectory = \"../data/\" #.dat files\n",
    "testsDirectory = \"tests/\" #.in files\n",
    "\n",
    "executable = \"./tp\""
   ]
  },
  {
   "cell_type": "code",
   "execution_count": 66,
   "metadata": {},
   "outputs": [],
   "source": [
    "def runTp(input, output, algor):\n",
    "    check_call([executable, input, output] + [algor], stdin=None, stdout=PIPE, stderr=PIPE)\n",
    "    \n",
    "def dataFiles():\n",
    "    return list(listfiles(dataDirectory, \"*.dat\"))\n",
    "        \n",
    "def testsFiles():\n",
    "    return list(listfiles(testsDirectory, \"*.in\"))"
   ]
  },
  {
   "cell_type": "markdown",
   "metadata": {},
   "source": [
    "### correr todos los casos para todos los algoritmos"
   ]
  },
  {
   "cell_type": "code",
   "execution_count": 71,
   "metadata": {},
   "outputs": [],
   "source": [
    "#build\n",
    "!python3 metnum.py build\n",
    "\n",
    "opcionesAlgoritmos = [('CMM', '0'), ('WP', '1')]\n",
    "\n",
    "for name, op in opcionesAlgoritmos:\n",
    "    for finput in dataFiles() + testsFiles():\n",
    "        foutput = finput.replace(\".dat\", f\".out\").replace(\".in\", f\"{}.out\")\n",
    "        runTp(finput, foutput, op)"
   ]
  },
  {
   "cell_type": "markdown",
   "metadata": {},
   "source": [
    "# Experimentación"
   ]
  },
  {
   "cell_type": "markdown",
   "metadata": {},
   "source": [
    "## Error absoluto por aritmética finita"
   ]
  },
  {
   "cell_type": "code",
   "execution_count": 75,
   "metadata": {},
   "outputs": [
    {
     "name": "stdout",
     "output_type": "stream",
     "text": [
      "**test1** \n",
      "mean:0.28049645026524833, median:0.27712765336036493, var:0.03294736693357335\n",
      "\n",
      "diferencias (1ras 5)\n",
      " [[0.15412232]\n",
      " [0.00119683]\n",
      " [0.52420211]\n",
      " [0.18816489]\n",
      " [0.44920214]]\n"
     ]
    },
    {
     "data": {
      "image/png": "[encoded data removed]",
      "text/plain": [
       "<Figure size 432x288 with 1 Axes>"
      ]
     },
     "metadata": {
      "needs_background": "light"
     },
     "output_type": "display_data"
    },
    {
     "name": "stdout",
     "output_type": "stream",
     "text": [
      "**test2** \n",
      "mean:0.17362987995147663, median:0.10571867999649001, var:0.03339453656351502\n",
      "\n",
      "diferencias (1ras 5)\n",
      " [[0.02637367]\n",
      " [0.36597842]\n",
      " [0.00199376]\n",
      " [0.18506369]\n",
      " [0.00154382]]\n"
     ]
    },
    {
     "data": {
      "image/png": "[encoded data removed]",
      "text/plain": [
       "<Figure size 432x288 with 1 Axes>"
      ]
     },
     "metadata": {
      "needs_background": "light"
     },
     "output_type": "display_data"
    },
    {
     "name": "stdout",
     "output_type": "stream",
     "text": [
      "**test-prob-2** \n",
      "mean:0.1955362009725583, median:0.15579982155990502, var:0.026232946367796883\n",
      "\n",
      "diferencias (1ras 5)\n",
      " [[0.08444966]\n",
      " [0.01745335]\n",
      " [0.38049795]\n",
      " [0.03754116]\n",
      " [0.22714998]]\n"
     ]
    },
    {
     "data": {
      "image/png": "[encoded data removed]",
      "text/plain": [
       "<Figure size 432x288 with 1 Axes>"
      ]
     },
     "metadata": {
      "needs_background": "light"
     },
     "output_type": "display_data"
    },
    {
     "name": "stdout",
     "output_type": "stream",
     "text": [
      "**test-prob-1** \n",
      "mean:0.24586289046350998, median:0.27052745223045, var:0.02408121851381548\n",
      "\n",
      "diferencias (1ras 5)\n",
      " [[0.08367352]\n",
      " [0.02978522]\n",
      " [0.37989427]\n",
      " [0.18590266]\n",
      " [0.44076942]]\n"
     ]
    },
    {
     "data": {
      "image/png": "[encoded data removed]",
      "text/plain": [
       "<Figure size 432x288 with 1 Axes>"
      ]
     },
     "metadata": {
      "needs_background": "light"
     },
     "output_type": "display_data"
    },
    {
     "name": "stdout",
     "output_type": "stream",
     "text": [
      "**test_completo_1000_2** \n",
      "mean:0.00014783484324052087, median:0.0001240433563849952, var:1.2827871816216632e-08\n",
      "\n",
      "diferencias (1ras 5)\n",
      " [[1.21625829e-04]\n",
      " [8.32627987e-05]\n",
      " [1.01181266e-04]\n",
      " [1.42712755e-04]\n",
      " [7.87464786e-05]]\n"
     ]
    },
    {
     "data": {
      "image/png": "[encoded data removed]",
      "text/plain": [
       "<Figure size 432x288 with 1 Axes>"
      ]
     },
     "metadata": {
      "needs_background": "light"
     },
     "output_type": "display_data"
    },
    {
     "name": "stdout",
     "output_type": "stream",
     "text": [
      "**test_completo_100_4** \n",
      "mean:0.002223229173604895, median:0.0017905651633750297, var:2.7842619414452823e-06\n",
      "\n",
      "diferencias (1ras 5)\n",
      " [[0.00195965]\n",
      " [0.00201691]\n",
      " [0.00249318]\n",
      " [0.00107581]\n",
      " [0.00114319]]\n"
     ]
    },
    {
     "data": {
      "image/png": "[encoded data removed]",
      "text/plain": [
       "<Figure size 432x288 with 1 Axes>"
      ]
     },
     "metadata": {
      "needs_background": "light"
     },
     "output_type": "display_data"
    },
    {
     "name": "stdout",
     "output_type": "stream",
     "text": [
      "**test_completo_100_8** \n",
      "mean:0.002458580514952394, median:0.0018897944029499514, var:3.928459009445376e-06\n",
      "\n",
      "diferencias (1ras 5)\n",
      " [[0.00127652]\n",
      " [0.00091015]\n",
      " [0.00079607]\n",
      " [0.00100784]\n",
      " [0.00373342]]\n"
     ]
    },
    {
     "data": {
      "image/png": "[encoded data removed]",
      "text/plain": [
       "<Figure size 432x288 with 1 Axes>"
      ]
     },
     "metadata": {
      "needs_background": "light"
     },
     "output_type": "display_data"
    },
    {
     "name": "stdout",
     "output_type": "stream",
     "text": [
      "**test_completo_10_1** \n",
      "mean:0.027778170226956056, median:0.013889338397400058, var:0.0006558588556385387\n",
      "\n",
      "diferencias (1ras 5)\n",
      " [[0.01388933]\n",
      " [0.01388934]\n",
      " [0.04166701]\n",
      " [0.01388934]\n",
      " [0.01388933]]\n"
     ]
    },
    {
     "data": {
      "image/png": "[encoded data removed]",
      "text/plain": [
       "<Figure size 432x288 with 1 Axes>"
      ]
     },
     "metadata": {
      "needs_background": "light"
     },
     "output_type": "display_data"
    },
    {
     "name": "stdout",
     "output_type": "stream",
     "text": [
      "**test_completo_1000_8** \n",
      "mean:0.00023815971876753954, median:0.00019529397582002117, var:3.248159341762632e-08\n",
      "\n",
      "diferencias (1ras 5)\n",
      " [[2.82045985e-04]\n",
      " [5.60867186e-04]\n",
      " [5.20191952e-05]\n",
      " [3.17350896e-04]\n",
      " [2.90533405e-04]]\n"
     ]
    },
    {
     "data": {
      "image/png": "[encoded data removed]",
      "text/plain": [
       "<Figure size 432x288 with 1 Axes>"
      ]
     },
     "metadata": {
      "needs_background": "light"
     },
     "output_type": "display_data"
    }
   ],
   "source": [
    "for finput in testsFiles():\n",
    "    expected = pd.read_table(finput.replace(\".in\", \".expected\"), names = [\"expected\"])\n",
    "    output = pd.read_table(finput.replace(\".in\", \".out\"), names = [\"output\"])\n",
    "\n",
    "    data = pd.concat([expected, output], axis=1)\n",
    "    dif = np.absolute(np.array(expected) - np.array(output))\n",
    "\n",
    "    testname = finput.split(\"/\")[-1].replace(\".in\", \"\")\n",
    "\n",
    "    print(f\"**{testname}** \\nmean:{dif.mean()}, median:{np.median(dif)}, var:{dif.var()}\")\n",
    "    print(\"\\ndiferencias (1ras 5)\\n\", dif[:5])\n",
    "\n",
    "    sns.boxplot(y=dif)\n",
    "    plt.title(testname)\n",
    "    plt.xlabel(\"Error absoluto\")\n",
    "    plt.show()\n",
    "        "
   ]
  },
  {
   "cell_type": "code",
   "execution_count": null,
   "metadata": {},
   "outputs": [],
   "source": []
  }
 ],
 "metadata": {
  "kernelspec": {
   "display_name": "Python 3",
   "language": "python",
   "name": "python3"
  },
  "language_info": {
   "codemirror_mode": {
    "name": "ipython",
    "version": 3
   },
   "file_extension": ".py",
   "mimetype": "text/x-python",
   "name": "python",
   "nbconvert_exporter": "python",
   "pygments_lexer": "ipython3",
   "version": "3.8.2"
  }
 },
 "nbformat": 4,
 "nbformat_minor": 4
}
