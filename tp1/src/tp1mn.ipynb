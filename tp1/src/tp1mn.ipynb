{
 "cells": [
  {
   "cell_type": "code",
   "execution_count": 48,
   "metadata": {},
   "outputs": [],
   "source": [
    "import os\n",
    "from fnmatch import fnmatch\n",
    "\n",
    "import numpy as np\n",
    "import pandas as pd\n",
    "import matplotlib.pyplot as plt\n",
    "import seaborn as sns\n",
    "\n",
    "%matplotlib inline"
   ]
  },
  {
   "cell_type": "code",
   "execution_count": 51,
   "metadata": {},
   "outputs": [],
   "source": [
    "def listfiles(root, pattern):\n",
    "    for path, subdirs, files in os.walk(root):\n",
    "        for name in files:\n",
    "            if fnmatch(name, pattern):\n",
    "                yield os.path.join(path, name)"
   ]
  },
  {
   "cell_type": "code",
   "execution_count": 40,
   "metadata": {},
   "outputs": [],
   "source": [
    "dataDirectory = \"../data/\"\n",
    "testsDirectory = \"tests/\"\n",
    "testsCompletosDiretory = \"tests/test_completos/\""
   ]
  },
  {
   "cell_type": "code",
   "execution_count": 43,
   "metadata": {},
   "outputs": [
    {
     "data": {
      "text/plain": [
       "-9.934104992318874e-09"
      ]
     },
     "execution_count": 43,
     "metadata": {},
     "output_type": "execute_result"
    }
   ],
   "source": [
    "path = testsDirectory\n",
    "filename = \"test1\"\n",
    "\n",
    "expected = pd.read_table(f\"{path}{filename}.expected\", names = [\"expected\"])\n",
    "output = pd.read_table(f\"{path}{filename}.out\", names = [\"output\"])\n",
    "\n",
    "data = pd.concat([expected, output], axis=1)\n",
    "dif = np.array(expected) - np.array(output)\n"
   ]
  },
  {
   "cell_type": "code",
   "execution_count": null,
   "metadata": {},
   "outputs": [
    {
     "name": "stdout",
     "output_type": "stream",
     "text": [
      "**test1** \n",
      "mean:-9.934104992318874e-09, median:-9.021750013715746e-10, var:5.847516210544862e-14\n",
      "\n",
      "diferencias (1ras 5)\n",
      " [[ 3.2279778e-07]\n",
      " [ 1.7449570e-07]\n",
      " [ 1.0838318e-07]\n",
      " [-1.1018753e-07]\n",
      " [-1.3818550e-07]]\n"
     ]
    },
    {
     "data": {
      "image/png": "[encoded data removed]",
      "text/plain": [
       "<Figure size 432x288 with 1 Axes>"
      ]
     },
     "metadata": {
      "needs_background": "light"
     },
     "output_type": "display_data"
    },
    {
     "name": "stdout",
     "output_type": "stream",
     "text": [
      "**test2** \n",
      "mean:9.934106676157128e-09, median:-5.010032494423555e-08, var:7.951325543214004e-14\n",
      "\n",
      "diferencias (1ras 5)\n",
      " [[-3.2995415e-07]\n",
      " [ 4.1978073e-07]\n",
      " [-2.4007416e-07]\n",
      " [ 3.1005287e-07]\n",
      " [-1.8009567e-07]]\n"
     ]
    },
    {
     "data": {
      "image/png": "[encoded data removed]",
      "text/plain": [
       "<Figure size 432x288 with 1 Axes>"
      ]
     },
     "metadata": {
      "needs_background": "light"
     },
     "output_type": "display_data"
    }
   ],
   "source": [
    "for path in [dataDirectory, testsDirectory]:\n",
    "    for filename in listfiles(path, \"*.in\"):\n",
    "        expected = pd.read_table(filename.replace(\".in\", \".expected\"), names = [\"expected\"])\n",
    "        output = pd.read_table(filename.replace(\".in\", \".out\"), names = [\"output\"])\n",
    "        \n",
    "        data = pd.concat([expected, output], axis=1)\n",
    "        dif = np.array(expected) - np.array(output)\n",
    "        \n",
    "        testname = filename.split(\"/\")[-1].replace(\".in\", \"\")\n",
    "        \n",
    "        print(f\"**{testname}** \\nmean:{dif.mean()}, median:{np.median(dif)}, var:{dif.var()}\")\n",
    "        print(\"\\ndiferencias (1ras 5)\\n\", dif[:5])\n",
    "        \n",
    "        sns.boxplot(y=dif)\n",
    "        plt.title(testname)\n",
    "        plt.show()\n",
    "        "
   ]
  },
  {
   "cell_type": "code",
   "execution_count": null,
   "metadata": {},
   "outputs": [],
   "source": []
  }
 ],
 "metadata": {
  "kernelspec": {
   "display_name": "Python 3",
   "language": "python",
   "name": "python3"
  },
  "language_info": {
   "codemirror_mode": {
    "name": "ipython",
    "version": 3
   },
   "file_extension": ".py",
   "mimetype": "text/x-python",
   "name": "python",
   "nbconvert_exporter": "python",
   "pygments_lexer": "ipython3",
   "version": "3.8.2"
  }
 },
 "nbformat": 4,
 "nbformat_minor": 4
}
