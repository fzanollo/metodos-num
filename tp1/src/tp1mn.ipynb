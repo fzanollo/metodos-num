{
 "cells": [
  {
   "cell_type": "markdown",
   "metadata": {},
   "source": [
    "# Preguntas del enunciado"
   ]
  },
  {
   "cell_type": "markdown",
   "metadata": {},
   "source": [
    "$C_{ij} = \n",
    "\\begin{cases}\n",
    "    -n_{ij} \\hspace{1.4cm} i \\neq j\\\\\n",
    "    2 + n_{i} \\hspace{1cm} i = j\n",
    "\\end{cases}\n",
    "$"
   ]
  },
  {
   "cell_type": "markdown",
   "metadata": {},
   "source": [
    "## 1. ¿Qué tipo de matriz resulta C?"
   ]
  },
  {
   "cell_type": "markdown",
   "metadata": {},
   "source": [
    "La matriz de Colley resulta: \n",
    "1. **simétrica** [[1]](#1)  \n",
    "    $C_{ij} = C_{ji}$ ya que la cantidad de partidos jugados entre $i,j$ es la misma que $j,i$. Luego $C = C^{t}$\n",
    "\n",
    "\n",
    "2. **diagonal dominante**  \n",
    "    Por definición la matriz tiene en la diagonal los partidos jugados por el equipo $i$ ($n_i$) y en el resto los partidos jugados entre los equipos $i$, $j$ ($n_{ij}$).  \n",
    "    Trivialmente pordemos ver que $n_{ij} \\leq n_i$ ya que $\\sum_{j \\neq i}n_{ij} = n_i$  \n",
    "    Luego $|C_{ii}| \\geq \\sum_{j \\neq i}|C_{ji}| \\ \\ \\forall i, j $"
   ]
  },
  {
   "cell_type": "markdown",
   "metadata": {},
   "source": [
    "## 2. ¿Cómo se garantiza la aplicabilidad de EG sin intercambio de filas o columnas?"
   ]
  },
  {
   "cell_type": "markdown",
   "metadata": {},
   "source": [
    "La matriz de Colley es una **matriz diagonal dominante**, luego según podemos ver en [[2]](#2) una propiedad de estas matrices es que no necesitan permutaciones para aplicar EG. **TODO: explicar esto mejor y (quizás) buscar una fuente que no sea wikipedia**"
   ]
  },
  {
   "cell_type": "markdown",
   "metadata": {},
   "source": [
    "## 3. ¿Qué se puede decir sobre la estabilidad de los cálculos?"
   ]
  },
  {
   "cell_type": "markdown",
   "metadata": {},
   "source": [
    "Que pueden llegar a ser muy inestables, debido a la aritmética finita de la computadora[3].\n",
    "**TODO: PONER EJEMPLO DE CUANDO PASA**"
   ]
  },
  {
   "cell_type": "markdown",
   "metadata": {},
   "source": [
    "## justificación de por qué funciona correctamente EG\n",
    "Además, sabemos que existen casos donde el algoritmo EG no puede encontrar una\n",
    "solución. Se debe incluir en el desarrollo una justificación sobre por qué el algoritmo\n",
    "funciona correctamente en el caso del método CMM."
   ]
  },
  {
   "cell_type": "markdown",
   "metadata": {},
   "source": [
    "## Referencias\n",
    "<a id=\"1\">[1]</a> \n",
    "**Colley’s Bias Free College Football Ranking Method**, Wesley N. Colley (2002) Princeton University.\n",
    "\n",
    "<a id=\"2\">[2]</a> \n",
    "**<a href=\"https://en.wikipedia.org/wiki/Diagonally_dominant_matrix#Applications_and_properties\">Wikipedia, Diagonally dominant Matrix</a>**\n",
    "\n",
    "<a id=\"3\">[3]</a> \n",
    "**<a href=\"https://docs.oracle.com/cd/E19957-01/806-3568/ncg_goldberg.html\">What Every Computer Scientist Should Know About Floating-Point Arithmetic</a>** David Goldberg (1991)"
   ]
  },
  {
   "cell_type": "markdown",
   "metadata": {},
   "source": [
    "# Experimentación"
   ]
  },
  {
   "cell_type": "code",
   "execution_count": 48,
   "metadata": {},
   "outputs": [],
   "source": [
    "import os\n",
    "from fnmatch import fnmatch\n",
    "\n",
    "import numpy as np\n",
    "import pandas as pd\n",
    "import matplotlib.pyplot as plt\n",
    "import seaborn as sns\n",
    "\n",
    "%matplotlib inline"
   ]
  },
  {
   "cell_type": "code",
   "execution_count": 51,
   "metadata": {},
   "outputs": [],
   "source": [
    "def listfiles(root, pattern):\n",
    "    for path, subdirs, files in os.walk(root):\n",
    "        for name in files:\n",
    "            if fnmatch(name, pattern):\n",
    "                yield os.path.join(path, name)"
   ]
  },
  {
   "cell_type": "code",
   "execution_count": 40,
   "metadata": {},
   "outputs": [],
   "source": [
    "dataDirectory = \"../data/\"\n",
    "testsDirectory = \"tests/\"\n",
    "testsCompletosDiretory = \"tests/test_completos/\""
   ]
  },
  {
   "cell_type": "code",
   "execution_count": 74,
   "metadata": {},
   "outputs": [
    {
     "name": "stdout",
     "output_type": "stream",
     "text": [
      "**test1** \n",
      "mean:2.118263250083796e-07, median:1.5634059999380945e-07, var:1.3703456580891367e-14\n",
      "\n",
      "diferencias (1ras 5)\n",
      " [[3.2279778e-07]\n",
      " [1.7449570e-07]\n",
      " [1.0838318e-07]\n",
      " [1.1018753e-07]\n",
      " [1.3818550e-07]]\n"
     ]
    },
    {
     "data": {
      "image/png": "[encoded data removed]",
      "text/plain": [
       "<Figure size 432x288 with 1 Axes>"
      ]
     },
     "metadata": {
      "needs_background": "light"
     },
     "output_type": "display_data"
    },
    {
     "name": "stdout",
     "output_type": "stream",
     "text": [
      "**test2** \n",
      "mean:2.599754333569108e-07, median:2.75063514992846e-07, var:1.2024715958479739e-14\n",
      "\n",
      "diferencias (1ras 5)\n",
      " [[3.2995415e-07]\n",
      " [4.1978073e-07]\n",
      " [2.4007416e-07]\n",
      " [3.1005287e-07]\n",
      " [1.8009567e-07]]\n"
     ]
    },
    {
     "data": {
      "image/png": "[encoded data removed]",
      "text/plain": [
       "<Figure size 432x288 with 1 Axes>"
      ]
     },
     "metadata": {
      "needs_background": "light"
     },
     "output_type": "display_data"
    },
    {
     "name": "stdout",
     "output_type": "stream",
     "text": [
      "**test-prob-2** \n",
      "mean:1.7064062834970528e-07, median:1.3310146501632758e-07, var:1.6545625402116708e-14\n",
      "\n",
      "diferencias (1ras 5)\n",
      " [[3.35700990e-07]\n",
      " [3.48636630e-07]\n",
      " [5.21240200e-08]\n",
      " [1.57007220e-07]\n",
      " [2.11792001e-08]]\n"
     ]
    },
    {
     "data": {
      "image/png": "[encoded data removed]",
      "text/plain": [
       "<Figure size 432x288 with 1 Axes>"
      ]
     },
     "metadata": {
      "needs_background": "light"
     },
     "output_type": "display_data"
    },
    {
     "name": "stdout",
     "output_type": "stream",
     "text": [
      "**test-prob-1** \n",
      "mean:3.3128293328947106e-07, median:3.084545149578677e-07, var:8.672803244347767e-15\n",
      "\n",
      "diferencias (1ras 5)\n",
      " [[4.7758293e-07]\n",
      " [2.2181511e-07]\n",
      " [2.7203369e-07]\n",
      " [3.4487534e-07]\n",
      " [4.2205429e-07]]\n"
     ]
    },
    {
     "data": {
      "image/png": "[encoded data removed]",
      "text/plain": [
       "<Figure size 432x288 with 1 Axes>"
      ]
     },
     "metadata": {
      "needs_background": "light"
     },
     "output_type": "display_data"
    },
    {
     "name": "stdout",
     "output_type": "stream",
     "text": [
      "**test_completo_1000_2** \n",
      "mean:2.137821759678027e-05, median:1.1807379460049283e-05, var:5.101689303415971e-08\n",
      "\n",
      "diferencias (1ras 5)\n",
      " [[3.21762583e-03]\n",
      " [1.42627987e-05]\n",
      " [9.18126631e-06]\n",
      " [1.22872447e-05]\n",
      " [1.42535214e-05]]\n"
     ]
    },
    {
     "data": {
      "image/png": "[encoded data removed]",
      "text/plain": [
       "<Figure size 432x288 with 1 Axes>"
      ]
     },
     "metadata": {
      "needs_background": "light"
     },
     "output_type": "display_data"
    },
    {
     "name": "stdout",
     "output_type": "stream",
     "text": [
      "**test_completo_100_4** \n",
      "mean:0.0011523573354296974, median:0.00024142266194998596, var:4.147488442840873e-05\n",
      "\n",
      "diferencias (1ras 5)\n",
      " [[0.05061235]\n",
      " [0.00013391]\n",
      " [0.00023582]\n",
      " [0.00013781]\n",
      " [0.00055581]]\n"
     ]
    },
    {
     "data": {
      "image/png": "[encoded data removed]",
      "text/plain": [
       "<Figure size 432x288 with 1 Axes>"
      ]
     },
     "metadata": {
      "needs_background": "light"
     },
     "output_type": "display_data"
    },
    {
     "name": "stdout",
     "output_type": "stream",
     "text": [
      "**test_completo_100_8** \n",
      "mean:0.0028381742101514108, median:0.0006044158999350124, var:0.00023882073883625652\n",
      "\n",
      "diferencias (1ras 5)\n",
      " [[1.02622476e-01]\n",
      " [1.28147129e-04]\n",
      " [8.39334283e-05]\n",
      " [1.08838549e-04]\n",
      " [9.96424046e-04]]\n"
     ]
    },
    {
     "data": {
      "image/png": "[encoded data removed]",
      "text/plain": [
       "<Figure size 432x288 with 1 Axes>"
      ]
     },
     "metadata": {
      "needs_background": "light"
     },
     "output_type": "display_data"
    },
    {
     "name": "stdout",
     "output_type": "stream",
     "text": [
      "**test_completo_10_1** \n",
      "mean:0.05833333115861996, median:0.016666665963614963, var:0.007833333779322105\n",
      "\n",
      "diferencias (1ras 5)\n",
      " [[0.15833333]\n",
      " [0.01666666]\n",
      " [0.01666699]\n",
      " [0.01666634]\n",
      " [0.01666667]]\n"
     ]
    },
    {
     "data": {
      "image/png": "[encoded data removed]",
      "text/plain": [
       "<Figure size 432x288 with 1 Axes>"
      ]
     },
     "metadata": {
      "needs_background": "light"
     },
     "output_type": "display_data"
    },
    {
     "name": "stdout",
     "output_type": "stream",
     "text": [
      "**test_completo_1000_8** \n",
      "mean:9.115774836087958e-05, median:7.553140970500971e-05, var:1.538871546451828e-07\n",
      "\n",
      "diferencias (1ras 5)\n",
      " [[1.18879540e-02]\n",
      " [6.78671862e-05]\n",
      " [7.80191952e-05]\n",
      " [7.46491043e-05]\n",
      " [8.14665945e-05]]\n"
     ]
    },
    {
     "data": {
      "image/png": "[encoded data removed]",
      "text/plain": [
       "<Figure size 432x288 with 1 Axes>"
      ]
     },
     "metadata": {
      "needs_background": "light"
     },
     "output_type": "display_data"
    }
   ],
   "source": [
    "for path in [dataDirectory, testsDirectory]:\n",
    "    for filename in listfiles(path, \"*.in\"):\n",
    "        expected = pd.read_table(filename.replace(\".in\", \".expected\"), names = [\"expected\"])\n",
    "        output = pd.read_table(filename.replace(\".in\", \".out\"), names = [\"output\"])\n",
    "        \n",
    "        data = pd.concat([expected, output], axis=1)\n",
    "        dif = np.absolute(np.array(expected) - np.array(output))\n",
    "        \n",
    "        testname = filename.split(\"/\")[-1].replace(\".in\", \"\")\n",
    "        \n",
    "        print(f\"**{testname}** \\nmean:{dif.mean()}, median:{np.median(dif)}, var:{dif.var()}\")\n",
    "        print(\"\\ndiferencias (1ras 5)\\n\", dif[:5])\n",
    "        \n",
    "        sns.boxplot(y=dif)\n",
    "        plt.title(testname)\n",
    "        plt.xlabel(\"Error absoluto\")\n",
    "        plt.show()\n",
    "        "
   ]
  },
  {
   "cell_type": "code",
   "execution_count": null,
   "metadata": {},
   "outputs": [],
   "source": []
  }
 ],
 "metadata": {
  "kernelspec": {
   "display_name": "Python 3",
   "language": "python",
   "name": "python3"
  },
  "language_info": {
   "codemirror_mode": {
    "name": "ipython",
    "version": 3
   },
   "file_extension": ".py",
   "mimetype": "text/x-python",
   "name": "python",
   "nbconvert_exporter": "python",
   "pygments_lexer": "ipython3",
   "version": "3.8.2"
  }
 },
 "nbformat": 4,
 "nbformat_minor": 4
}
