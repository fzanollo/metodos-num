{
 "cells": [
  {
   "cell_type": "markdown",
   "metadata": {},
   "source": [
    "# Preguntas del enunciado"
   ]
  },
  {
   "cell_type": "markdown",
   "metadata": {},
   "source": [
    "$C_{ij} = \n",
    "\\begin{cases}\n",
    "    -n_{ij} \\hspace{1.4cm} i \\neq j\\\\\n",
    "    2 + n_{i} \\hspace{1cm} i = j\n",
    "\\end{cases}\n",
    "$"
   ]
  },
  {
   "cell_type": "markdown",
   "metadata": {},
   "source": [
    "## 1. ¿Qué tipo de matriz resulta C?"
   ]
  },
  {
   "cell_type": "markdown",
   "metadata": {},
   "source": [
    "La matriz de Colley resulta: \n",
    "1. **simétrica** [[1]](#1)  \n",
    "    $C_{ij} = C_{ji}$ ya que la cantidad de partidos jugados entre $i,j$ es la misma que $j,i$. Luego $C = C^{t}$\n",
    "\n",
    "\n",
    "2. **estricta diagonal dominante**  \n",
    "    Por definición la matriz tiene en la diagonal los partidos jugados por el equipo $i$ ($n_i$) y en el resto los partidos jugados entre los equipos $i$, $j$ ($n_{ij}$).  \n",
    "    Trivialmente pordemos ver que $n_{ij} \\leq n_i$ ya que $\\sum_{j \\neq i}n_{ij} = n_i$  \n",
    "    Luego $|C_{ii}| > \\sum_{j \\neq i}|C_{ji}| \\ \\ \\forall i, j $ ya que a $n_i$ se le suma 2."
   ]
  },
  {
   "cell_type": "markdown",
   "metadata": {},
   "source": [
    "## 2. ¿Cómo se garantiza la aplicabilidad de EG sin intercambio de filas o columnas?"
   ]
  },
  {
   "cell_type": "markdown",
   "metadata": {},
   "source": [
    "La matriz de Colley es una **matriz diagonal dominante**, luego según podemos ver en [[2]](#2) una propiedad de estas matrices es que no necesitan permutaciones para aplicar EG. **TODO: explicar esto mejor y (quizás) buscar una fuente que no sea wikipedia**"
   ]
  },
  {
   "cell_type": "markdown",
   "metadata": {},
   "source": [
    "## 3. ¿Qué se puede decir sobre la estabilidad de los cálculos?"
   ]
  },
  {
   "cell_type": "markdown",
   "metadata": {},
   "source": [
    "Que pueden llegar a ser muy inestables, debido a la aritmética finita de la computadora[3].\n",
    "\n",
    "Un pequeño ejemplo:\n",
    "\n",
    "$\\begin{pmatrix}\n",
    "    5 & -1 & -1 & -1 \\\\\n",
    "    -1 & 4 & 0 & -1 \\\\\n",
    "    -1 & 0 & 5 & -2 \\\\\n",
    "    -1 & -1 & -2 & 6 \\\\\n",
    "\\end{pmatrix}$\n",
    "\n",
    "Luego de correr EG debería quedar:\n",
    "\n",
    "$\\begin{pmatrix}\n",
    "    5 & -1 & -1 & -1 \\\\\n",
    "    0 & \\frac{19}{5} & -\\frac{1}{5} & -\\frac{6}{5} \\\\\n",
    "    0 & 0 & \\frac{91}{19} & -\\frac{43}{19} \\\\\n",
    "    0 & 0 & 0 & \\frac{396}{91} \\\\\n",
    "\\end{pmatrix}$\n",
    "\n",
    "Pero por culpa de la falta de precisión de los double (**explicar mejor**) queda:\n",
    "\n",
    "$\\begin{pmatrix}\n",
    "    5 & -1 & -1 & -1 \\\\\n",
    "    0 & 3.8 & -0.2 & -1.2 \\\\\n",
    "    0 & 0 & 4.78947 & -2.26316 \\\\\n",
    "    0 & 0 & 0 & 4.35165 \\\\\n",
    "\\end{pmatrix}$\n",
    "\n",
    "Se puede ver que $\\frac{396}{91} \\approxeq 4.351648352$ teniendo una diferencia de $0.00000165$ con $4.35165$.\n",
    "Difieren poco pero es un caso chico, este error se podría repetir y acarrear terminando en un valor en esa posición y luego uno de ranking muy diferente al esperado."
   ]
  },
  {
   "cell_type": "markdown",
   "metadata": {},
   "source": [
    "## justificación de por qué funciona correctamente EG\n",
    "Además, sabemos que existen casos donde el algoritmo EG no puede encontrar una\n",
    "solución. Se debe incluir en el desarrollo una justificación sobre por qué el algoritmo\n",
    "funciona correctamente en el caso del método CMM."
   ]
  },
  {
   "cell_type": "markdown",
   "metadata": {},
   "source": [
    "## Referencias\n",
    "<a id=\"1\">[1]</a> \n",
    "**Colley’s Bias Free College Football Ranking Method**, Wesley N. Colley (2002) Princeton University.\n",
    "\n",
    "<a id=\"2\">[2]</a> \n",
    "**<a href=\"https://en.wikipedia.org/wiki/Diagonally_dominant_matrix#Applications_and_properties\">Wikipedia, Diagonally dominant Matrix</a>**\n",
    "\n",
    "<a id=\"3\">[3]</a> \n",
    "**<a href=\"https://docs.oracle.com/cd/E19957-01/806-3568/ncg_goldberg.html\">What Every Computer Scientist Should Know About Floating-Point Arithmetic</a>** David Goldberg (1991)"
   ]
  },
  {
   "cell_type": "markdown",
   "metadata": {},
   "source": [
    "# Codigo"
   ]
  },
  {
   "cell_type": "code",
   "execution_count": 97,
   "metadata": {},
   "outputs": [],
   "source": [
    "import numpy as np\n",
    "import pandas as pd\n",
    "import matplotlib.pyplot as plt\n",
    "import seaborn as sns\n",
    "from scipy.linalg import cho_factor, cho_solve\n",
    "\n",
    "from scripts.utils import listfiles\n",
    "from subprocess import *\n",
    "\n",
    "%matplotlib inline"
   ]
  },
  {
   "cell_type": "code",
   "execution_count": 44,
   "metadata": {},
   "outputs": [],
   "source": [
    "dataDirectory = \"../data/\" #.dat files\n",
    "testsDirectory = \"tests/\" #.in files\n",
    "nuestrosTestsDirectory = \"nuestrosTests/\" #.in files\n",
    "\n",
    "executable = \"./tp\""
   ]
  },
  {
   "cell_type": "code",
   "execution_count": 66,
   "metadata": {},
   "outputs": [],
   "source": [
    "def runTp(input, output, algor):\n",
    "    check_call([executable, input, output] + [algor], stdin=None, stdout=PIPE, stderr=PIPE)\n",
    "    \n",
    "def dataFiles():\n",
    "    return list(listfiles(dataDirectory, \"*.dat\"))\n",
    "        \n",
    "def testsFiles():\n",
    "    return list(listfiles(testsDirectory, \"*.in\"))"
   ]
  },
  {
   "cell_type": "markdown",
   "metadata": {},
   "source": [
    "### correr todos los casos para todos los algoritmos"
   ]
  },
  {
   "cell_type": "code",
   "execution_count": 76,
   "metadata": {},
   "outputs": [],
   "source": [
    "#build\n",
    "!python3 metnum.py build\n",
    "\n",
    "opcionesAlgoritmos = [('CMM', '0'), ('WP', '1')]\n",
    "\n",
    "for name, op in opcionesAlgoritmos:\n",
    "    for finput in dataFiles() + testsFiles():\n",
    "        foutput = finput.replace(\".dat\", f\"_{name}.out\").replace(\".in\", f\"_{name}.out\")\n",
    "        runTp(finput, foutput, op)"
   ]
  },
  {
   "cell_type": "markdown",
   "metadata": {},
   "source": [
    "### correr caso particular"
   ]
  },
  {
   "cell_type": "code",
   "execution_count": 96,
   "metadata": {},
   "outputs": [
    {
     "data": {
      "text/html": [
       "<div>\n",
       "<style scoped>\n",
       "    .dataframe tbody tr th:only-of-type {\n",
       "        vertical-align: middle;\n",
       "    }\n",
       "\n",
       "    .dataframe tbody tr th {\n",
       "        vertical-align: top;\n",
       "    }\n",
       "\n",
       "    .dataframe thead th {\n",
       "        text-align: right;\n",
       "    }\n",
       "</style>\n",
       "<table border=\"1\" class=\"dataframe\">\n",
       "  <thead>\n",
       "    <tr style=\"text-align: right;\">\n",
       "      <th></th>\n",
       "      <th>CMM</th>\n",
       "      <th>WP</th>\n",
       "    </tr>\n",
       "  </thead>\n",
       "  <tbody>\n",
       "    <tr>\n",
       "      <th>0</th>\n",
       "      <td>0.864293</td>\n",
       "      <td>1.000000</td>\n",
       "    </tr>\n",
       "    <tr>\n",
       "      <th>1</th>\n",
       "      <td>0.430528</td>\n",
       "      <td>0.719424</td>\n",
       "    </tr>\n",
       "    <tr>\n",
       "      <th>2</th>\n",
       "      <td>0.153884</td>\n",
       "      <td>0.217054</td>\n",
       "    </tr>\n",
       "    <tr>\n",
       "      <th>3</th>\n",
       "      <td>0.551295</td>\n",
       "      <td>1.000000</td>\n",
       "    </tr>\n",
       "  </tbody>\n",
       "</table>\n",
       "</div>"
      ],
      "text/plain": [
       "        CMM        WP\n",
       "0  0.864293  1.000000\n",
       "1  0.430528  0.719424\n",
       "2  0.153884  0.217054\n",
       "3  0.551295  1.000000"
      ]
     },
     "execution_count": 96,
     "metadata": {},
     "output_type": "execute_result"
    }
   ],
   "source": [
    "!python3 metnum.py build\n",
    "\n",
    "opcionesAlgoritmos = [('CMM', '0'), ('WP', '1')]\n",
    "data = pd.DataFrame()\n",
    "\n",
    "finput = dataDirectory + \"casoscmm.dat\"\n",
    "\n",
    "for name, op in opcionesAlgoritmos:\n",
    "    foutput = finput.replace(\".dat\", f\"_{name}.out\").replace(\".in\", f\"_{name}.out\")\n",
    "    runTp(finput, foutput, op)\n",
    "    res = pd.read_table(foutput, names=[name])\n",
    "    data[name] = res[name]\n",
    "    \n",
    "data"
   ]
  },
  {
   "cell_type": "markdown",
   "metadata": {},
   "source": [
    "# Experimentación"
   ]
  },
  {
   "cell_type": "markdown",
   "metadata": {},
   "source": [
    "## Error absoluto por aritmética finita"
   ]
  },
  {
   "cell_type": "markdown",
   "metadata": {},
   "source": [
    "### vs tests catedra"
   ]
  },
  {
   "cell_type": "code",
   "execution_count": 240,
   "metadata": {},
   "outputs": [
    {
     "name": "stdout",
     "output_type": "stream",
     "text": [
      "**test1** \n",
      "mean:2.118263250083796e-07, median:1.5634059999380945e-07, var:1.3703456580891367e-14\n",
      "\n",
      "diferencias (ultimas 5)\n",
      " [[1.7449570e-07]\n",
      " [1.0838318e-07]\n",
      " [1.1018753e-07]\n",
      " [1.3818550e-07]\n",
      " [4.1690826e-07]]\n"
     ]
    },
    {
     "data": {
      "image/png": "[encoded data removed]",
      "text/plain": [
       "<Figure size 432x288 with 1 Axes>"
      ]
     },
     "metadata": {
      "needs_background": "light"
     },
     "output_type": "display_data"
    },
    {
     "name": "stdout",
     "output_type": "stream",
     "text": [
      "**test2** \n",
      "mean:2.599754333569108e-07, median:2.75063514992846e-07, var:1.2024715958479739e-14\n",
      "\n",
      "diferencias (ultimas 5)\n",
      " [[4.19780730e-07]\n",
      " [2.40074160e-07]\n",
      " [3.10052870e-07]\n",
      " [1.80095670e-07]\n",
      " [7.98950202e-08]]\n"
     ]
    },
    {
     "data": {
      "image/png": "[encoded data removed]",
      "text/plain": [
       "<Figure size 432x288 with 1 Axes>"
      ]
     },
     "metadata": {
      "needs_background": "light"
     },
     "output_type": "display_data"
    },
    {
     "name": "stdout",
     "output_type": "stream",
     "text": [
      "**test-prob-2** \n",
      "mean:1.7064062834970528e-07, median:1.3310146501632758e-07, var:1.6545625402116708e-14\n",
      "\n",
      "diferencias (ultimas 5)\n",
      " [[3.48636630e-07]\n",
      " [5.21240200e-08]\n",
      " [1.57007220e-07]\n",
      " [2.11792001e-08]\n",
      " [1.09195710e-07]]\n"
     ]
    },
    {
     "data": {
      "image/png": "[encoded data removed]",
      "text/plain": [
       "<Figure size 432x288 with 1 Axes>"
      ]
     },
     "metadata": {
      "needs_background": "light"
     },
     "output_type": "display_data"
    },
    {
     "name": "stdout",
     "output_type": "stream",
     "text": [
      "**test-prob-1** \n",
      "mean:3.3128293328947106e-07, median:3.084545149578677e-07, var:8.672803244347767e-15\n",
      "\n",
      "diferencias (ultimas 5)\n",
      " [[2.2181511e-07]\n",
      " [2.7203369e-07]\n",
      " [3.4487534e-07]\n",
      " [4.2205429e-07]\n",
      " [2.4933624e-07]]\n"
     ]
    },
    {
     "data": {
      "image/png": "[encoded data removed]",
      "text/plain": [
       "<Figure size 432x288 with 1 Axes>"
      ]
     },
     "metadata": {
      "needs_background": "light"
     },
     "output_type": "display_data"
    },
    {
     "name": "stdout",
     "output_type": "stream",
     "text": [
      "**test_completo_1000_2** \n",
      "mean:1.4932965938340648e-05, median:1.4922529980004873e-05, var:1.4017548880826774e-13\n",
      "\n",
      "diferencias (ultimas 5)\n",
      " [[1.42968839e-05]\n",
      " [1.50904450e-05]\n",
      " [1.49212903e-05]\n",
      " [1.45502130e-05]\n",
      " [1.55413569e-05]]\n"
     ]
    },
    {
     "data": {
      "image/png": "[encoded data removed]",
      "text/plain": [
       "<Figure size 432x288 with 1 Axes>"
      ]
     },
     "metadata": {
      "needs_background": "light"
     },
     "output_type": "display_data"
    },
    {
     "name": "stdout",
     "output_type": "stream",
     "text": [
      "**test_completo_100_4** \n",
      "mean:8.263856107071366e-07, median:8.14856525033214e-07, var:9.012177928774187e-14\n",
      "\n",
      "diferencias (ultimas 5)\n",
      " [[6.41058890e-07]\n",
      " [7.03634780e-07]\n",
      " [2.64018140e-07]\n",
      " [1.26909544e-06]\n",
      " [1.32870152e-06]]\n"
     ]
    },
    {
     "data": {
      "image/png": "[encoded data removed]",
      "text/plain": [
       "<Figure size 432x288 with 1 Axes>"
      ]
     },
     "metadata": {
      "needs_background": "light"
     },
     "output_type": "display_data"
    },
    {
     "name": "stdout",
     "output_type": "stream",
     "text": [
      "**test_completo_100_8** \n",
      "mean:2.497623989591857e-06, median:2.462933029939718e-06, var:9.779536734784769e-14\n",
      "\n",
      "diferencias (ultimas 5)\n",
      " [[2.94073071e-06]\n",
      " [2.75927931e-06]\n",
      " [2.36860784e-06]\n",
      " [2.18715326e-06]\n",
      " [2.23939955e-06]]\n"
     ]
    },
    {
     "data": {
      "image/png": "[encoded data removed]",
      "text/plain": [
       "<Figure size 432x288 with 1 Axes>"
      ]
     },
     "metadata": {
      "needs_background": "light"
     },
     "output_type": "display_data"
    },
    {
     "name": "stdout",
     "output_type": "stream",
     "text": [
      "**test_completo_10_1** \n",
      "mean:2.7022695603395874e-07, median:3.340363850246053e-07, var:1.697803713119597e-14\n",
      "\n",
      "diferencias (ultimas 5)\n",
      " [[8.79669004e-09]\n",
      " [3.33437680e-07]\n",
      " [3.40193210e-07]\n",
      " [3.36601590e-07]\n",
      " [3.27046910e-07]]\n"
     ]
    },
    {
     "data": {
      "image/png": "[encoded data removed]",
      "text/plain": [
       "<Figure size 432x288 with 1 Axes>"
      ]
     },
     "metadata": {
      "needs_background": "light"
     },
     "output_type": "display_data"
    },
    {
     "name": "stdout",
     "output_type": "stream",
     "text": [
      "**test_completo_1000_8** \n",
      "mean:6.738384033064066e-05, median:6.737821289498624e-05, var:2.0533303574835325e-13\n",
      "\n",
      "diferencias (ultimas 5)\n",
      " [[6.81836220e-05]\n",
      " [6.78348550e-05]\n",
      " [6.73167082e-05]\n",
      " [6.65996990e-05]\n",
      " [6.75230008e-05]]\n"
     ]
    },
    {
     "data": {
      "image/png": "[encoded data removed]",
      "text/plain": [
       "<Figure size 432x288 with 1 Axes>"
      ]
     },
     "metadata": {
      "needs_background": "light"
     },
     "output_type": "display_data"
    }
   ],
   "source": [
    "# vs tests de la catedra\n",
    "for finput in testsFiles():\n",
    "    expected = pd.read_table(finput.replace(\".in\", \".expected\"), names = [\"expected\"])\n",
    "    output = pd.read_table(finput.replace(\".in\", \".out\"), names = [\"output\"])\n",
    "\n",
    "    data = pd.concat([expected, output], axis=1)\n",
    "    dif = np.absolute(np.array(expected) - np.array(output))\n",
    "\n",
    "    testname = finput.split(\"/\")[-1].replace(\".in\", \"\")\n",
    "\n",
    "    print(f\"**{testname}** \\nmean:{dif.mean()}, median:{np.median(dif)}, var:{dif.var()}\")\n",
    "    print(\"\\ndiferencias (ultimas 5)\\n\", dif[-5:])\n",
    "\n",
    "    sns.boxplot(y=dif)\n",
    "    plt.title(testname)\n",
    "    plt.xlabel(\"Error absoluto\")\n",
    "    plt.show()\n",
    "        "
   ]
  },
  {
   "cell_type": "markdown",
   "metadata": {},
   "source": [
    "### vs input propio"
   ]
  },
  {
   "cell_type": "code",
   "execution_count": 194,
   "metadata": {},
   "outputs": [],
   "source": [
    "def readFileAndMakeCb(inputFilename):\n",
    "    infile = open(inputFilename, 'r')\n",
    "    cantEquipos, cantPartidos = [int(x) for x in infile.readline().replace(\"\\n\", \"\").split(\" \")]\n",
    "\n",
    "    c = [[0 for _ in range(cantEquipos)] for _ in range(cantEquipos)]\n",
    "    b = [0 for _ in range(cantEquipos)]\n",
    "\n",
    "    # hidratar sistema\n",
    "    for line in infile:\n",
    "        fecha, eq1, golesI, eq2, golesJ  = [int(x) for x in line.replace(\"\\n\", \"\").split(\" \")]\n",
    "        eqI = eq1-1 #indexs\n",
    "        eqJ = eq2-1\n",
    "\n",
    "        #c_ij = -n_ij\n",
    "        c[eqI][eqJ] -= 1; \n",
    "        c[eqJ][eqI] -= 1;\n",
    "\n",
    "        #c_ii = 2+ni\n",
    "        c[eqI][eqI] += 1;\n",
    "        c[eqJ][eqJ] += 1;\n",
    "\n",
    "        if golesI > golesJ:\n",
    "            b[eqI] += 1; #winner\n",
    "            b[eqJ] -= 1; #loser\n",
    "        else:\n",
    "            b[eqI] -= 1; #loser\n",
    "            b[eqJ] += 1; #winner\n",
    "\n",
    "    for i in range(cantEquipos):\n",
    "        b[i] = 1 + b[i]/2; #en b[i] estaba (wi - li)\n",
    "        c[i][i] += 2; #en c[i][i] estaba ni (falta el +2)\n",
    "    \n",
    "    infile.close()\n",
    "    return c, b\n",
    "\n",
    "def solveWithCholesky(inputFilename):\n",
    "    c, b = readFileAndMakeCb(inputFilename)\n",
    "    A = np.array(c)\n",
    "\n",
    "    c, low = cho_factor(A)\n",
    "    x = cho_solve((c, low), b)\n",
    "\n",
    "#     np.allclose(A @ x - b, np.zeros(len(b)))\n",
    "    return x"
   ]
  },
  {
   "cell_type": "code",
   "execution_count": 233,
   "metadata": {},
   "outputs": [],
   "source": [
    "def jLibreSinoUltimo(eqI, aJugar, ultimo, pnro):\n",
    "    faltanJugar = []\n",
    "    for eqid, faltan in aJugar.items():\n",
    "        if faltan > 0 and eqid != eqI:\n",
    "            faltanJugar.append(eqid)\n",
    "            \n",
    "    if len(faltanJugar) > 0:\n",
    "        return faltanJugar[pnro % len(faltanJugar)]\n",
    "    else:\n",
    "        return ultimo\n",
    "\n",
    "outputFilename = nuestrosTestsDirectory + \"probando.in\"\n",
    "outfile = open(outputFilename, 'w')\n",
    "\n",
    "cantEquipos = 1000\n",
    "\n",
    "aJugar = dict([(eqid, eqid) for eqid in range(1, cantEquipos+1)])\n",
    "partidos = []\n",
    "\n",
    "\n",
    "for eqI in range(1, cantEquipos):\n",
    "    for pnro in range(aJugar[eqI]):\n",
    "        eqJ = jLibreSinoUltimo(eqI, aJugar, cantEquipos, pnro)\n",
    "#         print(f\"{eqI} vs {eqJ}\")\n",
    "        partidos.append(f\"1 {eqI} 1 {eqJ} 0\")\n",
    "        aJugar[eqI] -= 1\n",
    "        aJugar[eqJ] -= 1\n",
    "        \n",
    "outfile.write(f\"{cantEquipos} {len(partidos)}\\n\")\n",
    "outfile.write(\"\\n\".join(partidos))\n",
    "outfile.write(\"\\n\")\n",
    "outfile.close()\n",
    "\n",
    "# readFileAndMakeCb(outputFilename)[0] #show c"
   ]
  },
  {
   "cell_type": "code",
   "execution_count": 238,
   "metadata": {},
   "outputs": [
    {
     "name": "stdout",
     "output_type": "stream",
     "text": [
      "**probando** \n",
      "mean:9.387924844332918e-07, median:3.0294706279687666e-07, var:1.88805527247667e-12\n",
      "\n",
      "diferencias (ultimas 5)\n",
      " [[4.78882021e-06]\n",
      " [5.67986889e-07]\n",
      " [5.30220231e-07]\n",
      " [1.11250262e-06]\n",
      " [3.20455483e-06]]\n"
     ]
    },
    {
     "data": {
      "image/png": "[encoded data removed]",
      "text/plain": [
       "<Figure size 432x288 with 1 Axes>"
      ]
     },
     "metadata": {
      "needs_background": "light"
     },
     "output_type": "display_data"
    }
   ],
   "source": [
    "finput = outputFilename\n",
    "foutput = finput.replace(\".in\", \".out\")\n",
    "\n",
    "# runTp(finput, foutput, '0')\n",
    "\n",
    "expected = pd.DataFrame(solveWithCholesky(finput), columns = [\"expected\"])\n",
    "output = pd.read_table(foutput, names = [\"output\"])\n",
    "\n",
    "data = pd.concat([expected, output], axis=1)\n",
    "dif = np.absolute(np.array(expected) - np.array(output))\n",
    "\n",
    "testname = finput.split(\"/\")[-1].replace(\".in\", \"\")\n",
    "\n",
    "print(f\"**{testname}** \\nmean:{dif.mean()}, median:{np.median(dif)}, var:{dif.var()}\")\n",
    "print(\"\\ndiferencias (ultimas 5)\\n\", dif[-5:])\n",
    "\n",
    "sns.boxplot(y=dif)\n",
    "plt.title(testname)\n",
    "plt.xlabel(\"Error absoluto\")\n",
    "plt.show()\n",
    "# data"
   ]
  },
  {
   "cell_type": "code",
   "execution_count": null,
   "metadata": {},
   "outputs": [],
   "source": []
  }
 ],
 "metadata": {
  "kernelspec": {
   "display_name": "Python 3",
   "language": "python",
   "name": "python3"
  },
  "language_info": {
   "codemirror_mode": {
    "name": "ipython",
    "version": 3
   },
   "file_extension": ".py",
   "mimetype": "text/x-python",
   "name": "python",
   "nbconvert_exporter": "python",
   "pygments_lexer": "ipython3",
   "version": "3.8.2"
  }
 },
 "nbformat": 4,
 "nbformat_minor": 4
}
