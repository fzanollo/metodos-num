{
 "cells": [
  {
   "cell_type": "code",
   "execution_count": 27,
   "metadata": {},
   "outputs": [],
   "source": [
    "import os\n",
    "import sys\n",
    "sys.path.insert(0, '..') # incluir modulos de la parent folder\n",
    "import metnum\n",
    "import pandas as pd\n",
    "import numpy as np\n",
    "import seaborn as sns\n",
    "import matplotlib.pyplot as plt\n",
    "from sklearn.metrics import classification_report, confusion_matrix\n",
    "from sklearn.preprocessing import normalize"
   ]
  },
  {
   "cell_type": "markdown",
   "metadata": {},
   "source": [
    "## Tiempos KNN"
   ]
  },
  {
   "cell_type": "code",
   "execution_count": 28,
   "metadata": {},
   "outputs": [
    {
     "name": "stderr",
     "output_type": "stream",
     "text": [
      "/home/schlotty/Documents/mn/metodos-num/tp2/tp2/lib/python3.6/site-packages/ipykernel_launcher.py:7: FutureWarning: Sorting because non-concatenation axis is not aligned. A future version\n",
      "of pandas will change to not sort by default.\n",
      "\n",
      "To accept the future behavior, pass 'sort=False'.\n",
      "\n",
      "To retain the current behavior and silence the warning, pass 'sort=True'.\n",
      "\n",
      "  import sys\n"
     ]
    },
    {
     "data": {
      "text/html": [
       "<div>\n",
       "<style scoped>\n",
       "    .dataframe tbody tr th:only-of-type {\n",
       "        vertical-align: middle;\n",
       "    }\n",
       "\n",
       "    .dataframe tbody tr th {\n",
       "        vertical-align: top;\n",
       "    }\n",
       "\n",
       "    .dataframe thead th {\n",
       "        text-align: right;\n",
       "    }\n",
       "</style>\n",
       "<table border=\"1\" class=\"dataframe\">\n",
       "  <thead>\n",
       "    <tr style=\"text-align: right;\">\n",
       "      <th></th>\n",
       "      <th>accuracy</th>\n",
       "      <th>cohen_kappa</th>\n",
       "      <th>f1</th>\n",
       "      <th>kfold</th>\n",
       "      <th>knn</th>\n",
       "      <th>precision</th>\n",
       "      <th>predict_time</th>\n",
       "      <th>recall</th>\n",
       "      <th>train_size</th>\n",
       "    </tr>\n",
       "  </thead>\n",
       "  <tbody>\n",
       "    <tr>\n",
       "      <th>count</th>\n",
       "      <td>60.000000</td>\n",
       "      <td>60.000000</td>\n",
       "      <td>60.000000</td>\n",
       "      <td>60.0</td>\n",
       "      <td>60.0</td>\n",
       "      <td>60.000000</td>\n",
       "      <td>60.000000</td>\n",
       "      <td>60.000000</td>\n",
       "      <td>60.000000</td>\n",
       "    </tr>\n",
       "    <tr>\n",
       "      <th>mean</th>\n",
       "      <td>0.957102</td>\n",
       "      <td>0.952282</td>\n",
       "      <td>0.957080</td>\n",
       "      <td>10.0</td>\n",
       "      <td>3.0</td>\n",
       "      <td>0.957885</td>\n",
       "      <td>18.760011</td>\n",
       "      <td>0.957102</td>\n",
       "      <td>20600.000000</td>\n",
       "    </tr>\n",
       "    <tr>\n",
       "      <th>std</th>\n",
       "      <td>0.011228</td>\n",
       "      <td>0.012510</td>\n",
       "      <td>0.011233</td>\n",
       "      <td>0.0</td>\n",
       "      <td>0.0</td>\n",
       "      <td>0.010702</td>\n",
       "      <td>16.038933</td>\n",
       "      <td>0.011228</td>\n",
       "      <td>9766.771755</td>\n",
       "    </tr>\n",
       "    <tr>\n",
       "      <th>min</th>\n",
       "      <td>0.920000</td>\n",
       "      <td>0.911024</td>\n",
       "      <td>0.919995</td>\n",
       "      <td>10.0</td>\n",
       "      <td>3.0</td>\n",
       "      <td>0.921749</td>\n",
       "      <td>1.230377</td>\n",
       "      <td>0.920000</td>\n",
       "      <td>6000.000000</td>\n",
       "    </tr>\n",
       "    <tr>\n",
       "      <th>25%</th>\n",
       "      <td>0.953125</td>\n",
       "      <td>0.947853</td>\n",
       "      <td>0.953118</td>\n",
       "      <td>10.0</td>\n",
       "      <td>3.0</td>\n",
       "      <td>0.954363</td>\n",
       "      <td>4.974576</td>\n",
       "      <td>0.953125</td>\n",
       "      <td>12000.000000</td>\n",
       "    </tr>\n",
       "    <tr>\n",
       "      <th>50%</th>\n",
       "      <td>0.960417</td>\n",
       "      <td>0.955994</td>\n",
       "      <td>0.960398</td>\n",
       "      <td>10.0</td>\n",
       "      <td>3.0</td>\n",
       "      <td>0.961049</td>\n",
       "      <td>15.618875</td>\n",
       "      <td>0.960417</td>\n",
       "      <td>21000.000000</td>\n",
       "    </tr>\n",
       "    <tr>\n",
       "      <th>75%</th>\n",
       "      <td>0.964286</td>\n",
       "      <td>0.960289</td>\n",
       "      <td>0.964225</td>\n",
       "      <td>10.0</td>\n",
       "      <td>3.0</td>\n",
       "      <td>0.964615</td>\n",
       "      <td>31.263907</td>\n",
       "      <td>0.964286</td>\n",
       "      <td>30000.000000</td>\n",
       "    </tr>\n",
       "    <tr>\n",
       "      <th>max</th>\n",
       "      <td>0.970833</td>\n",
       "      <td>0.967579</td>\n",
       "      <td>0.970814</td>\n",
       "      <td>10.0</td>\n",
       "      <td>3.0</td>\n",
       "      <td>0.970956</td>\n",
       "      <td>83.790033</td>\n",
       "      <td>0.970833</td>\n",
       "      <td>33600.000000</td>\n",
       "    </tr>\n",
       "  </tbody>\n",
       "</table>\n",
       "</div>"
      ],
      "text/plain": [
       "        accuracy  cohen_kappa         f1  kfold   knn  precision  \\\n",
       "count  60.000000    60.000000  60.000000   60.0  60.0  60.000000   \n",
       "mean    0.957102     0.952282   0.957080   10.0   3.0   0.957885   \n",
       "std     0.011228     0.012510   0.011233    0.0   0.0   0.010702   \n",
       "min     0.920000     0.911024   0.919995   10.0   3.0   0.921749   \n",
       "25%     0.953125     0.947853   0.953118   10.0   3.0   0.954363   \n",
       "50%     0.960417     0.955994   0.960398   10.0   3.0   0.961049   \n",
       "75%     0.964286     0.960289   0.964225   10.0   3.0   0.964615   \n",
       "max     0.970833     0.967579   0.970814   10.0   3.0   0.970956   \n",
       "\n",
       "       predict_time     recall    train_size  \n",
       "count     60.000000  60.000000     60.000000  \n",
       "mean      18.760011   0.957102  20600.000000  \n",
       "std       16.038933   0.011228   9766.771755  \n",
       "min        1.230377   0.920000   6000.000000  \n",
       "25%        4.974576   0.953125  12000.000000  \n",
       "50%       15.618875   0.960417  21000.000000  \n",
       "75%       31.263907   0.964286  30000.000000  \n",
       "max       83.790033   0.970833  33600.000000  "
      ]
     },
     "execution_count": 28,
     "metadata": {},
     "output_type": "execute_result"
    }
   ],
   "source": [
    "knn_data_files = os.listdir('knn_results')\n",
    "\n",
    "def load_files(filenames):\n",
    "    for filename in filenames:\n",
    "        yield pd.read_csv(f\"knn_results/{filename}\")\n",
    "\n",
    "knn_data = pd.concat(load_files(knn_data_files), ignore_index=True)\n",
    "knn_data = knn_data.drop(knn_data[knn_data.knn != 3].index)\n",
    "\n",
    "knn_data.describe()"
   ]
  },
  {
   "cell_type": "code",
   "execution_count": 29,
   "metadata": {},
   "outputs": [
    {
     "data": {
      "text/html": [
       "<div>\n",
       "<style scoped>\n",
       "    .dataframe tbody tr th:only-of-type {\n",
       "        vertical-align: middle;\n",
       "    }\n",
       "\n",
       "    .dataframe tbody tr th {\n",
       "        vertical-align: top;\n",
       "    }\n",
       "\n",
       "    .dataframe thead th {\n",
       "        text-align: right;\n",
       "    }\n",
       "</style>\n",
       "<table border=\"1\" class=\"dataframe\">\n",
       "  <thead>\n",
       "    <tr style=\"text-align: right;\">\n",
       "      <th></th>\n",
       "      <th>predict_time</th>\n",
       "    </tr>\n",
       "    <tr>\n",
       "      <th>train_size</th>\n",
       "      <th></th>\n",
       "    </tr>\n",
       "  </thead>\n",
       "  <tbody>\n",
       "    <tr>\n",
       "      <th>6000</th>\n",
       "      <td>1.240851</td>\n",
       "    </tr>\n",
       "    <tr>\n",
       "      <th>12000</th>\n",
       "      <td>4.984751</td>\n",
       "    </tr>\n",
       "    <tr>\n",
       "      <th>18000</th>\n",
       "      <td>11.219525</td>\n",
       "    </tr>\n",
       "    <tr>\n",
       "      <th>24000</th>\n",
       "      <td>20.002025</td>\n",
       "    </tr>\n",
       "    <tr>\n",
       "      <th>30000</th>\n",
       "      <td>31.288368</td>\n",
       "    </tr>\n",
       "    <tr>\n",
       "      <th>33600</th>\n",
       "      <td>43.824544</td>\n",
       "    </tr>\n",
       "  </tbody>\n",
       "</table>\n",
       "</div>"
      ],
      "text/plain": [
       "            predict_time\n",
       "train_size              \n",
       "6000            1.240851\n",
       "12000           4.984751\n",
       "18000          11.219525\n",
       "24000          20.002025\n",
       "30000          31.288368\n",
       "33600          43.824544"
      ]
     },
     "execution_count": 29,
     "metadata": {},
     "output_type": "execute_result"
    }
   ],
   "source": [
    "knn_grouped = knn_data.groupby(['train_size']).mean()\n",
    "knn_grouped = knn_grouped.drop(['knn', 'kfold', 'accuracy', 'cohen_kappa', 'f1', 'precision', 'recall'], axis=1)\n",
    "\n",
    "knn_grouped"
   ]
  },
  {
   "cell_type": "code",
   "execution_count": 30,
   "metadata": {},
   "outputs": [
    {
     "data": {
      "image/png": "[encoded data removed]",
      "text/plain": [
       "<Figure size 432x288 with 1 Axes>"
      ]
     },
     "metadata": {
      "needs_background": "light"
     },
     "output_type": "display_data"
    }
   ],
   "source": [
    "\n",
    "def plot_time(grouped, time, xd=1):\n",
    "    xs = grouped.index.values\n",
    "    \n",
    "    plt.title(f\"{time} en función del tamaño del trainset\")\n",
    "    plt.xlabel(\"tamaño train set\")\n",
    "    plt.ylabel(\"seg\")\n",
    "    \n",
    "    ys = []\n",
    "    for x in xs:\n",
    "        ys.append(grouped.loc[x][time])\n",
    "    plt.plot(xs, ys)\n",
    "\n",
    "    plt.xlim(xd, xs[-1])\n",
    "    plt.show()\n",
    "\n",
    "\n",
    "plot_time(knn_grouped, 'predict_time', 5000)"
   ]
  },
  {
   "cell_type": "markdown",
   "metadata": {},
   "source": [
    "## Tiempos KNN+PCA"
   ]
  },
  {
   "cell_type": "code",
   "execution_count": 15,
   "metadata": {},
   "outputs": [
    {
     "data": {
      "text/html": [
       "<div>\n",
       "<style scoped>\n",
       "    .dataframe tbody tr th:only-of-type {\n",
       "        vertical-align: middle;\n",
       "    }\n",
       "\n",
       "    .dataframe tbody tr th {\n",
       "        vertical-align: top;\n",
       "    }\n",
       "\n",
       "    .dataframe thead th {\n",
       "        text-align: right;\n",
       "    }\n",
       "</style>\n",
       "<table border=\"1\" class=\"dataframe\">\n",
       "  <thead>\n",
       "    <tr style=\"text-align: right;\">\n",
       "      <th></th>\n",
       "      <th>train_size</th>\n",
       "      <th>knn</th>\n",
       "      <th>alpha</th>\n",
       "      <th>kfold</th>\n",
       "      <th>accuracy</th>\n",
       "      <th>recall</th>\n",
       "      <th>f1</th>\n",
       "      <th>cohen_kappa</th>\n",
       "      <th>precision</th>\n",
       "      <th>pca_time</th>\n",
       "      <th>pred_time</th>\n",
       "    </tr>\n",
       "  </thead>\n",
       "  <tbody>\n",
       "    <tr>\n",
       "      <th>count</th>\n",
       "      <td>60.000000</td>\n",
       "      <td>60.0</td>\n",
       "      <td>60.0</td>\n",
       "      <td>60.0</td>\n",
       "      <td>60.000000</td>\n",
       "      <td>60.000000</td>\n",
       "      <td>60.000000</td>\n",
       "      <td>60.000000</td>\n",
       "      <td>60.000000</td>\n",
       "      <td>60.000000</td>\n",
       "      <td>60.000000</td>\n",
       "    </tr>\n",
       "    <tr>\n",
       "      <th>mean</th>\n",
       "      <td>20600.000000</td>\n",
       "      <td>3.0</td>\n",
       "      <td>35.0</td>\n",
       "      <td>10.0</td>\n",
       "      <td>0.965410</td>\n",
       "      <td>0.965410</td>\n",
       "      <td>0.965437</td>\n",
       "      <td>0.961526</td>\n",
       "      <td>0.965864</td>\n",
       "      <td>4.620293</td>\n",
       "      <td>2.002994</td>\n",
       "    </tr>\n",
       "    <tr>\n",
       "      <th>std</th>\n",
       "      <td>9766.771755</td>\n",
       "      <td>0.0</td>\n",
       "      <td>0.0</td>\n",
       "      <td>0.0</td>\n",
       "      <td>0.009149</td>\n",
       "      <td>0.009149</td>\n",
       "      <td>0.009137</td>\n",
       "      <td>0.010191</td>\n",
       "      <td>0.008823</td>\n",
       "      <td>0.766816</td>\n",
       "      <td>1.577306</td>\n",
       "    </tr>\n",
       "    <tr>\n",
       "      <th>min</th>\n",
       "      <td>6000.000000</td>\n",
       "      <td>3.0</td>\n",
       "      <td>35.0</td>\n",
       "      <td>10.0</td>\n",
       "      <td>0.935000</td>\n",
       "      <td>0.935000</td>\n",
       "      <td>0.935414</td>\n",
       "      <td>0.927700</td>\n",
       "      <td>0.937092</td>\n",
       "      <td>3.124072</td>\n",
       "      <td>0.135113</td>\n",
       "    </tr>\n",
       "    <tr>\n",
       "      <th>25%</th>\n",
       "      <td>12000.000000</td>\n",
       "      <td>3.0</td>\n",
       "      <td>35.0</td>\n",
       "      <td>10.0</td>\n",
       "      <td>0.962083</td>\n",
       "      <td>0.962083</td>\n",
       "      <td>0.962123</td>\n",
       "      <td>0.957826</td>\n",
       "      <td>0.962660</td>\n",
       "      <td>4.109662</td>\n",
       "      <td>0.533505</td>\n",
       "    </tr>\n",
       "    <tr>\n",
       "      <th>50%</th>\n",
       "      <td>21000.000000</td>\n",
       "      <td>3.0</td>\n",
       "      <td>35.0</td>\n",
       "      <td>10.0</td>\n",
       "      <td>0.968333</td>\n",
       "      <td>0.968333</td>\n",
       "      <td>0.968311</td>\n",
       "      <td>0.964777</td>\n",
       "      <td>0.968492</td>\n",
       "      <td>4.563418</td>\n",
       "      <td>1.681399</td>\n",
       "    </tr>\n",
       "    <tr>\n",
       "      <th>75%</th>\n",
       "      <td>30000.000000</td>\n",
       "      <td>3.0</td>\n",
       "      <td>35.0</td>\n",
       "      <td>10.0</td>\n",
       "      <td>0.972039</td>\n",
       "      <td>0.972039</td>\n",
       "      <td>0.972090</td>\n",
       "      <td>0.968914</td>\n",
       "      <td>0.972248</td>\n",
       "      <td>5.350142</td>\n",
       "      <td>3.505914</td>\n",
       "    </tr>\n",
       "    <tr>\n",
       "      <th>max</th>\n",
       "      <td>33600.000000</td>\n",
       "      <td>3.0</td>\n",
       "      <td>35.0</td>\n",
       "      <td>10.0</td>\n",
       "      <td>0.976786</td>\n",
       "      <td>0.976786</td>\n",
       "      <td>0.976802</td>\n",
       "      <td>0.974196</td>\n",
       "      <td>0.976913</td>\n",
       "      <td>5.929325</td>\n",
       "      <td>4.484298</td>\n",
       "    </tr>\n",
       "  </tbody>\n",
       "</table>\n",
       "</div>"
      ],
      "text/plain": [
       "         train_size   knn  alpha  kfold   accuracy     recall         f1  \\\n",
       "count     60.000000  60.0   60.0   60.0  60.000000  60.000000  60.000000   \n",
       "mean   20600.000000   3.0   35.0   10.0   0.965410   0.965410   0.965437   \n",
       "std     9766.771755   0.0    0.0    0.0   0.009149   0.009149   0.009137   \n",
       "min     6000.000000   3.0   35.0   10.0   0.935000   0.935000   0.935414   \n",
       "25%    12000.000000   3.0   35.0   10.0   0.962083   0.962083   0.962123   \n",
       "50%    21000.000000   3.0   35.0   10.0   0.968333   0.968333   0.968311   \n",
       "75%    30000.000000   3.0   35.0   10.0   0.972039   0.972039   0.972090   \n",
       "max    33600.000000   3.0   35.0   10.0   0.976786   0.976786   0.976802   \n",
       "\n",
       "       cohen_kappa  precision   pca_time  pred_time  \n",
       "count    60.000000  60.000000  60.000000  60.000000  \n",
       "mean      0.961526   0.965864   4.620293   2.002994  \n",
       "std       0.010191   0.008823   0.766816   1.577306  \n",
       "min       0.927700   0.937092   3.124072   0.135113  \n",
       "25%       0.957826   0.962660   4.109662   0.533505  \n",
       "50%       0.964777   0.968492   4.563418   1.681399  \n",
       "75%       0.968914   0.972248   5.350142   3.505914  \n",
       "max       0.974196   0.976913   5.929325   4.484298  "
      ]
     },
     "execution_count": 15,
     "metadata": {},
     "output_type": "execute_result"
    }
   ],
   "source": [
    "knn_pca_data_files = os.listdir('knn_pca_times_results')\n",
    "\n",
    "def load_files(filenames):\n",
    "    for filename in filenames:\n",
    "        yield pd.read_csv(f\"knn_pca_times_results/{filename}\")\n",
    "\n",
    "knn_pca_data = pd.concat(load_files(knn_pca_data_files), ignore_index=True)\n",
    "knn_pca_data = knn_pca_data.drop(knn_pca_data[(knn_pca_data.knn != 3) | (knn_pca_data.alpha != 35)].index)\n",
    "\n",
    "knn_pca_data.describe()"
   ]
  },
  {
   "cell_type": "code",
   "execution_count": 16,
   "metadata": {},
   "outputs": [
    {
     "data": {
      "text/html": [
       "<div>\n",
       "<style scoped>\n",
       "    .dataframe tbody tr th:only-of-type {\n",
       "        vertical-align: middle;\n",
       "    }\n",
       "\n",
       "    .dataframe tbody tr th {\n",
       "        vertical-align: top;\n",
       "    }\n",
       "\n",
       "    .dataframe thead th {\n",
       "        text-align: right;\n",
       "    }\n",
       "</style>\n",
       "<table border=\"1\" class=\"dataframe\">\n",
       "  <thead>\n",
       "    <tr style=\"text-align: right;\">\n",
       "      <th></th>\n",
       "      <th>pca_time</th>\n",
       "      <th>pred_time</th>\n",
       "    </tr>\n",
       "    <tr>\n",
       "      <th>train_size</th>\n",
       "      <th></th>\n",
       "      <th></th>\n",
       "    </tr>\n",
       "  </thead>\n",
       "  <tbody>\n",
       "    <tr>\n",
       "      <th>6000</th>\n",
       "      <td>3.516939</td>\n",
       "      <td>0.137150</td>\n",
       "    </tr>\n",
       "    <tr>\n",
       "      <th>12000</th>\n",
       "      <td>4.199337</td>\n",
       "      <td>0.535555</td>\n",
       "    </tr>\n",
       "    <tr>\n",
       "      <th>18000</th>\n",
       "      <td>4.181762</td>\n",
       "      <td>1.189625</td>\n",
       "    </tr>\n",
       "    <tr>\n",
       "      <th>24000</th>\n",
       "      <td>4.759493</td>\n",
       "      <td>2.176227</td>\n",
       "    </tr>\n",
       "    <tr>\n",
       "      <th>30000</th>\n",
       "      <td>5.389153</td>\n",
       "      <td>3.511258</td>\n",
       "    </tr>\n",
       "    <tr>\n",
       "      <th>33600</th>\n",
       "      <td>5.675075</td>\n",
       "      <td>4.468149</td>\n",
       "    </tr>\n",
       "  </tbody>\n",
       "</table>\n",
       "</div>"
      ],
      "text/plain": [
       "            pca_time  pred_time\n",
       "train_size                     \n",
       "6000        3.516939   0.137150\n",
       "12000       4.199337   0.535555\n",
       "18000       4.181762   1.189625\n",
       "24000       4.759493   2.176227\n",
       "30000       5.389153   3.511258\n",
       "33600       5.675075   4.468149"
      ]
     },
     "execution_count": 16,
     "metadata": {},
     "output_type": "execute_result"
    }
   ],
   "source": [
    "knn_pca_grouped = knn_pca_data.groupby(['train_size']).mean()\n",
    "knn_pca_grouped = knn_pca_grouped.drop(['knn', 'alpha', 'kfold', 'accuracy', 'cohen_kappa', 'f1', 'precision', 'recall'], axis=1)\n",
    "\n",
    "knn_pca_grouped"
   ]
  },
  {
   "cell_type": "code",
   "execution_count": 24,
   "metadata": {},
   "outputs": [
    {
     "data": {
      "image/png": "[encoded data removed]",
      "text/plain": [
       "<Figure size 432x288 with 1 Axes>"
      ]
     },
     "metadata": {
      "needs_background": "light"
     },
     "output_type": "display_data"
    }
   ],
   "source": [
    "plot_time(knn_pca_grouped, 'pred_time', 5000)"
   ]
  },
  {
   "cell_type": "code",
   "execution_count": 25,
   "metadata": {},
   "outputs": [
    {
     "data": {
      "image/png": "[encoded data removed]",
      "text/plain": [
       "<Figure size 432x288 with 1 Axes>"
      ]
     },
     "metadata": {
      "needs_background": "light"
     },
     "output_type": "display_data"
    }
   ],
   "source": [
    "plot_time(knn_pca_grouped, 'pca_time', 5000)"
   ]
  },
  {
   "cell_type": "markdown",
   "metadata": {},
   "source": [
    "## Comparación"
   ]
  },
  {
   "cell_type": "code",
   "execution_count": 36,
   "metadata": {},
   "outputs": [
    {
     "data": {
      "image/png": "[encoded data removed]",
      "text/plain": [
       "<Figure size 432x288 with 1 Axes>"
      ]
     },
     "metadata": {
      "needs_background": "light"
     },
     "output_type": "display_data"
    }
   ],
   "source": [
    "def compare_pred_time():\n",
    "    xs = knn_pca_grouped.index.values\n",
    "    \n",
    "    plt.title(\"Tiempo de predicción en función del tamaño del trainset\")\n",
    "    plt.xlabel(\"tamaño train set\")\n",
    "    plt.ylabel(\"seg\")\n",
    "    \n",
    "\n",
    "    \n",
    "    ys = []\n",
    "    ys_pca = []\n",
    "    for x in xs:\n",
    "        ys.append(knn_grouped.loc[x]['predict_time'])\n",
    "        ys_pca.append(knn_pca_grouped.loc[x]['pred_time'])\n",
    "    plt.plot(xs, ys, label=\"knn(3)\")\n",
    "    plt.plot(xs, ys_pca, label=\"knn(3)+pca(35)\")\n",
    "\n",
    "    plt.xlim(5000, xs[-1])\n",
    "    plt.legend()\n",
    "    plt.show()\n",
    "    \n",
    "compare_pred_time()"
   ]
  },
  {
   "cell_type": "code",
   "execution_count": 37,
   "metadata": {},
   "outputs": [
    {
     "data": {
      "image/png": "[encoded data removed]",
      "text/plain": [
       "<Figure size 432x288 with 1 Axes>"
      ]
     },
     "metadata": {
      "needs_background": "light"
     },
     "output_type": "display_data"
    }
   ],
   "source": [
    "def compare_times():\n",
    "    xs = knn_pca_grouped.index.values\n",
    "    \n",
    "    plt.title(\"Tiempo total en función del tamaño del trainset\")\n",
    "    plt.xlabel(\"tamaño train set\")\n",
    "    plt.ylabel(\"seg\")\n",
    "    \n",
    "\n",
    "    \n",
    "    ys = []\n",
    "    ys_pca = []\n",
    "    for x in xs:\n",
    "        ys.append(knn_grouped.loc[x]['predict_time'])\n",
    "        ys_pca.append(knn_pca_grouped.loc[x]['pred_time']+knn_pca_grouped.loc[x]['pca_time'])\n",
    "    plt.plot(xs, ys, label=\"knn(3)\")\n",
    "    plt.plot(xs, ys_pca, label=\"knn(3)+pca(35)\")\n",
    "\n",
    "    plt.xlim(5000, xs[-1])\n",
    "    plt.legend()\n",
    "    plt.show()\n",
    "    \n",
    "compare_times()"
   ]
  }
 ],
 "metadata": {
  "kernelspec": {
   "display_name": "Python 3",
   "language": "python",
   "name": "python3"
  },
  "language_info": {
   "codemirror_mode": {
    "name": "ipython",
    "version": 3
   },
   "file_extension": ".py",
   "mimetype": "text/x-python",
   "name": "python",
   "nbconvert_exporter": "python",
   "pygments_lexer": "ipython3",
   "version": "3.6.9"
  }
 },
 "nbformat": 4,
 "nbformat_minor": 4
}
