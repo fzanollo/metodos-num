{
 "cells": [
  {
   "cell_type": "code",
   "execution_count": 1,
   "metadata": {},
   "outputs": [],
   "source": [
    "import os\n",
    "import sys\n",
    "sys.path.insert(0, '..') # incluir modulos de la parent folder\n",
    "import metnum\n",
    "import pandas as pd\n",
    "import numpy as np\n",
    "import seaborn as sns\n",
    "import matplotlib.pyplot as plt\n",
    "from sklearn.metrics import classification_report, confusion_matrix\n",
    "from sklearn.preprocessing import normalize"
   ]
  },
  {
   "cell_type": "markdown",
   "metadata": {},
   "source": [
    "# Intención\n",
    "En esta notebook hacemos un pequeño análisis de la calidad de los resultados generados por cada técnica (KNN, KNN+PCA) a medida que varía el tamaño del conjunto de entrenamiento. En primer lugar, estudiamos el comportamiento de algunas métricas para cada tecnica por separado. Luego, las comparamos entre sí.\n",
    "Se intentan responder preguntas como:\n",
    "* ¿Cómo se relacionan la técnicas con el tamaño del conjunto de entrenamiento?\n",
    "* ¿Podemos jerarquizar las técnicas? ¿Habrá tamaños para los cuales una es más adecuada que la otra?\n",
    "* ¿Existe un tamaño ópitmo para el conjunto de entrenamiento?\n",
    "\n",
    "## El experimento\n",
    "Se llevaron a cabo una serie de corridas variando las dimensiones previamente comentadas. En base a los observado en la notebook `data_size_parametros_optimos`, se decidió experimentar únicamente con los parámetros óptimos de cada técnica. Entonces,\n",
    "* Se experimentó con trainsets de tamaños entre 6000 y 33600 elementos, con intervalos de 6000 elementos. \n",
    "* En el caso del método KNN, se tomó k=3.\n",
    "* Por otro lado, cuando se experimentó con KNN y PCA, se utilizó k=3 y alfa=35.\n",
    "\n",
    "En todos los casos se tomó registro de las siguientes métricas: accuracy, kappa de cohen, f1, precision y recall. Además, para que la evaluacion resulte más robusta se realizó validación cruzada con 10 folds."
   ]
  },
  {
   "cell_type": "markdown",
   "metadata": {},
   "source": [
    "# Caso KNN\n",
    "\n",
    "Para replicar el experimento sobre esta técnica:\n",
    "\n",
    "> ./knn 42000 6000 3 10\n",
    "\n",
    "Los resultados se almacenan en el directorio `knn_results/`."
   ]
  },
  {
   "cell_type": "markdown",
   "metadata": {},
   "source": [
    "## Recuperar resultados\n",
    "\n",
    "Primero, levantamos los resultados del experimento"
   ]
  },
  {
   "cell_type": "code",
   "execution_count": 2,
   "metadata": {},
   "outputs": [
    {
     "data": {
      "text/html": [
       "<div>\n",
       "<style scoped>\n",
       "    .dataframe tbody tr th:only-of-type {\n",
       "        vertical-align: middle;\n",
       "    }\n",
       "\n",
       "    .dataframe tbody tr th {\n",
       "        vertical-align: top;\n",
       "    }\n",
       "\n",
       "    .dataframe thead th {\n",
       "        text-align: right;\n",
       "    }\n",
       "</style>\n",
       "<table border=\"1\" class=\"dataframe\">\n",
       "  <thead>\n",
       "    <tr style=\"text-align: right;\">\n",
       "      <th></th>\n",
       "      <th>accuracy</th>\n",
       "      <th>cohen_kappa</th>\n",
       "      <th>f1</th>\n",
       "      <th>kfold</th>\n",
       "      <th>knn</th>\n",
       "      <th>precision</th>\n",
       "      <th>predict_time</th>\n",
       "      <th>recall</th>\n",
       "      <th>train_size</th>\n",
       "    </tr>\n",
       "  </thead>\n",
       "  <tbody>\n",
       "    <tr>\n",
       "      <th>count</th>\n",
       "      <td>60.000000</td>\n",
       "      <td>60.000000</td>\n",
       "      <td>60.000000</td>\n",
       "      <td>60.0</td>\n",
       "      <td>60.0</td>\n",
       "      <td>60.000000</td>\n",
       "      <td>60.000000</td>\n",
       "      <td>60.000000</td>\n",
       "      <td>60.000000</td>\n",
       "    </tr>\n",
       "    <tr>\n",
       "      <th>mean</th>\n",
       "      <td>0.957102</td>\n",
       "      <td>0.952282</td>\n",
       "      <td>0.957080</td>\n",
       "      <td>10.0</td>\n",
       "      <td>3.0</td>\n",
       "      <td>0.957885</td>\n",
       "      <td>108.194322</td>\n",
       "      <td>0.957102</td>\n",
       "      <td>20600.000000</td>\n",
       "    </tr>\n",
       "    <tr>\n",
       "      <th>std</th>\n",
       "      <td>0.011228</td>\n",
       "      <td>0.012510</td>\n",
       "      <td>0.011233</td>\n",
       "      <td>0.0</td>\n",
       "      <td>0.0</td>\n",
       "      <td>0.010702</td>\n",
       "      <td>80.501537</td>\n",
       "      <td>0.011228</td>\n",
       "      <td>9766.771755</td>\n",
       "    </tr>\n",
       "    <tr>\n",
       "      <th>min</th>\n",
       "      <td>0.920000</td>\n",
       "      <td>0.911024</td>\n",
       "      <td>0.919995</td>\n",
       "      <td>10.0</td>\n",
       "      <td>3.0</td>\n",
       "      <td>0.921749</td>\n",
       "      <td>10.055021</td>\n",
       "      <td>0.920000</td>\n",
       "      <td>6000.000000</td>\n",
       "    </tr>\n",
       "    <tr>\n",
       "      <th>25%</th>\n",
       "      <td>0.953125</td>\n",
       "      <td>0.947853</td>\n",
       "      <td>0.953118</td>\n",
       "      <td>10.0</td>\n",
       "      <td>3.0</td>\n",
       "      <td>0.954363</td>\n",
       "      <td>31.046588</td>\n",
       "      <td>0.953125</td>\n",
       "      <td>12000.000000</td>\n",
       "    </tr>\n",
       "    <tr>\n",
       "      <th>50%</th>\n",
       "      <td>0.960417</td>\n",
       "      <td>0.955994</td>\n",
       "      <td>0.960398</td>\n",
       "      <td>10.0</td>\n",
       "      <td>3.0</td>\n",
       "      <td>0.961049</td>\n",
       "      <td>94.916812</td>\n",
       "      <td>0.960417</td>\n",
       "      <td>21000.000000</td>\n",
       "    </tr>\n",
       "    <tr>\n",
       "      <th>75%</th>\n",
       "      <td>0.964286</td>\n",
       "      <td>0.960289</td>\n",
       "      <td>0.964225</td>\n",
       "      <td>10.0</td>\n",
       "      <td>3.0</td>\n",
       "      <td>0.964615</td>\n",
       "      <td>187.249252</td>\n",
       "      <td>0.964286</td>\n",
       "      <td>30000.000000</td>\n",
       "    </tr>\n",
       "    <tr>\n",
       "      <th>max</th>\n",
       "      <td>0.970833</td>\n",
       "      <td>0.967579</td>\n",
       "      <td>0.970814</td>\n",
       "      <td>10.0</td>\n",
       "      <td>3.0</td>\n",
       "      <td>0.970956</td>\n",
       "      <td>233.295151</td>\n",
       "      <td>0.970833</td>\n",
       "      <td>33600.000000</td>\n",
       "    </tr>\n",
       "  </tbody>\n",
       "</table>\n",
       "</div>"
      ],
      "text/plain": [
       "        accuracy  cohen_kappa         f1  kfold   knn  precision  \\\n",
       "count  60.000000    60.000000  60.000000   60.0  60.0  60.000000   \n",
       "mean    0.957102     0.952282   0.957080   10.0   3.0   0.957885   \n",
       "std     0.011228     0.012510   0.011233    0.0   0.0   0.010702   \n",
       "min     0.920000     0.911024   0.919995   10.0   3.0   0.921749   \n",
       "25%     0.953125     0.947853   0.953118   10.0   3.0   0.954363   \n",
       "50%     0.960417     0.955994   0.960398   10.0   3.0   0.961049   \n",
       "75%     0.964286     0.960289   0.964225   10.0   3.0   0.964615   \n",
       "max     0.970833     0.967579   0.970814   10.0   3.0   0.970956   \n",
       "\n",
       "       predict_time     recall    train_size  \n",
       "count     60.000000  60.000000     60.000000  \n",
       "mean     108.194322   0.957102  20600.000000  \n",
       "std       80.501537   0.011228   9766.771755  \n",
       "min       10.055021   0.920000   6000.000000  \n",
       "25%       31.046588   0.953125  12000.000000  \n",
       "50%       94.916812   0.960417  21000.000000  \n",
       "75%      187.249252   0.964286  30000.000000  \n",
       "max      233.295151   0.970833  33600.000000  "
      ]
     },
     "execution_count": 2,
     "metadata": {},
     "output_type": "execute_result"
    }
   ],
   "source": [
    "knn_data_files = os.listdir('knn_results')\n",
    "\n",
    "def load_files(filenames):\n",
    "    for filename in filenames:\n",
    "        yield pd.read_csv(f\"knn_results/{filename}\")\n",
    "\n",
    "knn_data = pd.concat(load_files(knn_data_files), ignore_index=True)\n",
    "knn_data = knn_data.drop(knn_data[knn_data.knn != 3].index)\n",
    "\n",
    "knn_data.describe()"
   ]
  },
  {
   "cell_type": "markdown",
   "metadata": {},
   "source": [
    "Luego, los agrupamos por el tamaño del set de entrenamiento y calculamos la media para resolver las métricas de los distintos folds."
   ]
  },
  {
   "cell_type": "code",
   "execution_count": 3,
   "metadata": {},
   "outputs": [
    {
     "data": {
      "text/html": [
       "<div>\n",
       "<style scoped>\n",
       "    .dataframe tbody tr th:only-of-type {\n",
       "        vertical-align: middle;\n",
       "    }\n",
       "\n",
       "    .dataframe tbody tr th {\n",
       "        vertical-align: top;\n",
       "    }\n",
       "\n",
       "    .dataframe thead th {\n",
       "        text-align: right;\n",
       "    }\n",
       "</style>\n",
       "<table border=\"1\" class=\"dataframe\">\n",
       "  <thead>\n",
       "    <tr style=\"text-align: right;\">\n",
       "      <th></th>\n",
       "      <th>accuracy</th>\n",
       "      <th>cohen_kappa</th>\n",
       "      <th>f1</th>\n",
       "      <th>precision</th>\n",
       "      <th>recall</th>\n",
       "    </tr>\n",
       "    <tr>\n",
       "      <th>train_size</th>\n",
       "      <th></th>\n",
       "      <th></th>\n",
       "      <th></th>\n",
       "      <th></th>\n",
       "      <th></th>\n",
       "    </tr>\n",
       "  </thead>\n",
       "  <tbody>\n",
       "    <tr>\n",
       "      <th>6000</th>\n",
       "      <td>0.937667</td>\n",
       "      <td>0.930610</td>\n",
       "      <td>0.937694</td>\n",
       "      <td>0.939523</td>\n",
       "      <td>0.937667</td>\n",
       "    </tr>\n",
       "    <tr>\n",
       "      <th>12000</th>\n",
       "      <td>0.952000</td>\n",
       "      <td>0.946601</td>\n",
       "      <td>0.951963</td>\n",
       "      <td>0.953092</td>\n",
       "      <td>0.952000</td>\n",
       "    </tr>\n",
       "    <tr>\n",
       "      <th>18000</th>\n",
       "      <td>0.960333</td>\n",
       "      <td>0.955882</td>\n",
       "      <td>0.960278</td>\n",
       "      <td>0.960878</td>\n",
       "      <td>0.960333</td>\n",
       "    </tr>\n",
       "    <tr>\n",
       "      <th>24000</th>\n",
       "      <td>0.962208</td>\n",
       "      <td>0.957975</td>\n",
       "      <td>0.962181</td>\n",
       "      <td>0.962681</td>\n",
       "      <td>0.962208</td>\n",
       "    </tr>\n",
       "    <tr>\n",
       "      <th>30000</th>\n",
       "      <td>0.964333</td>\n",
       "      <td>0.960344</td>\n",
       "      <td>0.964316</td>\n",
       "      <td>0.964719</td>\n",
       "      <td>0.964333</td>\n",
       "    </tr>\n",
       "    <tr>\n",
       "      <th>33600</th>\n",
       "      <td>0.966071</td>\n",
       "      <td>0.962280</td>\n",
       "      <td>0.966050</td>\n",
       "      <td>0.966415</td>\n",
       "      <td>0.966071</td>\n",
       "    </tr>\n",
       "  </tbody>\n",
       "</table>\n",
       "</div>"
      ],
      "text/plain": [
       "            accuracy  cohen_kappa        f1  precision    recall\n",
       "train_size                                                      \n",
       "6000        0.937667     0.930610  0.937694   0.939523  0.937667\n",
       "12000       0.952000     0.946601  0.951963   0.953092  0.952000\n",
       "18000       0.960333     0.955882  0.960278   0.960878  0.960333\n",
       "24000       0.962208     0.957975  0.962181   0.962681  0.962208\n",
       "30000       0.964333     0.960344  0.964316   0.964719  0.964333\n",
       "33600       0.966071     0.962280  0.966050   0.966415  0.966071"
      ]
     },
     "execution_count": 3,
     "metadata": {},
     "output_type": "execute_result"
    }
   ],
   "source": [
    "knn_grouped = knn_data.groupby(['train_size']).mean()\n",
    "knn_grouped = knn_grouped.drop(['knn', 'kfold', 'predict_time'], axis=1)\n",
    "\n",
    "knn_grouped"
   ]
  },
  {
   "cell_type": "markdown",
   "metadata": {},
   "source": [
    "## Análisis\n",
    "\n",
    "Graficamos las métricas en función del tamaño del conjunto de entrenamiento. Recordemos que estos resultados se obtuvieron de knn con k=3."
   ]
  },
  {
   "cell_type": "code",
   "execution_count": 4,
   "metadata": {},
   "outputs": [
    {
     "data": {
      "image/png": "[encoded data removed]",
      "text/plain": [
       "<Figure size 432x288 with 1 Axes>"
      ]
     },
     "metadata": {
      "needs_background": "light"
     },
     "output_type": "display_data"
    }
   ],
   "source": [
    "metrics = knn_grouped.columns.values\n",
    "\n",
    "def plot_metrics(metrics, yd=0.6, yh=1, xd=1):\n",
    "    xs = knn_grouped.index.values\n",
    "    \n",
    "    plt.title(\"Métricas en función del tamaño del trainset para k=3\")\n",
    "    plt.xlabel(\"tamaño train set\")\n",
    "    plt.ylabel(\"%\")\n",
    "    \n",
    "\n",
    "    for metric in metrics:\n",
    "        ys = []\n",
    "        for x in xs:\n",
    "            ys.append(knn_grouped.loc[x][metric])\n",
    "        plt.plot(xs, ys)\n",
    "\n",
    "    plt.axis([xd, xs[-1], yd, yh])\n",
    "    plt.gca().legend(tuple(metrics))\n",
    "    plt.show()\n",
    "\n",
    "\n",
    "plot_metrics(metrics)"
   ]
  },
  {
   "cell_type": "markdown",
   "metadata": {},
   "source": [
    "A simple vista notamos que el comportamiento de las métricas es compartido. Escojamos algunas e incrementemos la escala:"
   ]
  },
  {
   "cell_type": "code",
   "execution_count": 5,
   "metadata": {},
   "outputs": [
    {
     "data": {
      "image/png": "[encoded data removed]",
      "text/plain": [
       "<Figure size 432x288 with 1 Axes>"
      ]
     },
     "metadata": {
      "needs_background": "light"
     },
     "output_type": "display_data"
    }
   ],
   "source": [
    "few_metrics = ['accuracy', 'precision', 'recall']\n",
    "\n",
    "plot_metrics(few_metrics, yd=0.93, yh=0.97, xd=5000)"
   ]
  },
  {
   "cell_type": "markdown",
   "metadata": {},
   "source": [
    "Observamos que:\n",
    "* la calidad de las predicciones aumenta a la par con el tamaño del conjunto de entrenamiento.\n",
    "* a partir de 18000 el crecimiento es menos drástico."
   ]
  },
  {
   "cell_type": "markdown",
   "metadata": {},
   "source": [
    "# Caso KNN+PCA"
   ]
  },
  {
   "cell_type": "markdown",
   "metadata": {},
   "source": [
    "# Caso KNN\n",
    "\n",
    "Para replicar el experimento sobre esta técnica:\n",
    "\n",
    "> ./knn_pca 42000 6000 3 35 10\n",
    "\n",
    "Los resultados se almacenan en el directorio `knn_results_pca/`."
   ]
  },
  {
   "cell_type": "markdown",
   "metadata": {},
   "source": [
    "## Recuperar resultados\n",
    "\n",
    "Primero, levantamos los resultados del experimento"
   ]
  },
  {
   "cell_type": "code",
   "execution_count": 6,
   "metadata": {},
   "outputs": [
    {
     "data": {
      "text/html": [
       "<div>\n",
       "<style scoped>\n",
       "    .dataframe tbody tr th:only-of-type {\n",
       "        vertical-align: middle;\n",
       "    }\n",
       "\n",
       "    .dataframe tbody tr th {\n",
       "        vertical-align: top;\n",
       "    }\n",
       "\n",
       "    .dataframe thead th {\n",
       "        text-align: right;\n",
       "    }\n",
       "</style>\n",
       "<table border=\"1\" class=\"dataframe\">\n",
       "  <thead>\n",
       "    <tr style=\"text-align: right;\">\n",
       "      <th></th>\n",
       "      <th>accuracy</th>\n",
       "      <th>alpha</th>\n",
       "      <th>cohen_kappa</th>\n",
       "      <th>f1</th>\n",
       "      <th>kfold</th>\n",
       "      <th>knn</th>\n",
       "      <th>precision</th>\n",
       "      <th>recall</th>\n",
       "      <th>train_size</th>\n",
       "    </tr>\n",
       "  </thead>\n",
       "  <tbody>\n",
       "    <tr>\n",
       "      <th>count</th>\n",
       "      <td>60.000000</td>\n",
       "      <td>60.0</td>\n",
       "      <td>60.000000</td>\n",
       "      <td>60.000000</td>\n",
       "      <td>60.0</td>\n",
       "      <td>60.0</td>\n",
       "      <td>60.000000</td>\n",
       "      <td>60.000000</td>\n",
       "      <td>60.000000</td>\n",
       "    </tr>\n",
       "    <tr>\n",
       "      <th>mean</th>\n",
       "      <td>0.965410</td>\n",
       "      <td>35.0</td>\n",
       "      <td>0.961526</td>\n",
       "      <td>0.965437</td>\n",
       "      <td>10.0</td>\n",
       "      <td>3.0</td>\n",
       "      <td>0.965864</td>\n",
       "      <td>0.965410</td>\n",
       "      <td>20600.000000</td>\n",
       "    </tr>\n",
       "    <tr>\n",
       "      <th>std</th>\n",
       "      <td>0.009149</td>\n",
       "      <td>0.0</td>\n",
       "      <td>0.010191</td>\n",
       "      <td>0.009137</td>\n",
       "      <td>0.0</td>\n",
       "      <td>0.0</td>\n",
       "      <td>0.008823</td>\n",
       "      <td>0.009149</td>\n",
       "      <td>9766.771755</td>\n",
       "    </tr>\n",
       "    <tr>\n",
       "      <th>min</th>\n",
       "      <td>0.935000</td>\n",
       "      <td>35.0</td>\n",
       "      <td>0.927700</td>\n",
       "      <td>0.935414</td>\n",
       "      <td>10.0</td>\n",
       "      <td>3.0</td>\n",
       "      <td>0.937092</td>\n",
       "      <td>0.935000</td>\n",
       "      <td>6000.000000</td>\n",
       "    </tr>\n",
       "    <tr>\n",
       "      <th>25%</th>\n",
       "      <td>0.962083</td>\n",
       "      <td>35.0</td>\n",
       "      <td>0.957826</td>\n",
       "      <td>0.962123</td>\n",
       "      <td>10.0</td>\n",
       "      <td>3.0</td>\n",
       "      <td>0.962660</td>\n",
       "      <td>0.962083</td>\n",
       "      <td>12000.000000</td>\n",
       "    </tr>\n",
       "    <tr>\n",
       "      <th>50%</th>\n",
       "      <td>0.968333</td>\n",
       "      <td>35.0</td>\n",
       "      <td>0.964777</td>\n",
       "      <td>0.968311</td>\n",
       "      <td>10.0</td>\n",
       "      <td>3.0</td>\n",
       "      <td>0.968492</td>\n",
       "      <td>0.968333</td>\n",
       "      <td>21000.000000</td>\n",
       "    </tr>\n",
       "    <tr>\n",
       "      <th>75%</th>\n",
       "      <td>0.972039</td>\n",
       "      <td>35.0</td>\n",
       "      <td>0.968914</td>\n",
       "      <td>0.972090</td>\n",
       "      <td>10.0</td>\n",
       "      <td>3.0</td>\n",
       "      <td>0.972248</td>\n",
       "      <td>0.972039</td>\n",
       "      <td>30000.000000</td>\n",
       "    </tr>\n",
       "    <tr>\n",
       "      <th>max</th>\n",
       "      <td>0.976786</td>\n",
       "      <td>35.0</td>\n",
       "      <td>0.974196</td>\n",
       "      <td>0.976802</td>\n",
       "      <td>10.0</td>\n",
       "      <td>3.0</td>\n",
       "      <td>0.976913</td>\n",
       "      <td>0.976786</td>\n",
       "      <td>33600.000000</td>\n",
       "    </tr>\n",
       "  </tbody>\n",
       "</table>\n",
       "</div>"
      ],
      "text/plain": [
       "        accuracy  alpha  cohen_kappa         f1  kfold   knn  precision  \\\n",
       "count  60.000000   60.0    60.000000  60.000000   60.0  60.0  60.000000   \n",
       "mean    0.965410   35.0     0.961526   0.965437   10.0   3.0   0.965864   \n",
       "std     0.009149    0.0     0.010191   0.009137    0.0   0.0   0.008823   \n",
       "min     0.935000   35.0     0.927700   0.935414   10.0   3.0   0.937092   \n",
       "25%     0.962083   35.0     0.957826   0.962123   10.0   3.0   0.962660   \n",
       "50%     0.968333   35.0     0.964777   0.968311   10.0   3.0   0.968492   \n",
       "75%     0.972039   35.0     0.968914   0.972090   10.0   3.0   0.972248   \n",
       "max     0.976786   35.0     0.974196   0.976802   10.0   3.0   0.976913   \n",
       "\n",
       "          recall    train_size  \n",
       "count  60.000000     60.000000  \n",
       "mean    0.965410  20600.000000  \n",
       "std     0.009149   9766.771755  \n",
       "min     0.935000   6000.000000  \n",
       "25%     0.962083  12000.000000  \n",
       "50%     0.968333  21000.000000  \n",
       "75%     0.972039  30000.000000  \n",
       "max     0.976786  33600.000000  "
      ]
     },
     "execution_count": 6,
     "metadata": {},
     "output_type": "execute_result"
    }
   ],
   "source": [
    "knn_pca_data_files = os.listdir('knn_pca_results')\n",
    "\n",
    "def load_files(filenames):\n",
    "    for filename in filenames:\n",
    "        yield pd.read_csv(f\"knn_pca_results/{filename}\")\n",
    "\n",
    "knn_pca_data = pd.concat(load_files(knn_pca_data_files), ignore_index=True)\n",
    "knn_pca_data = knn_pca_data.drop(knn_pca_data[(knn_pca_data.knn != 3) | (knn_pca_data.alpha != 35)].index)\n",
    "\n",
    "knn_pca_data.describe()"
   ]
  },
  {
   "cell_type": "markdown",
   "metadata": {},
   "source": [
    "Luego, los agrupamos por el tamaño del set de entrenamiento y calculamos la media para resolver las métricas de los distintos folds."
   ]
  },
  {
   "cell_type": "code",
   "execution_count": 7,
   "metadata": {},
   "outputs": [
    {
     "data": {
      "text/html": [
       "<div>\n",
       "<style scoped>\n",
       "    .dataframe tbody tr th:only-of-type {\n",
       "        vertical-align: middle;\n",
       "    }\n",
       "\n",
       "    .dataframe tbody tr th {\n",
       "        vertical-align: top;\n",
       "    }\n",
       "\n",
       "    .dataframe thead th {\n",
       "        text-align: right;\n",
       "    }\n",
       "</style>\n",
       "<table border=\"1\" class=\"dataframe\">\n",
       "  <thead>\n",
       "    <tr style=\"text-align: right;\">\n",
       "      <th></th>\n",
       "      <th>accuracy</th>\n",
       "      <th>cohen_kappa</th>\n",
       "      <th>f1</th>\n",
       "      <th>precision</th>\n",
       "      <th>recall</th>\n",
       "    </tr>\n",
       "    <tr>\n",
       "      <th>train_size</th>\n",
       "      <th></th>\n",
       "      <th></th>\n",
       "      <th></th>\n",
       "      <th></th>\n",
       "      <th></th>\n",
       "    </tr>\n",
       "  </thead>\n",
       "  <tbody>\n",
       "    <tr>\n",
       "      <th>6000</th>\n",
       "      <td>0.950167</td>\n",
       "      <td>0.944527</td>\n",
       "      <td>0.950241</td>\n",
       "      <td>0.951309</td>\n",
       "      <td>0.950167</td>\n",
       "    </tr>\n",
       "    <tr>\n",
       "      <th>12000</th>\n",
       "      <td>0.961333</td>\n",
       "      <td>0.956989</td>\n",
       "      <td>0.961361</td>\n",
       "      <td>0.961930</td>\n",
       "      <td>0.961333</td>\n",
       "    </tr>\n",
       "    <tr>\n",
       "      <th>18000</th>\n",
       "      <td>0.967333</td>\n",
       "      <td>0.963671</td>\n",
       "      <td>0.967346</td>\n",
       "      <td>0.967634</td>\n",
       "      <td>0.967333</td>\n",
       "    </tr>\n",
       "    <tr>\n",
       "      <th>24000</th>\n",
       "      <td>0.970250</td>\n",
       "      <td>0.966920</td>\n",
       "      <td>0.970266</td>\n",
       "      <td>0.970515</td>\n",
       "      <td>0.970250</td>\n",
       "    </tr>\n",
       "    <tr>\n",
       "      <th>30000</th>\n",
       "      <td>0.971233</td>\n",
       "      <td>0.968019</td>\n",
       "      <td>0.971254</td>\n",
       "      <td>0.971475</td>\n",
       "      <td>0.971233</td>\n",
       "    </tr>\n",
       "    <tr>\n",
       "      <th>33600</th>\n",
       "      <td>0.972143</td>\n",
       "      <td>0.969031</td>\n",
       "      <td>0.972154</td>\n",
       "      <td>0.972323</td>\n",
       "      <td>0.972143</td>\n",
       "    </tr>\n",
       "  </tbody>\n",
       "</table>\n",
       "</div>"
      ],
      "text/plain": [
       "            accuracy  cohen_kappa        f1  precision    recall\n",
       "train_size                                                      \n",
       "6000        0.950167     0.944527  0.950241   0.951309  0.950167\n",
       "12000       0.961333     0.956989  0.961361   0.961930  0.961333\n",
       "18000       0.967333     0.963671  0.967346   0.967634  0.967333\n",
       "24000       0.970250     0.966920  0.970266   0.970515  0.970250\n",
       "30000       0.971233     0.968019  0.971254   0.971475  0.971233\n",
       "33600       0.972143     0.969031  0.972154   0.972323  0.972143"
      ]
     },
     "execution_count": 7,
     "metadata": {},
     "output_type": "execute_result"
    }
   ],
   "source": [
    "knn_pca_grouped = knn_pca_data.groupby(['train_size']).mean()\n",
    "knn_pca_grouped = knn_pca_grouped.drop(['knn', 'alpha', 'kfold'], axis=1)\n",
    "\n",
    "knn_pca_grouped"
   ]
  },
  {
   "cell_type": "markdown",
   "metadata": {},
   "source": [
    "## Análisis\n",
    "\n",
    "Graficamos las métricas en función del tamaño del conjunto de entrenamiento. Recordemos que estos resultados se obtuvieron de knn con k=3 y alfa=35."
   ]
  },
  {
   "cell_type": "code",
   "execution_count": 8,
   "metadata": {},
   "outputs": [
    {
     "data": {
      "image/png": "[encoded data removed]",
      "text/plain": [
       "<Figure size 432x288 with 1 Axes>"
      ]
     },
     "metadata": {
      "needs_background": "light"
     },
     "output_type": "display_data"
    }
   ],
   "source": [
    "metrics = knn_pca_grouped.columns.values\n",
    "\n",
    "def plot_metrics(metrics, yd=0.6, yh=1, xd=1):\n",
    "    xs = knn_pca_grouped.index.values\n",
    "    \n",
    "    plt.title(\"Métricas en función del tamaño del trainset para k=3 y alfa=35\")\n",
    "    plt.xlabel(\"tamaño train set\")\n",
    "    plt.ylabel(\"%\")\n",
    "    \n",
    "\n",
    "    for metric in metrics:\n",
    "        ys = []\n",
    "        for x in xs:\n",
    "            ys.append(knn_pca_grouped.loc[x][metric])\n",
    "        plt.plot(xs, ys)\n",
    "\n",
    "    plt.axis([xd, xs[-1], yd, yh])\n",
    "    plt.gca().legend(tuple(metrics))\n",
    "    plt.show()\n",
    "\n",
    "\n",
    "plot_metrics(metrics)"
   ]
  },
  {
   "cell_type": "markdown",
   "metadata": {},
   "source": [
    "En este caso también notamos que el comportamiento de las métricas es compartido. Escojamos algunas e incrementemos la escala:"
   ]
  },
  {
   "cell_type": "code",
   "execution_count": 9,
   "metadata": {},
   "outputs": [
    {
     "data": {
      "image/png": "[encoded data removed]",
      "text/plain": [
       "<Figure size 432x288 with 1 Axes>"
      ]
     },
     "metadata": {
      "needs_background": "light"
     },
     "output_type": "display_data"
    }
   ],
   "source": [
    "few_metrics = ['accuracy', 'precision', 'recall']\n",
    "\n",
    "plot_metrics(few_metrics, yd=0.945, yh=0.975, xd=5000)"
   ]
  },
  {
   "cell_type": "markdown",
   "metadata": {},
   "source": [
    "Nuevamente observamos que:\n",
    "* la calidad de las predicciones aumenta a la par con el tamaño del conjunto de entrenamiento.\n",
    "* a partir de 18000 el crecimiento es menos drástico."
   ]
  },
  {
   "cell_type": "markdown",
   "metadata": {},
   "source": [
    "# Comparación\n",
    "\n",
    "Graficamos el accuracy de cada técnica en función del tamaño del trainset."
   ]
  },
  {
   "cell_type": "code",
   "execution_count": 10,
   "metadata": {},
   "outputs": [
    {
     "data": {
      "image/png": "[encoded data removed]",
      "text/plain": [
       "<Figure size 432x288 with 1 Axes>"
      ]
     },
     "metadata": {
      "needs_background": "light"
     },
     "output_type": "display_data"
    }
   ],
   "source": [
    "few_metrics = [\n",
    "                 'accuracy' \n",
    "               #, 'precision'\n",
    "               #, 'recall'\n",
    "              ]\n",
    "\n",
    "def plot_metrics(metrics, yd=0.6, yh=1, xd=1):\n",
    "    xs = knn_pca_grouped.index.values\n",
    "    \n",
    "    plt.title(\"Metricas en función del tamaño del trainset para k=3 y alfa=35\")\n",
    "    plt.xlabel(\"tamaño train set\")\n",
    "    plt.ylabel(\"%\")\n",
    "    \n",
    "\n",
    "    for metric in metrics:\n",
    "        ys = []\n",
    "        ys_pca = []\n",
    "        for x in xs:\n",
    "            ys.append(knn_grouped.loc[x][metric])\n",
    "            ys_pca.append(knn_pca_grouped.loc[x][metric])\n",
    "        plt.plot(xs, ys, label=f\"knn:{metric}\")\n",
    "        plt.plot(xs, ys_pca, label=f\"knn+pca:{metric}\")\n",
    "\n",
    "    plt.axis([xd, xs[-1], yd, yh])\n",
    "    plt.legend()\n",
    "    plt.show()\n",
    "    \n",
    "plot_metrics(few_metrics, yd=0.93, yh=0.975)"
   ]
  },
  {
   "cell_type": "markdown",
   "metadata": {},
   "source": [
    "Observamos:\n",
    "* El crecimiento en función del tamaño del set de entrenamiento es similar en ambos casos.\n",
    "* Para todos los train sets hay una diferencia de ~0,1 entre los valores de accuracy de las técnicas .\n",
    "* La calidad de las predicciones parece ser mayor al combinar KNN con PCA."
   ]
  },
  {
   "cell_type": "markdown",
   "metadata": {},
   "source": [
    "De yapa, graficamos precision y recall."
   ]
  },
  {
   "cell_type": "code",
   "execution_count": 11,
   "metadata": {},
   "outputs": [
    {
     "data": {
      "image/png": "[encoded data removed]",
      "text/plain": [
       "<Figure size 432x288 with 1 Axes>"
      ]
     },
     "metadata": {
      "needs_background": "light"
     },
     "output_type": "display_data"
    }
   ],
   "source": [
    "plot_metrics(['precision', 'recall'] , yd=0.93, yh=0.975)"
   ]
  }
 ],
 "metadata": {
  "kernelspec": {
   "display_name": "Python 3",
   "language": "python",
   "name": "python3"
  },
  "language_info": {
   "codemirror_mode": {
    "name": "ipython",
    "version": 3
   },
   "file_extension": ".py",
   "mimetype": "text/x-python",
   "name": "python",
   "nbconvert_exporter": "python",
   "pygments_lexer": "ipython3",
   "version": "3.6.5"
  }
 },
 "nbformat": 4,
 "nbformat_minor": 4
}
