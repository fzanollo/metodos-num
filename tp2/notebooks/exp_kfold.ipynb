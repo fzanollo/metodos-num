{
 "cells": [
  {
   "cell_type": "code",
   "execution_count": 1,
   "metadata": {},
   "outputs": [],
   "source": [
    "import os\n",
    "import metnum\n",
    "import pandas as pd\n",
    "import numpy as np\n",
    "import seaborn as sns\n",
    "import matplotlib.pyplot as plt\n",
    "from sklearn.metrics import classification_report, confusion_matrix\n",
    "from sklearn.preprocessing import normalize"
   ]
  },
  {
   "cell_type": "markdown",
   "metadata": {},
   "source": [
    "## Pruebas\n",
    "\n",
    "El objetivo principal de esta notebook es entender la relación que hay entre:\n",
    "\n",
    "* el tamaño del conjunto de entrenamiento (trainset)\n",
    "* k de knn, para nuestra implementación al clasificar clases\n",
    "* a de pca, para nuestra implementación al clasificar clases\n",
    "* K de K-fold, como validador del parámetro encontrado teniendo en cuenta las métricas propuestas\n",
    "\n",
    "Utilizando como punto de comparación las métricas mencionadas. Para ello se hicieron una serie de corridas en las cuales se varian esas variables:\n",
    "\n",
    "* el trainset tomando las particiones set[0, i * 2000] sobre el total de 10000 elementos del dataset (0.8 trainset)\n",
    "* k de knn entre [1, 51] en intervalos de 5 unidades\n",
    "* a de pca entre [10, 100] en intervalos de 10 unidades\n",
    "* K de K-fold en el conjunto {5, 10, 15, 20}\n",
    "\n",
    "## Replica\n",
    "\n",
    "> :~/../notebooks$ ./exp -h\n",
    "\n",
    "o bien\n",
    "\n",
    "> :~/../notebooks$ ./parallel\n",
    "\n",
    "\n",
    "Los resultados quedan en el directorio `knnpca_results/`.\n",
    "\n",
    "Para cada una de estas corridas obtuvimos detalles que exploramos a continuación."
   ]
  },
  {
   "cell_type": "markdown",
   "metadata": {},
   "source": [
    "## Explorando los datos"
   ]
  },
  {
   "cell_type": "markdown",
   "metadata": {},
   "source": [
    "Traemos los csv arrojados por las pruebas"
   ]
  },
  {
   "cell_type": "code",
   "execution_count": 2,
   "metadata": {},
   "outputs": [
    {
     "data": {
      "text/html": [
       "<div>\n",
       "<style scoped>\n",
       "    .dataframe tbody tr th:only-of-type {\n",
       "        vertical-align: middle;\n",
       "    }\n",
       "\n",
       "    .dataframe tbody tr th {\n",
       "        vertical-align: top;\n",
       "    }\n",
       "\n",
       "    .dataframe thead th {\n",
       "        text-align: right;\n",
       "    }\n",
       "</style>\n",
       "<table border=\"1\" class=\"dataframe\">\n",
       "  <thead>\n",
       "    <tr style=\"text-align: right;\">\n",
       "      <th></th>\n",
       "      <th>accuracy</th>\n",
       "      <th>cohen_kappa</th>\n",
       "      <th>duration</th>\n",
       "      <th>f1</th>\n",
       "      <th>kfold</th>\n",
       "      <th>knn</th>\n",
       "      <th>pca</th>\n",
       "      <th>precision</th>\n",
       "      <th>recall</th>\n",
       "      <th>train_size</th>\n",
       "    </tr>\n",
       "  </thead>\n",
       "  <tbody>\n",
       "    <tr>\n",
       "      <th>count</th>\n",
       "      <td>22000.000000</td>\n",
       "      <td>22000.000000</td>\n",
       "      <td>22000.000000</td>\n",
       "      <td>22000.000000</td>\n",
       "      <td>22000.000000</td>\n",
       "      <td>22000.000000</td>\n",
       "      <td>22000.000000</td>\n",
       "      <td>22000.000000</td>\n",
       "      <td>22000.000000</td>\n",
       "      <td>22000.000000</td>\n",
       "    </tr>\n",
       "    <tr>\n",
       "      <th>mean</th>\n",
       "      <td>0.907540</td>\n",
       "      <td>0.896865</td>\n",
       "      <td>0.504169</td>\n",
       "      <td>0.907658</td>\n",
       "      <td>15.000000</td>\n",
       "      <td>26.000000</td>\n",
       "      <td>55.000000</td>\n",
       "      <td>0.914664</td>\n",
       "      <td>0.907540</td>\n",
       "      <td>5000.000000</td>\n",
       "    </tr>\n",
       "    <tr>\n",
       "      <th>std</th>\n",
       "      <td>0.034512</td>\n",
       "      <td>0.038545</td>\n",
       "      <td>0.501076</td>\n",
       "      <td>0.034284</td>\n",
       "      <td>5.000114</td>\n",
       "      <td>15.811748</td>\n",
       "      <td>28.723466</td>\n",
       "      <td>0.029112</td>\n",
       "      <td>0.034512</td>\n",
       "      <td>2236.118799</td>\n",
       "    </tr>\n",
       "    <tr>\n",
       "      <th>min</th>\n",
       "      <td>0.750000</td>\n",
       "      <td>0.721728</td>\n",
       "      <td>0.032694</td>\n",
       "      <td>0.744496</td>\n",
       "      <td>5.000000</td>\n",
       "      <td>1.000000</td>\n",
       "      <td>10.000000</td>\n",
       "      <td>0.753910</td>\n",
       "      <td>0.750000</td>\n",
       "      <td>2000.000000</td>\n",
       "    </tr>\n",
       "    <tr>\n",
       "      <th>25%</th>\n",
       "      <td>0.887500</td>\n",
       "      <td>0.874666</td>\n",
       "      <td>0.166260</td>\n",
       "      <td>0.887160</td>\n",
       "      <td>10.000000</td>\n",
       "      <td>11.000000</td>\n",
       "      <td>30.000000</td>\n",
       "      <td>0.896816</td>\n",
       "      <td>0.887500</td>\n",
       "      <td>3500.000000</td>\n",
       "    </tr>\n",
       "    <tr>\n",
       "      <th>50%</th>\n",
       "      <td>0.915000</td>\n",
       "      <td>0.904930</td>\n",
       "      <td>0.365158</td>\n",
       "      <td>0.914546</td>\n",
       "      <td>15.000000</td>\n",
       "      <td>26.000000</td>\n",
       "      <td>55.000000</td>\n",
       "      <td>0.919768</td>\n",
       "      <td>0.915000</td>\n",
       "      <td>5000.000000</td>\n",
       "    </tr>\n",
       "    <tr>\n",
       "      <th>75%</th>\n",
       "      <td>0.932584</td>\n",
       "      <td>0.924928</td>\n",
       "      <td>0.652454</td>\n",
       "      <td>0.932873</td>\n",
       "      <td>20.000000</td>\n",
       "      <td>41.000000</td>\n",
       "      <td>80.000000</td>\n",
       "      <td>0.936223</td>\n",
       "      <td>0.932584</td>\n",
       "      <td>6500.000000</td>\n",
       "    </tr>\n",
       "    <tr>\n",
       "      <th>max</th>\n",
       "      <td>0.980000</td>\n",
       "      <td>0.977606</td>\n",
       "      <td>6.241511</td>\n",
       "      <td>0.981165</td>\n",
       "      <td>20.000000</td>\n",
       "      <td>51.000000</td>\n",
       "      <td>100.000000</td>\n",
       "      <td>0.985714</td>\n",
       "      <td>0.980000</td>\n",
       "      <td>8000.000000</td>\n",
       "    </tr>\n",
       "  </tbody>\n",
       "</table>\n",
       "</div>"
      ],
      "text/plain": [
       "           accuracy   cohen_kappa      duration            f1         kfold  \\\n",
       "count  22000.000000  22000.000000  22000.000000  22000.000000  22000.000000   \n",
       "mean       0.907540      0.896865      0.504169      0.907658     15.000000   \n",
       "std        0.034512      0.038545      0.501076      0.034284      5.000114   \n",
       "min        0.750000      0.721728      0.032694      0.744496      5.000000   \n",
       "25%        0.887500      0.874666      0.166260      0.887160     10.000000   \n",
       "50%        0.915000      0.904930      0.365158      0.914546     15.000000   \n",
       "75%        0.932584      0.924928      0.652454      0.932873     20.000000   \n",
       "max        0.980000      0.977606      6.241511      0.981165     20.000000   \n",
       "\n",
       "                knn           pca     precision        recall    train_size  \n",
       "count  22000.000000  22000.000000  22000.000000  22000.000000  22000.000000  \n",
       "mean      26.000000     55.000000      0.914664      0.907540   5000.000000  \n",
       "std       15.811748     28.723466      0.029112      0.034512   2236.118799  \n",
       "min        1.000000     10.000000      0.753910      0.750000   2000.000000  \n",
       "25%       11.000000     30.000000      0.896816      0.887500   3500.000000  \n",
       "50%       26.000000     55.000000      0.919768      0.915000   5000.000000  \n",
       "75%       41.000000     80.000000      0.936223      0.932584   6500.000000  \n",
       "max       51.000000    100.000000      0.985714      0.980000   8000.000000  "
      ]
     },
     "execution_count": 2,
     "metadata": {},
     "output_type": "execute_result"
    }
   ],
   "source": [
    "data_files = os.listdir('knnpca_results')\n",
    "\n",
    "def load_files(filenames):\n",
    "    for filename in filenames:\n",
    "        yield pd.read_csv(f\"knnpca_results/{filename}\")\n",
    "\n",
    "data = pd.concat(load_files(data_files), ignore_index=True)\n",
    "\n",
    "data.describe()"
   ]
  },
  {
   "cell_type": "markdown",
   "metadata": {},
   "source": [
    "## Análisis"
   ]
  },
  {
   "cell_type": "markdown",
   "metadata": {},
   "source": [
    "¿Cuál es la mejor combinación? Buscando por media de métrica más alta por ejemplo:"
   ]
  },
  {
   "cell_type": "code",
   "execution_count": 208,
   "metadata": {},
   "outputs": [
    {
     "name": "stdout",
     "output_type": "stream",
     "text": [
      "Media más alta para accuracy\n",
      "accuracy       0.953375\n",
      "cohen_kappa    0.948059\n",
      "duration       0.828337\n",
      "f1             0.953332\n",
      "precision      0.954457\n",
      "recall         0.953375\n",
      "Name: (8000, 1, 40, 20), dtype: float64\n",
      "==================\n",
      "Media más alta para cohen_kappa\n",
      "accuracy       0.953375\n",
      "cohen_kappa    0.948059\n",
      "duration       0.828337\n",
      "f1             0.953332\n",
      "precision      0.954457\n",
      "recall         0.953375\n",
      "Name: (8000, 1, 40, 20), dtype: float64\n",
      "==================\n",
      "Media más alta para f1\n",
      "accuracy       0.953375\n",
      "cohen_kappa    0.948059\n",
      "duration       0.828337\n",
      "f1             0.953332\n",
      "precision      0.954457\n",
      "recall         0.953375\n",
      "Name: (8000, 1, 40, 20), dtype: float64\n",
      "==================\n",
      "Media más alta para precision\n",
      "accuracy       0.953375\n",
      "cohen_kappa    0.948059\n",
      "duration       0.828337\n",
      "f1             0.953332\n",
      "precision      0.954457\n",
      "recall         0.953375\n",
      "Name: (8000, 1, 40, 20), dtype: float64\n",
      "==================\n",
      "Media más alta para recall\n",
      "accuracy       0.953375\n",
      "cohen_kappa    0.948059\n",
      "duration       0.828337\n",
      "f1             0.953332\n",
      "precision      0.954457\n",
      "recall         0.953375\n",
      "Name: (8000, 1, 40, 20), dtype: float64\n",
      "==================\n"
     ]
    }
   ],
   "source": [
    "grouped = data.groupby(['train_size', 'knn', 'pca', 'kfold']).mean()\n",
    "\n",
    "idx = []\n",
    "metrics = grouped.columns.values\n",
    "\n",
    "metrics = np.delete(metrics, np.argwhere(metrics == 'duration'))\n",
    "\n",
    "for metric in metrics:\n",
    "    print(f\"Media más alta para {metric}\")\n",
    "    idx = grouped[[metric]].idxmax()[metric]\n",
    "    print(grouped.loc[idx])\n",
    "    print(\"==================\")"
   ]
  },
  {
   "cell_type": "markdown",
   "metadata": {},
   "source": [
    "Observemos que justamente la mejor combinación se dá en el trainset que coincide con la prueba hecha sobre los 10000 elementos del dataset con un 80% utilizados para entrenar, que son 8000 elementos. Utilizar __1-nn__ con __a= 40__ verificado utilizando cross validation __20-fold__ nos otorga la mayor media en cada métrica obtenida, en particular en el accuracy. Esto dispara la pregunta __¿Por que 20-fold nos dá la mayor certeza al elegir (k, a) y no otro?__: para obtener una intuición sobre esto, podemos graficar el accuracy por ejemplo, en función de los valores que tomó K-fold para distintos tamaños del trainset utilizando 1-nn con a = 40 obtenido.\n"
   ]
  },
  {
   "cell_type": "code",
   "execution_count": 205,
   "metadata": {},
   "outputs": [
    {
     "data": {
      "text/plain": [
       "<matplotlib.axes._subplots.AxesSubplot at 0x7f9791249f98>"
      ]
     },
     "execution_count": 205,
     "metadata": {},
     "output_type": "execute_result"
    },
    {
     "data": {
      "image/png": "[encoded data removed]",
      "text/plain": [
       "<Figure size 432x288 with 1 Axes>"
      ]
     },
     "metadata": {
      "needs_background": "light"
     },
     "output_type": "display_data"
    }
   ],
   "source": [
    "grouped = data.groupby(['kfold']).mean()[['accuracy']]\n",
    "grouped.plot(title='Media de accuracy en función de K')"
   ]
  },
  {
   "cell_type": "markdown",
   "metadata": {},
   "source": [
    "Nos dice que los accuracy más altos obtenidos se corresponden (fueron verificados) con los K (K-fold) más altos."
   ]
  },
  {
   "cell_type": "code",
   "execution_count": 206,
   "metadata": {},
   "outputs": [
    {
     "data": {
      "text/plain": [
       "<matplotlib.axes._subplots.AxesSubplot at 0x7f979123a898>"
      ]
     },
     "execution_count": 206,
     "metadata": {},
     "output_type": "execute_result"
    },
    {
     "data": {
      "image/png": "[encoded data removed]",
      "text/plain": [
       "<Figure size 432x288 with 1 Axes>"
      ]
     },
     "metadata": {
      "needs_background": "light"
     },
     "output_type": "display_data"
    }
   ],
   "source": [
    "grouped = data.groupby(['kfold', 'train_size']).mean()[['accuracy']]\n",
    "grouped.unstack(level=1).plot(title=\"Media de accuracy en función de K por train size\")"
   ]
  },
  {
   "cell_type": "markdown",
   "metadata": {},
   "source": [
    "Se puede observar que el accuracy mejora no solo dependiendo del valor de K (k-fold), si no también del tamaño del trainset que se utilizó. Esto es consistente con la elección hecha previamente: sobre la partición de 10000 elementos (el más grande) y un K (k-fold) de 20."
   ]
  },
  {
   "cell_type": "code",
   "execution_count": 209,
   "metadata": {},
   "outputs": [
    {
     "data": {
      "text/plain": [
       "<matplotlib.axes._subplots.AxesSubplot at 0x7f9791128208>"
      ]
     },
     "execution_count": 209,
     "metadata": {},
     "output_type": "execute_result"
    },
    {
     "data": {
      "image/png": "[encoded data removed]",
      "text/plain": [
       "<Figure size 432x288 with 1 Axes>"
      ]
     },
     "metadata": {
      "needs_background": "light"
     },
     "output_type": "display_data"
    }
   ],
   "source": [
    "knn=1\n",
    "pca=40\n",
    "\n",
    "grouped = data.groupby(['knn', 'pca', 'kfold', 'train_size']).mean()[['accuracy']]\n",
    "grouped.loc[knn, pca].unstack(level=1).plot(title=f\"Media de accuracy en función de K por train size para {knn} (knn) y {pca} (pca)\")"
   ]
  },
  {
   "cell_type": "markdown",
   "metadata": {},
   "source": [
    "Lo mencionado, se corrobora con la elección de parámetros hechos."
   ]
  },
  {
   "cell_type": "markdown",
   "metadata": {},
   "source": [
    "### Sobre el tiempo demandado"
   ]
  },
  {
   "cell_type": "code",
   "execution_count": 103,
   "metadata": {},
   "outputs": [
    {
     "data": {
      "text/plain": [
       "<matplotlib.axes._subplots.AxesSubplot at 0x7f97a3ba9978>"
      ]
     },
     "execution_count": 103,
     "metadata": {},
     "output_type": "execute_result"
    },
    {
     "data": {
      "image/png": "[encoded data removed]",
      "text/plain": [
       "<Figure size 432x288 with 1 Axes>"
      ]
     },
     "metadata": {
      "needs_background": "light"
     },
     "output_type": "display_data"
    }
   ],
   "source": [
    "grouped = data.groupby(['kfold']).mean()\n",
    "grouped[['duration']].plot(title='Tiempo (segs) de ejecución en función de los valores de K')"
   ]
  }
 ],
 "metadata": {
  "kernelspec": {
   "display_name": "Python 3",
   "language": "python",
   "name": "python3"
  },
  "language_info": {
   "codemirror_mode": {
    "name": "ipython",
    "version": 3
   },
   "file_extension": ".py",
   "mimetype": "text/x-python",
   "name": "python",
   "nbconvert_exporter": "python",
   "pygments_lexer": "ipython3",
   "version": "3.6.5"
  }
 },
 "nbformat": 4,
 "nbformat_minor": 2
}
