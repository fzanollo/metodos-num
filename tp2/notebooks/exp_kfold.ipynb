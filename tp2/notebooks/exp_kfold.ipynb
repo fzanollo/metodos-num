{
 "cells": [
  {
   "cell_type": "code",
   "execution_count": 1,
   "metadata": {},
   "outputs": [],
   "source": [
    "import os\n",
    "import metnum\n",
    "import pandas as pd\n",
    "import numpy as np\n",
    "import matplotlib.pyplot as plt\n",
    "from sklearn.metrics import accuracy_score"
   ]
  },
  {
   "cell_type": "code",
   "execution_count": 2,
   "metadata": {},
   "outputs": [
    {
     "name": "stdout",
     "output_type": "stream",
     "text": [
      "mkdir: cannot create directory ‘build’: File exists\n",
      "-- The C compiler identification is GNU 9.3.0\n",
      "-- The CXX compiler identification is GNU 9.3.0\n",
      "-- Detecting C compiler ABI info\n",
      "-- Detecting C compiler ABI info - done\n",
      "-- Check for working C compiler: /usr/bin/cc - skipped\n",
      "-- Detecting C compile features\n",
      "-- Detecting C compile features - done\n",
      "-- Detecting CXX compiler ABI info\n",
      "-- Detecting CXX compiler ABI info - done\n",
      "-- Check for working CXX compiler: /usr/bin/c++ - skipped\n",
      "-- Detecting CXX compile features\n",
      "-- Detecting CXX compile features - done\n",
      "Release mode\n",
      "-- pybind11 v2.6.0 \n",
      "-- Found PythonInterp: /home/lggomez/.pyenv/versions/metnum-tp2/bin/python (found version \"3.6.5\") \n",
      "-- Found PythonLibs: /home/lggomez/.pyenv/versions/3.6.5/lib/libpython3.6m.a\n",
      "-- Performing Test HAS_FLTO\n",
      "-- Performing Test HAS_FLTO - Success\n",
      "CMAKE_INSTALL_PREFIX=/home/lggomez/workspace/facultad/metnum/metodos-num/tp2\n",
      "-- Configuring done\n",
      "-- Generating done\n",
      "-- Build files have been written to: /home/lggomez/workspace/facultad/metnum/metodos-num/tp2/build\n",
      "\u001b[35m\u001b[1mScanning dependencies of target tp2\u001b[0m\n",
      "[  8%] \u001b[32mBuilding CXX object CMakeFiles/tp2.dir/src/main.cpp.o\u001b[0m\n",
      "[ 16%] \u001b[32mBuilding CXX object CMakeFiles/tp2.dir/src/knn.cpp.o\u001b[0m\n",
      "[ 25%] \u001b[32mBuilding CXX object CMakeFiles/tp2.dir/src/pca.cpp.o\u001b[0m\n",
      "[ 33%] \u001b[32mBuilding CXX object CMakeFiles/tp2.dir/src/eigen.cpp.o\u001b[0m\n",
      "[ 41%] \u001b[32mBuilding CXX object CMakeFiles/tp2.dir/src/data_handler.cpp.o\u001b[0m\n",
      "[ 50%] \u001b[32m\u001b[1mLinking CXX executable tp2\u001b[0m\n",
      "[ 50%] Built target tp2\n",
      "\u001b[35m\u001b[1mScanning dependencies of target metnum\u001b[0m\n",
      "[ 58%] \u001b[32mBuilding CXX object CMakeFiles/metnum.dir/src/metnum.cpp.o\u001b[0m\n",
      "[ 66%] \u001b[32mBuilding CXX object CMakeFiles/metnum.dir/src/knn.cpp.o\u001b[0m\n",
      "[ 75%] \u001b[32mBuilding CXX object CMakeFiles/metnum.dir/src/pca.cpp.o\u001b[0m\n",
      "[ 83%] \u001b[32mBuilding CXX object CMakeFiles/metnum.dir/src/eigen.cpp.o\u001b[0m\n",
      "[ 91%] \u001b[32mBuilding CXX object CMakeFiles/metnum.dir/src/data_handler.cpp.o\u001b[0m\n",
      "[100%] \u001b[32m\u001b[1mLinking CXX shared module metnum.cpython-36m-x86_64-linux-gnu.so\u001b[0m\n",
      "[100%] Built target metnum\n",
      "\u001b[36mInstall the project...\u001b[0m\n",
      "-- Install configuration: \"Release\"\n",
      "-- Installing: /home/lggomez/workspace/facultad/metnum/metodos-num/tp2/notebooks/metnum.cpython-36m-x86_64-linux-gnu.so\n"
     ]
    }
   ],
   "source": [
    "!cd .. && mkdir build\n",
    "!cd ../build/ && rm -rf *\n",
    "!cd ../build && cmake \\\n",
    "  -DPYTHON_EXECUTABLE=\"$(which python)\" \\\n",
    "  -DCMAKE_BUILD_TYPE=Release ..\n",
    "!cd ../build && make install"
   ]
  },
  {
   "cell_type": "code",
   "execution_count": 3,
   "metadata": {},
   "outputs": [
    {
     "name": "stdout",
     "output_type": "stream",
     "text": [
      "/home/lggomez/workspace/facultad/metnum/metodos-num/tp2/notebooks\n",
      "Python 3.6.5\n"
     ]
    }
   ],
   "source": [
    "# Verifico la correcta instalación. Si no falla el import está OK\n",
    "!pwd\n",
    "!python --version\n",
    "import metnum"
   ]
  },
  {
   "cell_type": "code",
   "execution_count": 4,
   "metadata": {},
   "outputs": [],
   "source": [
    "%load_ext autoreload\n",
    "%autoreload 2\n",
    "\n",
    "df_train = pd.read_csv(\"../data/train.csv\")"
   ]
  },
  {
   "cell_type": "code",
   "execution_count": 5,
   "metadata": {},
   "outputs": [],
   "source": [
    "df_train = df_train[:10000]"
   ]
  },
  {
   "cell_type": "code",
   "execution_count": 6,
   "metadata": {},
   "outputs": [
    {
     "data": {
      "text/plain": [
       "((10000, 784), (10000,))"
      ]
     },
     "execution_count": 6,
     "metadata": {},
     "output_type": "execute_result"
    }
   ],
   "source": [
    "# Uso values para mandar todo a arrays de numpy\n",
    "X = df_train[df_train.columns[1:]]\n",
    "y = df_train[\"label\"]\n",
    "\n",
    "X.shape, y.shape"
   ]
  },
  {
   "cell_type": "code",
   "execution_count": 7,
   "metadata": {},
   "outputs": [
    {
     "name": "stdout",
     "output_type": "stream",
     "text": [
      "Ahora tengo 8000 instancias de entrenamiento y 2000 de validación\n"
     ]
    }
   ],
   "source": [
    "limit = int(0.8 * X.shape[0]) \n",
    "\n",
    "X_train, y_train = X[:limit], y[:limit]\n",
    "X_val, y_val = X[limit:], y[limit:]\n",
    "\n",
    "assert len(X_train) == len(y_train)\n",
    "assert len(X_val) == len(y_val)\n",
    "\n",
    "print(f\"Ahora tengo {len(X_train)} instancias de entrenamiento y {len(X_val)} de validación\")"
   ]
  },
  {
   "cell_type": "markdown",
   "metadata": {},
   "source": [
    "## Explorando los datos"
   ]
  },
  {
   "cell_type": "code",
   "execution_count": 8,
   "metadata": {},
   "outputs": [
    {
     "data": {
      "text/html": [
       "<div>\n",
       "<style scoped>\n",
       "    .dataframe tbody tr th:only-of-type {\n",
       "        vertical-align: middle;\n",
       "    }\n",
       "\n",
       "    .dataframe tbody tr th {\n",
       "        vertical-align: top;\n",
       "    }\n",
       "\n",
       "    .dataframe thead th {\n",
       "        text-align: right;\n",
       "    }\n",
       "</style>\n",
       "<table border=\"1\" class=\"dataframe\">\n",
       "  <thead>\n",
       "    <tr style=\"text-align: right;\">\n",
       "      <th></th>\n",
       "      <th>train_size</th>\n",
       "      <th>knn</th>\n",
       "      <th>alpha</th>\n",
       "      <th>kfold</th>\n",
       "      <th>accuracy</th>\n",
       "      <th>recall</th>\n",
       "      <th>f1</th>\n",
       "      <th>cohen_kappa</th>\n",
       "      <th>precision</th>\n",
       "    </tr>\n",
       "  </thead>\n",
       "  <tbody>\n",
       "    <tr>\n",
       "      <th>count</th>\n",
       "      <td>57200.000000</td>\n",
       "      <td>57200.000000</td>\n",
       "      <td>57200.000000</td>\n",
       "      <td>57200.000000</td>\n",
       "      <td>57200.000000</td>\n",
       "      <td>57200.000000</td>\n",
       "      <td>57200.000000</td>\n",
       "      <td>57200.000000</td>\n",
       "      <td>57200.000000</td>\n",
       "    </tr>\n",
       "    <tr>\n",
       "      <th>mean</th>\n",
       "      <td>5000.000000</td>\n",
       "      <td>26.000000</td>\n",
       "      <td>60.000000</td>\n",
       "      <td>15.000000</td>\n",
       "      <td>0.906674</td>\n",
       "      <td>0.906674</td>\n",
       "      <td>0.906783</td>\n",
       "      <td>0.895897</td>\n",
       "      <td>0.914114</td>\n",
       "    </tr>\n",
       "    <tr>\n",
       "      <th>std</th>\n",
       "      <td>2236.087524</td>\n",
       "      <td>15.000131</td>\n",
       "      <td>31.623053</td>\n",
       "      <td>5.000044</td>\n",
       "      <td>0.034997</td>\n",
       "      <td>0.034997</td>\n",
       "      <td>0.034748</td>\n",
       "      <td>0.039092</td>\n",
       "      <td>0.029033</td>\n",
       "    </tr>\n",
       "    <tr>\n",
       "      <th>min</th>\n",
       "      <td>2000.000000</td>\n",
       "      <td>1.000000</td>\n",
       "      <td>10.000000</td>\n",
       "      <td>5.000000</td>\n",
       "      <td>0.750000</td>\n",
       "      <td>0.750000</td>\n",
       "      <td>0.745416</td>\n",
       "      <td>0.721697</td>\n",
       "      <td>0.752244</td>\n",
       "    </tr>\n",
       "    <tr>\n",
       "      <th>25%</th>\n",
       "      <td>3500.000000</td>\n",
       "      <td>13.000000</td>\n",
       "      <td>30.000000</td>\n",
       "      <td>10.000000</td>\n",
       "      <td>0.886667</td>\n",
       "      <td>0.886667</td>\n",
       "      <td>0.886218</td>\n",
       "      <td>0.873606</td>\n",
       "      <td>0.895860</td>\n",
       "    </tr>\n",
       "    <tr>\n",
       "      <th>50%</th>\n",
       "      <td>5000.000000</td>\n",
       "      <td>26.000000</td>\n",
       "      <td>60.000000</td>\n",
       "      <td>15.000000</td>\n",
       "      <td>0.913750</td>\n",
       "      <td>0.913750</td>\n",
       "      <td>0.913792</td>\n",
       "      <td>0.903912</td>\n",
       "      <td>0.918999</td>\n",
       "    </tr>\n",
       "    <tr>\n",
       "      <th>75%</th>\n",
       "      <td>6500.000000</td>\n",
       "      <td>39.000000</td>\n",
       "      <td>90.000000</td>\n",
       "      <td>20.000000</td>\n",
       "      <td>0.932500</td>\n",
       "      <td>0.932500</td>\n",
       "      <td>0.932598</td>\n",
       "      <td>0.924829</td>\n",
       "      <td>0.935769</td>\n",
       "    </tr>\n",
       "    <tr>\n",
       "      <th>max</th>\n",
       "      <td>8000.000000</td>\n",
       "      <td>51.000000</td>\n",
       "      <td>110.000000</td>\n",
       "      <td>20.000000</td>\n",
       "      <td>0.976667</td>\n",
       "      <td>0.976667</td>\n",
       "      <td>0.976728</td>\n",
       "      <td>0.973998</td>\n",
       "      <td>0.977210</td>\n",
       "    </tr>\n",
       "  </tbody>\n",
       "</table>\n",
       "</div>"
      ],
      "text/plain": [
       "         train_size           knn         alpha         kfold      accuracy  \\\n",
       "count  57200.000000  57200.000000  57200.000000  57200.000000  57200.000000   \n",
       "mean    5000.000000     26.000000     60.000000     15.000000      0.906674   \n",
       "std     2236.087524     15.000131     31.623053      5.000044      0.034997   \n",
       "min     2000.000000      1.000000     10.000000      5.000000      0.750000   \n",
       "25%     3500.000000     13.000000     30.000000     10.000000      0.886667   \n",
       "50%     5000.000000     26.000000     60.000000     15.000000      0.913750   \n",
       "75%     6500.000000     39.000000     90.000000     20.000000      0.932500   \n",
       "max     8000.000000     51.000000    110.000000     20.000000      0.976667   \n",
       "\n",
       "             recall            f1   cohen_kappa     precision  \n",
       "count  57200.000000  57200.000000  57200.000000  57200.000000  \n",
       "mean       0.906674      0.906783      0.895897      0.914114  \n",
       "std        0.034997      0.034748      0.039092      0.029033  \n",
       "min        0.750000      0.745416      0.721697      0.752244  \n",
       "25%        0.886667      0.886218      0.873606      0.895860  \n",
       "50%        0.913750      0.913792      0.903912      0.918999  \n",
       "75%        0.932500      0.932598      0.924829      0.935769  \n",
       "max        0.976667      0.976728      0.973998      0.977210  "
      ]
     },
     "execution_count": 8,
     "metadata": {},
     "output_type": "execute_result"
    }
   ],
   "source": [
    "data_files = os.listdir('knn_pca_results')\n",
    "\n",
    "def load_files(filenames):\n",
    "    for filename in filenames:\n",
    "        yield pd.read_csv(f\"knn_pca_results/{filename}\")\n",
    "\n",
    "data = pd.concat(load_files(data_files), ignore_index=True)\n",
    "\n",
    "data.describe()"
   ]
  },
  {
   "cell_type": "markdown",
   "metadata": {},
   "source": [
    "## Análisis"
   ]
  },
  {
   "cell_type": "code",
   "execution_count": 18,
   "metadata": {},
   "outputs": [
    {
     "name": "stdout",
     "output_type": "stream",
     "text": [
      "Media más alta para accuracy\n",
      "(8000, 5, 50, 20) 0.95225\n",
      "==================\n",
      "Media más alta para recall\n",
      "(8000, 5, 50, 20) 0.95225\n",
      "==================\n",
      "Media más alta para f1\n",
      "(8000, 5, 50, 20) 0.9522671387050359\n",
      "==================\n",
      "Media más alta para cohen_kappa\n",
      "(8000, 5, 50, 20) 0.9468069330261057\n",
      "==================\n",
      "Media más alta para precision\n",
      "(8000, 5, 50, 20) 0.9539611710171696\n",
      "==================\n"
     ]
    }
   ],
   "source": [
    "# mejor pareja, global, por métrica\n",
    "\n",
    "grouped = data.groupby(['train_size', 'knn', 'alpha', 'kfold']).mean()\n",
    "\n",
    "idx = []\n",
    "metrics = grouped.columns.values\n",
    "\n",
    "for metric in metrics:\n",
    "    print(f\"Media más alta para {metric}\")\n",
    "    idx = grouped[[metric]].idxmax()[metric]\n",
    "    print(idx, grouped.loc[idx][metric])\n",
    "    print(\"==================\")"
   ]
  },
  {
   "cell_type": "code",
   "execution_count": 20,
   "metadata": {},
   "outputs": [
    {
     "name": "stdout",
     "output_type": "stream",
     "text": [
      "5 (3, 40, 8000) 0.95\n",
      "==================\n",
      "10 (3, 40, 8000) 0.95075\n",
      "==================\n",
      "15 (3, 40, 8000) 0.9516207461123876\n",
      "==================\n",
      "20 (5, 50, 8000) 0.95225\n",
      "==================\n"
     ]
    }
   ],
   "source": [
    "# mejor pareja, por instancia de k-fold, por accuracy\n",
    "\n",
    "grouped = data.groupby(['kfold', 'knn', 'alpha', 'train_size']).mean()\n",
    "\n",
    "k = [5, 10, 15, 20]\n",
    "\n",
    "for i in k:\n",
    "    df = grouped.loc[i]\n",
    "    idx = df[['accuracy']].idxmax()['accuracy']\n",
    "    print(i, idx, df.loc[idx]['accuracy'])\n",
    "    print(\"==================\")"
   ]
  },
  {
   "cell_type": "code",
   "execution_count": 11,
   "metadata": {},
   "outputs": [
    {
     "name": "stdout",
     "output_type": "stream",
     "text": [
      "0.9645\n",
      "0.9625\n"
     ]
    }
   ],
   "source": [
    "def getacc(a, k):\n",
    "    pca = metnum.PCA(a)\n",
    "    pca.fit(X_train)\n",
    "    X_train_pca, X_val_pca = pca.transform(X_train), pca.transform(X_val)\n",
    "\n",
    "    knn = metnum.KNNClassifier(k)\n",
    "    knn.fit(X_train_pca, y_train)\n",
    "    knn.load(X_val_pca)\n",
    "    y_pred = knn.predict(k)\n",
    "\n",
    "    return accuracy_score(y_val, y_pred)\n",
    "\n",
    "print(getacc(40, 3))\n",
    "print(getacc(50, 5))"
   ]
  },
  {
   "cell_type": "code",
   "execution_count": 21,
   "metadata": {},
   "outputs": [
    {
     "data": {
      "text/plain": [
       "<matplotlib.axes._subplots.AxesSubplot at 0x7ff364a74b00>"
      ]
     },
     "execution_count": 21,
     "metadata": {},
     "output_type": "execute_result"
    },
    {
     "data": {
      "image/png": "[encoded data removed]",
      "text/plain": [
       "<Figure size 432x288 with 1 Axes>"
      ]
     },
     "metadata": {
      "needs_background": "light"
     },
     "output_type": "display_data"
    }
   ],
   "source": [
    "knn=3\n",
    "pca=40\n",
    "\n",
    "grouped = data.groupby(['knn', 'alpha', 'train_size', 'kfold']).mean()[['accuracy']]\n",
    "grouped.loc[knn, pca, 8000].plot(title=f\"Media de accuracy en función de K para {8000} (#trainset), {knn} (knn) y {pca} (pca)\")"
   ]
  },
  {
   "cell_type": "code",
   "execution_count": 22,
   "metadata": {},
   "outputs": [
    {
     "data": {
      "text/plain": [
       "<matplotlib.axes._subplots.AxesSubplot at 0x7ff3645862e8>"
      ]
     },
     "execution_count": 22,
     "metadata": {},
     "output_type": "execute_result"
    },
    {
     "data": {
      "image/png": "[encoded data removed]",
      "text/plain": [
       "<Figure size 432x288 with 1 Axes>"
      ]
     },
     "metadata": {
      "needs_background": "light"
     },
     "output_type": "display_data"
    }
   ],
   "source": [
    "grouped = data.groupby(['kfold', 'train_size']).mean()[['accuracy']]\n",
    "grouped.unstack(level=1).plot(title=\"Media de accuracy en función de K por #trainset\")"
   ]
  },
  {
   "cell_type": "code",
   "execution_count": 23,
   "metadata": {},
   "outputs": [
    {
     "data": {
      "text/plain": [
       "<matplotlib.axes._subplots.AxesSubplot at 0x7ff36450e080>"
      ]
     },
     "execution_count": 23,
     "metadata": {},
     "output_type": "execute_result"
    },
    {
     "data": {
      "image/png": "[encoded data removed]",
      "text/plain": [
       "<Figure size 432x288 with 1 Axes>"
      ]
     },
     "metadata": {
      "needs_background": "light"
     },
     "output_type": "display_data"
    }
   ],
   "source": [
    "knn=3\n",
    "pca=40\n",
    "\n",
    "grouped = data.groupby(['knn', 'alpha', 'kfold', 'train_size']).mean()[['accuracy']]\n",
    "grouped.loc[knn, pca].unstack(level=1).plot(title=f\"Media de accuracy en función de K por #trainset para {knn} (knn) y {pca} (pca)\")"
   ]
  }
 ],
 "metadata": {
  "kernelspec": {
   "display_name": "Python 3",
   "language": "python",
   "name": "python3"
  },
  "language_info": {
   "codemirror_mode": {
    "name": "ipython",
    "version": 3
   },
   "file_extension": ".py",
   "mimetype": "text/x-python",
   "name": "python",
   "nbconvert_exporter": "python",
   "pygments_lexer": "ipython3",
   "version": "3.6.5"
  }
 },
 "nbformat": 4,
 "nbformat_minor": 2
}
