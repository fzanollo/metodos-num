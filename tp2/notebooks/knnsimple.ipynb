{
 "cells": [
  {
   "cell_type": "code",
   "execution_count": 68,
   "metadata": {},
   "outputs": [],
   "source": [
    "import pandas as pd\n",
    "import numpy as np \n",
    "import seaborn as sns\n",
    "import matplotlib.pyplot as plt\n",
    "from sklearn.metrics import accuracy_score"
   ]
  },
  {
   "cell_type": "code",
   "execution_count": null,
   "metadata": {},
   "outputs": [],
   "source": [
    "!cd .. && mkdir build\n",
    "!cd ../build/ && rm -rf *\n",
    "!cd ../build && cmake \\\n",
    "  -DPYTHON_EXECUTABLE=\"$(which python)\" \\\n",
    "  -DCMAKE_BUILD_TYPE=Release ..\n",
    "!cd ../build && make install"
   ]
  },
  {
   "cell_type": "markdown",
   "metadata": {},
   "source": [
    "# Reconocimiento de dígitos con KNN\n",
    "\n"
   ]
  },
  {
   "cell_type": "markdown",
   "metadata": {},
   "source": [
    "Definir los path al ejecutable de python 3.6 y sus librerías,\n",
    "de acuerdo al virtual env que estén corriendo."
   ]
  },
  {
   "cell_type": "code",
   "execution_count": 70,
   "metadata": {},
   "outputs": [
    {
     "name": "stdout",
     "output_type": "stream",
     "text": [
      "/home/gianluca/Documents/Metodos Numericos/github_grupal/metodos-num/tp2/notebooks\n",
      "Python 3.8.5\n"
     ]
    }
   ],
   "source": [
    "# Verifico la correcta instalación. Si no falla el import está OK\n",
    "!pwd\n",
    "!python --version\n",
    "import metnum\n"
   ]
  },
  {
   "cell_type": "code",
   "execution_count": null,
   "metadata": {},
   "outputs": [],
   "source": [
    "def pca(alpha, train,validacion):\n",
    "    pca= metnum.PCA(alpha)\n",
    "    pca.fit(train)\n",
    "    train_pca = pca.transform(train)\n",
    "    val_pca = pca.transform(validacion)\n",
    "    return train_pca, val_pca\n"
   ]
  },
  {
   "cell_type": "code",
   "execution_count": 69,
   "metadata": {},
   "outputs": [],
   "source": [
    "from sklearn.metrics import accuracy_score, recall_score, f1_score, cohen_kappa_score, precision_score\n",
    "\n",
    "def trainYvalidacion(k,X,y,X_val,y_val):\n",
    "\n",
    "    clf = metnum.KNNClassifier(k)\n",
    "    clf.fit(X, y)\n",
    "    y_pred = clf.predict(X_val)\n",
    "\n",
    "    acc = accuracy_score(y_val, y_pred)\n",
    "    print(\"Accuracy: {}\".format(acc))\n",
    "    recall    = recall_score(y_val, y_pred,average = None)\n",
    "    precision = precision_score(y_val, y_pred, average=None)\n",
    "    f1        = f1_score(y_val, y_pred, average = None)\n",
    "    return acc,recall,precision, f1,y_pred"
   ]
  },
  {
   "cell_type": "code",
   "execution_count": null,
   "metadata": {},
   "outputs": [],
   "source": [
    "def numpy_to_csv(x,val,alpha,nset):\n",
    "    df_x = pd.DataFrame(data=x)\n",
    "    df_x.to_csv(f\"transformaciones/{nset}_{alpha}_train.csv\",index=False)\n",
    "    df_val = pd.DataFrame(data=val)\n",
    "    df_val.to_csv(f\"transformaciones/{nset}_{alpha}_val.csv\",index=False)"
   ]
  },
  {
   "cell_type": "code",
   "execution_count": null,
   "metadata": {},
   "outputs": [],
   "source": [
    "%load_ext autoreload\n",
    "%autoreload 2\n",
    "\n",
    "df_train = pd.read_csv(\"../data/train.csv\")\n",
    "print(df_train.info())\n",
    "\n",
    "X = df_train[df_train.columns[1:]].values\n",
    "y = df_train[\"label\"].values.reshape(-1, 1)\n",
    "\n",
    "X.shape, y.shape"
   ]
  },
  {
   "cell_type": "markdown",
   "metadata": {},
   "source": [
    "# Experimento Preliminar "
   ]
  },
  {
   "cell_type": "markdown",
   "metadata": {},
   "source": [
    "Analizamos sobre una particion del dataset (5000) con el objetivo de conseguir una primera intuición con respecto al metodo."
   ]
  },
  {
   "cell_type": "code",
   "execution_count": null,
   "metadata": {},
   "outputs": [],
   "source": [
    "\n",
    "#Mezclamos la data original\n",
    "idx = np.random.permutation(len(X))\n",
    "X,y = X[idx], y[idx]\n",
    "#Tomamamos los primeros 5000 datos\n",
    "X,y = X[:5000],y[:5000]\n",
    "X.shape,y.shape"
   ]
  },
  {
   "cell_type": "code",
   "execution_count": null,
   "metadata": {},
   "outputs": [],
   "source": [
    "limit = int(0.8 * X.shape[0]) \n",
    "\n",
    "X_train, y_train = X[:limit], y[:limit]\n",
    "X_val, y_val = X[limit:], y[limit:]\n",
    "\n",
    "assert len(X_train) == len(y_train)\n",
    "assert len(X_val) == len(y_val)\n",
    "\n",
    "print(f\"Ahora tengo {len(X_train)} instancias de entrenamiento y {len(X_val)} de validación\")"
   ]
  },
  {
   "cell_type": "code",
   "execution_count": null,
   "metadata": {},
   "outputs": [],
   "source": [
    "k_max = 300\n",
    "salto_k = 10\n",
    "\n",
    "Ks = [1] + [i*salto_k for i in range(1,int(k_max/salto_k) + 1)]\n",
    "#Ks"
   ]
  },
  {
   "cell_type": "code",
   "execution_count": null,
   "metadata": {},
   "outputs": [],
   "source": [
    "from timeit import default_timer as timer\n",
    "start = timer()\n",
    "\n",
    "accuracy = []\n",
    "for k in Ks :\n",
    "        \n",
    "    clf = metnum.KNNClassifier(k)\n",
    "    clf.fit(X_train, y_train)\n",
    "    y_pred = clf.predict(X_val)\n",
    "    \n",
    "    acc = accuracy_score(y_val, y_pred)\n",
    "    accuracy.append(acc)\n",
    "    if k%5 ==0 :\n",
    "        print(f\"Calculando k = {k}\")\n",
    "        \n",
    "end = timer()\n",
    "print(end - start)"
   ]
  },
  {
   "cell_type": "code",
   "execution_count": null,
   "metadata": {},
   "outputs": [],
   "source": [
    "dat = pd.DataFrame({\"K\":Ks,\"Accuracy\": accuracy})\n",
    "dat.sort_values(by=['Accuracy'],ascending = False).head(20)"
   ]
  },
  {
   "cell_type": "code",
   "execution_count": null,
   "metadata": {},
   "outputs": [],
   "source": [
    "#Guardar csv\n",
    "dat.to_csv(\"exp_csv/PreliminarValidacionSimple_knn.csv\",index = True,header = True)"
   ]
  },
  {
   "cell_type": "markdown",
   "metadata": {},
   "source": [
    "Como podemos notar a mediada que el k asciende su accuracy disminuye"
   ]
  },
  {
   "cell_type": "code",
   "execution_count": 36,
   "metadata": {
    "scrolled": false
   },
   "outputs": [
    {
     "data": {
      "image/png": "[encoded data removed]",
      "text/plain": [
       "<Figure size 720x720 with 1 Axes>"
      ]
     },
     "metadata": {
      "needs_background": "light"
     },
     "output_type": "display_data"
    }
   ],
   "source": [
    "df = pd.read_csv(\"exp_csv/PreliminarValidacionSimple_knn.csv\")\n",
    "plt.figure(figsize=(10,10))\n",
    "plt.ylabel(\"Accuracy\")\n",
    "plt.xlabel(\"K\")\n",
    "plt.title(\"Validacion Simple con 5000 datos\")\n",
    "sns.lineplot(x = df['K'], y = df['Accuracy'])\n",
    "#plt.savefig(\"exp_csv/plots/validacionSimple_knnsolo.png\")\n",
    "plt.show()"
   ]
  },
  {
   "cell_type": "markdown",
   "metadata": {},
   "source": [
    "Analizamos que sucede para los valores mas bajos de K "
   ]
  },
  {
   "cell_type": "code",
   "execution_count": null,
   "metadata": {},
   "outputs": [],
   "source": [
    "k_max = 30\n",
    "salto_k = 1\n",
    "\n",
    "Ks = [1] + [i*salto_k for i in range(1,int(k_max/salto_k) + 1)]\n",
    "#Ks"
   ]
  },
  {
   "cell_type": "code",
   "execution_count": null,
   "metadata": {},
   "outputs": [],
   "source": [
    "from timeit import default_timer as timer\n",
    "start = timer()\n",
    "\n",
    "accuracy = []\n",
    "for k in Ks :\n",
    "        \n",
    "    clf = metnum.KNNClassifier(k)\n",
    "    clf.fit(X_train, y_train)\n",
    "    y_pred = clf.predict(X_val)\n",
    "    \n",
    "    acc = accuracy_score(y_val, y_pred)\n",
    "    accuracy.append(acc)\n",
    "    if k%5 ==0 :\n",
    "        print(f\"Calculando k = {k}\")\n",
    "        \n",
    "end = timer()\n",
    "print(end - start)"
   ]
  },
  {
   "cell_type": "code",
   "execution_count": null,
   "metadata": {},
   "outputs": [],
   "source": [
    "df_kchicos = pd.DataFrame({\"K\":Ks,\"Accuracy\": accuracy})\n",
    "#Guardar csv\n",
    "df_kchicos.to_csv(\"exp_csv/PreliminarValidacionSimple_knnCHICOS.csv\",index = True,header = True)\n",
    "df_kchicos.sort_values(by=['Accuracy'],ascending = False).head(20)"
   ]
  },
  {
   "cell_type": "code",
   "execution_count": 37,
   "metadata": {},
   "outputs": [
    {
     "data": {
      "image/png": "[encoded data removed]",
      "text/plain": [
       "<Figure size 720x720 with 1 Axes>"
      ]
     },
     "metadata": {
      "needs_background": "light"
     },
     "output_type": "display_data"
    }
   ],
   "source": [
    "df = pd.read_csv(\"exp_csv/PreliminarValidacionSimple_knnCHICOS.csv\")\n",
    "plt.figure(figsize=(10,10))\n",
    "plt.ylabel(\"Accuracy\")\n",
    "plt.xlabel(\"K\")\n",
    "plt.title(\"Validacion Simple con 5000 datos\")\n",
    "sns.lineplot(x = df['K'], y = df['Accuracy'])\n",
    "#plt.savefig(\"exp_csv/plots/validacionSimple_knnsolo_Kchicos.png\")\n",
    "plt.show()"
   ]
  },
  {
   "cell_type": "markdown",
   "metadata": {},
   "source": [
    "# Accuracy validacion simple sobre el dataset completo"
   ]
  },
  {
   "cell_type": "markdown",
   "metadata": {},
   "source": [
    "Buscamos las mejores parejas sobre un rango amplio de alpha y k , utilizando un split simple de 33600 instancias de entrenamiento y 8400 de validación.\n"
   ]
  },
  {
   "cell_type": "code",
   "execution_count": 59,
   "metadata": {},
   "outputs": [
    {
     "name": "stdout",
     "output_type": "stream",
     "text": [
      "The autoreload extension is already loaded. To reload it, use:\n",
      "  %reload_ext autoreload\n",
      "<class 'pandas.core.frame.DataFrame'>\n",
      "RangeIndex: 42000 entries, 0 to 41999\n",
      "Columns: 785 entries, label to pixel783\n",
      "dtypes: int64(785)\n",
      "memory usage: 251.5 MB\n",
      "None\n"
     ]
    },
    {
     "data": {
      "text/plain": [
       "((42000, 784), (42000, 1))"
      ]
     },
     "execution_count": 59,
     "metadata": {},
     "output_type": "execute_result"
    }
   ],
   "source": [
    "%load_ext autoreload\n",
    "%autoreload 2\n",
    "\n",
    "df_train = pd.read_csv(\"../data/train.csv\")\n",
    "print(df_train.info())\n",
    "\n",
    "X = df_train[df_train.columns[1:]].values\n",
    "y = df_train[\"label\"].values.reshape(-1, 1)\n",
    "\n",
    "#Mezclamos la data original\n",
    "np.random.seed(30)\n",
    "idx = np.random.permutation(len(X))\n",
    "X,y = X[idx], y[idx]\n",
    "\n",
    "X.shape,y.shape"
   ]
  },
  {
   "cell_type": "code",
   "execution_count": 60,
   "metadata": {},
   "outputs": [
    {
     "name": "stdout",
     "output_type": "stream",
     "text": [
      "Ahora tengo 33600 instancias de entrenamiento y 8400 de validación\n"
     ]
    }
   ],
   "source": [
    "limit = int(0.8 * X.shape[0]) \n",
    "\n",
    "X_train, y_train = X[:limit], y[:limit]\n",
    "X_val, y_val = X[limit:], y[limit:]\n",
    "\n",
    "assert len(X_train) == len(y_train)\n",
    "assert len(X_val) == len(y_val)\n",
    "\n",
    "print(f\"Ahora tengo {len(X_train)} instancias de entrenamiento y {len(X_val)} de validación\")\n"
   ]
  },
  {
   "cell_type": "code",
   "execution_count": 61,
   "metadata": {
    "scrolled": true
   },
   "outputs": [
    {
     "data": {
      "text/plain": [
       "[1,\n",
       " 2,\n",
       " 3,\n",
       " 4,\n",
       " 5,\n",
       " 6,\n",
       " 7,\n",
       " 8,\n",
       " 9,\n",
       " 10,\n",
       " 11,\n",
       " 12,\n",
       " 13,\n",
       " 14,\n",
       " 15,\n",
       " 16,\n",
       " 17,\n",
       " 18,\n",
       " 19,\n",
       " 20,\n",
       " 21,\n",
       " 22,\n",
       " 23,\n",
       " 24,\n",
       " 25,\n",
       " 26,\n",
       " 27,\n",
       " 28,\n",
       " 29,\n",
       " 30]"
      ]
     },
     "execution_count": 61,
     "metadata": {},
     "output_type": "execute_result"
    }
   ],
   "source": [
    "k_max = 30\n",
    "\n",
    "Ks = [i for i in range(1,k_max+1)]\n",
    "Ks"
   ]
  },
  {
   "cell_type": "code",
   "execution_count": null,
   "metadata": {},
   "outputs": [],
   "source": [
    "from timeit import default_timer as timer\n",
    "start = timer()\n",
    "\n",
    "accuracy = []\n",
    "for k in Ks :\n",
    "        \n",
    "    clf = metnum.KNNClassifier(k)\n",
    "    clf.fit(X_train, y_train)\n",
    "    y_pred = clf.predict(X_val)\n",
    "    \n",
    "    acc = accuracy_score(y_val, y_pred)\n",
    "    accuracy.append(acc)\n",
    "    if k%5 ==0 :\n",
    "        print(f\"Calculando k = {k}\")\n",
    "        \n",
    "end = timer()\n",
    "print(end - start)"
   ]
  },
  {
   "cell_type": "code",
   "execution_count": null,
   "metadata": {},
   "outputs": [],
   "source": [
    "val_simple = pd.DataFrame({\"K\":Ks,\"Accuracy\": accuracy})"
   ]
  },
  {
   "cell_type": "code",
   "execution_count": null,
   "metadata": {},
   "outputs": [],
   "source": [
    "#Guardar csv\n",
    "val_simple.to_csv(\"exp_csv/ValidacionSimple_knn.csv\",index = True,header = True)"
   ]
  },
  {
   "cell_type": "code",
   "execution_count": 62,
   "metadata": {},
   "outputs": [],
   "source": [
    "#Leer csv ya guardado\n",
    "val_simple = pd.read_csv(\"exp_csv/ValidacionSimple_knn.csv\")"
   ]
  },
  {
   "cell_type": "code",
   "execution_count": 63,
   "metadata": {},
   "outputs": [
    {
     "data": {
      "text/html": [
       "<div>\n",
       "<style scoped>\n",
       "    .dataframe tbody tr th:only-of-type {\n",
       "        vertical-align: middle;\n",
       "    }\n",
       "\n",
       "    .dataframe tbody tr th {\n",
       "        vertical-align: top;\n",
       "    }\n",
       "\n",
       "    .dataframe thead th {\n",
       "        text-align: right;\n",
       "    }\n",
       "</style>\n",
       "<table border=\"1\" class=\"dataframe\">\n",
       "  <thead>\n",
       "    <tr style=\"text-align: right;\">\n",
       "      <th></th>\n",
       "      <th>K</th>\n",
       "      <th>Accuracy</th>\n",
       "    </tr>\n",
       "  </thead>\n",
       "  <tbody>\n",
       "    <tr>\n",
       "      <th>2</th>\n",
       "      <td>3</td>\n",
       "      <td>0.971190</td>\n",
       "    </tr>\n",
       "    <tr>\n",
       "      <th>3</th>\n",
       "      <td>4</td>\n",
       "      <td>0.970357</td>\n",
       "    </tr>\n",
       "    <tr>\n",
       "      <th>4</th>\n",
       "      <td>5</td>\n",
       "      <td>0.969643</td>\n",
       "    </tr>\n",
       "    <tr>\n",
       "      <th>5</th>\n",
       "      <td>6</td>\n",
       "      <td>0.969524</td>\n",
       "    </tr>\n",
       "    <tr>\n",
       "      <th>6</th>\n",
       "      <td>7</td>\n",
       "      <td>0.968929</td>\n",
       "    </tr>\n",
       "    <tr>\n",
       "      <th>7</th>\n",
       "      <td>8</td>\n",
       "      <td>0.968690</td>\n",
       "    </tr>\n",
       "    <tr>\n",
       "      <th>0</th>\n",
       "      <td>1</td>\n",
       "      <td>0.967500</td>\n",
       "    </tr>\n",
       "    <tr>\n",
       "      <th>9</th>\n",
       "      <td>10</td>\n",
       "      <td>0.967500</td>\n",
       "    </tr>\n",
       "    <tr>\n",
       "      <th>8</th>\n",
       "      <td>9</td>\n",
       "      <td>0.967024</td>\n",
       "    </tr>\n",
       "    <tr>\n",
       "      <th>10</th>\n",
       "      <td>11</td>\n",
       "      <td>0.965714</td>\n",
       "    </tr>\n",
       "    <tr>\n",
       "      <th>1</th>\n",
       "      <td>2</td>\n",
       "      <td>0.965476</td>\n",
       "    </tr>\n",
       "    <tr>\n",
       "      <th>11</th>\n",
       "      <td>12</td>\n",
       "      <td>0.964405</td>\n",
       "    </tr>\n",
       "    <tr>\n",
       "      <th>12</th>\n",
       "      <td>13</td>\n",
       "      <td>0.962857</td>\n",
       "    </tr>\n",
       "    <tr>\n",
       "      <th>13</th>\n",
       "      <td>14</td>\n",
       "      <td>0.962024</td>\n",
       "    </tr>\n",
       "    <tr>\n",
       "      <th>14</th>\n",
       "      <td>15</td>\n",
       "      <td>0.961786</td>\n",
       "    </tr>\n",
       "    <tr>\n",
       "      <th>16</th>\n",
       "      <td>17</td>\n",
       "      <td>0.961071</td>\n",
       "    </tr>\n",
       "    <tr>\n",
       "      <th>15</th>\n",
       "      <td>16</td>\n",
       "      <td>0.960357</td>\n",
       "    </tr>\n",
       "    <tr>\n",
       "      <th>17</th>\n",
       "      <td>18</td>\n",
       "      <td>0.959524</td>\n",
       "    </tr>\n",
       "    <tr>\n",
       "      <th>19</th>\n",
       "      <td>20</td>\n",
       "      <td>0.957738</td>\n",
       "    </tr>\n",
       "    <tr>\n",
       "      <th>21</th>\n",
       "      <td>22</td>\n",
       "      <td>0.956310</td>\n",
       "    </tr>\n",
       "    <tr>\n",
       "      <th>23</th>\n",
       "      <td>24</td>\n",
       "      <td>0.955119</td>\n",
       "    </tr>\n",
       "    <tr>\n",
       "      <th>18</th>\n",
       "      <td>19</td>\n",
       "      <td>0.954643</td>\n",
       "    </tr>\n",
       "    <tr>\n",
       "      <th>20</th>\n",
       "      <td>21</td>\n",
       "      <td>0.954524</td>\n",
       "    </tr>\n",
       "    <tr>\n",
       "      <th>22</th>\n",
       "      <td>23</td>\n",
       "      <td>0.954048</td>\n",
       "    </tr>\n",
       "    <tr>\n",
       "      <th>25</th>\n",
       "      <td>26</td>\n",
       "      <td>0.953571</td>\n",
       "    </tr>\n",
       "    <tr>\n",
       "      <th>27</th>\n",
       "      <td>28</td>\n",
       "      <td>0.952500</td>\n",
       "    </tr>\n",
       "    <tr>\n",
       "      <th>24</th>\n",
       "      <td>25</td>\n",
       "      <td>0.951667</td>\n",
       "    </tr>\n",
       "    <tr>\n",
       "      <th>29</th>\n",
       "      <td>30</td>\n",
       "      <td>0.951429</td>\n",
       "    </tr>\n",
       "    <tr>\n",
       "      <th>26</th>\n",
       "      <td>27</td>\n",
       "      <td>0.950595</td>\n",
       "    </tr>\n",
       "    <tr>\n",
       "      <th>28</th>\n",
       "      <td>29</td>\n",
       "      <td>0.950238</td>\n",
       "    </tr>\n",
       "  </tbody>\n",
       "</table>\n",
       "</div>"
      ],
      "text/plain": [
       "     K  Accuracy\n",
       "2    3  0.971190\n",
       "3    4  0.970357\n",
       "4    5  0.969643\n",
       "5    6  0.969524\n",
       "6    7  0.968929\n",
       "7    8  0.968690\n",
       "0    1  0.967500\n",
       "9   10  0.967500\n",
       "8    9  0.967024\n",
       "10  11  0.965714\n",
       "1    2  0.965476\n",
       "11  12  0.964405\n",
       "12  13  0.962857\n",
       "13  14  0.962024\n",
       "14  15  0.961786\n",
       "16  17  0.961071\n",
       "15  16  0.960357\n",
       "17  18  0.959524\n",
       "19  20  0.957738\n",
       "21  22  0.956310\n",
       "23  24  0.955119\n",
       "18  19  0.954643\n",
       "20  21  0.954524\n",
       "22  23  0.954048\n",
       "25  26  0.953571\n",
       "27  28  0.952500\n",
       "24  25  0.951667\n",
       "29  30  0.951429\n",
       "26  27  0.950595\n",
       "28  29  0.950238"
      ]
     },
     "execution_count": 63,
     "metadata": {},
     "output_type": "execute_result"
    }
   ],
   "source": [
    "val_simple.sort_values(by= [\"Accuracy\"],ascending = False)"
   ]
  },
  {
   "cell_type": "markdown",
   "metadata": {},
   "source": [
    "# Cross Validation"
   ]
  },
  {
   "cell_type": "markdown",
   "metadata": {},
   "source": [
    "Extraemos de la validacion simple los parametros de las mejores 5 parejas para luego hacer CV con ellas."
   ]
  },
  {
   "cell_type": "code",
   "execution_count": 65,
   "metadata": {
    "scrolled": false
   },
   "outputs": [
    {
     "data": {
      "text/html": [
       "<div>\n",
       "<style scoped>\n",
       "    .dataframe tbody tr th:only-of-type {\n",
       "        vertical-align: middle;\n",
       "    }\n",
       "\n",
       "    .dataframe tbody tr th {\n",
       "        vertical-align: top;\n",
       "    }\n",
       "\n",
       "    .dataframe thead th {\n",
       "        text-align: right;\n",
       "    }\n",
       "</style>\n",
       "<table border=\"1\" class=\"dataframe\">\n",
       "  <thead>\n",
       "    <tr style=\"text-align: right;\">\n",
       "      <th></th>\n",
       "      <th>K</th>\n",
       "      <th>Accuracy</th>\n",
       "    </tr>\n",
       "  </thead>\n",
       "  <tbody>\n",
       "    <tr>\n",
       "      <th>2</th>\n",
       "      <td>3</td>\n",
       "      <td>0.971190</td>\n",
       "    </tr>\n",
       "    <tr>\n",
       "      <th>3</th>\n",
       "      <td>4</td>\n",
       "      <td>0.970357</td>\n",
       "    </tr>\n",
       "    <tr>\n",
       "      <th>4</th>\n",
       "      <td>5</td>\n",
       "      <td>0.969643</td>\n",
       "    </tr>\n",
       "    <tr>\n",
       "      <th>5</th>\n",
       "      <td>6</td>\n",
       "      <td>0.969524</td>\n",
       "    </tr>\n",
       "    <tr>\n",
       "      <th>6</th>\n",
       "      <td>7</td>\n",
       "      <td>0.968929</td>\n",
       "    </tr>\n",
       "    <tr>\n",
       "      <th>7</th>\n",
       "      <td>8</td>\n",
       "      <td>0.968690</td>\n",
       "    </tr>\n",
       "    <tr>\n",
       "      <th>0</th>\n",
       "      <td>1</td>\n",
       "      <td>0.967500</td>\n",
       "    </tr>\n",
       "    <tr>\n",
       "      <th>9</th>\n",
       "      <td>10</td>\n",
       "      <td>0.967500</td>\n",
       "    </tr>\n",
       "    <tr>\n",
       "      <th>8</th>\n",
       "      <td>9</td>\n",
       "      <td>0.967024</td>\n",
       "    </tr>\n",
       "    <tr>\n",
       "      <th>10</th>\n",
       "      <td>11</td>\n",
       "      <td>0.965714</td>\n",
       "    </tr>\n",
       "  </tbody>\n",
       "</table>\n",
       "</div>"
      ],
      "text/plain": [
       "     K  Accuracy\n",
       "2    3  0.971190\n",
       "3    4  0.970357\n",
       "4    5  0.969643\n",
       "5    6  0.969524\n",
       "6    7  0.968929\n",
       "7    8  0.968690\n",
       "0    1  0.967500\n",
       "9   10  0.967500\n",
       "8    9  0.967024\n",
       "10  11  0.965714"
      ]
     },
     "execution_count": 65,
     "metadata": {},
     "output_type": "execute_result"
    }
   ],
   "source": [
    "val_simple.sort_values(by=['Accuracy'],ascending = False).head(10)"
   ]
  },
  {
   "cell_type": "code",
   "execution_count": 66,
   "metadata": {},
   "outputs": [
    {
     "data": {
      "text/plain": [
       "[1, 3, 4, 5, 6, 7, 8, 9, 10, 11]"
      ]
     },
     "execution_count": 66,
     "metadata": {},
     "output_type": "execute_result"
    }
   ],
   "source": [
    "mejores_k = val_simple.sort_values(by=['Accuracy'],ascending = False).head(10)[\"K\"].unique()\n",
    "mejores_k = list(map(int, mejores_k))\n",
    "mejores_k.sort()\n",
    "mejores_k"
   ]
  },
  {
   "cell_type": "code",
   "execution_count": null,
   "metadata": {},
   "outputs": [],
   "source": [
    "from sklearn.model_selection import KFold\n",
    "from sklearn.metrics import accuracy_score, recall_score, f1_score, cohen_kappa_score, precision_score\n",
    "\n",
    "def work(X, y, clf, k):\n",
    "\n",
    "    accuracy = []\n",
    "    recall = np.zeros(10)\n",
    "    precision = np.zeros(10)\n",
    "    f1 = np.zeros(10)\n",
    "\n",
    "    kf = KFold(n_splits=k)\n",
    "    i = 1\n",
    "    for train_index, test_index in kf.split(X):\n",
    "\n",
    "        X_train, X_test = X[train_index], X[test_index]\n",
    "        y_train, y_test = y[train_index], y[test_index]\n",
    "\n",
    "        clf.fit(X_train, y_train)\n",
    "        y_pred = clf.predict(X_test)\n",
    "\n",
    "        accuracy.append(accuracy_score(y_test, y_pred))\n",
    "        recall    += recall_score(y_test, y_pred,average = None)\n",
    "        precision += precision_score(y_test, y_pred, average=None)\n",
    "        f1        += f1_score(y_test, y_pred, average = None)\n",
    "        \n",
    "        i += 1\n",
    "    \n",
    "    recall /= k\n",
    "    precision /= k\n",
    "    f1 /= k\n",
    "    return np.mean(accuracy),recall,precision, f1"
   ]
  },
  {
   "cell_type": "code",
   "execution_count": null,
   "metadata": {},
   "outputs": [],
   "source": [
    "kfold = 10"
   ]
  },
  {
   "cell_type": "code",
   "execution_count": null,
   "metadata": {},
   "outputs": [],
   "source": [
    "from timeit import default_timer as timer\n",
    "start = timer()\n",
    "\n",
    "recall_cv = np.zeros((len(mejores_k),10))\n",
    "precision_cv = np.zeros((len(mejores_k),10))\n",
    "f1_cv = np.zeros((len(mejores_k),10))\n",
    "\n",
    "col_k = []\n",
    "accuracy = []\n",
    "\n",
    "i = 0\n",
    "\n",
    "for k in mejores_k :\n",
    "\n",
    "    clf = metnum.KNNClassifier(k)\n",
    "    info = work(X_train, y_train, clf, kfold)\n",
    "\n",
    "    recall_cv[i] = info[1]\n",
    "    precision_cv[i] = info[2]\n",
    "    f1_cv[i] = info[3]\n",
    "\n",
    "    #para armar dsp el heatmap\n",
    "    accuracy.append(info[0])\n",
    "    col_k.append(k)\n",
    "\n",
    "    \n",
    "    print(f\"Calculando k = {k}\")\n",
    "    i += 1\n",
    "\n",
    "        \n",
    "end = timer()\n",
    "print(end - start)"
   ]
  },
  {
   "cell_type": "code",
   "execution_count": null,
   "metadata": {},
   "outputs": [],
   "source": [
    "rec = pd.DataFrame(data = recall_cv)\n",
    "rec.insert(0, \"K\", col_k , True) \n",
    "rec.to_csv(\"exp_csv/recall_cv_knn.csv\",index = False,header = True)\n",
    "\n",
    "preci = pd.DataFrame(data = precision_cv)\n",
    "preci.insert(0, \"K\", col_k , True) \n",
    "preci.to_csv(\"exp_csv/precision_cv_knn.csv\",index = False,header = True)\n",
    "\n",
    "\n",
    "f1 = pd.DataFrame(data = f1_cv)\n",
    "f1.insert(0, \"K\", col_k , True) \n",
    "f1.to_csv(\"exp_csv/f1_cv_knn.csv\",index = False,header = True)"
   ]
  },
  {
   "cell_type": "code",
   "execution_count": null,
   "metadata": {
    "scrolled": false
   },
   "outputs": [],
   "source": [
    "dfCV = pd.DataFrame({\"K\":col_k,\"Accuracy\": accuracy})\n",
    "dfCV.to_csv(\"exp_csv/CrossValidation_knn.csv\",index = False,header = True)\n"
   ]
  },
  {
   "cell_type": "code",
   "execution_count": 44,
   "metadata": {},
   "outputs": [
    {
     "name": "stdout",
     "output_type": "stream",
     "text": [
      "Recall Cross validation:\n"
     ]
    },
    {
     "data": {
      "text/html": [
       "<div>\n",
       "<style scoped>\n",
       "    .dataframe tbody tr th:only-of-type {\n",
       "        vertical-align: middle;\n",
       "    }\n",
       "\n",
       "    .dataframe tbody tr th {\n",
       "        vertical-align: top;\n",
       "    }\n",
       "\n",
       "    .dataframe thead th {\n",
       "        text-align: right;\n",
       "    }\n",
       "</style>\n",
       "<table border=\"1\" class=\"dataframe\">\n",
       "  <thead>\n",
       "    <tr style=\"text-align: right;\">\n",
       "      <th></th>\n",
       "      <th>K</th>\n",
       "      <th>0</th>\n",
       "      <th>1</th>\n",
       "      <th>2</th>\n",
       "      <th>3</th>\n",
       "      <th>4</th>\n",
       "      <th>5</th>\n",
       "      <th>6</th>\n",
       "      <th>7</th>\n",
       "      <th>8</th>\n",
       "      <th>9</th>\n",
       "    </tr>\n",
       "  </thead>\n",
       "  <tbody>\n",
       "    <tr>\n",
       "      <th>0</th>\n",
       "      <td>3</td>\n",
       "      <td>0.992810</td>\n",
       "      <td>0.992816</td>\n",
       "      <td>0.952542</td>\n",
       "      <td>0.960769</td>\n",
       "      <td>0.956093</td>\n",
       "      <td>0.954594</td>\n",
       "      <td>0.987850</td>\n",
       "      <td>0.975864</td>\n",
       "      <td>0.930550</td>\n",
       "      <td>0.961850</td>\n",
       "    </tr>\n",
       "    <tr>\n",
       "      <th>1</th>\n",
       "      <td>4</td>\n",
       "      <td>0.991224</td>\n",
       "      <td>0.992581</td>\n",
       "      <td>0.950391</td>\n",
       "      <td>0.955941</td>\n",
       "      <td>0.945009</td>\n",
       "      <td>0.956774</td>\n",
       "      <td>0.989729</td>\n",
       "      <td>0.971097</td>\n",
       "      <td>0.934531</td>\n",
       "      <td>0.972583</td>\n",
       "    </tr>\n",
       "    <tr>\n",
       "      <th>2</th>\n",
       "      <td>5</td>\n",
       "      <td>0.992776</td>\n",
       "      <td>0.993377</td>\n",
       "      <td>0.949873</td>\n",
       "      <td>0.962236</td>\n",
       "      <td>0.956637</td>\n",
       "      <td>0.954957</td>\n",
       "      <td>0.988178</td>\n",
       "      <td>0.970494</td>\n",
       "      <td>0.929005</td>\n",
       "      <td>0.965964</td>\n",
       "    </tr>\n",
       "    <tr>\n",
       "      <th>3</th>\n",
       "      <td>6</td>\n",
       "      <td>0.993328</td>\n",
       "      <td>0.993688</td>\n",
       "      <td>0.943244</td>\n",
       "      <td>0.957259</td>\n",
       "      <td>0.948306</td>\n",
       "      <td>0.954813</td>\n",
       "      <td>0.989394</td>\n",
       "      <td>0.970220</td>\n",
       "      <td>0.931295</td>\n",
       "      <td>0.969838</td>\n",
       "    </tr>\n",
       "    <tr>\n",
       "      <th>4</th>\n",
       "      <td>7</td>\n",
       "      <td>0.992733</td>\n",
       "      <td>0.994457</td>\n",
       "      <td>0.945448</td>\n",
       "      <td>0.960139</td>\n",
       "      <td>0.953505</td>\n",
       "      <td>0.955376</td>\n",
       "      <td>0.987556</td>\n",
       "      <td>0.971665</td>\n",
       "      <td>0.924556</td>\n",
       "      <td>0.962658</td>\n",
       "    </tr>\n",
       "    <tr>\n",
       "      <th>5</th>\n",
       "      <td>1</td>\n",
       "      <td>0.991609</td>\n",
       "      <td>0.994976</td>\n",
       "      <td>0.959656</td>\n",
       "      <td>0.956208</td>\n",
       "      <td>0.956526</td>\n",
       "      <td>0.951835</td>\n",
       "      <td>0.985119</td>\n",
       "      <td>0.970320</td>\n",
       "      <td>0.931315</td>\n",
       "      <td>0.951171</td>\n",
       "    </tr>\n",
       "    <tr>\n",
       "      <th>6</th>\n",
       "      <td>8</td>\n",
       "      <td>0.992172</td>\n",
       "      <td>0.994139</td>\n",
       "      <td>0.944626</td>\n",
       "      <td>0.956222</td>\n",
       "      <td>0.949924</td>\n",
       "      <td>0.955163</td>\n",
       "      <td>0.988763</td>\n",
       "      <td>0.967463</td>\n",
       "      <td>0.926429</td>\n",
       "      <td>0.960959</td>\n",
       "    </tr>\n",
       "    <tr>\n",
       "      <th>7</th>\n",
       "      <td>9</td>\n",
       "      <td>0.992755</td>\n",
       "      <td>0.994411</td>\n",
       "      <td>0.943492</td>\n",
       "      <td>0.958526</td>\n",
       "      <td>0.955185</td>\n",
       "      <td>0.952877</td>\n",
       "      <td>0.985698</td>\n",
       "      <td>0.969187</td>\n",
       "      <td>0.920842</td>\n",
       "      <td>0.955362</td>\n",
       "    </tr>\n",
       "    <tr>\n",
       "      <th>8</th>\n",
       "      <td>10</td>\n",
       "      <td>0.992105</td>\n",
       "      <td>0.994135</td>\n",
       "      <td>0.942330</td>\n",
       "      <td>0.956165</td>\n",
       "      <td>0.949098</td>\n",
       "      <td>0.951842</td>\n",
       "      <td>0.987230</td>\n",
       "      <td>0.966835</td>\n",
       "      <td>0.925477</td>\n",
       "      <td>0.958890</td>\n",
       "    </tr>\n",
       "    <tr>\n",
       "      <th>9</th>\n",
       "      <td>11</td>\n",
       "      <td>0.991801</td>\n",
       "      <td>0.994668</td>\n",
       "      <td>0.939531</td>\n",
       "      <td>0.958172</td>\n",
       "      <td>0.953366</td>\n",
       "      <td>0.952853</td>\n",
       "      <td>0.986019</td>\n",
       "      <td>0.964744</td>\n",
       "      <td>0.918993</td>\n",
       "      <td>0.956751</td>\n",
       "    </tr>\n",
       "  </tbody>\n",
       "</table>\n",
       "</div>"
      ],
      "text/plain": [
       "    K         0         1         2         3         4         5         6  \\\n",
       "0   3  0.992810  0.992816  0.952542  0.960769  0.956093  0.954594  0.987850   \n",
       "1   4  0.991224  0.992581  0.950391  0.955941  0.945009  0.956774  0.989729   \n",
       "2   5  0.992776  0.993377  0.949873  0.962236  0.956637  0.954957  0.988178   \n",
       "3   6  0.993328  0.993688  0.943244  0.957259  0.948306  0.954813  0.989394   \n",
       "4   7  0.992733  0.994457  0.945448  0.960139  0.953505  0.955376  0.987556   \n",
       "5   1  0.991609  0.994976  0.959656  0.956208  0.956526  0.951835  0.985119   \n",
       "6   8  0.992172  0.994139  0.944626  0.956222  0.949924  0.955163  0.988763   \n",
       "7   9  0.992755  0.994411  0.943492  0.958526  0.955185  0.952877  0.985698   \n",
       "8  10  0.992105  0.994135  0.942330  0.956165  0.949098  0.951842  0.987230   \n",
       "9  11  0.991801  0.994668  0.939531  0.958172  0.953366  0.952853  0.986019   \n",
       "\n",
       "          7         8         9  \n",
       "0  0.975864  0.930550  0.961850  \n",
       "1  0.971097  0.934531  0.972583  \n",
       "2  0.970494  0.929005  0.965964  \n",
       "3  0.970220  0.931295  0.969838  \n",
       "4  0.971665  0.924556  0.962658  \n",
       "5  0.970320  0.931315  0.951171  \n",
       "6  0.967463  0.926429  0.960959  \n",
       "7  0.969187  0.920842  0.955362  \n",
       "8  0.966835  0.925477  0.958890  \n",
       "9  0.964744  0.918993  0.956751  "
      ]
     },
     "metadata": {},
     "output_type": "display_data"
    },
    {
     "name": "stdout",
     "output_type": "stream",
     "text": [
      "Precision Cross validation:\n"
     ]
    },
    {
     "data": {
      "text/html": [
       "<div>\n",
       "<style scoped>\n",
       "    .dataframe tbody tr th:only-of-type {\n",
       "        vertical-align: middle;\n",
       "    }\n",
       "\n",
       "    .dataframe tbody tr th {\n",
       "        vertical-align: top;\n",
       "    }\n",
       "\n",
       "    .dataframe thead th {\n",
       "        text-align: right;\n",
       "    }\n",
       "</style>\n",
       "<table border=\"1\" class=\"dataframe\">\n",
       "  <thead>\n",
       "    <tr style=\"text-align: right;\">\n",
       "      <th></th>\n",
       "      <th>K</th>\n",
       "      <th>0</th>\n",
       "      <th>1</th>\n",
       "      <th>2</th>\n",
       "      <th>3</th>\n",
       "      <th>4</th>\n",
       "      <th>5</th>\n",
       "      <th>6</th>\n",
       "      <th>7</th>\n",
       "      <th>8</th>\n",
       "      <th>9</th>\n",
       "    </tr>\n",
       "  </thead>\n",
       "  <tbody>\n",
       "    <tr>\n",
       "      <th>0</th>\n",
       "      <td>3</td>\n",
       "      <td>0.980932</td>\n",
       "      <td>0.962361</td>\n",
       "      <td>0.987544</td>\n",
       "      <td>0.968145</td>\n",
       "      <td>0.977412</td>\n",
       "      <td>0.964229</td>\n",
       "      <td>0.971651</td>\n",
       "      <td>0.956389</td>\n",
       "      <td>0.979620</td>\n",
       "      <td>0.928588</td>\n",
       "    </tr>\n",
       "    <tr>\n",
       "      <th>1</th>\n",
       "      <td>4</td>\n",
       "      <td>0.984152</td>\n",
       "      <td>0.963562</td>\n",
       "      <td>0.985387</td>\n",
       "      <td>0.973215</td>\n",
       "      <td>0.984019</td>\n",
       "      <td>0.959720</td>\n",
       "      <td>0.968003</td>\n",
       "      <td>0.957978</td>\n",
       "      <td>0.978538</td>\n",
       "      <td>0.917407</td>\n",
       "    </tr>\n",
       "    <tr>\n",
       "      <th>2</th>\n",
       "      <td>5</td>\n",
       "      <td>0.978792</td>\n",
       "      <td>0.954261</td>\n",
       "      <td>0.985101</td>\n",
       "      <td>0.966972</td>\n",
       "      <td>0.983253</td>\n",
       "      <td>0.963120</td>\n",
       "      <td>0.969720</td>\n",
       "      <td>0.957312</td>\n",
       "      <td>0.982809</td>\n",
       "      <td>0.934859</td>\n",
       "    </tr>\n",
       "    <tr>\n",
       "      <th>3</th>\n",
       "      <td>6</td>\n",
       "      <td>0.980960</td>\n",
       "      <td>0.955193</td>\n",
       "      <td>0.987669</td>\n",
       "      <td>0.968651</td>\n",
       "      <td>0.984401</td>\n",
       "      <td>0.964329</td>\n",
       "      <td>0.968565</td>\n",
       "      <td>0.954431</td>\n",
       "      <td>0.979067</td>\n",
       "      <td>0.922225</td>\n",
       "    </tr>\n",
       "    <tr>\n",
       "      <th>4</th>\n",
       "      <td>7</td>\n",
       "      <td>0.978851</td>\n",
       "      <td>0.948761</td>\n",
       "      <td>0.985905</td>\n",
       "      <td>0.962864</td>\n",
       "      <td>0.982632</td>\n",
       "      <td>0.963311</td>\n",
       "      <td>0.968830</td>\n",
       "      <td>0.957380</td>\n",
       "      <td>0.981799</td>\n",
       "      <td>0.931705</td>\n",
       "    </tr>\n",
       "    <tr>\n",
       "      <th>5</th>\n",
       "      <td>1</td>\n",
       "      <td>0.978874</td>\n",
       "      <td>0.965106</td>\n",
       "      <td>0.981026</td>\n",
       "      <td>0.950661</td>\n",
       "      <td>0.972504</td>\n",
       "      <td>0.957018</td>\n",
       "      <td>0.975088</td>\n",
       "      <td>0.960938</td>\n",
       "      <td>0.980068</td>\n",
       "      <td>0.935764</td>\n",
       "    </tr>\n",
       "    <tr>\n",
       "      <th>6</th>\n",
       "      <td>8</td>\n",
       "      <td>0.977665</td>\n",
       "      <td>0.948140</td>\n",
       "      <td>0.985601</td>\n",
       "      <td>0.964656</td>\n",
       "      <td>0.984237</td>\n",
       "      <td>0.958558</td>\n",
       "      <td>0.971606</td>\n",
       "      <td>0.952138</td>\n",
       "      <td>0.983487</td>\n",
       "      <td>0.922943</td>\n",
       "    </tr>\n",
       "    <tr>\n",
       "      <th>7</th>\n",
       "      <td>9</td>\n",
       "      <td>0.975031</td>\n",
       "      <td>0.942221</td>\n",
       "      <td>0.984406</td>\n",
       "      <td>0.961687</td>\n",
       "      <td>0.982992</td>\n",
       "      <td>0.958525</td>\n",
       "      <td>0.971243</td>\n",
       "      <td>0.950850</td>\n",
       "      <td>0.986067</td>\n",
       "      <td>0.929750</td>\n",
       "    </tr>\n",
       "    <tr>\n",
       "      <th>8</th>\n",
       "      <td>10</td>\n",
       "      <td>0.974968</td>\n",
       "      <td>0.942373</td>\n",
       "      <td>0.985366</td>\n",
       "      <td>0.962728</td>\n",
       "      <td>0.984102</td>\n",
       "      <td>0.961595</td>\n",
       "      <td>0.969500</td>\n",
       "      <td>0.952346</td>\n",
       "      <td>0.983845</td>\n",
       "      <td>0.922324</td>\n",
       "    </tr>\n",
       "    <tr>\n",
       "      <th>9</th>\n",
       "      <td>11</td>\n",
       "      <td>0.974679</td>\n",
       "      <td>0.936370</td>\n",
       "      <td>0.985035</td>\n",
       "      <td>0.959821</td>\n",
       "      <td>0.983350</td>\n",
       "      <td>0.960089</td>\n",
       "      <td>0.969787</td>\n",
       "      <td>0.951984</td>\n",
       "      <td>0.986027</td>\n",
       "      <td>0.926650</td>\n",
       "    </tr>\n",
       "  </tbody>\n",
       "</table>\n",
       "</div>"
      ],
      "text/plain": [
       "    K         0         1         2         3         4         5         6  \\\n",
       "0   3  0.980932  0.962361  0.987544  0.968145  0.977412  0.964229  0.971651   \n",
       "1   4  0.984152  0.963562  0.985387  0.973215  0.984019  0.959720  0.968003   \n",
       "2   5  0.978792  0.954261  0.985101  0.966972  0.983253  0.963120  0.969720   \n",
       "3   6  0.980960  0.955193  0.987669  0.968651  0.984401  0.964329  0.968565   \n",
       "4   7  0.978851  0.948761  0.985905  0.962864  0.982632  0.963311  0.968830   \n",
       "5   1  0.978874  0.965106  0.981026  0.950661  0.972504  0.957018  0.975088   \n",
       "6   8  0.977665  0.948140  0.985601  0.964656  0.984237  0.958558  0.971606   \n",
       "7   9  0.975031  0.942221  0.984406  0.961687  0.982992  0.958525  0.971243   \n",
       "8  10  0.974968  0.942373  0.985366  0.962728  0.984102  0.961595  0.969500   \n",
       "9  11  0.974679  0.936370  0.985035  0.959821  0.983350  0.960089  0.969787   \n",
       "\n",
       "          7         8         9  \n",
       "0  0.956389  0.979620  0.928588  \n",
       "1  0.957978  0.978538  0.917407  \n",
       "2  0.957312  0.982809  0.934859  \n",
       "3  0.954431  0.979067  0.922225  \n",
       "4  0.957380  0.981799  0.931705  \n",
       "5  0.960938  0.980068  0.935764  \n",
       "6  0.952138  0.983487  0.922943  \n",
       "7  0.950850  0.986067  0.929750  \n",
       "8  0.952346  0.983845  0.922324  \n",
       "9  0.951984  0.986027  0.926650  "
      ]
     },
     "metadata": {},
     "output_type": "display_data"
    },
    {
     "name": "stdout",
     "output_type": "stream",
     "text": [
      "F1 Cross validation:\n"
     ]
    },
    {
     "data": {
      "text/html": [
       "<div>\n",
       "<style scoped>\n",
       "    .dataframe tbody tr th:only-of-type {\n",
       "        vertical-align: middle;\n",
       "    }\n",
       "\n",
       "    .dataframe tbody tr th {\n",
       "        vertical-align: top;\n",
       "    }\n",
       "\n",
       "    .dataframe thead th {\n",
       "        text-align: right;\n",
       "    }\n",
       "</style>\n",
       "<table border=\"1\" class=\"dataframe\">\n",
       "  <thead>\n",
       "    <tr style=\"text-align: right;\">\n",
       "      <th></th>\n",
       "      <th>K</th>\n",
       "      <th>0</th>\n",
       "      <th>1</th>\n",
       "      <th>2</th>\n",
       "      <th>3</th>\n",
       "      <th>4</th>\n",
       "      <th>5</th>\n",
       "      <th>6</th>\n",
       "      <th>7</th>\n",
       "      <th>8</th>\n",
       "      <th>9</th>\n",
       "    </tr>\n",
       "  </thead>\n",
       "  <tbody>\n",
       "    <tr>\n",
       "      <th>0</th>\n",
       "      <td>3</td>\n",
       "      <td>0.986813</td>\n",
       "      <td>0.977332</td>\n",
       "      <td>0.969660</td>\n",
       "      <td>0.964379</td>\n",
       "      <td>0.966566</td>\n",
       "      <td>0.959314</td>\n",
       "      <td>0.979668</td>\n",
       "      <td>0.965932</td>\n",
       "      <td>0.954389</td>\n",
       "      <td>0.944908</td>\n",
       "    </tr>\n",
       "    <tr>\n",
       "      <th>1</th>\n",
       "      <td>4</td>\n",
       "      <td>0.987661</td>\n",
       "      <td>0.977841</td>\n",
       "      <td>0.967485</td>\n",
       "      <td>0.964423</td>\n",
       "      <td>0.964086</td>\n",
       "      <td>0.958211</td>\n",
       "      <td>0.978729</td>\n",
       "      <td>0.964395</td>\n",
       "      <td>0.955967</td>\n",
       "      <td>0.944150</td>\n",
       "    </tr>\n",
       "    <tr>\n",
       "      <th>2</th>\n",
       "      <td>5</td>\n",
       "      <td>0.985711</td>\n",
       "      <td>0.973402</td>\n",
       "      <td>0.967085</td>\n",
       "      <td>0.964512</td>\n",
       "      <td>0.969721</td>\n",
       "      <td>0.958964</td>\n",
       "      <td>0.978847</td>\n",
       "      <td>0.963728</td>\n",
       "      <td>0.955087</td>\n",
       "      <td>0.950110</td>\n",
       "    </tr>\n",
       "    <tr>\n",
       "      <th>3</th>\n",
       "      <td>6</td>\n",
       "      <td>0.987096</td>\n",
       "      <td>0.974041</td>\n",
       "      <td>0.964873</td>\n",
       "      <td>0.962857</td>\n",
       "      <td>0.965999</td>\n",
       "      <td>0.959488</td>\n",
       "      <td>0.978859</td>\n",
       "      <td>0.962127</td>\n",
       "      <td>0.954520</td>\n",
       "      <td>0.945394</td>\n",
       "    </tr>\n",
       "    <tr>\n",
       "      <th>4</th>\n",
       "      <td>7</td>\n",
       "      <td>0.985726</td>\n",
       "      <td>0.971045</td>\n",
       "      <td>0.965206</td>\n",
       "      <td>0.961421</td>\n",
       "      <td>0.967807</td>\n",
       "      <td>0.959267</td>\n",
       "      <td>0.978090</td>\n",
       "      <td>0.964383</td>\n",
       "      <td>0.952280</td>\n",
       "      <td>0.946909</td>\n",
       "    </tr>\n",
       "    <tr>\n",
       "      <th>5</th>\n",
       "      <td>1</td>\n",
       "      <td>0.985173</td>\n",
       "      <td>0.979780</td>\n",
       "      <td>0.970199</td>\n",
       "      <td>0.953375</td>\n",
       "      <td>0.964421</td>\n",
       "      <td>0.954367</td>\n",
       "      <td>0.980053</td>\n",
       "      <td>0.965558</td>\n",
       "      <td>0.955035</td>\n",
       "      <td>0.943329</td>\n",
       "    </tr>\n",
       "    <tr>\n",
       "      <th>6</th>\n",
       "      <td>8</td>\n",
       "      <td>0.984841</td>\n",
       "      <td>0.970562</td>\n",
       "      <td>0.964638</td>\n",
       "      <td>0.960377</td>\n",
       "      <td>0.966733</td>\n",
       "      <td>0.956711</td>\n",
       "      <td>0.980100</td>\n",
       "      <td>0.959668</td>\n",
       "      <td>0.954080</td>\n",
       "      <td>0.941467</td>\n",
       "    </tr>\n",
       "    <tr>\n",
       "      <th>7</th>\n",
       "      <td>9</td>\n",
       "      <td>0.983795</td>\n",
       "      <td>0.967571</td>\n",
       "      <td>0.963481</td>\n",
       "      <td>0.960070</td>\n",
       "      <td>0.968869</td>\n",
       "      <td>0.955571</td>\n",
       "      <td>0.978410</td>\n",
       "      <td>0.959878</td>\n",
       "      <td>0.952300</td>\n",
       "      <td>0.942286</td>\n",
       "    </tr>\n",
       "    <tr>\n",
       "      <th>8</th>\n",
       "      <td>10</td>\n",
       "      <td>0.983441</td>\n",
       "      <td>0.967524</td>\n",
       "      <td>0.963338</td>\n",
       "      <td>0.959391</td>\n",
       "      <td>0.966241</td>\n",
       "      <td>0.956574</td>\n",
       "      <td>0.978268</td>\n",
       "      <td>0.959484</td>\n",
       "      <td>0.953715</td>\n",
       "      <td>0.940138</td>\n",
       "    </tr>\n",
       "    <tr>\n",
       "      <th>9</th>\n",
       "      <td>11</td>\n",
       "      <td>0.983140</td>\n",
       "      <td>0.964590</td>\n",
       "      <td>0.961703</td>\n",
       "      <td>0.958939</td>\n",
       "      <td>0.968105</td>\n",
       "      <td>0.956332</td>\n",
       "      <td>0.977816</td>\n",
       "      <td>0.958268</td>\n",
       "      <td>0.951286</td>\n",
       "      <td>0.941363</td>\n",
       "    </tr>\n",
       "  </tbody>\n",
       "</table>\n",
       "</div>"
      ],
      "text/plain": [
       "    K         0         1         2         3         4         5         6  \\\n",
       "0   3  0.986813  0.977332  0.969660  0.964379  0.966566  0.959314  0.979668   \n",
       "1   4  0.987661  0.977841  0.967485  0.964423  0.964086  0.958211  0.978729   \n",
       "2   5  0.985711  0.973402  0.967085  0.964512  0.969721  0.958964  0.978847   \n",
       "3   6  0.987096  0.974041  0.964873  0.962857  0.965999  0.959488  0.978859   \n",
       "4   7  0.985726  0.971045  0.965206  0.961421  0.967807  0.959267  0.978090   \n",
       "5   1  0.985173  0.979780  0.970199  0.953375  0.964421  0.954367  0.980053   \n",
       "6   8  0.984841  0.970562  0.964638  0.960377  0.966733  0.956711  0.980100   \n",
       "7   9  0.983795  0.967571  0.963481  0.960070  0.968869  0.955571  0.978410   \n",
       "8  10  0.983441  0.967524  0.963338  0.959391  0.966241  0.956574  0.978268   \n",
       "9  11  0.983140  0.964590  0.961703  0.958939  0.968105  0.956332  0.977816   \n",
       "\n",
       "          7         8         9  \n",
       "0  0.965932  0.954389  0.944908  \n",
       "1  0.964395  0.955967  0.944150  \n",
       "2  0.963728  0.955087  0.950110  \n",
       "3  0.962127  0.954520  0.945394  \n",
       "4  0.964383  0.952280  0.946909  \n",
       "5  0.965558  0.955035  0.943329  \n",
       "6  0.959668  0.954080  0.941467  \n",
       "7  0.959878  0.952300  0.942286  \n",
       "8  0.959484  0.953715  0.940138  \n",
       "9  0.958268  0.951286  0.941363  "
      ]
     },
     "metadata": {},
     "output_type": "display_data"
    }
   ],
   "source": [
    "# LEER CSV METRICAS\n",
    "rec_Cv = pd.read_csv(\"exp_csv/recall_cv_knn.csv\")\n",
    "preci_Cv = pd.read_csv(\"exp_csv/precision_cv_knn.csv\")\n",
    "f1_Cv = pd.read_csv(\"exp_csv/f1_cv_knn.csv\")\n",
    "\n",
    "print(\"Recall Cross validation:\")\n",
    "display(rec_Cv)\n",
    "print(\"Precision Cross validation:\")\n",
    "display(preci_Cv)\n",
    "print(\"F1 Cross validation:\")\n",
    "display(f1_Cv)"
   ]
  },
  {
   "cell_type": "code",
   "execution_count": 38,
   "metadata": {},
   "outputs": [
    {
     "data": {
      "text/html": [
       "<div>\n",
       "<style scoped>\n",
       "    .dataframe tbody tr th:only-of-type {\n",
       "        vertical-align: middle;\n",
       "    }\n",
       "\n",
       "    .dataframe tbody tr th {\n",
       "        vertical-align: top;\n",
       "    }\n",
       "\n",
       "    .dataframe thead th {\n",
       "        text-align: right;\n",
       "    }\n",
       "</style>\n",
       "<table border=\"1\" class=\"dataframe\">\n",
       "  <thead>\n",
       "    <tr style=\"text-align: right;\">\n",
       "      <th></th>\n",
       "      <th>K</th>\n",
       "      <th>Accuracy</th>\n",
       "    </tr>\n",
       "  </thead>\n",
       "  <tbody>\n",
       "    <tr>\n",
       "      <th>0</th>\n",
       "      <td>3</td>\n",
       "      <td>0.967143</td>\n",
       "    </tr>\n",
       "    <tr>\n",
       "      <th>1</th>\n",
       "      <td>4</td>\n",
       "      <td>0.966488</td>\n",
       "    </tr>\n",
       "    <tr>\n",
       "      <th>2</th>\n",
       "      <td>5</td>\n",
       "      <td>0.966875</td>\n",
       "    </tr>\n",
       "    <tr>\n",
       "      <th>3</th>\n",
       "      <td>6</td>\n",
       "      <td>0.965655</td>\n",
       "    </tr>\n",
       "    <tr>\n",
       "      <th>4</th>\n",
       "      <td>7</td>\n",
       "      <td>0.965357</td>\n",
       "    </tr>\n",
       "    <tr>\n",
       "      <th>5</th>\n",
       "      <td>1</td>\n",
       "      <td>0.965417</td>\n",
       "    </tr>\n",
       "    <tr>\n",
       "      <th>6</th>\n",
       "      <td>8</td>\n",
       "      <td>0.964048</td>\n",
       "    </tr>\n",
       "    <tr>\n",
       "      <th>7</th>\n",
       "      <td>9</td>\n",
       "      <td>0.963333</td>\n",
       "    </tr>\n",
       "    <tr>\n",
       "      <th>8</th>\n",
       "      <td>10</td>\n",
       "      <td>0.962917</td>\n",
       "    </tr>\n",
       "    <tr>\n",
       "      <th>9</th>\n",
       "      <td>11</td>\n",
       "      <td>0.962232</td>\n",
       "    </tr>\n",
       "  </tbody>\n",
       "</table>\n",
       "</div>"
      ],
      "text/plain": [
       "    K  Accuracy\n",
       "0   3  0.967143\n",
       "1   4  0.966488\n",
       "2   5  0.966875\n",
       "3   6  0.965655\n",
       "4   7  0.965357\n",
       "5   1  0.965417\n",
       "6   8  0.964048\n",
       "7   9  0.963333\n",
       "8  10  0.962917\n",
       "9  11  0.962232"
      ]
     },
     "execution_count": 38,
     "metadata": {},
     "output_type": "execute_result"
    }
   ],
   "source": [
    "cv = pd.read_csv(\"exp_csv/CrossValidation_knn.csv\")\n",
    "cv"
   ]
  },
  {
   "cell_type": "code",
   "execution_count": 53,
   "metadata": {
    "scrolled": true
   },
   "outputs": [
    {
     "name": "stdout",
     "output_type": "stream",
     "text": [
      "Mejor K de cross validation : 3 \n"
     ]
    }
   ],
   "source": [
    "bestK_cv = cv.sort_values(by =[\"Accuracy\"],ascending = False).head(1)[\"K\"].to_list()[0]\n",
    "print(f\"Mejor K de cross validation : {bestK_cv} \")\n"
   ]
  },
  {
   "cell_type": "markdown",
   "metadata": {},
   "source": [
    "# Train y test con la mejor pareja de Cross Validation\n"
   ]
  },
  {
   "cell_type": "code",
   "execution_count": 71,
   "metadata": {},
   "outputs": [
    {
     "name": "stdout",
     "output_type": "stream",
     "text": [
      "Accuracy: 0.9661904761904762\n"
     ]
    }
   ],
   "source": [
    "acc,recall,precision,f1,pred = trainYvalidacion(bestK_cv,X_train,y_train,X_val,y_val)"
   ]
  },
  {
   "cell_type": "markdown",
   "metadata": {},
   "source": [
    "Ponemos ceros en la diagonal para visualizar mejor el heatmap"
   ]
  },
  {
   "cell_type": "code",
   "execution_count": 72,
   "metadata": {},
   "outputs": [],
   "source": [
    "from sklearn.metrics import confusion_matrix\n",
    "\n",
    "cm = confusion_matrix(y_val,pred,normalize = \"true\")\n",
    "\n",
    "np.fill_diagonal(cm, 0, wrap=False)"
   ]
  },
  {
   "cell_type": "code",
   "execution_count": 73,
   "metadata": {},
   "outputs": [
    {
     "data": {
      "image/png": "[encoded data removed]",
      "text/plain": [
       "<Figure size 1008x720 with 2 Axes>"
      ]
     },
     "metadata": {
      "needs_background": "light"
     },
     "output_type": "display_data"
    }
   ],
   "source": [
    "plt.figure(figsize=(14,10))\n",
    "sns.heatmap(cm,cmap = \"YlGnBu\",annot = True)\n",
    "plt.title(\"Confusion Matrix de Mejor pareja de CV para KNN\")\n",
    "plt.show()"
   ]
  },
  {
   "cell_type": "markdown",
   "metadata": {},
   "source": [
    "# Prestar atencion a la escala de cada ploteo , se encuentran de tal manera de modo que se visualicen mejor por separado."
   ]
  },
  {
   "cell_type": "code",
   "execution_count": 74,
   "metadata": {},
   "outputs": [
    {
     "data": {
      "image/png": "[encoded data removed]",
      "text/plain": [
       "<Figure size 432x288 with 1 Axes>"
      ]
     },
     "metadata": {
      "needs_background": "light"
     },
     "output_type": "display_data"
    },
    {
     "data": {
      "image/png": "[encoded data removed]",
      "text/plain": [
       "<Figure size 432x288 with 1 Axes>"
      ]
     },
     "metadata": {
      "needs_background": "light"
     },
     "output_type": "display_data"
    }
   ],
   "source": [
    "import matplotlib.pyplot as plt\n",
    "ejex = [i for i in range(10)]\n",
    "sns.barplot(x = ejex , y = recall)\n",
    "plt.ylim(0.92, 1)\n",
    "plt.title(\"Recall sobre mejor pareja de Cross validation de KNN\")\n",
    "plt.show()\n",
    "sns.barplot(x = ejex , y = precision)\n",
    "plt.ylim(0.92, 1)\n",
    "plt.title(\"Precision sobre mejor pareja de Cross validation de KNN\")\n",
    "plt.show()"
   ]
  }
 ],
 "metadata": {
  "kernelspec": {
   "display_name": "Python 3",
   "language": "python",
   "name": "python3"
  },
  "language_info": {
   "codemirror_mode": {
    "name": "ipython",
    "version": 3
   },
   "file_extension": ".py",
   "mimetype": "text/x-python",
   "name": "python",
   "nbconvert_exporter": "python",
   "pygments_lexer": "ipython3",
   "version": "3.8.5"
  }
 },
 "nbformat": 4,
 "nbformat_minor": 2
}
